{
 "cells": [
  {
   "cell_type": "markdown",
   "metadata": {
    "heading_collapsed": true
   },
   "source": [
    "# Setup"
   ]
  },
  {
   "cell_type": "code",
   "execution_count": 1,
   "metadata": {
    "ExecuteTime": {
     "end_time": "2019-05-07T22:45:17.571392Z",
     "start_time": "2019-05-07T22:45:17.561072Z"
    },
    "hidden": true
   },
   "outputs": [],
   "source": [
    "\"\"\"\n",
    "Add parent directorys to current path\n",
    "\"\"\"\n",
    "import os.path\n",
    "import sys\n",
    "p = os.path.abspath('..')\n",
    "if p not in sys.path:\n",
    "    sys.path.insert(0,p)\n",
    "p = os.path.abspath('../..')\n",
    "if p not in sys.path:\n",
    "    sys.path.insert(0,p)\n",
    "    \n",
    "\"\"\"\n",
    "Add tiger-env directory to current path\n",
    "Still not sure why this is needed.\n",
    "\"\"\"\n",
    "p = os.path.abspath('../../../custom_envs/gym-tiger')\n",
    "if p not in sys.path:\n",
    "    sys.path.insert(0, p)\n",
    "    \n",
    "\n",
    "\"\"\"\n",
    "Enable hot-reloading\n",
    "\"\"\"    \n",
    "from notebook_utils import import_module_by_name, reload_module_by_name\n",
    "\n",
    "def reload():\n",
    "    reload_module_by_name('rlpomdp.models.tiger_env', 'QLearner')\n",
    "    global QLearner\n",
    "    from rlpomdp.models.tiger_env import QLearner"
   ]
  },
  {
   "cell_type": "markdown",
   "metadata": {},
   "source": [
    "# Setup ENV and Model"
   ]
  },
  {
   "cell_type": "code",
   "execution_count": 99,
   "metadata": {
    "ExecuteTime": {
     "end_time": "2019-05-09T20:00:28.825391Z",
     "start_time": "2019-05-09T20:00:28.813566Z"
    },
    "scrolled": false
   },
   "outputs": [],
   "source": [
    "import gym\n",
    "import gym_tiger\n",
    "import matplotlib.pyplot as plt\n",
    "from rlpomdp.utils import play_one, plot_running_avg\n",
    "from rlpomdp.models.tiger_env import QLearner\n",
    "\n",
    "env = gym.make('Tiger-v0')\n",
    "env.__init__(reward_tiger=-100, reward_gold=10, reward_listen=-1)\n",
    "model = QLearner(env, initial_alpha=.5, gamma=1, alpha_decay=.5)\n",
    "eps = 1\n",
    "n = 0\n",
    "ot = env.reset()"
   ]
  },
  {
   "cell_type": "markdown",
   "metadata": {
    "heading_collapsed": true
   },
   "source": [
    "# Take one action and update Q"
   ]
  },
  {
   "cell_type": "markdown",
   "metadata": {
    "hidden": true
   },
   "source": [
    "$$\n",
    "Q(s_{t-1}, a_{t-1}) = Q(s_{t-1}, a_{t-1}) + \\alpha \\big[ r_t + \\gamma \\cdot Q(s_t, a_t) - Q(s_{t-1}, a_{t-1}) \\big]\n",
    "$$"
   ]
  },
  {
   "cell_type": "code",
   "execution_count": 24,
   "metadata": {
    "ExecuteTime": {
     "end_time": "2019-05-08T20:22:58.434182Z",
     "start_time": "2019-05-08T20:22:58.424037Z"
    },
    "hidden": true
   },
   "outputs": [
    {
     "name": "stdout",
     "output_type": "stream",
     "text": [
      "\n",
      "\n",
      "           \tOPEN LEFT | OPEN RIGHT | LISTEN\n",
      "\t\t--------- | ---------- | ------\n",
      "GROWL LEFT            0.0 |        0.0 |    0.0\n",
      "GROWL RIGHT:          0.0 |        0.0 |    0.0\n",
      "START:                0.0 |        0.0 |    0.0\n",
      "END:                  0.0 |        0.0 |    0.0\n",
      "\n",
      "\n",
      "START , OPEN_RIGHT , -100\n",
      "\n",
      "\n",
      "           \tOPEN LEFT | OPEN RIGHT | LISTEN\n",
      "\t\t--------- | ---------- | ------\n",
      "GROWL LEFT            0.0 |        0.0 |    0.0\n",
      "GROWL RIGHT:          0.0 |        0.0 |    0.0\n",
      "START:                0.0 |       -0.1 |    0.0\n",
      "END:                  0.0 |        0.0 |    0.0\n",
      "\n",
      "\n"
     ]
    }
   ],
   "source": [
    "def print_model(model, n=''):\n",
    "    print('\\n')\n",
    "    print('{: >10} \\tOPEN LEFT | OPEN RIGHT | LISTEN'.format(n))\n",
    "    print('\\t\\t--------- | ---------- | ------')\n",
    "    print(\"GROWL LEFT {: >14} | {: >10} | {: >6}\".format(*model.Q[0].round(2)))\n",
    "    print(\"GROWL RIGHT: {: >12} | {: >10} | {: >6}\".format(*model.Q[1].round(2)))\n",
    "    print(\"START: {: >18} | {: >10} | {: >6}\".format(*model.Q[2].round(2)))\n",
    "    print(\"END: {: >20} | {: >10} | {: >6}\".format(*model.Q[3].round(2)))\n",
    "    print('\\n')\n",
    "\n",
    "print_model(model)\n",
    "otm1 = ot\n",
    "atm1 = model.sample_action(otm1, eps)\n",
    "ot, r, done, info = env.step(atm1)\n",
    "at = model.best_action(ot)\n",
    "model.update(otm1, atm1, r, ot, at)\n",
    "_otm1 = env.translate_obs(otm1)\n",
    "_atm1 = env.translate_action(atm1)\n",
    "print(_otm1, ',', _atm1, ',', r)\n",
    "print_model(model)"
   ]
  },
  {
   "cell_type": "markdown",
   "metadata": {
    "heading_collapsed": true
   },
   "source": [
    "# Play 1 Episode"
   ]
  },
  {
   "cell_type": "code",
   "execution_count": 40,
   "metadata": {
    "ExecuteTime": {
     "end_time": "2019-05-09T19:13:58.244079Z",
     "start_time": "2019-05-09T19:13:58.238437Z"
    },
    "hidden": true
   },
   "outputs": [
    {
     "name": "stdout",
     "output_type": "stream",
     "text": [
      "o_t-n,...,o_t-1                          | o_t-1       | a_t-1      | r     | o_t         | a_t       \n",
      "----------------------------------------------------------------------------------------------------\n",
      "                                         | START       | LISTEN     | -1    | GROWL_RIGHT | OPEN_LEFT \n",
      "                                         | GROWL_RIGHT | OPEN_RIGHT | -100  | END         | OPEN_LEFT \n"
     ]
    },
    {
     "data": {
      "text/plain": [
       "-101"
      ]
     },
     "execution_count": 40,
     "metadata": {},
     "output_type": "execute_result"
    }
   ],
   "source": [
    "play_one(env, model, eps, verbose=True)"
   ]
  },
  {
   "cell_type": "code",
   "execution_count": 41,
   "metadata": {
    "ExecuteTime": {
     "end_time": "2019-05-09T19:13:58.403954Z",
     "start_time": "2019-05-09T19:13:58.398911Z"
    },
    "hidden": true
   },
   "outputs": [
    {
     "name": "stdout",
     "output_type": "stream",
     "text": [
      "\n",
      "\n",
      "           \tOPEN LEFT | OPEN RIGHT | LISTEN\n",
      "\t\t--------- | ---------- | ------\n",
      "GROWL LEFT            0.0 |        0.0 |    0.0\n",
      "GROWL RIGHT:          0.0 |       -0.3 |    0.0\n",
      "START:               -0.1 |       -0.1 |   -0.0\n",
      "END:                  0.0 |        0.0 |    0.0\n",
      "\n",
      "\n"
     ]
    }
   ],
   "source": [
    "print_model(model)"
   ]
  },
  {
   "cell_type": "markdown",
   "metadata": {},
   "source": [
    "# Play 5K Episodes"
   ]
  },
  {
   "cell_type": "code",
   "execution_count": 112,
   "metadata": {
    "ExecuteTime": {
     "end_time": "2019-05-09T20:01:16.787762Z",
     "start_time": "2019-05-09T20:01:15.512873Z"
    }
   },
   "outputs": [
    {
     "name": "stdout",
     "output_type": "stream",
     "text": [
      "\n",
      "\n",
      "         0 \tOPEN LEFT | OPEN RIGHT | LISTEN\n",
      "\t\t--------- | ---------- | ------\n",
      "GROWL LEFT         -59.97 |       -5.2 | -13.89\n",
      "GROWL RIGHT:        -7.22 |     -46.61 | -13.97\n",
      "START:             -35.58 |      -40.8 |   -7.3\n",
      "END:                  0.0 |        0.0 |    0.0\n",
      "\n",
      "\n",
      "\n",
      "\n",
      "      5000 \tOPEN LEFT | OPEN RIGHT | LISTEN\n",
      "\t\t--------- | ---------- | ------\n",
      "GROWL LEFT         -60.46 |      -4.84 | -13.75\n",
      "GROWL RIGHT:         -6.9 |     -47.23 | -13.79\n",
      "START:             -36.49 |     -41.04 |  -7.54\n",
      "END:                  0.0 |        0.0 |    0.0\n",
      "\n",
      "\n",
      "\n",
      "\n",
      "     10000 \tOPEN LEFT | OPEN RIGHT | LISTEN\n",
      "\t\t--------- | ---------- | ------\n",
      "GROWL LEFT          -60.7 |      -4.91 | -13.69\n",
      "GROWL RIGHT:        -6.06 |     -47.93 | -13.73\n",
      "START:             -36.46 |     -40.84 |  -6.28\n",
      "END:                  0.0 |        0.0 |    0.0\n",
      "\n",
      "\n",
      "\n",
      "\n",
      "     15000 \tOPEN LEFT | OPEN RIGHT | LISTEN\n",
      "\t\t--------- | ---------- | ------\n",
      "GROWL LEFT         -60.68 |      -5.77 | -13.63\n",
      "GROWL RIGHT:        -6.32 |     -47.87 | -13.69\n",
      "START:              -36.4 |     -40.69 |  -7.08\n",
      "END:                  0.0 |        0.0 |    0.0\n",
      "\n",
      "\n",
      "\n",
      "\n",
      "     20000 \tOPEN LEFT | OPEN RIGHT | LISTEN\n",
      "\t\t--------- | ---------- | ------\n",
      "GROWL LEFT         -60.82 |      -5.78 | -13.61\n",
      "GROWL RIGHT:        -7.42 |     -47.95 | -13.64\n",
      "START:             -36.54 |     -40.88 |  -7.92\n",
      "END:                  0.0 |        0.0 |    0.0\n",
      "\n",
      "\n",
      "avg reward for last 500 episodes: -5.076\n",
      "\n",
      "\n",
      "     24999 \tOPEN LEFT | OPEN RIGHT | LISTEN\n",
      "\t\t--------- | ---------- | ------\n",
      "GROWL LEFT         -60.95 |      -6.37 | -13.57\n",
      "GROWL RIGHT:        -5.23 |     -48.07 | -13.61\n",
      "START:             -36.24 |     -40.85 |  -7.36\n",
      "END:                  0.0 |        0.0 |    0.0\n",
      "\n",
      "\n"
     ]
    },
    {
     "data": {
      "image/png": "[encoded data removed]",
      "text/plain": [
       "<Figure size 1440x360 with 1 Axes>"
      ]
     },
     "metadata": {
      "needs_background": "light"
     },
     "output_type": "display_data"
    }
   ],
   "source": [
    "N = 25000\n",
    "totalrewards = np.empty(N)\n",
    "for n in range(N):\n",
    "    if n >= N - 500:\n",
    "        eps = 0\n",
    "    else:\n",
    "        eps = 1.0/np.sqrt(n+1)\n",
    "        eps=0\n",
    "    eps = 1.0/np.sqrt(n+1)\n",
    "    totalreward = play_one(env, model, eps, max_steps=3)\n",
    "    totalrewards[n] = totalreward\n",
    "    if n % (N/5) == 0:\n",
    "        print_model(model, n=n)\n",
    "\n",
    "print(\"avg reward for last 500 episodes:\", totalrewards[-500:].mean())\n",
    "\n",
    "print_model(model, n=n)\n",
    "plot_running_avg(totalrewards)"
   ]
  },
  {
   "cell_type": "markdown",
   "metadata": {
    "heading_collapsed": true
   },
   "source": [
    "# Play 5K episodes 25 times and average last 500 mean scores"
   ]
  },
  {
   "cell_type": "code",
   "execution_count": 90,
   "metadata": {
    "ExecuteTime": {
     "end_time": "2019-05-07T22:37:17.674378Z",
     "start_time": "2019-05-07T22:37:13.286204Z"
    },
    "hidden": true,
    "scrolled": false
   },
   "outputs": [
    {
     "name": "stdout",
     "output_type": "stream",
     "text": [
      "avg reward for last 500 episodes: -9.48\n",
      "avg reward for last 500 episodes: -9.48\n",
      "avg reward for last 500 episodes: -8.38\n",
      "avg reward for last 500 episodes: -11.02\n",
      "avg reward for last 500 episodes: -9.26\n",
      "avg reward for last 500 episodes: -6.62\n",
      "avg reward for last 500 episodes: -6.4\n",
      "avg reward for last 500 episodes: -7.72\n",
      "avg reward for last 500 episodes: -7.72\n",
      "avg reward for last 500 episodes: -6.62\n",
      "avg reward for last 500 episodes: -6.18\n",
      "avg reward for last 500 episodes: -9.92\n",
      "avg reward for last 500 episodes: -8.38\n",
      "avg reward for last 500 episodes: -6.62\n",
      "avg reward for last 500 episodes: -6.4\n",
      "avg reward for last 500 episodes: -12.34\n",
      "avg reward for last 500 episodes: -10.14\n",
      "avg reward for last 500 episodes: -7.06\n",
      "avg reward for last 500 episodes: -6.4\n",
      "avg reward for last 500 episodes: -7.28\n",
      "avg reward for last 500 episodes: -8.16\n",
      "avg reward for last 500 episodes: -9.7\n",
      "avg reward for last 500 episodes: -7.28\n",
      "avg reward for last 500 episodes: -6.62\n",
      "avg reward for last 500 episodes: -8.6\n",
      "last500rewards avg:  -8.1512\n"
     ]
    }
   ],
   "source": [
    "last500rewards = np.zeros(25)\n",
    "\n",
    "for epoch in range(25):\n",
    "    # Reset environment\n",
    "    env = gym.make('Tiger-v0')\n",
    "    env.__init__(reward_tiger=-100, reward_gold=10, reward_listen=-1)\n",
    "    model = QLearner(env, alpha=.01, gamma=1)\n",
    "    eps = 1\n",
    "    n = 0\n",
    "    ot = env.reset()\n",
    "\n",
    "    # Play episodes\n",
    "    N = 5000\n",
    "    totalrewards = np.empty(N)\n",
    "    for n in range(N):\n",
    "        # For performance measure, don't want to explore.\n",
    "        if n >= N - 500:\n",
    "            eps = 0\n",
    "        else:\n",
    "            eps = 1.0/np.sqrt(n+1)\n",
    "        totalreward = play_one(env, model, eps)\n",
    "        totalrewards[n] = totalreward\n",
    "    print(\"avg reward for last 500 episodes:\", totalrewards[-500:].mean())\n",
    "    last500rewards[epoch] = totalrewards[-500:].mean()\n",
    "    \n",
    "print('last500rewards avg: ', last500rewards.mean())"
   ]
  },
  {
   "cell_type": "markdown",
   "metadata": {},
   "source": [
    "# Conclusions"
   ]
  },
  {
   "cell_type": "code",
   "execution_count": null,
   "metadata": {},
   "outputs": [],
   "source": []
  },
  {
   "cell_type": "code",
   "execution_count": null,
   "metadata": {},
   "outputs": [],
   "source": []
  }
 ],
 "metadata": {
  "kernelspec": {
   "display_name": "conda (rlpomdp)",
   "language": "python",
   "name": "rlpomdp"
  },
  "language_info": {
   "codemirror_mode": {
    "name": "ipython",
    "version": 3
   },
   "file_extension": ".py",
   "mimetype": "text/x-python",
   "name": "python",
   "nbconvert_exporter": "python",
   "pygments_lexer": "ipython3",
   "version": "3.6.8"
  },
  "toc": {
   "base_numbering": 1,
   "nav_menu": {},
   "number_sections": true,
   "sideBar": true,
   "skip_h1_title": false,
   "title_cell": "Table of Contents",
   "title_sidebar": "Contents",
   "toc_cell": false,
   "toc_position": {},
   "toc_section_display": true,
   "toc_window_display": false
  },
  "varInspector": {
   "cols": {
    "lenName": 16,
    "lenType": 16,
    "lenVar": 40
   },
   "kernels_config": {
    "python": {
     "delete_cmd_postfix": "",
     "delete_cmd_prefix": "del ",
     "library": "var_list.py",
     "varRefreshCmd": "print(var_dic_list())"
    },
    "r": {
     "delete_cmd_postfix": ") ",
     "delete_cmd_prefix": "rm(",
     "library": "var_list.r",
     "varRefreshCmd": "cat(var_dic_list()) "
    }
   },
   "position": {
    "height": "146px",
    "left": "1316.65625px",
    "right": "1211.34375px",
    "top": "120px",
    "width": "352px"
   },
   "types_to_exclude": [
    "module",
    "function",
    "builtin_function_or_method",
    "instance",
    "_Feature"
   ],
   "window_display": true
  }
 },
 "nbformat": 4,
 "nbformat_minor": 2
}
