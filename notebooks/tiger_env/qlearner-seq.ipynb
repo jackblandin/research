{
 "cells": [
  {
   "cell_type": "markdown",
   "metadata": {
    "heading_collapsed": true
   },
   "source": [
    "# Setup"
   ]
  },
  {
   "cell_type": "code",
   "execution_count": 1,
   "metadata": {
    "ExecuteTime": {
     "end_time": "2019-05-24T20:34:45.100987Z",
     "start_time": "2019-05-24T20:34:45.091580Z"
    },
    "hidden": true
   },
   "outputs": [],
   "source": [
    "\"\"\"\n",
    "Add parent directorys to current path\n",
    "\"\"\"\n",
    "import os.path\n",
    "import sys\n",
    "p = os.path.abspath('..')\n",
    "if p not in sys.path:\n",
    "    sys.path.insert(0,p)\n",
    "p = os.path.abspath('../..')\n",
    "if p not in sys.path:\n",
    "    sys.path.insert(0,p)\n",
    "    \n",
    "    \n",
    "\"\"\"\n",
    "Add tiger-env directory to current path\n",
    "Still not sure why this is needed.\n",
    "\"\"\"\n",
    "p = os.path.abspath('../../../custom_envs/gym-tiger')\n",
    "if p not in sys.path:\n",
    "    sys.path.insert(0, p)\n",
    "    \n",
    "\n",
    "\"\"\"\n",
    "Enable hot-reloading\n",
    "\"\"\"    \n",
    "from notebook_utils import import_module_by_name, reload_module_by_name\n",
    "\n",
    "def reload():\n",
    "    reload_module_by_name('rlpomdp.models.tiger_env', 'QLearnerSeq')\n",
    "    global QLearnerSeq\n",
    "    from rlpomdp.models.tiger_env import QLearnerSeq"
   ]
  },
  {
   "cell_type": "markdown",
   "metadata": {},
   "source": [
    "# Setup ENV and Model"
   ]
  },
  {
   "cell_type": "code",
   "execution_count": 92,
   "metadata": {
    "ExecuteTime": {
     "end_time": "2019-05-24T22:16:31.215210Z",
     "start_time": "2019-05-24T22:16:31.204384Z"
    },
    "scrolled": false
   },
   "outputs": [],
   "source": [
    "import gym\n",
    "import gym_tiger\n",
    "import matplotlib.pyplot as plt\n",
    "from rlpomdp.utils import play_one, plot_running_avg\n",
    "from rlpomdp.models.tiger_env import QLearnerSeq\n",
    "\n",
    "env = gym.make('Tiger-v0')\n",
    "env.__init__(reward_tiger=-100, reward_gold=10, reward_listen=-1)\n",
    "model = QLearnerSeq(env, initial_alpha=2, gamma=1, alpha_decay=.3, seq_len=3)\n",
    "eps = 1\n",
    "n = 0\n",
    "done = False\n",
    "ot = env.reset()"
   ]
  },
  {
   "cell_type": "markdown",
   "metadata": {},
   "source": [
    "# Take one action and update Q"
   ]
  },
  {
   "cell_type": "markdown",
   "metadata": {},
   "source": [
    "$$\n",
    "Q(s_{t-1}, a_{t-1}) = Q(s_{t-1}, a_{t-1}) + \\alpha \\big[ r_t + \\gamma \\cdot Q(s_t, a_t) - Q(s_{t-1}, a_{t-1}) \\big]\n",
    "$$"
   ]
  },
  {
   "cell_type": "code",
   "execution_count": 93,
   "metadata": {
    "ExecuteTime": {
     "end_time": "2019-05-24T22:16:32.493647Z",
     "start_time": "2019-05-24T22:16:32.483239Z"
    },
    "scrolled": false
   },
   "outputs": [
    {
     "name": "stdout",
     "output_type": "stream",
     "text": [
      "\n",
      "\n",
      "                                                  OPEN LEFT | OPEN RIGHT | LISTEN\n",
      "\t\t------------------------------------------- | --------- | ----------  | ------\n",
      "\n",
      "\n",
      "START , LISTEN , -1\n",
      "\n",
      "\n",
      "                                                  OPEN LEFT | OPEN RIGHT | LISTEN\n",
      "\t\t------------------------------------------- | --------- | ----------  | ------\n",
      "['START']                                               0.0 |        0.0 |   -2.0\n",
      "\n",
      "\n"
     ]
    }
   ],
   "source": [
    "if done:\n",
    "    ot = env.reset()\n",
    "print(str(model))\n",
    "otm1 = ot\n",
    "atm1 = model.sample_action(otm1, eps)\n",
    "ot, r, done, info = env.step(atm1)\n",
    "at = model.best_action(ot)\n",
    "model.update(otm1, atm1, r, ot, at)\n",
    "_otm1 = env.translate_obs(otm1)\n",
    "_atm1 = env.translate_action(atm1)\n",
    "print(_otm1, ',', _atm1, ',', r)\n",
    "print(str(model))"
   ]
  },
  {
   "cell_type": "markdown",
   "metadata": {},
   "source": [
    "# Play 1 Episode"
   ]
  },
  {
   "cell_type": "code",
   "execution_count": 94,
   "metadata": {
    "ExecuteTime": {
     "end_time": "2019-05-24T22:16:34.419596Z",
     "start_time": "2019-05-24T22:16:34.411186Z"
    },
    "scrolled": false
   },
   "outputs": [
    {
     "name": "stdout",
     "output_type": "stream",
     "text": [
      "\n",
      "\n",
      "                                                  OPEN LEFT | OPEN RIGHT | LISTEN\n",
      "\t\t------------------------------------------- | --------- | ----------  | ------\n",
      "['START']                                               0.0 |        0.0 |   -2.0\n",
      "\n",
      "\n",
      "o_t-n,...,o_t-1                          | o_t-1       | a_t-1      | r     | o_t         | a_t       \n",
      "----------------------------------------------------------------------------------------------------\n",
      "['START', 'START']                       | START       | LISTEN     | -1    | GROWL_LEFT  | OPEN_LEFT \n",
      "['START', 'START', 'GROWL_LEFT']         | GROWL_LEFT  | LISTEN     | -1    | GROWL_LEFT  | OPEN_LEFT \n",
      "['START', 'GROWL_LEFT', 'GROWL_LEFT']    | GROWL_LEFT  | OPEN_LEFT  | -100  | END         | OPEN_LEFT \n",
      "\n",
      "\n",
      "                                                  OPEN LEFT | OPEN RIGHT | LISTEN\n",
      "\t\t------------------------------------------- | --------- | ----------  | ------\n",
      "['START']                                               0.0 |        0.0 |   -2.0\n",
      "['START', 'START']                                      0.0 |        0.0 |   -1.6\n",
      "['START', 'START', 'GROWL_LEFT']                        0.0 |        0.0 |   -1.4\n",
      "['START', 'GROWL_LEFT', 'GROWL_LEFT']                -132.0 |        0.0 |    0.0\n",
      "\n",
      "\n"
     ]
    }
   ],
   "source": [
    "print(str(model))\n",
    "play_one(env, model, eps, verbose=True)\n",
    "print(str(model))"
   ]
  },
  {
   "cell_type": "markdown",
   "metadata": {},
   "source": [
    "# Play 5K Episodes"
   ]
  },
  {
   "cell_type": "code",
   "execution_count": 96,
   "metadata": {
    "ExecuteTime": {
     "end_time": "2019-05-24T22:19:37.522308Z",
     "start_time": "2019-05-24T22:19:30.855003Z"
    },
    "scrolled": false
   },
   "outputs": [
    {
     "name": "stdout",
     "output_type": "stream",
     "text": [
      "\n",
      "\n",
      "                                                  OPEN LEFT | OPEN RIGHT | LISTEN\n",
      "\t\t------------------------------------------- | --------- | ----------  | ------\n",
      "['START']                                               0.0 |        0.0 |   -2.0\n",
      "['START', 'START']                                      0.0 |        0.0 |   -1.6\n",
      "['START', 'START', 'START']                          -108.0 |     -103.5 |   -0.4\n",
      "['START', 'START', 'GROWL_RIGHT']                     -73.6 |      -58.4 |   -3.2\n",
      "['START', 'START', 'GROWL_LEFT']                      -87.7 |      -37.4 |   -1.5\n",
      "['START', 'GROWL_RIGHT', 'START']                     -76.1 |      -72.8 |  -69.8\n",
      "['START', 'GROWL_RIGHT', 'GROWL_RIGHT']                 6.5 |      -28.7 |  -22.5\n",
      "['START', 'GROWL_RIGHT', 'GROWL_LEFT']                -53.9 |      -46.4 |  -26.5\n",
      "['START', 'GROWL_LEFT', 'START']                      -94.9 |      -87.1 |  -46.7\n",
      "['START', 'GROWL_LEFT', 'GROWL_RIGHT']                -43.8 |      -42.2 |  -24.7\n",
      "['START', 'GROWL_LEFT', 'GROWL_LEFT']                -132.0 |      -28.5 |  -24.8\n",
      "['GROWL_RIGHT', 'START', 'START']                     -75.3 |      -72.1 |   -2.2\n",
      "['GROWL_RIGHT', 'START', 'GROWL_RIGHT']               -69.4 |      -63.4 |  -24.3\n",
      "['GROWL_RIGHT', 'START', 'GROWL_LEFT']                -68.3 |      -57.8 |  -25.8\n",
      "['GROWL_RIGHT', 'GROWL_RIGHT', 'START']               -77.6 |      -71.5 |  -48.8\n",
      "['GROWL_RIGHT', 'GROWL_RIGHT', 'GROWL_RIGHT']           7.3 |      -25.6 |  -18.3\n",
      "['GROWL_RIGHT', 'GROWL_RIGHT', 'GROWL_LEFT']          -33.5 |      -39.1 |  -26.5\n",
      "['GROWL_RIGHT', 'GROWL_LEFT', 'START']                -43.4 |      -53.8 |  -26.1\n",
      "['GROWL_RIGHT', 'GROWL_LEFT', 'GROWL_RIGHT']          -26.1 |      -30.3 |  -22.9\n",
      "['GROWL_RIGHT', 'GROWL_LEFT', 'GROWL_LEFT']           -44.4 |      -27.8 |  -24.8\n",
      "['GROWL_LEFT', 'START', 'START']                     -116.8 |      -92.7 |   -3.0\n",
      "['GROWL_LEFT', 'START', 'GROWL_RIGHT']                -53.9 |      -50.3 |  -24.6\n",
      "['GROWL_LEFT', 'START', 'GROWL_LEFT']                 -81.4 |      -46.7 |  -25.8\n",
      "['GROWL_LEFT', 'GROWL_RIGHT', 'START']                -43.7 |      -42.4 |  -26.4\n",
      "['GROWL_LEFT', 'GROWL_RIGHT', 'GROWL_RIGHT']          -36.9 |      -39.1 |  -20.2\n",
      "['GROWL_LEFT', 'GROWL_RIGHT', 'GROWL_LEFT']           -35.8 |      -27.6 |  -25.9\n",
      "['GROWL_LEFT', 'GROWL_LEFT', 'START']                -123.4 |      -86.0 |  -36.3\n",
      "['GROWL_LEFT', 'GROWL_LEFT', 'GROWL_RIGHT']           -39.9 |      -34.3 |  -26.2\n",
      "['GROWL_LEFT', 'GROWL_LEFT', 'GROWL_LEFT']            -34.9 |       10.0 |  -23.4\n",
      "\n",
      "\n",
      "\n",
      "\n",
      "                                                  OPEN LEFT | OPEN RIGHT | LISTEN\n",
      "\t\t------------------------------------------- | --------- | ----------  | ------\n",
      "['START']                                               0.0 |        0.0 |   -2.0\n",
      "['START', 'START']                                      0.0 |        0.0 |   -1.6\n",
      "['START', 'START', 'START']                          -108.0 |     -103.5 |   -0.4\n",
      "['START', 'START', 'GROWL_RIGHT']                     -73.6 |      -58.4 |   -3.2\n",
      "['START', 'START', 'GROWL_LEFT']                      -87.7 |      -37.4 |   -1.5\n",
      "['START', 'GROWL_RIGHT', 'START']                     -76.1 |      -72.8 |  -69.8\n",
      "['START', 'GROWL_RIGHT', 'GROWL_RIGHT']                 8.9 |      -28.7 |  -22.5\n",
      "['START', 'GROWL_RIGHT', 'GROWL_LEFT']                -53.9 |      -46.4 |  -26.6\n",
      "['START', 'GROWL_LEFT', 'START']                      -94.9 |      -87.1 |  -46.7\n",
      "['START', 'GROWL_LEFT', 'GROWL_RIGHT']                -43.8 |      -42.2 |  -24.8\n",
      "['START', 'GROWL_LEFT', 'GROWL_LEFT']                -132.0 |      -28.5 |  -25.6\n",
      "['GROWL_RIGHT', 'START', 'START']                     -75.3 |      -72.1 |   -2.2\n",
      "['GROWL_RIGHT', 'START', 'GROWL_RIGHT']               -69.4 |      -63.4 |  -24.4\n",
      "['GROWL_RIGHT', 'START', 'GROWL_LEFT']                -68.3 |      -57.8 |  -26.2\n",
      "['GROWL_RIGHT', 'GROWL_RIGHT', 'START']               -77.6 |      -71.5 |  -47.9\n",
      "['GROWL_RIGHT', 'GROWL_RIGHT', 'GROWL_RIGHT']           6.2 |      -25.6 |  -18.3\n",
      "['GROWL_RIGHT', 'GROWL_RIGHT', 'GROWL_LEFT']          -33.5 |      -39.1 |  -26.5\n",
      "['GROWL_RIGHT', 'GROWL_LEFT', 'START']                -43.4 |      -53.8 |  -25.9\n",
      "['GROWL_RIGHT', 'GROWL_LEFT', 'GROWL_RIGHT']          -26.1 |      -30.3 |  -23.8\n",
      "['GROWL_RIGHT', 'GROWL_LEFT', 'GROWL_LEFT']           -44.4 |      -27.8 |  -25.0\n",
      "['GROWL_LEFT', 'START', 'START']                     -116.8 |      -92.7 |   -3.0\n",
      "['GROWL_LEFT', 'START', 'GROWL_RIGHT']                -53.9 |      -50.3 |  -24.5\n",
      "['GROWL_LEFT', 'START', 'GROWL_LEFT']                 -81.4 |      -46.7 |  -26.4\n",
      "['GROWL_LEFT', 'GROWL_RIGHT', 'START']                -43.7 |      -42.4 |  -26.4\n",
      "['GROWL_LEFT', 'GROWL_RIGHT', 'GROWL_RIGHT']          -36.9 |      -39.1 |  -21.1\n",
      "['GROWL_LEFT', 'GROWL_RIGHT', 'GROWL_LEFT']           -35.8 |      -27.6 |  -25.5\n",
      "['GROWL_LEFT', 'GROWL_LEFT', 'START']                -123.4 |      -86.0 |  -37.6\n",
      "['GROWL_LEFT', 'GROWL_LEFT', 'GROWL_RIGHT']           -39.9 |      -34.3 |  -27.4\n",
      "['GROWL_LEFT', 'GROWL_LEFT', 'GROWL_LEFT']            -34.9 |       10.0 |  -23.4\n",
      "\n",
      "\n",
      "\n",
      "\n",
      "                                                  OPEN LEFT | OPEN RIGHT | LISTEN\n",
      "\t\t------------------------------------------- | --------- | ----------  | ------\n",
      "['START']                                               0.0 |        0.0 |   -2.0\n",
      "['START', 'START']                                      0.0 |        0.0 |   -1.6\n",
      "['START', 'START', 'START']                          -108.0 |     -103.5 |   -0.4\n",
      "['START', 'START', 'GROWL_RIGHT']                     -73.6 |      -58.4 |   -3.2\n",
      "['START', 'START', 'GROWL_LEFT']                      -87.7 |      -37.4 |   -1.5\n",
      "['START', 'GROWL_RIGHT', 'START']                     -76.1 |      -72.8 |  -69.8\n",
      "['START', 'GROWL_RIGHT', 'GROWL_RIGHT']                 1.1 |      -28.7 |  -22.5\n",
      "['START', 'GROWL_RIGHT', 'GROWL_LEFT']                -53.9 |      -46.4 |  -26.5\n",
      "['START', 'GROWL_LEFT', 'START']                      -94.9 |      -87.1 |  -46.7\n",
      "['START', 'GROWL_LEFT', 'GROWL_RIGHT']                -43.8 |      -42.2 |  -24.1\n",
      "['START', 'GROWL_LEFT', 'GROWL_LEFT']                -132.0 |      -28.5 |  -25.2\n",
      "['GROWL_RIGHT', 'START', 'START']                     -75.3 |      -72.1 |   -2.2\n",
      "['GROWL_RIGHT', 'START', 'GROWL_RIGHT']               -69.4 |      -63.4 |  -24.3\n",
      "['GROWL_RIGHT', 'START', 'GROWL_LEFT']                -68.3 |      -57.8 |  -25.9\n",
      "['GROWL_RIGHT', 'GROWL_RIGHT', 'START']               -77.6 |      -71.5 |  -43.3\n",
      "['GROWL_RIGHT', 'GROWL_RIGHT', 'GROWL_RIGHT']           8.1 |      -25.6 |  -18.3\n",
      "['GROWL_RIGHT', 'GROWL_RIGHT', 'GROWL_LEFT']          -33.5 |      -39.1 |  -26.6\n",
      "['GROWL_RIGHT', 'GROWL_LEFT', 'START']                -43.4 |      -53.8 |  -26.1\n",
      "['GROWL_RIGHT', 'GROWL_LEFT', 'GROWL_RIGHT']          -26.1 |      -30.3 |  -23.2\n",
      "['GROWL_RIGHT', 'GROWL_LEFT', 'GROWL_LEFT']           -44.4 |      -27.8 |  -24.9\n",
      "['GROWL_LEFT', 'START', 'START']                     -116.8 |      -92.7 |   -3.0\n",
      "['GROWL_LEFT', 'START', 'GROWL_RIGHT']                -53.9 |      -50.3 |  -24.8\n",
      "['GROWL_LEFT', 'START', 'GROWL_LEFT']                 -81.4 |      -46.7 |  -25.8\n",
      "['GROWL_LEFT', 'GROWL_RIGHT', 'START']                -43.7 |      -42.4 |  -26.3\n",
      "['GROWL_LEFT', 'GROWL_RIGHT', 'GROWL_RIGHT']          -36.9 |      -39.1 |  -21.2\n",
      "['GROWL_LEFT', 'GROWL_RIGHT', 'GROWL_LEFT']           -35.8 |      -27.6 |  -25.5\n",
      "['GROWL_LEFT', 'GROWL_LEFT', 'START']                -123.4 |      -86.0 |  -37.4\n",
      "['GROWL_LEFT', 'GROWL_LEFT', 'GROWL_RIGHT']           -39.9 |      -34.3 |  -27.1\n",
      "['GROWL_LEFT', 'GROWL_LEFT', 'GROWL_LEFT']            -34.9 |        9.9 |  -23.4\n",
      "\n",
      "\n",
      "\n",
      "\n",
      "                                                  OPEN LEFT | OPEN RIGHT | LISTEN\n",
      "\t\t------------------------------------------- | --------- | ----------  | ------\n",
      "['START']                                               0.0 |        0.0 |   -2.0\n",
      "['START', 'START']                                      0.0 |        0.0 |   -1.6\n",
      "['START', 'START', 'START']                          -108.0 |     -103.5 |   -0.4\n",
      "['START', 'START', 'GROWL_RIGHT']                     -73.6 |      -58.4 |   -3.2\n",
      "['START', 'START', 'GROWL_LEFT']                      -87.7 |      -37.4 |   -1.5\n",
      "['START', 'GROWL_RIGHT', 'START']                     -76.1 |      -72.8 |  -69.8\n",
      "['START', 'GROWL_RIGHT', 'GROWL_RIGHT']                 0.6 |      -28.7 |  -22.5\n",
      "['START', 'GROWL_RIGHT', 'GROWL_LEFT']                -53.9 |      -46.4 |  -26.5\n",
      "['START', 'GROWL_LEFT', 'START']                      -94.9 |      -87.1 |  -46.7\n",
      "['START', 'GROWL_LEFT', 'GROWL_RIGHT']                -43.8 |      -42.2 |  -24.3\n",
      "['START', 'GROWL_LEFT', 'GROWL_LEFT']                -132.0 |      -28.5 |  -25.0\n",
      "['GROWL_RIGHT', 'START', 'START']                     -75.3 |      -72.1 |   -2.2\n",
      "['GROWL_RIGHT', 'START', 'GROWL_RIGHT']               -69.4 |      -63.4 |  -24.3\n",
      "['GROWL_RIGHT', 'START', 'GROWL_LEFT']                -68.3 |      -57.8 |  -25.7\n",
      "['GROWL_RIGHT', 'GROWL_RIGHT', 'START']               -77.6 |      -71.5 |  -42.7\n",
      "['GROWL_RIGHT', 'GROWL_RIGHT', 'GROWL_RIGHT']           8.2 |      -25.6 |  -18.3\n",
      "['GROWL_RIGHT', 'GROWL_RIGHT', 'GROWL_LEFT']          -33.5 |      -39.1 |  -26.6\n",
      "['GROWL_RIGHT', 'GROWL_LEFT', 'START']                -43.4 |      -53.8 |  -26.1\n",
      "['GROWL_RIGHT', 'GROWL_LEFT', 'GROWL_RIGHT']          -26.1 |      -30.3 |  -23.7\n",
      "['GROWL_RIGHT', 'GROWL_LEFT', 'GROWL_LEFT']           -44.4 |      -27.8 |  -25.1\n",
      "['GROWL_LEFT', 'START', 'START']                     -116.8 |      -92.7 |   -3.0\n",
      "['GROWL_LEFT', 'START', 'GROWL_RIGHT']                -53.9 |      -50.3 |  -24.3\n",
      "['GROWL_LEFT', 'START', 'GROWL_LEFT']                 -81.4 |      -46.7 |  -25.7\n",
      "['GROWL_LEFT', 'GROWL_RIGHT', 'START']                -43.7 |      -42.4 |  -26.2\n",
      "['GROWL_LEFT', 'GROWL_RIGHT', 'GROWL_RIGHT']          -36.9 |      -39.1 |  -21.8\n",
      "['GROWL_LEFT', 'GROWL_RIGHT', 'GROWL_LEFT']           -35.8 |      -27.6 |  -25.6\n",
      "['GROWL_LEFT', 'GROWL_LEFT', 'START']                -123.4 |      -86.0 |  -39.3\n",
      "['GROWL_LEFT', 'GROWL_LEFT', 'GROWL_RIGHT']           -39.9 |      -34.3 |  -26.2\n",
      "['GROWL_LEFT', 'GROWL_LEFT', 'GROWL_LEFT']            -34.9 |        8.4 |  -23.4\n",
      "\n",
      "\n"
     ]
    },
    {
     "name": "stdout",
     "output_type": "stream",
     "text": [
      "\n",
      "\n",
      "                                                  OPEN LEFT | OPEN RIGHT | LISTEN\n",
      "\t\t------------------------------------------- | --------- | ----------  | ------\n",
      "['START']                                               0.0 |        0.0 |   -2.0\n",
      "['START', 'START']                                      0.0 |        0.0 |   -1.6\n",
      "['START', 'START', 'START']                          -108.0 |     -103.5 |   -0.4\n",
      "['START', 'START', 'GROWL_RIGHT']                     -73.6 |      -58.4 |   -3.2\n",
      "['START', 'START', 'GROWL_LEFT']                      -87.7 |      -37.4 |   -1.5\n",
      "['START', 'GROWL_RIGHT', 'START']                     -76.1 |      -72.8 |  -69.8\n",
      "['START', 'GROWL_RIGHT', 'GROWL_RIGHT']                 4.3 |      -28.7 |  -22.5\n",
      "['START', 'GROWL_RIGHT', 'GROWL_LEFT']                -53.9 |      -46.4 |  -26.5\n",
      "['START', 'GROWL_LEFT', 'START']                      -94.9 |      -87.1 |  -46.7\n",
      "['START', 'GROWL_LEFT', 'GROWL_RIGHT']                -43.8 |      -42.2 |  -24.4\n",
      "['START', 'GROWL_LEFT', 'GROWL_LEFT']                -132.0 |      -28.5 |  -24.8\n",
      "['GROWL_RIGHT', 'START', 'START']                     -75.3 |      -72.1 |   -2.2\n",
      "['GROWL_RIGHT', 'START', 'GROWL_RIGHT']               -69.4 |      -63.4 |  -24.7\n",
      "['GROWL_RIGHT', 'START', 'GROWL_LEFT']                -68.3 |      -57.8 |  -25.7\n",
      "['GROWL_RIGHT', 'GROWL_RIGHT', 'START']               -77.6 |      -71.5 |  -52.0\n",
      "['GROWL_RIGHT', 'GROWL_RIGHT', 'GROWL_RIGHT']           6.7 |      -25.6 |  -18.3\n",
      "['GROWL_RIGHT', 'GROWL_RIGHT', 'GROWL_LEFT']          -33.5 |      -39.1 |  -26.7\n",
      "['GROWL_RIGHT', 'GROWL_LEFT', 'START']                -43.4 |      -53.8 |  -26.1\n",
      "['GROWL_RIGHT', 'GROWL_LEFT', 'GROWL_RIGHT']          -26.1 |      -30.3 |  -23.5\n",
      "['GROWL_RIGHT', 'GROWL_LEFT', 'GROWL_LEFT']           -44.4 |      -27.8 |  -24.9\n",
      "['GROWL_LEFT', 'START', 'START']                     -116.8 |      -92.7 |   -3.0\n",
      "['GROWL_LEFT', 'START', 'GROWL_RIGHT']                -53.9 |      -50.3 |  -24.6\n",
      "['GROWL_LEFT', 'START', 'GROWL_LEFT']                 -81.4 |      -46.7 |  -25.7\n",
      "['GROWL_LEFT', 'GROWL_RIGHT', 'START']                -43.7 |      -42.4 |  -26.2\n",
      "['GROWL_LEFT', 'GROWL_RIGHT', 'GROWL_RIGHT']          -36.9 |      -39.1 |  -20.9\n",
      "['GROWL_LEFT', 'GROWL_RIGHT', 'GROWL_LEFT']           -35.8 |      -27.6 |  -25.6\n",
      "['GROWL_LEFT', 'GROWL_LEFT', 'START']                -123.4 |      -86.0 |  -38.3\n",
      "['GROWL_LEFT', 'GROWL_LEFT', 'GROWL_RIGHT']           -39.9 |      -34.3 |  -26.9\n",
      "['GROWL_LEFT', 'GROWL_LEFT', 'GROWL_LEFT']            -34.9 |        6.4 |  -23.4\n",
      "\n",
      "\n",
      "avg reward for last 500 episodes: 4.586\n"
     ]
    },
    {
     "data": {
      "image/png": "[encoded data removed]",
      "text/plain": [
       "<Figure size 1440x360 with 1 Axes>"
      ]
     },
     "metadata": {
      "needs_background": "light"
     },
     "output_type": "display_data"
    },
    {
     "data": {
      "image/png": "[encoded data removed]",
      "text/plain": [
       "<Figure size 1440x360 with 1 Axes>"
      ]
     },
     "metadata": {
      "needs_background": "light"
     },
     "output_type": "display_data"
    }
   ],
   "source": [
    "N = 15000\n",
    "totalrewards = np.empty(N)\n",
    "for n in range(N):\n",
    "    if n >= N - 500:\n",
    "        eps = 0\n",
    "    else:\n",
    "        eps = 1.0/np.sqrt(n+1)\n",
    "        eps=0\n",
    "    totalreward = play_one(env, model, eps)\n",
    "    totalrewards[n] = totalreward\n",
    "    if n % (N/5) == 0:\n",
    "        print(str(model))\n",
    "\n",
    "print(\"avg reward for last 500 episodes:\", totalrewards[-500:].mean())\n",
    "\n",
    "fig, ax = plt.subplots(1, 1, figsize=(20, 5))\n",
    "ax.plot(totalrewards)\n",
    "ax.set_title(\"Rewards\")\n",
    "\n",
    "plot_running_avg(totalrewards)"
   ]
  },
  {
   "cell_type": "markdown",
   "metadata": {
    "heading_collapsed": true
   },
   "source": [
    "# Sequence length 2: Play 5K episodes 25 times and average last 500 mean scores"
   ]
  },
  {
   "cell_type": "code",
   "execution_count": 4,
   "metadata": {
    "ExecuteTime": {
     "end_time": "2019-05-07T22:48:59.065748Z",
     "start_time": "2019-05-07T22:48:32.387531Z"
    },
    "hidden": true
   },
   "outputs": [
    {
     "name": "stdout",
     "output_type": "stream",
     "text": [
      "avg reward for last 500 episodes: 3.844\n",
      "avg reward for last 500 episodes: 2.688\n",
      "avg reward for last 500 episodes: 2.936\n",
      "avg reward for last 500 episodes: 3.354\n",
      "avg reward for last 500 episodes: 3.13\n",
      "avg reward for last 500 episodes: -0.296\n",
      "avg reward for last 500 episodes: 1.812\n",
      "avg reward for last 500 episodes: 1.902\n",
      "avg reward for last 500 episodes: 0.58\n",
      "avg reward for last 500 episodes: 2.256\n",
      "avg reward for last 500 episodes: 1.378\n",
      "avg reward for last 500 episodes: 3.866\n",
      "avg reward for last 500 episodes: 1.848\n",
      "avg reward for last 500 episodes: 2.056\n",
      "avg reward for last 500 episodes: 2.258\n",
      "avg reward for last 500 episodes: 2.436\n",
      "avg reward for last 500 episodes: 2.252\n",
      "avg reward for last 500 episodes: 2.722\n",
      "avg reward for last 500 episodes: -0.062\n",
      "avg reward for last 500 episodes: 3.806\n",
      "avg reward for last 500 episodes: 2.542\n",
      "avg reward for last 500 episodes: 3.396\n",
      "avg reward for last 500 episodes: 3.158\n",
      "avg reward for last 500 episodes: 1.856\n",
      "avg reward for last 500 episodes: 3.52\n",
      "last500rewards avg:  2.36952\n"
     ]
    }
   ],
   "source": [
    "last500rewards = np.zeros(25)\n",
    "\n",
    "for epoch in range(25):\n",
    "    # Reset environment\n",
    "    env = gym.make('Tiger-v0')\n",
    "    env.__init__(reward_tiger=-100, reward_gold=10, reward_listen=-1)\n",
    "    model = QLearnerSeq(env, alpha=.01, gamma=1, seq_len=2)\n",
    "    eps = 1\n",
    "    n = 0\n",
    "    ot = env.reset()\n",
    "\n",
    "    # Play episodes\n",
    "    N = 5000\n",
    "    totalrewards = np.empty(N)\n",
    "    for n in range(N):\n",
    "        # For performance measure, don't want to explore.\n",
    "        if n >= N - 500:\n",
    "            eps = 0\n",
    "        else:\n",
    "            eps = 1.0/np.sqrt(n+1)\n",
    "        totalreward = play_one(env, model, eps)\n",
    "        totalrewards[n] = totalreward\n",
    "    print(\"avg reward for last 500 episodes:\", totalrewards[-500:].mean())\n",
    "    last500rewards[epoch] = totalrewards[-500:].mean()\n",
    "    \n",
    "print('last500rewards avg: ', last500rewards.mean())"
   ]
  },
  {
   "cell_type": "markdown",
   "metadata": {},
   "source": [
    "# Sequence length 3: Play 5K episodes 25 times and average last 500 mean scores"
   ]
  },
  {
   "cell_type": "code",
   "execution_count": 5,
   "metadata": {
    "ExecuteTime": {
     "end_time": "2019-05-07T22:53:30.254738Z",
     "start_time": "2019-05-07T22:52:54.498996Z"
    }
   },
   "outputs": [
    {
     "name": "stdout",
     "output_type": "stream",
     "text": [
      "avg reward for last 500 episodes: 2.186\n",
      "avg reward for last 500 episodes: 2.076\n",
      "avg reward for last 500 episodes: 1.768\n",
      "avg reward for last 500 episodes: 3.512\n",
      "avg reward for last 500 episodes: 3.338\n",
      "avg reward for last 500 episodes: 2.568\n",
      "avg reward for last 500 episodes: 4.668\n",
      "avg reward for last 500 episodes: 4.86\n",
      "avg reward for last 500 episodes: 3.57\n",
      "avg reward for last 500 episodes: 3.696\n",
      "avg reward for last 500 episodes: 3.858\n",
      "avg reward for last 500 episodes: 3.49\n",
      "avg reward for last 500 episodes: 3.026\n",
      "avg reward for last 500 episodes: 3.654\n",
      "avg reward for last 500 episodes: 3.048\n",
      "avg reward for last 500 episodes: 4.616\n",
      "avg reward for last 500 episodes: 4.008\n",
      "avg reward for last 500 episodes: 2.96\n",
      "avg reward for last 500 episodes: 4.168\n",
      "avg reward for last 500 episodes: 3.732\n",
      "avg reward for last 500 episodes: 3.364\n",
      "avg reward for last 500 episodes: 4.886\n",
      "avg reward for last 500 episodes: 4.682\n",
      "avg reward for last 500 episodes: 3.968\n",
      "avg reward for last 500 episodes: 2.88\n",
      "last500rewards avg:  3.5432799999999998\n"
     ]
    }
   ],
   "source": [
    "last500rewards = np.zeros(25)\n",
    "\n",
    "for epoch in range(25):\n",
    "    # Reset environment\n",
    "    env = gym.make('Tiger-v0')\n",
    "    env.__init__(reward_tiger=-100, reward_gold=10, reward_listen=-1)\n",
    "    model = QLearnerSeq(env, alpha=.01, gamma=1, seq_len=3)\n",
    "    eps = 1\n",
    "    n = 0\n",
    "    ot = env.reset()\n",
    "\n",
    "    # Play episodes\n",
    "    N = 5000\n",
    "    totalrewards = np.empty(N)\n",
    "    for n in range(N):\n",
    "        # For performance measure, don't want to explore.\n",
    "        if n >= N - 500:\n",
    "            eps = 0\n",
    "        else:\n",
    "            eps = 1.0/np.sqrt(n+1)\n",
    "        totalreward = play_one(env, model, eps)\n",
    "        totalrewards[n] = totalreward\n",
    "    print(\"avg reward for last 500 episodes:\", totalrewards[-500:].mean())\n",
    "    last500rewards[epoch] = totalrewards[-500:].mean()\n",
    "    \n",
    "print('last500rewards avg: ', last500rewards.mean())"
   ]
  },
  {
   "cell_type": "markdown",
   "metadata": {},
   "source": [
    "# Sequence length 4: Play 5K episodes 25 times and average last 500 mean scores"
   ]
  },
  {
   "cell_type": "code",
   "execution_count": 6,
   "metadata": {
    "ExecuteTime": {
     "end_time": "2019-05-07T22:54:11.215464Z",
     "start_time": "2019-05-07T22:53:31.070174Z"
    }
   },
   "outputs": [
    {
     "name": "stdout",
     "output_type": "stream",
     "text": [
      "avg reward for last 500 episodes: 1.716\n",
      "avg reward for last 500 episodes: 4.102\n",
      "avg reward for last 500 episodes: 1.954\n",
      "avg reward for last 500 episodes: 2.35\n",
      "avg reward for last 500 episodes: 3.19\n",
      "avg reward for last 500 episodes: 2.566\n",
      "avg reward for last 500 episodes: 4.076\n",
      "avg reward for last 500 episodes: 2.91\n",
      "avg reward for last 500 episodes: 1.426\n",
      "avg reward for last 500 episodes: 2.65\n",
      "avg reward for last 500 episodes: 2.704\n",
      "avg reward for last 500 episodes: 2.768\n",
      "avg reward for last 500 episodes: 2.846\n",
      "avg reward for last 500 episodes: 1.732\n",
      "avg reward for last 500 episodes: 3.132\n",
      "avg reward for last 500 episodes: 3.428\n",
      "avg reward for last 500 episodes: 3.334\n",
      "avg reward for last 500 episodes: 1.172\n",
      "avg reward for last 500 episodes: 2.866\n",
      "avg reward for last 500 episodes: 3.056\n",
      "avg reward for last 500 episodes: 2.072\n",
      "avg reward for last 500 episodes: 4.054\n",
      "avg reward for last 500 episodes: 3.304\n",
      "avg reward for last 500 episodes: 2.764\n",
      "avg reward for last 500 episodes: 4.518\n",
      "last500rewards avg:  2.8276\n"
     ]
    }
   ],
   "source": [
    "last500rewards = np.zeros(25)\n",
    "\n",
    "for epoch in range(25):\n",
    "    # Reset environment\n",
    "    env = gym.make('Tiger-v0')\n",
    "    env.__init__(reward_tiger=-100, reward_gold=10, reward_listen=-1)\n",
    "    model = QLearnerSeq(env, alpha=.01, gamma=1, seq_len=4)\n",
    "    eps = 1\n",
    "    n = 0\n",
    "    ot = env.reset()\n",
    "\n",
    "    # Play episodes\n",
    "    N = 5000\n",
    "    totalrewards = np.empty(N)\n",
    "    for n in range(N):\n",
    "        # For performance measure, don't want to explore.\n",
    "        if n >= N - 500:\n",
    "            eps = 0\n",
    "        else:\n",
    "            eps = 1.0/np.sqrt(n+1)\n",
    "        totalreward = play_one(env, model, eps)\n",
    "        totalrewards[n] = totalreward\n",
    "    print(\"avg reward for last 500 episodes:\", totalrewards[-500:].mean())\n",
    "    last500rewards[epoch] = totalrewards[-500:].mean()\n",
    "    \n",
    "print('last500rewards avg: ', last500rewards.mean())"
   ]
  },
  {
   "cell_type": "markdown",
   "metadata": {
    "heading_collapsed": true
   },
   "source": [
    "# Sequence length 5: Play 5K episodes 25 times and average last 500 mean scores"
   ]
  },
  {
   "cell_type": "code",
   "execution_count": 7,
   "metadata": {
    "ExecuteTime": {
     "end_time": "2019-05-07T22:57:16.070810Z",
     "start_time": "2019-05-07T22:56:33.537168Z"
    },
    "hidden": true
   },
   "outputs": [
    {
     "name": "stdout",
     "output_type": "stream",
     "text": [
      "avg reward for last 500 episodes: 1.994\n",
      "avg reward for last 500 episodes: 2.04\n",
      "avg reward for last 500 episodes: 4.226\n",
      "avg reward for last 500 episodes: 4.896\n",
      "avg reward for last 500 episodes: 2.622\n",
      "avg reward for last 500 episodes: 2.24\n",
      "avg reward for last 500 episodes: 2.442\n",
      "avg reward for last 500 episodes: 3.49\n",
      "avg reward for last 500 episodes: 3.034\n",
      "avg reward for last 500 episodes: 1.704\n",
      "avg reward for last 500 episodes: 2.956\n",
      "avg reward for last 500 episodes: 1.292\n",
      "avg reward for last 500 episodes: 3.158\n",
      "avg reward for last 500 episodes: 1.458\n",
      "avg reward for last 500 episodes: 1.068\n",
      "avg reward for last 500 episodes: 2.138\n",
      "avg reward for last 500 episodes: 4.656\n",
      "avg reward for last 500 episodes: 0.87\n",
      "avg reward for last 500 episodes: 3.528\n",
      "avg reward for last 500 episodes: 3.692\n",
      "avg reward for last 500 episodes: 1.554\n",
      "avg reward for last 500 episodes: 2.7\n",
      "avg reward for last 500 episodes: 2.098\n",
      "avg reward for last 500 episodes: 0.484\n",
      "avg reward for last 500 episodes: 2.208\n",
      "last500rewards avg:  2.5019199999999997\n"
     ]
    }
   ],
   "source": [
    "last500rewards = np.zeros(25)\n",
    "\n",
    "for epoch in range(25):\n",
    "    # Reset environment\n",
    "    env = gym.make('Tiger-v0')\n",
    "    env.__init__(reward_tiger=-100, reward_gold=10, reward_listen=-1)\n",
    "    model = QLearnerSeq(env, alpha=.01, gamma=1, seq_len=5)\n",
    "    eps = 1\n",
    "    n = 0\n",
    "    ot = env.reset()\n",
    "\n",
    "    # Play episodes\n",
    "    N = 5000\n",
    "    totalrewards = np.empty(N)\n",
    "    for n in range(N):\n",
    "        # For performance measure, don't want to explore.\n",
    "        if n >= N - 500:\n",
    "            eps = 0\n",
    "        else:\n",
    "            eps = 1.0/np.sqrt(n+1)\n",
    "        totalreward = play_one(env, model, eps)\n",
    "        totalrewards[n] = totalreward\n",
    "    print(\"avg reward for last 500 episodes:\", totalrewards[-500:].mean())\n",
    "    last500rewards[epoch] = totalrewards[-500:].mean()\n",
    "    \n",
    "print('last500rewards avg: ', last500rewards.mean())"
   ]
  },
  {
   "cell_type": "markdown",
   "metadata": {
    "ExecuteTime": {
     "end_time": "2019-05-07T22:57:50.005401Z",
     "start_time": "2019-05-07T22:57:50.002950Z"
    },
    "heading_collapsed": true
   },
   "source": [
    "# Sequence length 6: Play 5K episodes 25 times and average last 500 mean scores"
   ]
  },
  {
   "cell_type": "code",
   "execution_count": 10,
   "metadata": {
    "ExecuteTime": {
     "end_time": "2019-05-07T22:58:53.181597Z",
     "start_time": "2019-05-07T22:58:09.635253Z"
    },
    "hidden": true
   },
   "outputs": [
    {
     "name": "stdout",
     "output_type": "stream",
     "text": [
      "avg reward for last 500 episodes: -1.708\n",
      "avg reward for last 500 episodes: -1.9\n",
      "avg reward for last 500 episodes: -1.31\n",
      "avg reward for last 500 episodes: -3.308\n",
      "avg reward for last 500 episodes: -4.764\n",
      "avg reward for last 500 episodes: -1.906\n",
      "avg reward for last 500 episodes: -0.574\n",
      "avg reward for last 500 episodes: -4.876\n",
      "avg reward for last 500 episodes: -1.45\n",
      "avg reward for last 500 episodes: -5.822\n",
      "avg reward for last 500 episodes: -0.378\n",
      "avg reward for last 500 episodes: -2.07\n",
      "avg reward for last 500 episodes: -4.338\n",
      "avg reward for last 500 episodes: -1.96\n",
      "avg reward for last 500 episodes: 0.51\n",
      "avg reward for last 500 episodes: -2.91\n",
      "avg reward for last 500 episodes: -3.008\n",
      "avg reward for last 500 episodes: 0.116\n",
      "avg reward for last 500 episodes: -5.164\n",
      "avg reward for last 500 episodes: -3.776\n",
      "avg reward for last 500 episodes: -1.734\n",
      "avg reward for last 500 episodes: -2.912\n",
      "avg reward for last 500 episodes: -3.518\n",
      "avg reward for last 500 episodes: -0.432\n",
      "avg reward for last 500 episodes: -2.31\n",
      "last500rewards avg:  -2.46008\n"
     ]
    }
   ],
   "source": [
    "last500rewards = np.zeros(25)\n",
    "\n",
    "for epoch in range(25):\n",
    "    # Reset environment\n",
    "    env = gym.make('Tiger-v0')\n",
    "    env.__init__(reward_tiger=-100, reward_gold=10, reward_listen=-1)\n",
    "    model = QLearnerSeq(env, alpha=.01, gamma=1, seq_len=6)\n",
    "    eps = 1\n",
    "    n = 0\n",
    "    ot = env.reset()\n",
    "\n",
    "    # Play episodes\n",
    "    N = 5000\n",
    "    totalrewards = np.empty(N)\n",
    "    for n in range(N):\n",
    "        # For performance measure, don't want to explore.\n",
    "        if n >= N - 500:\n",
    "            eps = 0\n",
    "        else:\n",
    "            eps = 1.0/np.sqrt(n+1)\n",
    "        totalreward = play_one(env, model, eps)\n",
    "        totalrewards[n] = totalreward\n",
    "    print(\"avg reward for last 500 episodes:\", totalrewards[-500:].mean())\n",
    "    last500rewards[epoch] = totalrewards[-500:].mean()\n",
    "    \n",
    "print('last500rewards avg: ', last500rewards.mean())"
   ]
  },
  {
   "cell_type": "code",
   "execution_count": null,
   "metadata": {
    "hidden": true
   },
   "outputs": [],
   "source": []
  }
 ],
 "metadata": {
  "kernelspec": {
   "display_name": "conda (rlpomdp)",
   "language": "python",
   "name": "rlpomdp"
  },
  "language_info": {
   "codemirror_mode": {
    "name": "ipython",
    "version": 3
   },
   "file_extension": ".py",
   "mimetype": "text/x-python",
   "name": "python",
   "nbconvert_exporter": "python",
   "pygments_lexer": "ipython3",
   "version": "3.6.8"
  },
  "toc": {
   "base_numbering": 1,
   "nav_menu": {},
   "number_sections": true,
   "sideBar": true,
   "skip_h1_title": false,
   "title_cell": "Table of Contents",
   "title_sidebar": "Contents",
   "toc_cell": false,
   "toc_position": {},
   "toc_section_display": true,
   "toc_window_display": false
  },
  "varInspector": {
   "cols": {
    "lenName": 16,
    "lenType": 16,
    "lenVar": 40
   },
   "kernels_config": {
    "python": {
     "delete_cmd_postfix": "",
     "delete_cmd_prefix": "del ",
     "library": "var_list.py",
     "varRefreshCmd": "print(var_dic_list())"
    },
    "r": {
     "delete_cmd_postfix": ") ",
     "delete_cmd_prefix": "rm(",
     "library": "var_list.r",
     "varRefreshCmd": "cat(var_dic_list()) "
    }
   },
   "position": {
    "height": "145px",
    "left": "1318.6666259765625px",
    "right": "17px",
    "top": "120px",
    "width": "351px"
   },
   "types_to_exclude": [
    "module",
    "function",
    "builtin_function_or_method",
    "instance",
    "_Feature"
   ],
   "window_display": true
  }
 },
 "nbformat": 4,
 "nbformat_minor": 2
}
