{
 "cells": [
  {
   "cell_type": "markdown",
   "metadata": {
    "heading_collapsed": true
   },
   "source": [
    "# Setup"
   ]
  },
  {
   "cell_type": "code",
   "execution_count": 1,
   "metadata": {
    "ExecuteTime": {
     "end_time": "2019-05-07T22:48:15.206006Z",
     "start_time": "2019-05-07T22:48:15.199061Z"
    },
    "hidden": true
   },
   "outputs": [],
   "source": [
    "\"\"\"\n",
    "Add parent directorys to current path\n",
    "\"\"\"\n",
    "import os.path\n",
    "import sys\n",
    "p = os.path.abspath('..')\n",
    "if p not in sys.path:\n",
    "    sys.path.insert(0,p)\n",
    "p = os.path.abspath('../..')\n",
    "if p not in sys.path:\n",
    "    sys.path.insert(0,p)\n",
    "    \n",
    "    \n",
    "\"\"\"\n",
    "Add tiger-env directory to current path\n",
    "Still not sure why this is needed.\n",
    "\"\"\"\n",
    "p = os.path.abspath('../../../custom_envs/gym-tiger')\n",
    "if p not in sys.path:\n",
    "    sys.path.insert(0, p)\n",
    "    \n",
    "\n",
    "\"\"\"\n",
    "Enable hot-reloading\n",
    "\"\"\"    \n",
    "from notebook_utils import import_module_by_name, reload_module_by_name\n",
    "\n",
    "def reload():\n",
    "    reload_module_by_name('rlpomdp.models.tiger_env', 'QLearnerSeq')\n",
    "    global QLearnerSeq\n",
    "    from rlpomdp.models.tiger_env import QLearnerSeq"
   ]
  },
  {
   "cell_type": "markdown",
   "metadata": {
    "heading_collapsed": true
   },
   "source": [
    "# Setup ENV and Model"
   ]
  },
  {
   "cell_type": "code",
   "execution_count": 3,
   "metadata": {
    "ExecuteTime": {
     "end_time": "2019-05-07T22:48:29.568130Z",
     "start_time": "2019-05-07T22:48:29.239254Z"
    },
    "hidden": true,
    "scrolled": false
   },
   "outputs": [
    {
     "name": "stderr",
     "output_type": "stream",
     "text": [
      "/Users/jblandin/miniconda3/envs/rlpomdp/lib/python3.6/site-packages/gym/envs/registration.py:14: PkgResourcesDeprecationWarning: Parameters to load are deprecated.  Call .resolve and .require separately.\n",
      "  result = entry_point.load(False)\n"
     ]
    }
   ],
   "source": [
    "import gym\n",
    "import gym_tiger\n",
    "import matplotlib.pyplot as plt\n",
    "from rlpomdp.utils import play_one, plot_running_avg\n",
    "from rlpomdp.models.tiger_env import QLearnerSeq\n",
    "\n",
    "env = gym.make('Tiger-v0')\n",
    "env.__init__(reward_tiger=-100, reward_gold=10, reward_listen=-1)\n",
    "model = QLearnerSeq(env, alpha=.01, gamma=1, seq_len=3)\n",
    "eps = 1\n",
    "n = 0\n",
    "ot = env.reset()"
   ]
  },
  {
   "cell_type": "markdown",
   "metadata": {
    "heading_collapsed": true
   },
   "source": [
    "# Take one action and update Q"
   ]
  },
  {
   "cell_type": "markdown",
   "metadata": {
    "hidden": true
   },
   "source": [
    "$$\n",
    "Q(s_{t-1}, a_{t-1}) = Q(s_{t-1}, a_{t-1}) + \\alpha \\big[ r_t + \\gamma \\cdot Q(s_t, a_t) - Q(s_{t-1}, a_{t-1}) \\big]\n",
    "$$"
   ]
  },
  {
   "cell_type": "code",
   "execution_count": 33,
   "metadata": {
    "ExecuteTime": {
     "end_time": "2019-05-06T18:05:13.924534Z",
     "start_time": "2019-05-06T18:05:13.916584Z"
    },
    "hidden": true,
    "scrolled": false
   },
   "outputs": [
    {
     "name": "stdout",
     "output_type": "stream",
     "text": [
      "\n",
      "\n",
      "                                                  OPEN LEFT | OPEN RIGHT | LISTEN\n",
      "\t\t------------------------------- | --------- | ---------- | ------\n",
      "[]                                                      0.0 |        0.0 |    1.0\n",
      "['END']                                                 0.0 |        0.0 |    1.0\n",
      "['END', 'END']                                          0.0 |        0.0 |    1.0\n",
      "['END', 'START']                                        0.0 |        0.0 |    1.0\n",
      "['END', 'GROWL_RIGHT']                                  0.0 |        0.0 |    1.0\n",
      "['END', 'GROWL_LEFT']                                   0.0 |        0.0 |    1.0\n",
      "['START']                                               0.0 |        0.0 |    1.0\n",
      "['START', 'END']                                        0.0 |        0.0 |    1.0\n",
      "['START', 'START']                                      0.0 |        0.0 |    1.0\n",
      "['START', 'GROWL_RIGHT']                                0.0 |        0.0 |    1.0\n",
      "['START', 'GROWL_LEFT']                                 0.0 |        0.0 |    1.0\n",
      "['GROWL_RIGHT']                                         0.0 |        0.0 |    1.0\n",
      "['GROWL_RIGHT', 'END']                                  0.0 |        0.0 |    1.0\n",
      "['GROWL_RIGHT', 'START']                                0.0 |        0.0 |    1.0\n",
      "['GROWL_RIGHT', 'GROWL_RIGHT']                          0.0 |        0.0 |    1.0\n",
      "['GROWL_RIGHT', 'GROWL_LEFT']                           0.0 |        0.0 |    1.0\n",
      "['GROWL_LEFT']                                          0.0 |        0.0 |    1.0\n",
      "['GROWL_LEFT', 'END']                                   0.0 |        0.0 |    1.0\n",
      "['GROWL_LEFT', 'START']                                 0.0 |        0.0 |    1.0\n",
      "['GROWL_LEFT', 'GROWL_RIGHT']                           0.0 |        0.0 |    1.0\n",
      "['GROWL_LEFT', 'GROWL_LEFT']                            0.0 |        0.0 |    1.0\n",
      "\n",
      "\n",
      "START , OPEN_RIGHT , -100\n",
      "\n",
      "\n",
      "                                                  OPEN LEFT | OPEN RIGHT | LISTEN\n",
      "\t\t------------------------------- | --------- | ---------- | ------\n",
      "[]                                                      0.0 |        0.0 |    1.0\n",
      "['END']                                                 0.0 |        0.0 |    1.0\n",
      "['END', 'END']                                          0.0 |        0.0 |    1.0\n",
      "['END', 'START']                                        0.0 |        0.0 |    1.0\n",
      "['END', 'GROWL_RIGHT']                                  0.0 |        0.0 |    1.0\n",
      "['END', 'GROWL_LEFT']                                   0.0 |        0.0 |    1.0\n",
      "['START']                                               0.0 |       -9.9 |    1.0\n",
      "['START', 'END']                                        0.0 |        0.0 |    1.0\n",
      "['START', 'START']                                      0.0 |        0.0 |    1.0\n",
      "['START', 'GROWL_RIGHT']                                0.0 |        0.0 |    1.0\n",
      "['START', 'GROWL_LEFT']                                 0.0 |        0.0 |    1.0\n",
      "['GROWL_RIGHT']                                         0.0 |        0.0 |    1.0\n",
      "['GROWL_RIGHT', 'END']                                  0.0 |        0.0 |    1.0\n",
      "['GROWL_RIGHT', 'START']                                0.0 |        0.0 |    1.0\n",
      "['GROWL_RIGHT', 'GROWL_RIGHT']                          0.0 |        0.0 |    1.0\n",
      "['GROWL_RIGHT', 'GROWL_LEFT']                           0.0 |        0.0 |    1.0\n",
      "['GROWL_LEFT']                                          0.0 |        0.0 |    1.0\n",
      "['GROWL_LEFT', 'END']                                   0.0 |        0.0 |    1.0\n",
      "['GROWL_LEFT', 'START']                                 0.0 |        0.0 |    1.0\n",
      "['GROWL_LEFT', 'GROWL_RIGHT']                           0.0 |        0.0 |    1.0\n",
      "['GROWL_LEFT', 'GROWL_LEFT']                            0.0 |        0.0 |    1.0\n",
      "\n",
      "\n"
     ]
    }
   ],
   "source": [
    "print(str(model))\n",
    "otm1 = ot\n",
    "atm1 = model.sample_action(otm1, eps)\n",
    "ot, r, done, info = env.step(atm1)\n",
    "at = model.best_action(ot)\n",
    "model.update(otm1, atm1, r, ot, at)\n",
    "_otm1 = env.translate_obs(otm1)\n",
    "_atm1 = env.translate_action(atm1)\n",
    "print(_otm1, ',', _atm1, ',', r)\n",
    "print(str(model))"
   ]
  },
  {
   "cell_type": "markdown",
   "metadata": {
    "heading_collapsed": true
   },
   "source": [
    "# Play 1 Episode"
   ]
  },
  {
   "cell_type": "code",
   "execution_count": 11,
   "metadata": {
    "ExecuteTime": {
     "end_time": "2019-05-06T18:36:21.376642Z",
     "start_time": "2019-05-06T18:36:21.370342Z"
    },
    "hidden": true,
    "scrolled": false
   },
   "outputs": [
    {
     "name": "stdout",
     "output_type": "stream",
     "text": [
      "\n",
      "\n",
      "                                                  OPEN LEFT | OPEN RIGHT | LISTEN\n",
      "\t\t------------------------------ | --------- | ----------  | ------\n",
      "[]                                                      0.0 |        0.0 |    0.0\n",
      "['END']                                                 0.0 |        0.0 |    0.0\n",
      "['END', 'END']                                          0.0 |        0.0 |    0.0\n",
      "['END', 'START']                                        0.0 |        0.0 |    0.0\n",
      "['END', 'GROWL_RIGHT']                                  0.0 |        0.0 |    0.0\n",
      "['END', 'GROWL_LEFT']                                   0.0 |        0.0 |    0.0\n",
      "['START']                                               0.0 |        0.0 |    0.0\n",
      "['START', 'END']                                        0.0 |        0.0 |    0.0\n",
      "['START', 'START']                                      0.0 |        0.0 |    0.0\n",
      "['START', 'GROWL_RIGHT']                                0.0 |        0.0 |    0.0\n",
      "['START', 'GROWL_LEFT']                                 0.0 |        0.0 |    0.0\n",
      "['GROWL_RIGHT']                                         0.0 |        0.0 |    0.0\n",
      "['GROWL_RIGHT', 'END']                                  0.0 |        0.0 |    0.0\n",
      "['GROWL_RIGHT', 'START']                                0.0 |        0.0 |    0.0\n",
      "['GROWL_RIGHT', 'GROWL_RIGHT']                          0.0 |        0.0 |    0.0\n",
      "['GROWL_RIGHT', 'GROWL_LEFT']                           0.0 |        0.0 |    0.0\n",
      "['GROWL_LEFT']                                          0.0 |        0.0 |    0.0\n",
      "['GROWL_LEFT', 'END']                                   0.0 |        0.0 |    0.0\n",
      "['GROWL_LEFT', 'START']                                 0.0 |        0.0 |    0.0\n",
      "['GROWL_LEFT', 'GROWL_RIGHT']                           0.0 |        0.0 |    0.0\n",
      "['GROWL_LEFT', 'GROWL_LEFT']                            0.0 |        0.0 |    0.0\n",
      "\n",
      "\n",
      "o_t-n,...,o_t-1                          | o_t-1       | a_t-1      | r     | o_t         | a_t       \n",
      "----------------------------------------------------------------------------------------------------\n",
      "['START']                                | START       | LISTEN     | -1    | GROWL_RIGHT | OPEN_LEFT \n",
      "['START', 'GROWL_RIGHT']                 | GROWL_RIGHT | LISTEN     | -1    | GROWL_RIGHT | OPEN_LEFT \n",
      "['GROWL_RIGHT', 'GROWL_RIGHT']           | GROWL_RIGHT | OPEN_LEFT  | 10    | END         | OPEN_LEFT \n",
      "\n",
      "\n",
      "                                                  OPEN LEFT | OPEN RIGHT | LISTEN\n",
      "\t\t------------------------------ | --------- | ----------  | ------\n",
      "[]                                                      0.0 |        0.0 |    0.0\n",
      "['END']                                                 0.0 |        0.0 |    0.0\n",
      "['END', 'END']                                          0.0 |        0.0 |    0.0\n",
      "['END', 'START']                                        0.0 |        0.0 |    0.0\n",
      "['END', 'GROWL_RIGHT']                                  0.0 |        0.0 |    0.0\n",
      "['END', 'GROWL_LEFT']                                   0.0 |        0.0 |    0.0\n",
      "['START']                                               0.0 |        0.0 |   -0.0\n",
      "['START', 'END']                                        0.0 |        0.0 |    0.0\n",
      "['START', 'START']                                      0.0 |        0.0 |    0.0\n",
      "['START', 'GROWL_RIGHT']                                0.0 |        0.0 |   -0.0\n",
      "['START', 'GROWL_LEFT']                                 0.0 |        0.0 |    0.0\n",
      "['GROWL_RIGHT']                                         0.0 |        0.0 |    0.0\n",
      "['GROWL_RIGHT', 'END']                                  0.0 |        0.0 |    0.0\n",
      "['GROWL_RIGHT', 'START']                                0.0 |        0.0 |    0.0\n",
      "['GROWL_RIGHT', 'GROWL_RIGHT']                          0.1 |        0.0 |    0.0\n",
      "['GROWL_RIGHT', 'GROWL_LEFT']                           0.0 |        0.0 |    0.0\n",
      "['GROWL_LEFT']                                          0.0 |        0.0 |    0.0\n",
      "['GROWL_LEFT', 'END']                                   0.0 |        0.0 |    0.0\n",
      "['GROWL_LEFT', 'START']                                 0.0 |        0.0 |    0.0\n",
      "['GROWL_LEFT', 'GROWL_RIGHT']                           0.0 |        0.0 |    0.0\n",
      "['GROWL_LEFT', 'GROWL_LEFT']                            0.0 |        0.0 |    0.0\n",
      "\n",
      "\n"
     ]
    }
   ],
   "source": [
    "print(str(model))\n",
    "play_one(env, model, eps, verbose=True)\n",
    "print(str(model))"
   ]
  },
  {
   "cell_type": "markdown",
   "metadata": {
    "heading_collapsed": true
   },
   "source": [
    "# Play 5K Episodes"
   ]
  },
  {
   "cell_type": "code",
   "execution_count": 77,
   "metadata": {
    "ExecuteTime": {
     "end_time": "2019-05-07T22:38:06.797872Z",
     "start_time": "2019-05-07T22:38:04.635908Z"
    },
    "hidden": true,
    "scrolled": false
   },
   "outputs": [
    {
     "name": "stdout",
     "output_type": "stream",
     "text": [
      "\n",
      "\n",
      "                                                  OPEN LEFT | OPEN RIGHT | LISTEN\n",
      "\t\t------------------------------------------- | --------- | ----------  | ------\n",
      "['START']                                              -1.0 |        0.0 |    0.0\n",
      "\n",
      "\n",
      "\n",
      "\n",
      "                                                  OPEN LEFT | OPEN RIGHT | LISTEN\n",
      "\t\t------------------------------------------- | --------- | ----------  | ------\n",
      "['START']                                              -1.0 |        0.0 |    0.0\n",
      "['START', 'START']                                      0.1 |        0.0 |    0.0\n",
      "['START', 'START', 'START']                            -0.6 |       -1.0 |   -0.1\n",
      "['START', 'START', 'GROWL_RIGHT']                      -0.5 |       -1.0 |   -0.2\n",
      "['START', 'START', 'GROWL_LEFT']                       -1.0 |        1.5 |    0.0\n",
      "['START', 'GROWL_RIGHT', 'START']                      -1.0 |       -1.0 |   -0.4\n",
      "['START', 'GROWL_RIGHT', 'GROWL_RIGHT']                 6.9 |        0.0 |    0.0\n",
      "['START', 'GROWL_RIGHT', 'GROWL_LEFT']                 -1.5 |       -1.8 |   -1.1\n",
      "['START', 'GROWL_LEFT', 'START']                       -0.7 |       -1.0 |   -0.5\n",
      "['START', 'GROWL_LEFT', 'GROWL_RIGHT']                 -1.6 |       -1.9 |   -1.0\n",
      "['START', 'GROWL_LEFT', 'GROWL_LEFT']                  -1.0 |        6.6 |    0.0\n",
      "['GROWL_RIGHT', 'START', 'START']                      -0.8 |       -1.0 |   -0.2\n",
      "['GROWL_RIGHT', 'START', 'GROWL_RIGHT']                -1.1 |       -1.0 |   -1.0\n",
      "['GROWL_RIGHT', 'START', 'GROWL_LEFT']                 -1.9 |       -1.8 |   -1.0\n",
      "['GROWL_RIGHT', 'GROWL_RIGHT', 'START']                -2.6 |       -2.6 |   -1.9\n",
      "['GROWL_RIGHT', 'GROWL_RIGHT', 'GROWL_RIGHT']           3.1 |        0.0 |    0.0\n",
      "['GROWL_RIGHT', 'GROWL_RIGHT', 'GROWL_LEFT']           -0.9 |       -0.9 |   -0.3\n",
      "['GROWL_RIGHT', 'GROWL_LEFT', 'START']                 -0.6 |       -1.0 |   -0.3\n",
      "['GROWL_RIGHT', 'GROWL_LEFT', 'GROWL_RIGHT']           -0.9 |       -1.0 |   -0.8\n",
      "['GROWL_RIGHT', 'GROWL_LEFT', 'GROWL_LEFT']            -1.0 |       -1.0 |   -0.7\n",
      "['GROWL_LEFT', 'START', 'START']                       -1.0 |       -0.6 |   -0.1\n",
      "['GROWL_LEFT', 'START', 'GROWL_RIGHT']                 -1.3 |       -2.0 |   -1.2\n",
      "['GROWL_LEFT', 'START', 'GROWL_LEFT']                  -2.0 |       -1.8 |   -1.1\n",
      "['GROWL_LEFT', 'GROWL_RIGHT', 'START']                 -0.9 |       -1.0 |   -0.2\n",
      "['GROWL_LEFT', 'GROWL_RIGHT', 'GROWL_RIGHT']           -0.8 |       -1.0 |   -0.6\n",
      "['GROWL_LEFT', 'GROWL_RIGHT', 'GROWL_LEFT']            -1.0 |       -1.6 |   -0.8\n",
      "['GROWL_LEFT', 'GROWL_LEFT', 'START']                  -2.6 |       -2.9 |   -2.2\n",
      "['GROWL_LEFT', 'GROWL_LEFT', 'GROWL_RIGHT']            -1.0 |       -0.8 |   -0.4\n",
      "['GROWL_LEFT', 'GROWL_LEFT', 'GROWL_LEFT']             -1.0 |        3.9 |    0.0\n",
      "\n",
      "\n",
      "\n",
      "\n",
      "                                                  OPEN LEFT | OPEN RIGHT | LISTEN\n",
      "\t\t------------------------------------------- | --------- | ----------  | ------\n",
      "['START']                                              -1.0 |        0.0 |    0.0\n",
      "['START', 'START']                                      0.1 |        0.0 |    0.0\n",
      "['START', 'START', 'START']                            -0.6 |       -1.0 |   -0.1\n",
      "['START', 'START', 'GROWL_RIGHT']                      -0.5 |       -1.0 |   -0.2\n",
      "['START', 'START', 'GROWL_LEFT']                       -1.0 |        1.5 |    0.0\n",
      "['START', 'GROWL_RIGHT', 'START']                      -1.0 |       -1.0 |   -0.7\n",
      "['START', 'GROWL_RIGHT', 'GROWL_RIGHT']                 7.7 |        0.0 |    0.0\n",
      "['START', 'GROWL_RIGHT', 'GROWL_LEFT']                 -2.5 |       -2.8 |   -1.9\n",
      "['START', 'GROWL_LEFT', 'START']                       -0.7 |       -1.0 |   -0.5\n",
      "['START', 'GROWL_LEFT', 'GROWL_RIGHT']                 -2.6 |       -1.9 |   -1.9\n",
      "['START', 'GROWL_LEFT', 'GROWL_LEFT']                  -1.0 |        5.2 |    0.0\n",
      "['GROWL_RIGHT', 'START', 'START']                      -0.8 |       -1.0 |   -0.2\n",
      "['GROWL_RIGHT', 'START', 'GROWL_RIGHT']                -1.7 |       -2.0 |   -1.4\n",
      "['GROWL_RIGHT', 'START', 'GROWL_LEFT']                 -1.9 |       -1.8 |   -1.4\n",
      "['GROWL_RIGHT', 'GROWL_RIGHT', 'START']                -2.6 |       -2.6 |   -2.5\n",
      "['GROWL_RIGHT', 'GROWL_RIGHT', 'GROWL_RIGHT']           4.9 |        0.0 |    0.0\n",
      "['GROWL_RIGHT', 'GROWL_RIGHT', 'GROWL_LEFT']           -0.9 |       -0.9 |   -0.7\n",
      "['GROWL_RIGHT', 'GROWL_LEFT', 'START']                 -0.6 |       -1.0 |   -0.4\n",
      "['GROWL_RIGHT', 'GROWL_LEFT', 'GROWL_RIGHT']           -1.6 |       -1.9 |   -1.5\n",
      "['GROWL_RIGHT', 'GROWL_LEFT', 'GROWL_LEFT']            -2.0 |       -1.6 |   -1.0\n",
      "['GROWL_LEFT', 'START', 'START']                       -1.0 |       -0.6 |   -0.1\n",
      "['GROWL_LEFT', 'START', 'GROWL_RIGHT']                 -1.8 |       -2.0 |   -1.3\n",
      "['GROWL_LEFT', 'START', 'GROWL_LEFT']                  -2.0 |       -1.8 |   -1.3\n",
      "['GROWL_LEFT', 'GROWL_RIGHT', 'START']                 -0.9 |       -1.0 |   -0.3\n",
      "['GROWL_LEFT', 'GROWL_RIGHT', 'GROWL_RIGHT']           -1.3 |       -1.0 |   -1.0\n",
      "['GROWL_LEFT', 'GROWL_RIGHT', 'GROWL_LEFT']            -2.0 |       -2.0 |   -1.6\n",
      "['GROWL_LEFT', 'GROWL_LEFT', 'START']                  -2.6 |       -2.9 |   -2.6\n",
      "['GROWL_LEFT', 'GROWL_LEFT', 'GROWL_RIGHT']            -1.0 |       -0.8 |   -0.8\n",
      "['GROWL_LEFT', 'GROWL_LEFT', 'GROWL_LEFT']             -1.0 |        7.6 |    0.0\n",
      "\n",
      "\n",
      "\n",
      "\n",
      "                                                  OPEN LEFT | OPEN RIGHT | LISTEN\n",
      "\t\t------------------------------------------- | --------- | ----------  | ------\n",
      "['START']                                              -1.0 |        0.0 |    0.0\n",
      "['START', 'START']                                      0.1 |        0.0 |    0.0\n",
      "['START', 'START', 'START']                            -0.6 |       -1.0 |   -0.1\n",
      "['START', 'START', 'GROWL_RIGHT']                      -0.5 |       -1.0 |   -0.2\n",
      "['START', 'START', 'GROWL_LEFT']                       -1.0 |        1.8 |    0.0\n",
      "['START', 'GROWL_RIGHT', 'START']                      -1.0 |       -1.0 |   -0.7\n",
      "['START', 'GROWL_RIGHT', 'GROWL_RIGHT']                 7.4 |        0.0 |    0.0\n",
      "['START', 'GROWL_RIGHT', 'GROWL_LEFT']                 -3.5 |       -2.8 |   -2.5\n",
      "['START', 'GROWL_LEFT', 'START']                       -0.7 |       -1.0 |   -0.6\n",
      "['START', 'GROWL_LEFT', 'GROWL_RIGHT']                 -3.5 |       -2.6 |   -2.6\n",
      "['START', 'GROWL_LEFT', 'GROWL_LEFT']                  -1.0 |        6.0 |    0.0\n",
      "['GROWL_RIGHT', 'START', 'START']                      -0.8 |       -1.0 |   -0.2\n",
      "['GROWL_RIGHT', 'START', 'GROWL_RIGHT']                -1.7 |       -2.0 |   -1.6\n",
      "['GROWL_RIGHT', 'START', 'GROWL_LEFT']                 -1.9 |       -1.8 |   -1.7\n",
      "['GROWL_RIGHT', 'GROWL_RIGHT', 'START']                -3.5 |       -3.1 |   -2.7\n",
      "['GROWL_RIGHT', 'GROWL_RIGHT', 'GROWL_RIGHT']           6.8 |        0.0 |    0.0\n",
      "['GROWL_RIGHT', 'GROWL_RIGHT', 'GROWL_LEFT']           -1.9 |       -1.9 |   -1.3\n",
      "['GROWL_RIGHT', 'GROWL_LEFT', 'START']                 -0.6 |       -1.0 |   -0.5\n",
      "['GROWL_RIGHT', 'GROWL_LEFT', 'GROWL_RIGHT']           -2.9 |       -2.6 |   -2.1\n",
      "['GROWL_RIGHT', 'GROWL_LEFT', 'GROWL_LEFT']            -2.0 |       -1.6 |   -1.2\n",
      "['GROWL_LEFT', 'START', 'START']                       -1.0 |       -0.6 |   -0.2\n",
      "['GROWL_LEFT', 'START', 'GROWL_RIGHT']                 -1.8 |       -2.0 |   -1.6\n",
      "['GROWL_LEFT', 'START', 'GROWL_LEFT']                  -2.0 |       -1.8 |   -1.6\n",
      "['GROWL_LEFT', 'GROWL_RIGHT', 'START']                 -0.9 |       -1.0 |   -0.7\n",
      "['GROWL_LEFT', 'GROWL_RIGHT', 'GROWL_RIGHT']           -1.3 |       -2.0 |   -1.2\n",
      "['GROWL_LEFT', 'GROWL_RIGHT', 'GROWL_LEFT']            -3.0 |       -3.0 |   -2.2\n",
      "['GROWL_LEFT', 'GROWL_LEFT', 'START']                  -3.6 |       -2.9 |   -2.7\n",
      "['GROWL_LEFT', 'GROWL_LEFT', 'GROWL_RIGHT']            -2.0 |       -1.7 |   -1.4\n",
      "['GROWL_LEFT', 'GROWL_LEFT', 'GROWL_LEFT']             -1.0 |        9.4 |    0.0\n",
      "\n",
      "\n",
      "\n",
      "\n",
      "                                                  OPEN LEFT | OPEN RIGHT | LISTEN\n",
      "\t\t------------------------------------------- | --------- | ----------  | ------\n",
      "['START']                                              -1.0 |        0.0 |    0.0\n",
      "['START', 'START']                                      0.1 |        0.0 |    0.0\n",
      "['START', 'START', 'START']                            -0.6 |       -1.0 |   -0.1\n",
      "['START', 'START', 'GROWL_RIGHT']                      -0.5 |       -1.0 |   -0.3\n",
      "['START', 'START', 'GROWL_LEFT']                       -1.0 |        1.8 |    0.0\n",
      "['START', 'GROWL_RIGHT', 'START']                      -1.0 |       -1.0 |   -0.7\n",
      "['START', 'GROWL_RIGHT', 'GROWL_RIGHT']                 5.0 |        0.0 |    0.0\n",
      "['START', 'GROWL_RIGHT', 'GROWL_LEFT']                 -3.5 |       -3.7 |   -3.0\n",
      "['START', 'GROWL_LEFT', 'START']                       -0.7 |       -1.0 |   -0.7\n",
      "['START', 'GROWL_LEFT', 'GROWL_RIGHT']                 -3.5 |       -3.6 |   -2.9\n",
      "['START', 'GROWL_LEFT', 'GROWL_LEFT']                  -1.0 |        2.7 |    0.0\n",
      "['GROWL_RIGHT', 'START', 'START']                      -0.8 |       -1.0 |   -0.2\n",
      "['GROWL_RIGHT', 'START', 'GROWL_RIGHT']                -2.6 |       -2.0 |   -1.8\n",
      "['GROWL_RIGHT', 'START', 'GROWL_LEFT']                 -1.9 |       -2.3 |   -1.8\n",
      "['GROWL_RIGHT', 'GROWL_RIGHT', 'START']                -3.5 |       -3.9 |   -3.2\n",
      "['GROWL_RIGHT', 'GROWL_RIGHT', 'GROWL_RIGHT']           5.4 |        0.0 |    0.0\n",
      "['GROWL_RIGHT', 'GROWL_RIGHT', 'GROWL_LEFT']           -1.9 |       -1.9 |   -1.8\n",
      "['GROWL_RIGHT', 'GROWL_LEFT', 'START']                 -0.6 |       -1.0 |   -0.6\n",
      "['GROWL_RIGHT', 'GROWL_LEFT', 'GROWL_RIGHT']           -2.9 |       -2.6 |   -2.4\n",
      "['GROWL_RIGHT', 'GROWL_LEFT', 'GROWL_LEFT']            -2.0 |       -1.6 |   -1.3\n",
      "['GROWL_LEFT', 'START', 'START']                       -1.0 |       -0.6 |   -0.2\n",
      "['GROWL_LEFT', 'START', 'GROWL_RIGHT']                 -2.7 |       -2.0 |   -1.7\n",
      "['GROWL_LEFT', 'START', 'GROWL_LEFT']                  -2.0 |       -1.8 |   -1.6\n",
      "['GROWL_LEFT', 'GROWL_RIGHT', 'START']                 -0.9 |       -1.0 |   -0.7\n",
      "['GROWL_LEFT', 'GROWL_RIGHT', 'GROWL_RIGHT']            0.3 |       -2.0 |   -1.3\n",
      "['GROWL_LEFT', 'GROWL_RIGHT', 'GROWL_LEFT']            -3.0 |       -3.0 |   -2.5\n",
      "['GROWL_LEFT', 'GROWL_LEFT', 'START']                  -3.6 |       -2.9 |   -2.8\n",
      "['GROWL_LEFT', 'GROWL_LEFT', 'GROWL_RIGHT']            -2.0 |       -2.7 |   -1.8\n",
      "['GROWL_LEFT', 'GROWL_LEFT', 'GROWL_LEFT']             -1.0 |        9.3 |    0.0\n",
      "\n",
      "\n"
     ]
    },
    {
     "name": "stdout",
     "output_type": "stream",
     "text": [
      "avg reward for last 500 episodes: 3.162\n"
     ]
    },
    {
     "data": {
      "image/png": "[encoded data removed]",
      "text/plain": [
       "<Figure size 1440x360 with 1 Axes>"
      ]
     },
     "metadata": {
      "needs_background": "light"
     },
     "output_type": "display_data"
    },
    {
     "data": {
      "image/png": "[encoded data removed]",
      "text/plain": [
       "<Figure size 1440x360 with 1 Axes>"
      ]
     },
     "metadata": {
      "needs_background": "light"
     },
     "output_type": "display_data"
    }
   ],
   "source": [
    "N = 5000\n",
    "totalrewards = np.empty(N)\n",
    "for n in range(N):\n",
    "    if n >= N - 500:\n",
    "        eps = 0\n",
    "    else:\n",
    "        eps = 1.0/np.sqrt(n+1)\n",
    "        eps=0\n",
    "    totalreward = play_one(env, model, eps)\n",
    "    totalrewards[n] = totalreward\n",
    "    if n % (N/5) == 0:\n",
    "        print(str(model))\n",
    "\n",
    "print(\"avg reward for last 500 episodes:\", totalrewards[-500:].mean())\n",
    "\n",
    "fig, ax = plt.subplots(1, 1, figsize=(20, 5))\n",
    "ax.plot(totalrewards)\n",
    "ax.set_title(\"Rewards\")\n",
    "\n",
    "plot_running_avg(totalrewards)"
   ]
  },
  {
   "cell_type": "markdown",
   "metadata": {
    "heading_collapsed": true
   },
   "source": [
    "# Sequence length 2: Play 5K episodes 25 times and average last 500 mean scores"
   ]
  },
  {
   "cell_type": "code",
   "execution_count": 4,
   "metadata": {
    "ExecuteTime": {
     "end_time": "2019-05-07T22:48:59.065748Z",
     "start_time": "2019-05-07T22:48:32.387531Z"
    },
    "hidden": true
   },
   "outputs": [
    {
     "name": "stdout",
     "output_type": "stream",
     "text": [
      "avg reward for last 500 episodes: 3.844\n",
      "avg reward for last 500 episodes: 2.688\n",
      "avg reward for last 500 episodes: 2.936\n",
      "avg reward for last 500 episodes: 3.354\n",
      "avg reward for last 500 episodes: 3.13\n",
      "avg reward for last 500 episodes: -0.296\n",
      "avg reward for last 500 episodes: 1.812\n",
      "avg reward for last 500 episodes: 1.902\n",
      "avg reward for last 500 episodes: 0.58\n",
      "avg reward for last 500 episodes: 2.256\n",
      "avg reward for last 500 episodes: 1.378\n",
      "avg reward for last 500 episodes: 3.866\n",
      "avg reward for last 500 episodes: 1.848\n",
      "avg reward for last 500 episodes: 2.056\n",
      "avg reward for last 500 episodes: 2.258\n",
      "avg reward for last 500 episodes: 2.436\n",
      "avg reward for last 500 episodes: 2.252\n",
      "avg reward for last 500 episodes: 2.722\n",
      "avg reward for last 500 episodes: -0.062\n",
      "avg reward for last 500 episodes: 3.806\n",
      "avg reward for last 500 episodes: 2.542\n",
      "avg reward for last 500 episodes: 3.396\n",
      "avg reward for last 500 episodes: 3.158\n",
      "avg reward for last 500 episodes: 1.856\n",
      "avg reward for last 500 episodes: 3.52\n",
      "last500rewards avg:  2.36952\n"
     ]
    }
   ],
   "source": [
    "last500rewards = np.zeros(25)\n",
    "\n",
    "for epoch in range(25):\n",
    "    # Reset environment\n",
    "    env = gym.make('Tiger-v0')\n",
    "    env.__init__(reward_tiger=-100, reward_gold=10, reward_listen=-1)\n",
    "    model = QLearnerSeq(env, alpha=.01, gamma=1, seq_len=2)\n",
    "    eps = 1\n",
    "    n = 0\n",
    "    ot = env.reset()\n",
    "\n",
    "    # Play episodes\n",
    "    N = 5000\n",
    "    totalrewards = np.empty(N)\n",
    "    for n in range(N):\n",
    "        # For performance measure, don't want to explore.\n",
    "        if n >= N - 500:\n",
    "            eps = 0\n",
    "        else:\n",
    "            eps = 1.0/np.sqrt(n+1)\n",
    "        totalreward = play_one(env, model, eps)\n",
    "        totalrewards[n] = totalreward\n",
    "    print(\"avg reward for last 500 episodes:\", totalrewards[-500:].mean())\n",
    "    last500rewards[epoch] = totalrewards[-500:].mean()\n",
    "    \n",
    "print('last500rewards avg: ', last500rewards.mean())"
   ]
  },
  {
   "cell_type": "markdown",
   "metadata": {},
   "source": [
    "# Sequence length 3: Play 5K episodes 25 times and average last 500 mean scores"
   ]
  },
  {
   "cell_type": "code",
   "execution_count": 5,
   "metadata": {
    "ExecuteTime": {
     "end_time": "2019-05-07T22:53:30.254738Z",
     "start_time": "2019-05-07T22:52:54.498996Z"
    }
   },
   "outputs": [
    {
     "name": "stdout",
     "output_type": "stream",
     "text": [
      "avg reward for last 500 episodes: 2.186\n",
      "avg reward for last 500 episodes: 2.076\n",
      "avg reward for last 500 episodes: 1.768\n",
      "avg reward for last 500 episodes: 3.512\n",
      "avg reward for last 500 episodes: 3.338\n",
      "avg reward for last 500 episodes: 2.568\n",
      "avg reward for last 500 episodes: 4.668\n",
      "avg reward for last 500 episodes: 4.86\n",
      "avg reward for last 500 episodes: 3.57\n",
      "avg reward for last 500 episodes: 3.696\n",
      "avg reward for last 500 episodes: 3.858\n",
      "avg reward for last 500 episodes: 3.49\n",
      "avg reward for last 500 episodes: 3.026\n",
      "avg reward for last 500 episodes: 3.654\n",
      "avg reward for last 500 episodes: 3.048\n",
      "avg reward for last 500 episodes: 4.616\n",
      "avg reward for last 500 episodes: 4.008\n",
      "avg reward for last 500 episodes: 2.96\n",
      "avg reward for last 500 episodes: 4.168\n",
      "avg reward for last 500 episodes: 3.732\n",
      "avg reward for last 500 episodes: 3.364\n",
      "avg reward for last 500 episodes: 4.886\n",
      "avg reward for last 500 episodes: 4.682\n",
      "avg reward for last 500 episodes: 3.968\n",
      "avg reward for last 500 episodes: 2.88\n",
      "last500rewards avg:  3.5432799999999998\n"
     ]
    }
   ],
   "source": [
    "last500rewards = np.zeros(25)\n",
    "\n",
    "for epoch in range(25):\n",
    "    # Reset environment\n",
    "    env = gym.make('Tiger-v0')\n",
    "    env.__init__(reward_tiger=-100, reward_gold=10, reward_listen=-1)\n",
    "    model = QLearnerSeq(env, alpha=.01, gamma=1, seq_len=3)\n",
    "    eps = 1\n",
    "    n = 0\n",
    "    ot = env.reset()\n",
    "\n",
    "    # Play episodes\n",
    "    N = 5000\n",
    "    totalrewards = np.empty(N)\n",
    "    for n in range(N):\n",
    "        # For performance measure, don't want to explore.\n",
    "        if n >= N - 500:\n",
    "            eps = 0\n",
    "        else:\n",
    "            eps = 1.0/np.sqrt(n+1)\n",
    "        totalreward = play_one(env, model, eps)\n",
    "        totalrewards[n] = totalreward\n",
    "    print(\"avg reward for last 500 episodes:\", totalrewards[-500:].mean())\n",
    "    last500rewards[epoch] = totalrewards[-500:].mean()\n",
    "    \n",
    "print('last500rewards avg: ', last500rewards.mean())"
   ]
  },
  {
   "cell_type": "markdown",
   "metadata": {},
   "source": [
    "# Sequence length 4: Play 5K episodes 25 times and average last 500 mean scores"
   ]
  },
  {
   "cell_type": "code",
   "execution_count": 6,
   "metadata": {
    "ExecuteTime": {
     "end_time": "2019-05-07T22:54:11.215464Z",
     "start_time": "2019-05-07T22:53:31.070174Z"
    }
   },
   "outputs": [
    {
     "name": "stdout",
     "output_type": "stream",
     "text": [
      "avg reward for last 500 episodes: 1.716\n",
      "avg reward for last 500 episodes: 4.102\n",
      "avg reward for last 500 episodes: 1.954\n",
      "avg reward for last 500 episodes: 2.35\n",
      "avg reward for last 500 episodes: 3.19\n",
      "avg reward for last 500 episodes: 2.566\n",
      "avg reward for last 500 episodes: 4.076\n",
      "avg reward for last 500 episodes: 2.91\n",
      "avg reward for last 500 episodes: 1.426\n",
      "avg reward for last 500 episodes: 2.65\n",
      "avg reward for last 500 episodes: 2.704\n",
      "avg reward for last 500 episodes: 2.768\n",
      "avg reward for last 500 episodes: 2.846\n",
      "avg reward for last 500 episodes: 1.732\n",
      "avg reward for last 500 episodes: 3.132\n",
      "avg reward for last 500 episodes: 3.428\n",
      "avg reward for last 500 episodes: 3.334\n",
      "avg reward for last 500 episodes: 1.172\n",
      "avg reward for last 500 episodes: 2.866\n",
      "avg reward for last 500 episodes: 3.056\n",
      "avg reward for last 500 episodes: 2.072\n",
      "avg reward for last 500 episodes: 4.054\n",
      "avg reward for last 500 episodes: 3.304\n",
      "avg reward for last 500 episodes: 2.764\n",
      "avg reward for last 500 episodes: 4.518\n",
      "last500rewards avg:  2.8276\n"
     ]
    }
   ],
   "source": [
    "last500rewards = np.zeros(25)\n",
    "\n",
    "for epoch in range(25):\n",
    "    # Reset environment\n",
    "    env = gym.make('Tiger-v0')\n",
    "    env.__init__(reward_tiger=-100, reward_gold=10, reward_listen=-1)\n",
    "    model = QLearnerSeq(env, alpha=.01, gamma=1, seq_len=4)\n",
    "    eps = 1\n",
    "    n = 0\n",
    "    ot = env.reset()\n",
    "\n",
    "    # Play episodes\n",
    "    N = 5000\n",
    "    totalrewards = np.empty(N)\n",
    "    for n in range(N):\n",
    "        # For performance measure, don't want to explore.\n",
    "        if n >= N - 500:\n",
    "            eps = 0\n",
    "        else:\n",
    "            eps = 1.0/np.sqrt(n+1)\n",
    "        totalreward = play_one(env, model, eps)\n",
    "        totalrewards[n] = totalreward\n",
    "    print(\"avg reward for last 500 episodes:\", totalrewards[-500:].mean())\n",
    "    last500rewards[epoch] = totalrewards[-500:].mean()\n",
    "    \n",
    "print('last500rewards avg: ', last500rewards.mean())"
   ]
  },
  {
   "cell_type": "markdown",
   "metadata": {},
   "source": [
    "# Sequence length 5: Play 5K episodes 25 times and average last 500 mean scores"
   ]
  },
  {
   "cell_type": "code",
   "execution_count": 7,
   "metadata": {
    "ExecuteTime": {
     "end_time": "2019-05-07T22:57:16.070810Z",
     "start_time": "2019-05-07T22:56:33.537168Z"
    }
   },
   "outputs": [
    {
     "name": "stdout",
     "output_type": "stream",
     "text": [
      "avg reward for last 500 episodes: 1.994\n",
      "avg reward for last 500 episodes: 2.04\n",
      "avg reward for last 500 episodes: 4.226\n",
      "avg reward for last 500 episodes: 4.896\n",
      "avg reward for last 500 episodes: 2.622\n",
      "avg reward for last 500 episodes: 2.24\n",
      "avg reward for last 500 episodes: 2.442\n",
      "avg reward for last 500 episodes: 3.49\n",
      "avg reward for last 500 episodes: 3.034\n",
      "avg reward for last 500 episodes: 1.704\n",
      "avg reward for last 500 episodes: 2.956\n",
      "avg reward for last 500 episodes: 1.292\n",
      "avg reward for last 500 episodes: 3.158\n",
      "avg reward for last 500 episodes: 1.458\n",
      "avg reward for last 500 episodes: 1.068\n",
      "avg reward for last 500 episodes: 2.138\n",
      "avg reward for last 500 episodes: 4.656\n",
      "avg reward for last 500 episodes: 0.87\n",
      "avg reward for last 500 episodes: 3.528\n",
      "avg reward for last 500 episodes: 3.692\n",
      "avg reward for last 500 episodes: 1.554\n",
      "avg reward for last 500 episodes: 2.7\n",
      "avg reward for last 500 episodes: 2.098\n",
      "avg reward for last 500 episodes: 0.484\n",
      "avg reward for last 500 episodes: 2.208\n",
      "last500rewards avg:  2.5019199999999997\n"
     ]
    }
   ],
   "source": [
    "last500rewards = np.zeros(25)\n",
    "\n",
    "for epoch in range(25):\n",
    "    # Reset environment\n",
    "    env = gym.make('Tiger-v0')\n",
    "    env.__init__(reward_tiger=-100, reward_gold=10, reward_listen=-1)\n",
    "    model = QLearnerSeq(env, alpha=.01, gamma=1, seq_len=5)\n",
    "    eps = 1\n",
    "    n = 0\n",
    "    ot = env.reset()\n",
    "\n",
    "    # Play episodes\n",
    "    N = 5000\n",
    "    totalrewards = np.empty(N)\n",
    "    for n in range(N):\n",
    "        # For performance measure, don't want to explore.\n",
    "        if n >= N - 500:\n",
    "            eps = 0\n",
    "        else:\n",
    "            eps = 1.0/np.sqrt(n+1)\n",
    "        totalreward = play_one(env, model, eps)\n",
    "        totalrewards[n] = totalreward\n",
    "    print(\"avg reward for last 500 episodes:\", totalrewards[-500:].mean())\n",
    "    last500rewards[epoch] = totalrewards[-500:].mean()\n",
    "    \n",
    "print('last500rewards avg: ', last500rewards.mean())"
   ]
  },
  {
   "cell_type": "markdown",
   "metadata": {
    "ExecuteTime": {
     "end_time": "2019-05-07T22:57:50.005401Z",
     "start_time": "2019-05-07T22:57:50.002950Z"
    }
   },
   "source": [
    "# Sequence length 6: Play 5K episodes 25 times and average last 500 mean scores"
   ]
  },
  {
   "cell_type": "code",
   "execution_count": 10,
   "metadata": {
    "ExecuteTime": {
     "end_time": "2019-05-07T22:58:53.181597Z",
     "start_time": "2019-05-07T22:58:09.635253Z"
    }
   },
   "outputs": [
    {
     "name": "stdout",
     "output_type": "stream",
     "text": [
      "avg reward for last 500 episodes: -1.708\n",
      "avg reward for last 500 episodes: -1.9\n",
      "avg reward for last 500 episodes: -1.31\n",
      "avg reward for last 500 episodes: -3.308\n",
      "avg reward for last 500 episodes: -4.764\n",
      "avg reward for last 500 episodes: -1.906\n",
      "avg reward for last 500 episodes: -0.574\n",
      "avg reward for last 500 episodes: -4.876\n",
      "avg reward for last 500 episodes: -1.45\n",
      "avg reward for last 500 episodes: -5.822\n",
      "avg reward for last 500 episodes: -0.378\n",
      "avg reward for last 500 episodes: -2.07\n",
      "avg reward for last 500 episodes: -4.338\n",
      "avg reward for last 500 episodes: -1.96\n",
      "avg reward for last 500 episodes: 0.51\n",
      "avg reward for last 500 episodes: -2.91\n",
      "avg reward for last 500 episodes: -3.008\n",
      "avg reward for last 500 episodes: 0.116\n",
      "avg reward for last 500 episodes: -5.164\n",
      "avg reward for last 500 episodes: -3.776\n",
      "avg reward for last 500 episodes: -1.734\n",
      "avg reward for last 500 episodes: -2.912\n",
      "avg reward for last 500 episodes: -3.518\n",
      "avg reward for last 500 episodes: -0.432\n",
      "avg reward for last 500 episodes: -2.31\n",
      "last500rewards avg:  -2.46008\n"
     ]
    }
   ],
   "source": [
    "last500rewards = np.zeros(25)\n",
    "\n",
    "for epoch in range(25):\n",
    "    # Reset environment\n",
    "    env = gym.make('Tiger-v0')\n",
    "    env.__init__(reward_tiger=-100, reward_gold=10, reward_listen=-1)\n",
    "    model = QLearnerSeq(env, alpha=.01, gamma=1, seq_len=6)\n",
    "    eps = 1\n",
    "    n = 0\n",
    "    ot = env.reset()\n",
    "\n",
    "    # Play episodes\n",
    "    N = 5000\n",
    "    totalrewards = np.empty(N)\n",
    "    for n in range(N):\n",
    "        # For performance measure, don't want to explore.\n",
    "        if n >= N - 500:\n",
    "            eps = 0\n",
    "        else:\n",
    "            eps = 1.0/np.sqrt(n+1)\n",
    "        totalreward = play_one(env, model, eps)\n",
    "        totalrewards[n] = totalreward\n",
    "    print(\"avg reward for last 500 episodes:\", totalrewards[-500:].mean())\n",
    "    last500rewards[epoch] = totalrewards[-500:].mean()\n",
    "    \n",
    "print('last500rewards avg: ', last500rewards.mean())"
   ]
  },
  {
   "cell_type": "code",
   "execution_count": null,
   "metadata": {},
   "outputs": [],
   "source": []
  }
 ],
 "metadata": {
  "kernelspec": {
   "display_name": "conda (rlpomdp)",
   "language": "python",
   "name": "rlpomdp"
  },
  "language_info": {
   "codemirror_mode": {
    "name": "ipython",
    "version": 3
   },
   "file_extension": ".py",
   "mimetype": "text/x-python",
   "name": "python",
   "nbconvert_exporter": "python",
   "pygments_lexer": "ipython3",
   "version": "3.6.8"
  },
  "toc": {
   "base_numbering": 1,
   "nav_menu": {},
   "number_sections": true,
   "sideBar": true,
   "skip_h1_title": false,
   "title_cell": "Table of Contents",
   "title_sidebar": "Contents",
   "toc_cell": false,
   "toc_position": {},
   "toc_section_display": true,
   "toc_window_display": false
  },
  "varInspector": {
   "cols": {
    "lenName": 16,
    "lenType": 16,
    "lenVar": 40
   },
   "kernels_config": {
    "python": {
     "delete_cmd_postfix": "",
     "delete_cmd_prefix": "del ",
     "library": "var_list.py",
     "varRefreshCmd": "print(var_dic_list())"
    },
    "r": {
     "delete_cmd_postfix": ") ",
     "delete_cmd_prefix": "rm(",
     "library": "var_list.r",
     "varRefreshCmd": "cat(var_dic_list()) "
    }
   },
   "position": {
    "height": "145px",
    "left": "1318.6666259765625px",
    "right": "17px",
    "top": "120px",
    "width": "351px"
   },
   "types_to_exclude": [
    "module",
    "function",
    "builtin_function_or_method",
    "instance",
    "_Feature"
   ],
   "window_display": true
  }
 },
 "nbformat": 4,
 "nbformat_minor": 2
}
