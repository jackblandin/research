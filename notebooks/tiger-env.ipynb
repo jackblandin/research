{
 "cells": [
  {
   "cell_type": "markdown",
   "metadata": {},
   "source": [
    "# Setup"
   ]
  },
  {
   "cell_type": "code",
   "execution_count": 1,
   "metadata": {
    "ExecuteTime": {
     "end_time": "2019-05-02T18:03:51.384841Z",
     "start_time": "2019-05-02T18:03:51.378524Z"
    }
   },
   "outputs": [],
   "source": [
    "\"\"\"\n",
    "Add parent directory to current path\n",
    "\"\"\"\n",
    "import os.path\n",
    "import sys\n",
    "p = os.path.abspath('..')\n",
    "if p not in sys.path:\n",
    "    sys.path.insert(0,p)\n",
    "    \n",
    "\"\"\"\n",
    "Add tiger-env directory to current path\n",
    "Still not sure why this is needed.\n",
    "\"\"\"\n",
    "p = os.path.abspath('../../custom_envs/gym-tiger')\n",
    "if p not in sys.path:\n",
    "    sys.path.insert(0, p)"
   ]
  },
  {
   "cell_type": "markdown",
   "metadata": {},
   "source": [
    "# Simulate"
   ]
  },
  {
   "cell_type": "code",
   "execution_count": 2,
   "metadata": {
    "ExecuteTime": {
     "end_time": "2019-05-02T18:03:56.869708Z",
     "start_time": "2019-05-02T18:03:56.750330Z"
    }
   },
   "outputs": [],
   "source": [
    "import gym\n",
    "import gym_tiger"
   ]
  },
  {
   "cell_type": "code",
   "execution_count": 3,
   "metadata": {
    "ExecuteTime": {
     "end_time": "2019-05-02T18:03:59.991777Z",
     "start_time": "2019-05-02T18:03:59.979801Z"
    }
   },
   "outputs": [
    {
     "name": "stderr",
     "output_type": "stream",
     "text": [
      "/Users/jblandin/miniconda3/envs/rlpomdp/lib/python3.6/site-packages/gym/envs/registration.py:14: PkgResourcesDeprecationWarning: Parameters to load are deprecated.  Call .resolve and .require separately.\n",
      "  result = entry_point.load(False)\n"
     ]
    }
   ],
   "source": [
    "env = gym.make('Tiger-v0')"
   ]
  },
  {
   "cell_type": "code",
   "execution_count": 4,
   "metadata": {
    "ExecuteTime": {
     "end_time": "2019-05-02T18:04:01.262967Z",
     "start_time": "2019-05-02T18:04:01.250253Z"
    }
   },
   "outputs": [
    {
     "name": "stdout",
     "output_type": "stream",
     "text": [
      "GROWL_LEFT -1 False\n",
      "GROWL_LEFT -1 False\n",
      "GROWL_RIGHT -1 False\n",
      "GROWL_LEFT -1 False\n",
      "GROWL_RIGHT -1 False\n",
      "GROWL_LEFT -1 False\n",
      "GROWL_RIGHT -1 False\n",
      "GROWL_LEFT -1 False\n",
      "GROWL_LEFT -1 False\n",
      "GROWL_LEFT -1 False\n",
      "GROWL_LEFT -1 False\n",
      "GROWL_LEFT -1 False\n",
      "GROWL_LEFT -1 False\n",
      "GROWL_RIGHT -1 False\n",
      "GROWL_LEFT -1 False\n",
      "GROWL_LEFT -1 False\n",
      "GROWL_LEFT -1 False\n",
      "GROWL_LEFT -1 False\n",
      "GROWL_LEFT -1 False\n",
      "GROWL_LEFT -1 False\n",
      "GROWL_LEFT -1 False\n",
      "GROWL_RIGHT -1 False\n",
      "GROWL_LEFT -1 False\n",
      "GROWL_LEFT -1 False\n",
      "GROWL_LEFT -1 False\n"
     ]
    }
   ],
   "source": [
    "for i in range(25):\n",
    "    obs, rew, done, info = env.step(0)\n",
    "    obs = env.translate_obs(obs)\n",
    "    print(obs, rew, done)"
   ]
  },
  {
   "cell_type": "code",
   "execution_count": 5,
   "metadata": {
    "ExecuteTime": {
     "end_time": "2019-05-02T18:04:04.836737Z",
     "start_time": "2019-05-02T18:04:04.827716Z"
    }
   },
   "outputs": [
    {
     "data": {
      "text/plain": [
       "([-1, -1], 10, True, {})"
      ]
     },
     "execution_count": 5,
     "metadata": {},
     "output_type": "execute_result"
    }
   ],
   "source": [
    "env.step(2)"
   ]
  },
  {
   "cell_type": "code",
   "execution_count": null,
   "metadata": {},
   "outputs": [],
   "source": []
  }
 ],
 "metadata": {
  "kernelspec": {
   "display_name": "conda (rlpomdp)",
   "language": "python",
   "name": "rlpomdp"
  },
  "language_info": {
   "codemirror_mode": {
    "name": "ipython",
    "version": 3
   },
   "file_extension": ".py",
   "mimetype": "text/x-python",
   "name": "python",
   "nbconvert_exporter": "python",
   "pygments_lexer": "ipython3",
   "version": "3.6.8"
  },
  "toc": {
   "base_numbering": 1,
   "nav_menu": {},
   "number_sections": true,
   "sideBar": true,
   "skip_h1_title": false,
   "title_cell": "Table of Contents",
   "title_sidebar": "Contents",
   "toc_cell": false,
   "toc_position": {},
   "toc_section_display": true,
   "toc_window_display": false
  },
  "varInspector": {
   "cols": {
    "lenName": 16,
    "lenType": 16,
    "lenVar": 40
   },
   "kernels_config": {
    "python": {
     "delete_cmd_postfix": "",
     "delete_cmd_prefix": "del ",
     "library": "var_list.py",
     "varRefreshCmd": "print(var_dic_list())"
    },
    "r": {
     "delete_cmd_postfix": ") ",
     "delete_cmd_prefix": "rm(",
     "library": "var_list.r",
     "varRefreshCmd": "cat(var_dic_list()) "
    }
   },
   "position": {
    "height": "145px",
    "left": "1318.6666259765625px",
    "right": "17px",
    "top": "120px",
    "width": "351px"
   },
   "types_to_exclude": [
    "module",
    "function",
    "builtin_function_or_method",
    "instance",
    "_Feature"
   ],
   "window_display": true
  }
 },
 "nbformat": 4,
 "nbformat_minor": 2
}
