{
 "cells": [
  {
   "cell_type": "markdown",
   "metadata": {
    "heading_collapsed": true
   },
   "source": [
    "# Documentation"
   ]
  },
  {
   "cell_type": "code",
   "execution_count": 1,
   "metadata": {
    "ExecuteTime": {
     "end_time": "2019-06-12T17:32:27.279392Z",
     "start_time": "2019-06-12T17:32:27.270545Z"
    },
    "hidden": true
   },
   "outputs": [
    {
     "data": {
      "text/html": [
       "<style>\n",
       "    .MathJax_Display { font-size: 23px; }\n",
       "</style>"
      ],
      "text/plain": [
       "<IPython.core.display.HTML object>"
      ]
     },
     "execution_count": 1,
     "metadata": {},
     "output_type": "execute_result"
    }
   ],
   "source": [
    "from IPython.core.display import HTML\n",
    "HTML(\"\"\"<style>\n",
    "    .MathJax_Display { font-size: 23px; }\n",
    "</style>\"\"\")"
   ]
  },
  {
   "cell_type": "markdown",
   "metadata": {
    "ExecuteTime": {
     "start_time": "2019-05-25T19:41:03.246Z"
    },
    "hidden": true
   },
   "source": [
    "$$\n",
    "\\theta = \\theta + \\alpha (r + \\gamma max_{a'} Q(s',a') - Q(s,a)) \\nabla_{\\theta} Q(s,a)\n",
    "$$"
   ]
  },
  {
   "cell_type": "markdown",
   "metadata": {},
   "source": [
    "# Setup"
   ]
  },
  {
   "cell_type": "code",
   "execution_count": 2,
   "metadata": {
    "ExecuteTime": {
     "end_time": "2019-05-31T20:17:13.832377Z",
     "start_time": "2019-05-31T20:17:10.979555Z"
    }
   },
   "outputs": [],
   "source": [
    "\"\"\"\n",
    "Add parent directorys to current path\n",
    "\"\"\"\n",
    "import os.path\n",
    "import sys\n",
    "p = os.path.abspath('..')\n",
    "if p not in sys.path:\n",
    "    sys.path.insert(0,p)\n",
    "p = os.path.abspath('../..')\n",
    "if p not in sys.path:\n",
    "    sys.path.insert(0,p)\n",
    "    \n",
    "    \n",
    "\"\"\"\n",
    "Add tiger-env directory to current path\n",
    "Still not sure why this is needed.\n",
    "\"\"\"\n",
    "p = os.path.abspath('../../../custom_envs/gym-tiger')\n",
    "if p not in sys.path:\n",
    "    sys.path.insert(0, p)\n",
    "    \n",
    "\n",
    "\"\"\"\n",
    "Enable hot-reloading\n",
    "\"\"\"    \n",
    "from notebook_utils import import_module_by_name, reload_module_by_name\n",
    "\n",
    "def reload():\n",
    "    reload_module_by_name('experiments.seq_dqn.model', 'SeqDQN')\n",
    "    global SeqDQN\n",
    "    from experiments.seq_dqn.model import SeqDQN\n",
    "    \n",
    "    \n",
    "import gym\n",
    "import gym_tiger\n",
    "import matplotlib.pyplot as plt\n",
    "from experiments.seq_dqn.model import SeqDQN, play_one, main, running_avg, plot_running_avg\n",
    "from tabulate import tabulate\n",
    "\n",
    "\n",
    "OBS_GROWL_LEFT = [1, 0, 0, 0]\n",
    "OBS_GROWL_RIGHT = [0, 1, 0, 0]\n",
    "OBS_START = [0, 0, 1, 0]\n",
    "OBS_END = [0, 0, 0, 1]\n",
    "\n",
    "ACTION_OPEN_LEFT = 0\n",
    "ACTION_OPEN_RIGHT = 1\n",
    "ACTION_LISTEN = 2\n",
    "ACTION_MAP = {\n",
    "    ACTION_OPEN_LEFT: 'OPEN_LEFT',\n",
    "    ACTION_OPEN_RIGHT: 'OPEN_RIGHT',\n",
    "    ACTION_LISTEN: 'LISTEN',\n",
    "}"
   ]
  },
  {
   "cell_type": "markdown",
   "metadata": {},
   "source": [
    "# Play 1000 Episodes with observation sequence length 2"
   ]
  },
  {
   "cell_type": "code",
   "execution_count": 4,
   "metadata": {
    "ExecuteTime": {
     "end_time": "2019-05-31T20:18:22.894489Z",
     "start_time": "2019-05-31T20:17:54.793338Z"
    },
    "scrolled": false
   },
   "outputs": [
    {
     "name": "stderr",
     "output_type": "stream",
     "text": [
      "/Users/jblandin/miniconda3/envs/rlpomdp/lib/python3.6/site-packages/tensorflow/python/client/session.py:1702: UserWarning: An interactive session is already active. This can cause out-of-memory errors in some cases. You must explicitly call `InteractiveSession.close()` to release resources held by the other session(s).\n",
      "  warnings.warn('An interactive session is already active. This can '\n"
     ]
    },
    {
     "name": "stdout",
     "output_type": "stream",
     "text": [
      "too few experiences 1\n",
      "too few experiences 2\n",
      "too few experiences 3\n",
      "too few experiences 4\n",
      "episode: 0 total reward: -3258 eps: 1.0 avg reward (last 100): -3258.0\n",
      "obs1         obs2         OPEN LEFT Q Value      OPEN RIGHT Q Value    LISTEN Q Value\n",
      "-----------  -----------  -------------------  --------------------  ----------------\n",
      "START        START        [-0.027944671]                 -0.0452379        -0.0543968\n",
      "START        GROWL_LEFT   [-0.027944671]                 -0.0452379        -0.0543968\n",
      "START        GROWL_RIGHT  [-0.027944671]                 -0.0452379        -0.0543968\n",
      "GROWL_LEFT   START        [-0.027944671]                 -0.0452379        -0.0543968\n",
      "GROWL_LEFT   GROWL_LEFT   [-0.027944671]                 -0.0452379        -0.0543968\n",
      "GROWL_LEFT   GROWL_RIGHT  [-0.027944671]                 -0.0452379        -0.0543968\n",
      "GROWL_RIGHT  START        [-0.027944671]                 -0.0452379        -0.0543968\n",
      "GROWL_RIGHT  GROWL_LEFT   [-0.027944671]                 -0.0452379        -0.0543968\n",
      "GROWL_RIGHT  GROWL_RIGHT  [-0.027944671]                 -0.0452379        -0.0543968\n"
     ]
    },
    {
     "data": {
      "text/plain": [
       "[('GROWL_RIGHT, GROWL_RIGHT', 35),\n",
       " ('GROWL_LEFT, GROWL_LEFT', 21),\n",
       " ('GROWL_RIGHT, GROWL_LEFT', 20),\n",
       " ('GROWL_LEFT, GROWL_RIGHT', 18),\n",
       " ('START, GROWL_LEFT', 3)]"
      ]
     },
     "metadata": {},
     "output_type": "display_data"
    },
    {
     "data": {
      "text/plain": [
       "[('GROWL_RIGHT, GROWL_RIGHT => LISTEN', 14),\n",
       " ('GROWL_LEFT, GROWL_RIGHT => OPEN_RIGHT', 13),\n",
       " ('GROWL_RIGHT, GROWL_RIGHT => OPEN_RIGHT', 11),\n",
       " ('GROWL_RIGHT, GROWL_RIGHT => OPEN_LEFT', 10),\n",
       " ('GROWL_RIGHT, GROWL_LEFT => OPEN_LEFT', 10),\n",
       " ('GROWL_LEFT, GROWL_LEFT => LISTEN', 8),\n",
       " ('GROWL_LEFT, GROWL_LEFT => OPEN_RIGHT', 8),\n",
       " ('GROWL_RIGHT, GROWL_LEFT => OPEN_RIGHT', 7),\n",
       " ('GROWL_LEFT, GROWL_LEFT => OPEN_LEFT', 5),\n",
       " ('GROWL_LEFT, GROWL_RIGHT => LISTEN', 4),\n",
       " ('START, GROWL_LEFT => OPEN_LEFT', 3),\n",
       " ('GROWL_RIGHT, GROWL_LEFT => LISTEN', 3),\n",
       " ('GROWL_LEFT, GROWL_RIGHT => OPEN_LEFT', 1)]"
      ]
     },
     "metadata": {},
     "output_type": "display_data"
    },
    {
     "name": "stdout",
     "output_type": "stream",
     "text": [
      "episode: 10 total reward: -4358 eps: 0.6190439206838455 avg reward (last 100): -3253.0\n",
      "obs1         obs2           OPEN LEFT Q Value  OPEN RIGHT Q Value      LISTEN Q Value\n",
      "-----------  -----------  -------------------  --------------------  ----------------\n",
      "START        START                  -0.387337  [-0.36369005]                -0.558058\n",
      "START        GROWL_LEFT             -0.387337  [-0.36369005]                -0.558058\n",
      "START        GROWL_RIGHT            -0.387337  [-0.36369005]                -0.558058\n",
      "GROWL_LEFT   START                  -0.387337  [-0.36369005]                -0.558058\n",
      "GROWL_LEFT   GROWL_LEFT             -0.387337  [-0.36369005]                -0.558058\n",
      "GROWL_LEFT   GROWL_RIGHT            -0.387337  [-0.36369005]                -0.558058\n",
      "GROWL_RIGHT  START                  -0.387337  [-0.36369005]                -0.558058\n",
      "GROWL_RIGHT  GROWL_LEFT             -0.387337  [-0.36369005]                -0.558058\n",
      "GROWL_RIGHT  GROWL_LEFT             -0.387337  [-0.36369005]                -0.558058\n"
     ]
    },
    {
     "data": {
      "text/plain": [
       "[('GROWL_RIGHT, GROWL_RIGHT', 302),\n",
       " ('GROWL_LEFT, GROWL_LEFT', 296),\n",
       " ('GROWL_RIGHT, GROWL_LEFT', 249),\n",
       " ('GROWL_LEFT, GROWL_RIGHT', 231),\n",
       " ('START, GROWL_LEFT', 12),\n",
       " ('GROWL_RIGHT, START', 10),\n",
       " ('START, GROWL_RIGHT', 5),\n",
       " ('GROWL_LEFT, START', 2)]"
      ]
     },
     "metadata": {},
     "output_type": "display_data"
    },
    {
     "data": {
      "text/plain": [
       "[('GROWL_RIGHT, GROWL_LEFT => OPEN_LEFT', 122),\n",
       " ('GROWL_RIGHT, GROWL_RIGHT => OPEN_LEFT', 114),\n",
       " ('GROWL_LEFT, GROWL_LEFT => OPEN_LEFT', 110),\n",
       " ('GROWL_RIGHT, GROWL_RIGHT => LISTEN', 95),\n",
       " ('GROWL_LEFT, GROWL_LEFT => LISTEN', 94),\n",
       " ('GROWL_RIGHT, GROWL_RIGHT => OPEN_RIGHT', 93),\n",
       " ('GROWL_LEFT, GROWL_LEFT => OPEN_RIGHT', 92),\n",
       " ('GROWL_LEFT, GROWL_RIGHT => OPEN_RIGHT', 84),\n",
       " ('GROWL_LEFT, GROWL_RIGHT => LISTEN', 77),\n",
       " ('GROWL_RIGHT, GROWL_LEFT => OPEN_RIGHT', 72),\n",
       " ('GROWL_LEFT, GROWL_RIGHT => OPEN_LEFT', 70),\n",
       " ('GROWL_RIGHT, GROWL_LEFT => LISTEN', 55),\n",
       " ('START, GROWL_LEFT => OPEN_LEFT', 6),\n",
       " ('GROWL_RIGHT, START => LISTEN', 4),\n",
       " ('GROWL_RIGHT, START => OPEN_LEFT', 4),\n",
       " ('START, GROWL_LEFT => OPEN_RIGHT', 4),\n",
       " ('START, GROWL_RIGHT => OPEN_LEFT', 3),\n",
       " ('GROWL_RIGHT, START => OPEN_RIGHT', 2),\n",
       " ('START, GROWL_LEFT => LISTEN', 2),\n",
       " ('START, GROWL_RIGHT => LISTEN', 1),\n",
       " ('START, GROWL_RIGHT => OPEN_RIGHT', 1),\n",
       " ('GROWL_LEFT, START => LISTEN', 1),\n",
       " ('GROWL_LEFT, START => OPEN_RIGHT', 1)]"
      ]
     },
     "metadata": {},
     "output_type": "display_data"
    },
    {
     "name": "stdout",
     "output_type": "stream",
     "text": [
      "episode: 20 total reward: -3269 eps: 0.5439464428888785 avg reward (last 100): -3453.904761904762\n",
      "obs1         obs2           OPEN LEFT Q Value  OPEN RIGHT Q Value      LISTEN Q Value\n",
      "-----------  -----------  -------------------  --------------------  ----------------\n",
      "START        START                  -0.817949  [-0.7885885]                 -0.929918\n",
      "START        GROWL_LEFT             -0.817949  [-0.7885885]                 -0.929918\n",
      "START        GROWL_RIGHT            -0.817949  [-0.7885885]                 -0.929918\n",
      "GROWL_LEFT   START                  -0.817949  [-0.7885885]                 -0.929918\n",
      "GROWL_LEFT   GROWL_LEFT             -0.817949  [-0.7885885]                 -0.929918\n",
      "GROWL_LEFT   GROWL_RIGHT            -0.817949  [-0.7885885]                 -0.929918\n",
      "GROWL_RIGHT  START                  -0.817949  [-0.7885885]                 -0.929918\n",
      "GROWL_RIGHT  GROWL_LEFT             -0.817949  [-0.7885885]                 -0.929918\n",
      "GROWL_RIGHT  GROWL_LEFT             -0.817949  [-0.7885885]                 -0.929918\n"
     ]
    },
    {
     "data": {
      "text/plain": [
       "[('GROWL_LEFT, GROWL_LEFT', 557),\n",
       " ('GROWL_RIGHT, GROWL_RIGHT', 553),\n",
       " ('GROWL_RIGHT, GROWL_LEFT', 503),\n",
       " ('GROWL_LEFT, GROWL_RIGHT', 460),\n",
       " ('START, GROWL_LEFT', 17),\n",
       " ('GROWL_RIGHT, START', 14),\n",
       " ('START, GROWL_RIGHT', 7),\n",
       " ('GROWL_LEFT, START', 6)]"
      ]
     },
     "metadata": {},
     "output_type": "display_data"
    },
    {
     "data": {
      "text/plain": [
       "[('GROWL_RIGHT, GROWL_LEFT => OPEN_LEFT', 233),\n",
       " ('GROWL_RIGHT, GROWL_RIGHT => OPEN_LEFT', 212),\n",
       " ('GROWL_LEFT, GROWL_LEFT => OPEN_RIGHT', 211),\n",
       " ('GROWL_LEFT, GROWL_LEFT => OPEN_LEFT', 202),\n",
       " ('GROWL_RIGHT, GROWL_RIGHT => OPEN_RIGHT', 192),\n",
       " ('GROWL_LEFT, GROWL_RIGHT => OPEN_LEFT', 171),\n",
       " ('GROWL_RIGHT, GROWL_LEFT => OPEN_RIGHT', 168),\n",
       " ('GROWL_LEFT, GROWL_RIGHT => OPEN_RIGHT', 159),\n",
       " ('GROWL_RIGHT, GROWL_RIGHT => LISTEN', 149),\n",
       " ('GROWL_LEFT, GROWL_LEFT => LISTEN', 144),\n",
       " ('GROWL_LEFT, GROWL_RIGHT => LISTEN', 130),\n",
       " ('GROWL_RIGHT, GROWL_LEFT => LISTEN', 102),\n",
       " ('START, GROWL_LEFT => OPEN_RIGHT', 7),\n",
       " ('START, GROWL_LEFT => OPEN_LEFT', 6),\n",
       " ('GROWL_RIGHT, START => OPEN_LEFT', 6),\n",
       " ('GROWL_LEFT, START => OPEN_RIGHT', 5),\n",
       " ('GROWL_RIGHT, START => LISTEN', 4),\n",
       " ('GROWL_RIGHT, START => OPEN_RIGHT', 4),\n",
       " ('START, GROWL_LEFT => LISTEN', 4),\n",
       " ('START, GROWL_RIGHT => OPEN_LEFT', 3),\n",
       " ('START, GROWL_RIGHT => LISTEN', 2),\n",
       " ('START, GROWL_RIGHT => OPEN_RIGHT', 2),\n",
       " ('GROWL_LEFT, START => LISTEN', 1)]"
      ]
     },
     "metadata": {},
     "output_type": "display_data"
    },
    {
     "ename": "KeyboardInterrupt",
     "evalue": "",
     "output_type": "error",
     "traceback": [
      "\u001b[0;31m---------------------------------------------------------------------------\u001b[0m",
      "\u001b[0;31mKeyboardInterrupt\u001b[0m                         Traceback (most recent call last)",
      "\u001b[0;32m<ipython-input-4-395bbc96914c>\u001b[0m in \u001b[0;36m<module>\u001b[0;34m\u001b[0m\n\u001b[1;32m     45\u001b[0m     \u001b[0meps\u001b[0m \u001b[0;34m=\u001b[0m \u001b[0;36m1\u001b[0m\u001b[0;34m/\u001b[0m\u001b[0;34m(\u001b[0m\u001b[0mn\u001b[0m\u001b[0;34m+\u001b[0m\u001b[0;36m1\u001b[0m\u001b[0;34m)\u001b[0m\u001b[0;34m**\u001b[0m\u001b[0;34m(\u001b[0m\u001b[0;36m1\u001b[0m\u001b[0;34m/\u001b[0m\u001b[0;36m5\u001b[0m\u001b[0;34m)\u001b[0m\u001b[0;34m\u001b[0m\u001b[0;34m\u001b[0m\u001b[0m\n\u001b[1;32m     46\u001b[0m     totalreward = play_one(env, model, tmodel, eps, gamma,\n\u001b[0;32m---> 47\u001b[0;31m                            copy_period)\n\u001b[0m\u001b[1;32m     48\u001b[0m     \u001b[0mtotalrewards\u001b[0m\u001b[0;34m[\u001b[0m\u001b[0mn\u001b[0m\u001b[0;34m]\u001b[0m \u001b[0;34m=\u001b[0m \u001b[0mtotalreward\u001b[0m\u001b[0;34m\u001b[0m\u001b[0;34m\u001b[0m\u001b[0m\n\u001b[1;32m     49\u001b[0m     \u001b[0;32mif\u001b[0m \u001b[0mn\u001b[0m \u001b[0;34m%\u001b[0m \u001b[0;36m10\u001b[0m \u001b[0;34m==\u001b[0m \u001b[0;36m0\u001b[0m\u001b[0;34m:\u001b[0m\u001b[0;34m\u001b[0m\u001b[0;34m\u001b[0m\u001b[0m\n",
      "\u001b[0;32m~/my/research/openai/rlpomdp/experiments/seq_dqn/model.py\u001b[0m in \u001b[0;36mplay_one\u001b[0;34m(env, model, tmodel, eps, gamma, copy_period)\u001b[0m\n\u001b[1;32m    581\u001b[0m         \u001b[0;31m##\u001b[0m\u001b[0;34m\u001b[0m\u001b[0;34m\u001b[0m\u001b[0;34m\u001b[0m\u001b[0m\n\u001b[1;32m    582\u001b[0m         \u001b[0;32mif\u001b[0m \u001b[0miters\u001b[0m \u001b[0;34m%\u001b[0m \u001b[0mcopy_period\u001b[0m \u001b[0;34m==\u001b[0m \u001b[0;36m0\u001b[0m\u001b[0;34m:\u001b[0m\u001b[0;34m\u001b[0m\u001b[0;34m\u001b[0m\u001b[0m\n\u001b[0;32m--> 583\u001b[0;31m             \u001b[0mtmodel\u001b[0m\u001b[0;34m.\u001b[0m\u001b[0mcopy_from\u001b[0m\u001b[0;34m(\u001b[0m\u001b[0mmodel\u001b[0m\u001b[0;34m)\u001b[0m\u001b[0;34m\u001b[0m\u001b[0;34m\u001b[0m\u001b[0m\n\u001b[0m\u001b[1;32m    584\u001b[0m \u001b[0;34m\u001b[0m\u001b[0m\n\u001b[1;32m    585\u001b[0m     \u001b[0;32mreturn\u001b[0m \u001b[0mtotalreward\u001b[0m\u001b[0;34m\u001b[0m\u001b[0;34m\u001b[0m\u001b[0m\n",
      "\u001b[0;32m~/my/research/openai/rlpomdp/experiments/seq_dqn/model.py\u001b[0m in \u001b[0;36mcopy_from\u001b[0;34m(self, other)\u001b[0m\n\u001b[1;32m    307\u001b[0m         \u001b[0;31m# Run all the operations\u001b[0m\u001b[0;34m\u001b[0m\u001b[0;34m\u001b[0m\u001b[0;34m\u001b[0m\u001b[0m\n\u001b[1;32m    308\u001b[0m         \u001b[0;31m##\u001b[0m\u001b[0;34m\u001b[0m\u001b[0;34m\u001b[0m\u001b[0;34m\u001b[0m\u001b[0m\n\u001b[0;32m--> 309\u001b[0;31m         \u001b[0mself\u001b[0m\u001b[0;34m.\u001b[0m\u001b[0msession\u001b[0m\u001b[0;34m.\u001b[0m\u001b[0mrun\u001b[0m\u001b[0;34m(\u001b[0m\u001b[0mops\u001b[0m\u001b[0;34m)\u001b[0m\u001b[0;34m\u001b[0m\u001b[0;34m\u001b[0m\u001b[0m\n\u001b[0m\u001b[1;32m    310\u001b[0m \u001b[0;34m\u001b[0m\u001b[0m\n\u001b[1;32m    311\u001b[0m     \u001b[0;32mdef\u001b[0m \u001b[0mpredict\u001b[0m\u001b[0;34m(\u001b[0m\u001b[0mself\u001b[0m\u001b[0;34m,\u001b[0m \u001b[0mo\u001b[0m\u001b[0;34m,\u001b[0m \u001b[0mupdate\u001b[0m\u001b[0;34m=\u001b[0m\u001b[0;32mFalse\u001b[0m\u001b[0;34m)\u001b[0m\u001b[0;34m:\u001b[0m\u001b[0;34m\u001b[0m\u001b[0;34m\u001b[0m\u001b[0m\n",
      "\u001b[0;32m~/miniconda3/envs/rlpomdp/lib/python3.6/site-packages/tensorflow/python/client/session.py\u001b[0m in \u001b[0;36mrun\u001b[0;34m(self, fetches, feed_dict, options, run_metadata)\u001b[0m\n\u001b[1;32m    927\u001b[0m     \u001b[0;32mtry\u001b[0m\u001b[0;34m:\u001b[0m\u001b[0;34m\u001b[0m\u001b[0;34m\u001b[0m\u001b[0m\n\u001b[1;32m    928\u001b[0m       result = self._run(None, fetches, feed_dict, options_ptr,\n\u001b[0;32m--> 929\u001b[0;31m                          run_metadata_ptr)\n\u001b[0m\u001b[1;32m    930\u001b[0m       \u001b[0;32mif\u001b[0m \u001b[0mrun_metadata\u001b[0m\u001b[0;34m:\u001b[0m\u001b[0;34m\u001b[0m\u001b[0;34m\u001b[0m\u001b[0m\n\u001b[1;32m    931\u001b[0m         \u001b[0mproto_data\u001b[0m \u001b[0;34m=\u001b[0m \u001b[0mtf_session\u001b[0m\u001b[0;34m.\u001b[0m\u001b[0mTF_GetBuffer\u001b[0m\u001b[0;34m(\u001b[0m\u001b[0mrun_metadata_ptr\u001b[0m\u001b[0;34m)\u001b[0m\u001b[0;34m\u001b[0m\u001b[0;34m\u001b[0m\u001b[0m\n",
      "\u001b[0;32m~/miniconda3/envs/rlpomdp/lib/python3.6/site-packages/tensorflow/python/client/session.py\u001b[0m in \u001b[0;36m_run\u001b[0;34m(self, handle, fetches, feed_dict, options, run_metadata)\u001b[0m\n\u001b[1;32m   1150\u001b[0m     \u001b[0;32mif\u001b[0m \u001b[0mfinal_fetches\u001b[0m \u001b[0;32mor\u001b[0m \u001b[0mfinal_targets\u001b[0m \u001b[0;32mor\u001b[0m \u001b[0;34m(\u001b[0m\u001b[0mhandle\u001b[0m \u001b[0;32mand\u001b[0m \u001b[0mfeed_dict_tensor\u001b[0m\u001b[0;34m)\u001b[0m\u001b[0;34m:\u001b[0m\u001b[0;34m\u001b[0m\u001b[0;34m\u001b[0m\u001b[0m\n\u001b[1;32m   1151\u001b[0m       results = self._do_run(handle, final_targets, final_fetches,\n\u001b[0;32m-> 1152\u001b[0;31m                              feed_dict_tensor, options, run_metadata)\n\u001b[0m\u001b[1;32m   1153\u001b[0m     \u001b[0;32melse\u001b[0m\u001b[0;34m:\u001b[0m\u001b[0;34m\u001b[0m\u001b[0;34m\u001b[0m\u001b[0m\n\u001b[1;32m   1154\u001b[0m       \u001b[0mresults\u001b[0m \u001b[0;34m=\u001b[0m \u001b[0;34m[\u001b[0m\u001b[0;34m]\u001b[0m\u001b[0;34m\u001b[0m\u001b[0;34m\u001b[0m\u001b[0m\n",
      "\u001b[0;32m~/miniconda3/envs/rlpomdp/lib/python3.6/site-packages/tensorflow/python/client/session.py\u001b[0m in \u001b[0;36m_do_run\u001b[0;34m(self, handle, target_list, fetch_list, feed_dict, options, run_metadata)\u001b[0m\n\u001b[1;32m   1326\u001b[0m     \u001b[0;32mif\u001b[0m \u001b[0mhandle\u001b[0m \u001b[0;32mis\u001b[0m \u001b[0;32mNone\u001b[0m\u001b[0;34m:\u001b[0m\u001b[0;34m\u001b[0m\u001b[0;34m\u001b[0m\u001b[0m\n\u001b[1;32m   1327\u001b[0m       return self._do_call(_run_fn, feeds, fetches, targets, options,\n\u001b[0;32m-> 1328\u001b[0;31m                            run_metadata)\n\u001b[0m\u001b[1;32m   1329\u001b[0m     \u001b[0;32melse\u001b[0m\u001b[0;34m:\u001b[0m\u001b[0;34m\u001b[0m\u001b[0;34m\u001b[0m\u001b[0m\n\u001b[1;32m   1330\u001b[0m       \u001b[0;32mreturn\u001b[0m \u001b[0mself\u001b[0m\u001b[0;34m.\u001b[0m\u001b[0m_do_call\u001b[0m\u001b[0;34m(\u001b[0m\u001b[0m_prun_fn\u001b[0m\u001b[0;34m,\u001b[0m \u001b[0mhandle\u001b[0m\u001b[0;34m,\u001b[0m \u001b[0mfeeds\u001b[0m\u001b[0;34m,\u001b[0m \u001b[0mfetches\u001b[0m\u001b[0;34m)\u001b[0m\u001b[0;34m\u001b[0m\u001b[0;34m\u001b[0m\u001b[0m\n",
      "\u001b[0;32m~/miniconda3/envs/rlpomdp/lib/python3.6/site-packages/tensorflow/python/client/session.py\u001b[0m in \u001b[0;36m_do_call\u001b[0;34m(self, fn, *args)\u001b[0m\n\u001b[1;32m   1332\u001b[0m   \u001b[0;32mdef\u001b[0m \u001b[0m_do_call\u001b[0m\u001b[0;34m(\u001b[0m\u001b[0mself\u001b[0m\u001b[0;34m,\u001b[0m \u001b[0mfn\u001b[0m\u001b[0;34m,\u001b[0m \u001b[0;34m*\u001b[0m\u001b[0margs\u001b[0m\u001b[0;34m)\u001b[0m\u001b[0;34m:\u001b[0m\u001b[0;34m\u001b[0m\u001b[0;34m\u001b[0m\u001b[0m\n\u001b[1;32m   1333\u001b[0m     \u001b[0;32mtry\u001b[0m\u001b[0;34m:\u001b[0m\u001b[0;34m\u001b[0m\u001b[0;34m\u001b[0m\u001b[0m\n\u001b[0;32m-> 1334\u001b[0;31m       \u001b[0;32mreturn\u001b[0m \u001b[0mfn\u001b[0m\u001b[0;34m(\u001b[0m\u001b[0;34m*\u001b[0m\u001b[0margs\u001b[0m\u001b[0;34m)\u001b[0m\u001b[0;34m\u001b[0m\u001b[0;34m\u001b[0m\u001b[0m\n\u001b[0m\u001b[1;32m   1335\u001b[0m     \u001b[0;32mexcept\u001b[0m \u001b[0merrors\u001b[0m\u001b[0;34m.\u001b[0m\u001b[0mOpError\u001b[0m \u001b[0;32mas\u001b[0m \u001b[0me\u001b[0m\u001b[0;34m:\u001b[0m\u001b[0;34m\u001b[0m\u001b[0;34m\u001b[0m\u001b[0m\n\u001b[1;32m   1336\u001b[0m       \u001b[0mmessage\u001b[0m \u001b[0;34m=\u001b[0m \u001b[0mcompat\u001b[0m\u001b[0;34m.\u001b[0m\u001b[0mas_text\u001b[0m\u001b[0;34m(\u001b[0m\u001b[0me\u001b[0m\u001b[0;34m.\u001b[0m\u001b[0mmessage\u001b[0m\u001b[0;34m)\u001b[0m\u001b[0;34m\u001b[0m\u001b[0;34m\u001b[0m\u001b[0m\n",
      "\u001b[0;32m~/miniconda3/envs/rlpomdp/lib/python3.6/site-packages/tensorflow/python/client/session.py\u001b[0m in \u001b[0;36m_run_fn\u001b[0;34m(feed_dict, fetch_list, target_list, options, run_metadata)\u001b[0m\n\u001b[1;32m   1317\u001b[0m       \u001b[0mself\u001b[0m\u001b[0;34m.\u001b[0m\u001b[0m_extend_graph\u001b[0m\u001b[0;34m(\u001b[0m\u001b[0;34m)\u001b[0m\u001b[0;34m\u001b[0m\u001b[0;34m\u001b[0m\u001b[0m\n\u001b[1;32m   1318\u001b[0m       return self._call_tf_sessionrun(\n\u001b[0;32m-> 1319\u001b[0;31m           options, feed_dict, fetch_list, target_list, run_metadata)\n\u001b[0m\u001b[1;32m   1320\u001b[0m \u001b[0;34m\u001b[0m\u001b[0m\n\u001b[1;32m   1321\u001b[0m     \u001b[0;32mdef\u001b[0m \u001b[0m_prun_fn\u001b[0m\u001b[0;34m(\u001b[0m\u001b[0mhandle\u001b[0m\u001b[0;34m,\u001b[0m \u001b[0mfeed_dict\u001b[0m\u001b[0;34m,\u001b[0m \u001b[0mfetch_list\u001b[0m\u001b[0;34m)\u001b[0m\u001b[0;34m:\u001b[0m\u001b[0;34m\u001b[0m\u001b[0;34m\u001b[0m\u001b[0m\n",
      "\u001b[0;32m~/miniconda3/envs/rlpomdp/lib/python3.6/site-packages/tensorflow/python/client/session.py\u001b[0m in \u001b[0;36m_call_tf_sessionrun\u001b[0;34m(self, options, feed_dict, fetch_list, target_list, run_metadata)\u001b[0m\n\u001b[1;32m   1405\u001b[0m     return tf_session.TF_SessionRun_wrapper(\n\u001b[1;32m   1406\u001b[0m         \u001b[0mself\u001b[0m\u001b[0;34m.\u001b[0m\u001b[0m_session\u001b[0m\u001b[0;34m,\u001b[0m \u001b[0moptions\u001b[0m\u001b[0;34m,\u001b[0m \u001b[0mfeed_dict\u001b[0m\u001b[0;34m,\u001b[0m \u001b[0mfetch_list\u001b[0m\u001b[0;34m,\u001b[0m \u001b[0mtarget_list\u001b[0m\u001b[0;34m,\u001b[0m\u001b[0;34m\u001b[0m\u001b[0;34m\u001b[0m\u001b[0m\n\u001b[0;32m-> 1407\u001b[0;31m         run_metadata)\n\u001b[0m\u001b[1;32m   1408\u001b[0m \u001b[0;34m\u001b[0m\u001b[0m\n\u001b[1;32m   1409\u001b[0m   \u001b[0;32mdef\u001b[0m \u001b[0m_call_tf_sessionprun\u001b[0m\u001b[0;34m(\u001b[0m\u001b[0mself\u001b[0m\u001b[0;34m,\u001b[0m \u001b[0mhandle\u001b[0m\u001b[0;34m,\u001b[0m \u001b[0mfeed_dict\u001b[0m\u001b[0;34m,\u001b[0m \u001b[0mfetch_list\u001b[0m\u001b[0;34m)\u001b[0m\u001b[0;34m:\u001b[0m\u001b[0;34m\u001b[0m\u001b[0;34m\u001b[0m\u001b[0m\n",
      "\u001b[0;31mKeyboardInterrupt\u001b[0m: "
     ]
    }
   ],
   "source": [
    "\"\"\"\n",
    "Remove old tensorboard log files\n",
    "\"\"\"\n",
    "!rm -rf ./logs\n",
    "\n",
    "import tensorflow as tf\n",
    "\n",
    "env = gym.make('Tiger-v0')\n",
    "env.__init__(reward_tiger=-100, reward_gold=10, reward_listen=-1,\n",
    "            obs_accuracy=.85)\n",
    "start_obs = env.reset()\n",
    "gamma = 0.8\n",
    "hidden_layer_sizes = [25, 25]\n",
    "obs_seq_len = 2\n",
    "copy_period = 25\n",
    "\n",
    "session = tf.InteractiveSession()\n",
    "D = obs_seq_len * env.observation_space.n\n",
    "K = env.action_space.n\n",
    "model = SeqDQN('main', session, D, K, hidden_layer_sizes, 2,\n",
    "               start_obs, gamma, log_summaries=True,\n",
    "               logs_dir='./logs')\n",
    "tmodel = SeqDQN('target', session, D, K, hidden_layer_sizes, 2,\n",
    "                start_obs, gamma)\n",
    "init = tf.global_variables_initializer()\n",
    "session.run(init)\n",
    "\n",
    "N = 100\n",
    "totalrewards = np.zeros(N)\n",
    "\n",
    "obs_perms = [\n",
    "    [OBS_START, OBS_START],\n",
    "    [OBS_START, OBS_GROWL_LEFT],\n",
    "    [OBS_START, OBS_GROWL_RIGHT],\n",
    "    [OBS_GROWL_LEFT, OBS_START],\n",
    "    [OBS_GROWL_LEFT, OBS_GROWL_LEFT],\n",
    "    [OBS_GROWL_LEFT, OBS_GROWL_RIGHT],\n",
    "    [OBS_GROWL_RIGHT, OBS_START],\n",
    "    [OBS_GROWL_RIGHT, OBS_GROWL_LEFT],\n",
    "    [OBS_GROWL_RIGHT, OBS_GROWL_RIGHT],\n",
    "]\n",
    "\n",
    "for n in range(N):\n",
    "#     eps = 1.0/np.sqrt(n+1)\n",
    "    eps = 1/(n+1)**(1/5)\n",
    "    totalreward = play_one(env, model, tmodel, eps, gamma,\n",
    "                           copy_period)\n",
    "    totalrewards[n] = totalreward\n",
    "    if n % 10 == 0:\n",
    "        ravg = running_avg(totalrewards, n)\n",
    "        print('episode:', n,\n",
    "              'total reward:', totalreward,\n",
    "              'eps:', eps,\n",
    "              'avg reward (last 100):', ravg)\n",
    "        Q = []\n",
    "        for perm in obs_perms:\n",
    "            o1, o2 = perm\n",
    "            model.last_n_obs = perm\n",
    "            _o1 = env.translate_obs(o1)\n",
    "            _o2 = env.translate_obs(o2)\n",
    "            pred = model.predict(o2, update=False)\n",
    "            best_action_idx = np.argmax(pred[0])\n",
    "            action_values = pred[0].astype(str)\n",
    "            action_values[best_action_idx] =  '[' + action_values[best_action_idx] + ']'\n",
    "            a_openl, a_openr, a_listen = action_values\n",
    "            Q.append([_o1, _o2, a_openl, a_openr, a_listen])\n",
    "        print(tabulate(Q, headers=['obs1', 'obs2', 'OPEN LEFT Q Value', 'OPEN RIGHT Q Value', 'LISTEN Q Value']))\n",
    "        display(sorted(model.train_obs_seq_counts.items(), key=lambda x: x[1], reverse=True))\n",
    "        display(sorted(model.train_obs_seq_action_counts.items(), key=lambda x: x[1], reverse=True))\n",
    "\n",
    "\n",
    "print('avg reward for last 100 episodes:', totalrewards[-10:].mean())\n",
    "print('total steps:', totalrewards.sum())\n",
    "offset = 0"
   ]
  },
  {
   "cell_type": "code",
   "execution_count": 159,
   "metadata": {
    "ExecuteTime": {
     "end_time": "2019-05-29T17:26:20.792029Z",
     "start_time": "2019-05-29T17:26:07.024164Z"
    },
    "scrolled": true
   },
   "outputs": [
    {
     "name": "stdout",
     "output_type": "stream",
     "text": [
      "episode: 0 total reward: 6 eps: 0.39810717055349726 avg reward (last 100): 6.0\n",
      "obs1         obs2         OPEN LEFT Q Value    OPEN RIGHT Q Value    LISTEN Q Value\n",
      "-----------  -----------  -------------------  --------------------  ----------------\n",
      "START        START        -16.99644            -21.975672            [-1.9809632]\n",
      "START        GROWL_LEFT   1.2844055            [8.018623]            -1.1460425\n",
      "START        GROWL_RIGHT  -14.89155            -22.86818             [-2.5276563]\n",
      "GROWL_LEFT   START        -17.425037           -18.718502            [-1.4682394]\n",
      "GROWL_LEFT   GROWL_LEFT   [9.185982]           7.3551235             1.254421\n",
      "GROWL_LEFT   GROWL_RIGHT  -17.197468           -15.456255            [-0.96877563]\n",
      "GROWL_RIGHT  START        -17.623425           -17.68945             [0.03996879]\n",
      "GROWL_RIGHT  GROWL_LEFT   1.573828             [3.3781276]           -0.979354\n",
      "GROWL_RIGHT  GROWL_RIGHT  -17.135592           -17.979849            [-3.8057017]\n"
     ]
    },
    {
     "data": {
      "text/plain": [
       "[('START, START', 73),\n",
       " ('START, GROWL_RIGHT', 36),\n",
       " ('GROWL_RIGHT, START', 29),\n",
       " ('START, GROWL_LEFT', 23),\n",
       " ('GROWL_LEFT, START', 22),\n",
       " ('GROWL_RIGHT, GROWL_RIGHT', 13),\n",
       " ('GROWL_LEFT, GROWL_RIGHT', 3),\n",
       " ('GROWL_RIGHT, GROWL_LEFT', 3),\n",
       " ('GROWL_LEFT, GROWL_LEFT', 1)]"
      ]
     },
     "metadata": {},
     "output_type": "display_data"
    },
    {
     "data": {
      "text/plain": [
       "[('START, START => OPEN_RIGHT', 33),\n",
       " ('START, START => LISTEN', 28),\n",
       " ('START, GROWL_RIGHT => OPEN_RIGHT', 21),\n",
       " ('GROWL_RIGHT, START => LISTEN', 17),\n",
       " ('GROWL_LEFT, START => LISTEN', 15),\n",
       " ('START, GROWL_LEFT => LISTEN', 14),\n",
       " ('START, START => OPEN_LEFT', 12),\n",
       " ('START, GROWL_RIGHT => LISTEN', 9),\n",
       " ('START, GROWL_LEFT => OPEN_RIGHT', 8),\n",
       " ('START, GROWL_RIGHT => OPEN_LEFT', 6),\n",
       " ('GROWL_RIGHT, START => OPEN_LEFT', 6),\n",
       " ('GROWL_RIGHT, START => OPEN_RIGHT', 6),\n",
       " ('GROWL_RIGHT, GROWL_RIGHT => OPEN_RIGHT', 5),\n",
       " ('GROWL_RIGHT, GROWL_RIGHT => OPEN_LEFT', 5),\n",
       " ('GROWL_LEFT, START => OPEN_LEFT', 4),\n",
       " ('GROWL_LEFT, GROWL_RIGHT => LISTEN', 3),\n",
       " ('GROWL_RIGHT, GROWL_LEFT => LISTEN', 3),\n",
       " ('GROWL_LEFT, START => OPEN_RIGHT', 3),\n",
       " ('GROWL_RIGHT, GROWL_RIGHT => LISTEN', 3),\n",
       " ('START, GROWL_LEFT => OPEN_LEFT', 1),\n",
       " ('GROWL_LEFT, GROWL_LEFT => LISTEN', 1)]"
      ]
     },
     "metadata": {},
     "output_type": "display_data"
    },
    {
     "name": "stdout",
     "output_type": "stream",
     "text": [
      "episode: 10 total reward: -103 eps: 0.39059030831128655 avg reward (last 100): -53.09090909090909\n",
      "obs1         obs2           OPEN LEFT Q Value  OPEN RIGHT Q Value    LISTEN Q Value\n",
      "-----------  -----------  -------------------  --------------------  ----------------\n",
      "START        START                 -19.4583    -22.923761            [-0.9919095]\n",
      "START        GROWL_LEFT             -5.60674   [4.952983]            -0.9615222\n",
      "START        GROWL_RIGHT           -16.3059    -24.018963            [-1.8194517]\n",
      "GROWL_LEFT   START                 -19.6262    -19.640314            [-0.5733648]\n",
      "GROWL_LEFT   GROWL_LEFT              0.517381  [8.2105255]           3.052517\n",
      "GROWL_LEFT   GROWL_RIGHT           -18.7661    -16.741123            [-0.39895517]\n",
      "GROWL_RIGHT  START                 -19.9842    -18.618473            [0.43755558]\n",
      "GROWL_RIGHT  GROWL_LEFT             -3.50586   [-0.5504595]          -2.0210142\n",
      "GROWL_RIGHT  GROWL_RIGHT           -18.4188    -19.05718             [-2.9940696]\n"
     ]
    },
    {
     "data": {
      "text/plain": [
       "[('START, START', 75),\n",
       " ('START, GROWL_RIGHT', 42),\n",
       " ('GROWL_RIGHT, START', 33),\n",
       " ('START, GROWL_LEFT', 30),\n",
       " ('GROWL_LEFT, START', 26),\n",
       " ('GROWL_RIGHT, GROWL_RIGHT', 17),\n",
       " ('GROWL_RIGHT, GROWL_LEFT', 5),\n",
       " ('GROWL_LEFT, GROWL_RIGHT', 3),\n",
       " ('GROWL_LEFT, GROWL_LEFT', 1)]"
      ]
     },
     "metadata": {},
     "output_type": "display_data"
    },
    {
     "data": {
      "text/plain": [
       "[('START, START => OPEN_RIGHT', 33),\n",
       " ('START, START => LISTEN', 30),\n",
       " ('START, GROWL_RIGHT => OPEN_RIGHT', 22),\n",
       " ('START, GROWL_LEFT => LISTEN', 19),\n",
       " ('GROWL_RIGHT, START => LISTEN', 18),\n",
       " ('GROWL_LEFT, START => LISTEN', 17),\n",
       " ('START, GROWL_RIGHT => LISTEN', 13),\n",
       " ('START, START => OPEN_LEFT', 12),\n",
       " ('GROWL_RIGHT, START => OPEN_LEFT', 9),\n",
       " ('START, GROWL_LEFT => OPEN_RIGHT', 9),\n",
       " ('START, GROWL_RIGHT => OPEN_LEFT', 7),\n",
       " ('GROWL_LEFT, START => OPEN_LEFT', 6),\n",
       " ('GROWL_RIGHT, START => OPEN_RIGHT', 6),\n",
       " ('GROWL_RIGHT, GROWL_RIGHT => OPEN_LEFT', 6),\n",
       " ('GROWL_RIGHT, GROWL_RIGHT => LISTEN', 6),\n",
       " ('GROWL_RIGHT, GROWL_RIGHT => OPEN_RIGHT', 5),\n",
       " ('GROWL_RIGHT, GROWL_LEFT => LISTEN', 5),\n",
       " ('GROWL_LEFT, GROWL_RIGHT => LISTEN', 3),\n",
       " ('GROWL_LEFT, START => OPEN_RIGHT', 3),\n",
       " ('START, GROWL_LEFT => OPEN_LEFT', 2),\n",
       " ('GROWL_LEFT, GROWL_LEFT => LISTEN', 1)]"
      ]
     },
     "metadata": {},
     "output_type": "display_data"
    },
    {
     "name": "stdout",
     "output_type": "stream",
     "text": [
      "episode: 20 total reward: 8 eps: 0.38385194963737745 avg reward (last 100): -34.333333333333336\n",
      "obs1         obs2           OPEN LEFT Q Value  OPEN RIGHT Q Value    LISTEN Q Value\n",
      "-----------  -----------  -------------------  --------------------  ----------------\n",
      "START        START                 -20.6321    -24.978134            [-2.1422098]\n",
      "START        GROWL_LEFT             -5.68593   [4.166746]            -1.4026012\n",
      "START        GROWL_RIGHT           -17.8977    -25.12314             [-2.1566982]\n",
      "GROWL_LEFT   START                 -21.6316    -20.65038             [-1.0134804]\n",
      "GROWL_LEFT   GROWL_LEFT             -0.235509  [7.5034204]           3.3158517\n",
      "GROWL_LEFT   GROWL_RIGHT           -20.7979    -18.154789            [-0.8099553]\n",
      "GROWL_RIGHT  START                 -21.3663    -20.049387            [-0.32305008]\n",
      "GROWL_RIGHT  GROWL_LEFT             -3.5882    [-0.9596498]          -1.837014\n",
      "GROWL_RIGHT  GROWL_RIGHT           -19.1249    -20.88362             [-3.0279713]\n"
     ]
    },
    {
     "data": {
      "text/plain": [
       "[('START, START', 82),\n",
       " ('START, GROWL_RIGHT', 43),\n",
       " ('GROWL_RIGHT, START', 37),\n",
       " ('GROWL_LEFT, START', 34),\n",
       " ('START, GROWL_LEFT', 30),\n",
       " ('GROWL_RIGHT, GROWL_RIGHT', 22),\n",
       " ('GROWL_RIGHT, GROWL_LEFT', 6),\n",
       " ('GROWL_LEFT, GROWL_RIGHT', 4),\n",
       " ('GROWL_LEFT, GROWL_LEFT', 1)]"
      ]
     },
     "metadata": {},
     "output_type": "display_data"
    },
    {
     "data": {
      "text/plain": [
       "[('START, START => OPEN_RIGHT', 37),\n",
       " ('START, START => LISTEN', 32),\n",
       " ('START, GROWL_RIGHT => OPEN_RIGHT', 22),\n",
       " ('GROWL_RIGHT, START => LISTEN', 21),\n",
       " ('START, GROWL_LEFT => LISTEN', 19),\n",
       " ('GROWL_LEFT, START => LISTEN', 18),\n",
       " ('START, START => OPEN_LEFT', 13),\n",
       " ('START, GROWL_RIGHT => LISTEN', 13),\n",
       " ('GROWL_LEFT, START => OPEN_LEFT', 12),\n",
       " ('GROWL_RIGHT, START => OPEN_LEFT', 10),\n",
       " ('START, GROWL_LEFT => OPEN_RIGHT', 9),\n",
       " ('GROWL_RIGHT, GROWL_RIGHT => LISTEN', 9),\n",
       " ('START, GROWL_RIGHT => OPEN_LEFT', 8),\n",
       " ('GROWL_RIGHT, GROWL_RIGHT => OPEN_LEFT', 7),\n",
       " ('GROWL_RIGHT, START => OPEN_RIGHT', 6),\n",
       " ('GROWL_RIGHT, GROWL_RIGHT => OPEN_RIGHT', 6),\n",
       " ('GROWL_RIGHT, GROWL_LEFT => LISTEN', 6),\n",
       " ('GROWL_LEFT, GROWL_RIGHT => LISTEN', 4),\n",
       " ('GROWL_LEFT, START => OPEN_RIGHT', 4),\n",
       " ('START, GROWL_LEFT => OPEN_LEFT', 2),\n",
       " ('GROWL_LEFT, GROWL_LEFT => LISTEN', 1)]"
      ]
     },
     "metadata": {},
     "output_type": "display_data"
    },
    {
     "name": "stdout",
     "output_type": "stream",
     "text": [
      "episode: 30 total reward: 9 eps: 0.37775596386517213 avg reward (last 100): -34.645161290322584\n",
      "obs1         obs2           OPEN LEFT Q Value  OPEN RIGHT Q Value    LISTEN Q Value\n",
      "-----------  -----------  -------------------  --------------------  ----------------\n",
      "START        START                -20.6986     -25.66767             [-2.0574336]\n",
      "START        GROWL_LEFT            -5.36889    [3.9916596]           -1.0822425\n",
      "START        GROWL_RIGHT          -18.0143     -25.696413            [-1.8901695]\n",
      "GROWL_LEFT   START                -22.0322     -21.164467            [-0.8970474]\n",
      "GROWL_LEFT   GROWL_LEFT            -0.0937021  [7.3353004]           3.6576014\n",
      "GROWL_LEFT   GROWL_RIGHT          -21.2509     -18.810398            [-0.71598625]\n",
      "GROWL_RIGHT  START                -21.3764     -21.104454            [-0.5013444]\n",
      "GROWL_RIGHT  GROWL_LEFT            -2.85925    [-0.6954149]          -0.9746289\n",
      "START        GROWL_LEFT            -5.36889    [3.9916596]           -1.0822425\n"
     ]
    },
    {
     "data": {
      "text/plain": [
       "[('START, START', 82),\n",
       " ('START, GROWL_RIGHT', 48),\n",
       " ('GROWL_RIGHT, START', 40),\n",
       " ('GROWL_LEFT, START', 37),\n",
       " ('START, GROWL_LEFT', 36),\n",
       " ('GROWL_RIGHT, GROWL_RIGHT', 25),\n",
       " ('GROWL_RIGHT, GROWL_LEFT', 9),\n",
       " ('GROWL_LEFT, GROWL_RIGHT', 4),\n",
       " ('GROWL_LEFT, GROWL_LEFT', 1)]"
      ]
     },
     "metadata": {},
     "output_type": "display_data"
    },
    {
     "data": {
      "text/plain": [
       "[('START, START => OPEN_RIGHT', 37),\n",
       " ('START, START => LISTEN', 32),\n",
       " ('START, GROWL_LEFT => LISTEN', 25),\n",
       " ('GROWL_RIGHT, START => LISTEN', 24),\n",
       " ('START, GROWL_RIGHT => OPEN_RIGHT', 22),\n",
       " ('GROWL_LEFT, START => LISTEN', 19),\n",
       " ('START, GROWL_RIGHT => LISTEN', 16),\n",
       " ('START, START => OPEN_LEFT', 13),\n",
       " ('GROWL_LEFT, START => OPEN_LEFT', 13),\n",
       " ('START, GROWL_RIGHT => OPEN_LEFT', 10),\n",
       " ('GROWL_RIGHT, START => OPEN_LEFT', 10),\n",
       " ('GROWL_RIGHT, GROWL_RIGHT => LISTEN', 10),\n",
       " ('START, GROWL_LEFT => OPEN_RIGHT', 9),\n",
       " ('GROWL_RIGHT, GROWL_RIGHT => OPEN_LEFT', 8),\n",
       " ('GROWL_RIGHT, GROWL_LEFT => LISTEN', 8),\n",
       " ('GROWL_RIGHT, GROWL_RIGHT => OPEN_RIGHT', 7),\n",
       " ('GROWL_RIGHT, START => OPEN_RIGHT', 6),\n",
       " ('GROWL_LEFT, START => OPEN_RIGHT', 5),\n",
       " ('GROWL_LEFT, GROWL_RIGHT => LISTEN', 4),\n",
       " ('START, GROWL_LEFT => OPEN_LEFT', 2),\n",
       " ('GROWL_LEFT, GROWL_LEFT => LISTEN', 1),\n",
       " ('GROWL_RIGHT, GROWL_LEFT => OPEN_LEFT', 1)]"
      ]
     },
     "metadata": {},
     "output_type": "display_data"
    },
    {
     "name": "stdout",
     "output_type": "stream",
     "text": [
      "episode: 40 total reward: -100 eps: 0.3721983065876935 avg reward (last 100): -37.926829268292686\n",
      "obs1         obs2           OPEN LEFT Q Value    OPEN RIGHT Q Value  LISTEN Q Value\n",
      "-----------  -----------  -------------------  --------------------  ----------------\n",
      "START        START                  -23.9366              -27.0864   [-2.1407049]\n",
      "START        GROWL_LEFT              -9.25401              -9.16982  [-1.6730189]\n",
      "START        GROWL_RIGHT            -20.4892              -27.1796   [-2.2104452]\n",
      "GROWL_LEFT   START                  -24.772               -22.3903   [-1.2661643]\n",
      "GROWL_LEFT   GROWL_LEFT              -9.16886             -14.2178   [1.6791377]\n",
      "GROWL_LEFT   GROWL_RIGHT            -24.4727              -22.017    [-1.2505399]\n",
      "GROWL_RIGHT  START                  -24.1673              -22.0258   [-0.5230149]\n",
      "GROWL_RIGHT  GROWL_LEFT              -8.89768             -14.1157   [0.23541616]\n",
      "GROWL_RIGHT  GROWL_RIGHT            -20.4736              -25.4048   [-2.69218]\n"
     ]
    },
    {
     "data": {
      "text/plain": [
       "[('START, START', 87),\n",
       " ('START, GROWL_RIGHT', 50),\n",
       " ('GROWL_RIGHT, START', 46),\n",
       " ('START, GROWL_LEFT', 46),\n",
       " ('GROWL_LEFT, START', 43),\n",
       " ('GROWL_RIGHT, GROWL_RIGHT', 32),\n",
       " ('GROWL_RIGHT, GROWL_LEFT', 11),\n",
       " ('GROWL_LEFT, GROWL_RIGHT', 5),\n",
       " ('GROWL_LEFT, GROWL_LEFT', 3)]"
      ]
     },
     "metadata": {},
     "output_type": "display_data"
    },
    {
     "data": {
      "text/plain": [
       "[('START, START => OPEN_RIGHT', 39),\n",
       " ('START, START => LISTEN', 34),\n",
       " ('START, GROWL_LEFT => LISTEN', 31),\n",
       " ('GROWL_RIGHT, START => LISTEN', 28),\n",
       " ('START, GROWL_RIGHT => OPEN_RIGHT', 24),\n",
       " ('GROWL_LEFT, START => LISTEN', 22),\n",
       " ('START, GROWL_RIGHT => LISTEN', 16),\n",
       " ('GROWL_LEFT, START => OPEN_LEFT', 15),\n",
       " ('START, START => OPEN_LEFT', 14),\n",
       " ('GROWL_RIGHT, GROWL_RIGHT => LISTEN', 13),\n",
       " ('GROWL_RIGHT, START => OPEN_LEFT', 11),\n",
       " ('START, GROWL_LEFT => OPEN_RIGHT', 11),\n",
       " ('GROWL_RIGHT, GROWL_RIGHT => OPEN_LEFT', 11),\n",
       " ('START, GROWL_RIGHT => OPEN_LEFT', 10),\n",
       " ('GROWL_RIGHT, GROWL_LEFT => LISTEN', 9),\n",
       " ('GROWL_RIGHT, GROWL_RIGHT => OPEN_RIGHT', 8),\n",
       " ('GROWL_RIGHT, START => OPEN_RIGHT', 7),\n",
       " ('GROWL_LEFT, START => OPEN_RIGHT', 6),\n",
       " ('GROWL_LEFT, GROWL_RIGHT => LISTEN', 5),\n",
       " ('START, GROWL_LEFT => OPEN_LEFT', 4),\n",
       " ('GROWL_LEFT, GROWL_LEFT => LISTEN', 2),\n",
       " ('GROWL_RIGHT, GROWL_LEFT => OPEN_LEFT', 1),\n",
       " ('GROWL_LEFT, GROWL_LEFT => OPEN_RIGHT', 1),\n",
       " ('GROWL_RIGHT, GROWL_LEFT => OPEN_RIGHT', 1)]"
      ]
     },
     "metadata": {},
     "output_type": "display_data"
    },
    {
     "name": "stdout",
     "output_type": "stream",
     "text": [
      "episode: 50 total reward: 9 eps: 0.3670977715849853 avg reward (last 100): -35.1764705882353\n",
      "obs1         obs2           OPEN LEFT Q Value    OPEN RIGHT Q Value  LISTEN Q Value\n",
      "-----------  -----------  -------------------  --------------------  ----------------\n",
      "START        START                  -24.7237              -28.0634   [-2.012324]\n",
      "START        GROWL_LEFT              -5.24203              -2.02892  [-1.1898501]\n",
      "START        GROWL_RIGHT            -21.2174              -28.0146   [-2.0856323]\n",
      "GROWL_LEFT   START                  -25.5856              -23.25     [-1.1421652]\n",
      "GROWL_LEFT   GROWL_LEFT              -7.43903             -12.0923   [2.0270536]\n",
      "GROWL_LEFT   GROWL_RIGHT            -25.252               -22.6711   [-1.085226]\n",
      "GROWL_RIGHT  START                  -24.6113              -25.1869   [-1.3869423]\n",
      "GROWL_RIGHT  GROWL_LEFT              -7.45365             -13.4923   [0.36868912]\n",
      "GROWL_RIGHT  START                  -24.6113              -25.1869   [-1.3869423]\n"
     ]
    },
    {
     "data": {
      "text/plain": [
       "[('START, START', 91),\n",
       " ('GROWL_RIGHT, START', 52),\n",
       " ('START, GROWL_RIGHT', 50),\n",
       " ('START, GROWL_LEFT', 47),\n",
       " ('GROWL_LEFT, START', 46),\n",
       " ('GROWL_RIGHT, GROWL_RIGHT', 36),\n",
       " ('GROWL_RIGHT, GROWL_LEFT', 11),\n",
       " ('GROWL_LEFT, GROWL_RIGHT', 5),\n",
       " ('GROWL_LEFT, GROWL_LEFT', 4)]"
      ]
     },
     "metadata": {},
     "output_type": "display_data"
    },
    {
     "data": {
      "text/plain": [
       "[('START, START => OPEN_RIGHT', 40),\n",
       " ('START, START => LISTEN', 36),\n",
       " ('START, GROWL_LEFT => LISTEN', 32),\n",
       " ('GROWL_RIGHT, START => LISTEN', 31),\n",
       " ('GROWL_LEFT, START => LISTEN', 24),\n",
       " ('START, GROWL_RIGHT => OPEN_RIGHT', 24),\n",
       " ('GROWL_LEFT, START => OPEN_LEFT', 16),\n",
       " ('START, GROWL_RIGHT => LISTEN', 16),\n",
       " ('START, START => OPEN_LEFT', 15),\n",
       " ('GROWL_RIGHT, GROWL_RIGHT => LISTEN', 15),\n",
       " ('GROWL_RIGHT, GROWL_RIGHT => OPEN_LEFT', 13),\n",
       " ('GROWL_RIGHT, START => OPEN_LEFT', 11),\n",
       " ('START, GROWL_LEFT => OPEN_RIGHT', 11),\n",
       " ('START, GROWL_RIGHT => OPEN_LEFT', 10),\n",
       " ('GROWL_RIGHT, START => OPEN_RIGHT', 10),\n",
       " ('GROWL_RIGHT, GROWL_LEFT => LISTEN', 9),\n",
       " ('GROWL_RIGHT, GROWL_RIGHT => OPEN_RIGHT', 8),\n",
       " ('GROWL_LEFT, START => OPEN_RIGHT', 6),\n",
       " ('GROWL_LEFT, GROWL_RIGHT => LISTEN', 5),\n",
       " ('START, GROWL_LEFT => OPEN_LEFT', 4),\n",
       " ('GROWL_LEFT, GROWL_LEFT => LISTEN', 2),\n",
       " ('GROWL_LEFT, GROWL_LEFT => OPEN_RIGHT', 2),\n",
       " ('GROWL_RIGHT, GROWL_LEFT => OPEN_LEFT', 1),\n",
       " ('GROWL_RIGHT, GROWL_LEFT => OPEN_RIGHT', 1)]"
      ]
     },
     "metadata": {},
     "output_type": "display_data"
    },
    {
     "name": "stdout",
     "output_type": "stream",
     "text": [
      "episode: 60 total reward: 6 eps: 0.36238983183884776 avg reward (last 100): -35.36065573770492\n",
      "obs1         obs2           OPEN LEFT Q Value    OPEN RIGHT Q Value  LISTEN Q Value\n",
      "-----------  -----------  -------------------  --------------------  ----------------\n",
      "START        START                  -26.1269              -29.4138   [-1.7463137]\n",
      "START        GROWL_LEFT              -7.64695              -4.32488  [-1.28428]\n",
      "START        GROWL_RIGHT            -22.6181              -29.3342   [-1.9317542]\n",
      "GROWL_LEFT   START                  -26.7487              -24.4738   [-0.91817975]\n",
      "GROWL_LEFT   GROWL_LEFT             -10.1994              -13.9482   [0.38598105]\n",
      "GROWL_LEFT   GROWL_RIGHT            -26.2347              -23.9843   [-0.9206333]\n",
      "GROWL_RIGHT  START                  -25.9019              -27.7505   [-1.4442902]\n",
      "GROWL_RIGHT  GROWL_LEFT             -13.1049              -16.5238   [-2.4420853]\n",
      "GROWL_RIGHT  GROWL_RIGHT            -22.1405              -27.7129   [-2.2424192]\n"
     ]
    },
    {
     "data": {
      "text/plain": [
       "[('START, START', 94),\n",
       " ('GROWL_RIGHT, START', 59),\n",
       " ('START, GROWL_RIGHT', 54),\n",
       " ('GROWL_LEFT, START', 51),\n",
       " ('START, GROWL_LEFT', 50),\n",
       " ('GROWL_RIGHT, GROWL_RIGHT', 43),\n",
       " ('GROWL_RIGHT, GROWL_LEFT', 13),\n",
       " ('GROWL_LEFT, GROWL_LEFT', 6),\n",
       " ('GROWL_LEFT, GROWL_RIGHT', 5)]"
      ]
     },
     "metadata": {},
     "output_type": "display_data"
    },
    {
     "data": {
      "text/plain": [
       "[('START, START => OPEN_RIGHT', 41),\n",
       " ('START, START => LISTEN', 37),\n",
       " ('GROWL_RIGHT, START => LISTEN', 35),\n",
       " ('START, GROWL_LEFT => LISTEN', 35),\n",
       " ('GROWL_LEFT, START => LISTEN', 26),\n",
       " ('START, GROWL_RIGHT => OPEN_RIGHT', 25),\n",
       " ('GROWL_RIGHT, GROWL_RIGHT => LISTEN', 20),\n",
       " ('GROWL_LEFT, START => OPEN_LEFT', 18),\n",
       " ('START, GROWL_RIGHT => LISTEN', 17),\n",
       " ('START, START => OPEN_LEFT', 16),\n",
       " ('GROWL_RIGHT, GROWL_RIGHT => OPEN_LEFT', 15),\n",
       " ('GROWL_RIGHT, START => OPEN_LEFT', 14),\n",
       " ('START, GROWL_RIGHT => OPEN_LEFT', 12),\n",
       " ('START, GROWL_LEFT => OPEN_RIGHT', 11),\n",
       " ('GROWL_RIGHT, START => OPEN_RIGHT', 10),\n",
       " ('GROWL_RIGHT, GROWL_LEFT => LISTEN', 10),\n",
       " ('GROWL_RIGHT, GROWL_RIGHT => OPEN_RIGHT', 8),\n",
       " ('GROWL_LEFT, START => OPEN_RIGHT', 7),\n",
       " ('GROWL_LEFT, GROWL_RIGHT => LISTEN', 5),\n",
       " ('START, GROWL_LEFT => OPEN_LEFT', 4),\n",
       " ('GROWL_LEFT, GROWL_LEFT => LISTEN', 4),\n",
       " ('GROWL_RIGHT, GROWL_LEFT => OPEN_LEFT', 2),\n",
       " ('GROWL_LEFT, GROWL_LEFT => OPEN_RIGHT', 2),\n",
       " ('GROWL_RIGHT, GROWL_LEFT => OPEN_RIGHT', 1)]"
      ]
     },
     "metadata": {},
     "output_type": "display_data"
    },
    {
     "name": "stdout",
     "output_type": "stream",
     "text": [
      "episode: 70 total reward: 5 eps: 0.35802241335294416 avg reward (last 100): -34.33802816901409\n",
      "obs1         obs2           OPEN LEFT Q Value    OPEN RIGHT Q Value  LISTEN Q Value\n",
      "-----------  -----------  -------------------  --------------------  ----------------\n",
      "START        START                  -26.6438              -29.9022   [-1.6658239]\n",
      "START        GROWL_LEFT              -4.26265              -1.61285  [-1.0890508]\n",
      "START        GROWL_RIGHT            -23.0577              -29.6861   [-1.8954449]\n",
      "GROWL_LEFT   START                  -27.2479              -24.8614   [-0.91276]\n",
      "GROWL_LEFT   GROWL_LEFT              -8.08543             -13.9471   [-1.043257]\n",
      "GROWL_LEFT   GROWL_RIGHT            -26.6109              -24.3983   [-0.9311987]\n",
      "GROWL_RIGHT  START                  -26.4636              -28.8561   [-1.4785031]\n",
      "GROWL_RIGHT  GROWL_LEFT             -12.9481              -15.6017   [-2.2759724]\n",
      "GROWL_RIGHT  GROWL_RIGHT            -22.3486              -28.1022   [-1.9979517]\n"
     ]
    },
    {
     "data": {
      "text/plain": [
       "[('START, START', 105),\n",
       " ('START, GROWL_RIGHT', 63),\n",
       " ('GROWL_RIGHT, START', 62),\n",
       " ('START, GROWL_LEFT', 56),\n",
       " ('GROWL_LEFT, START', 55),\n",
       " ('GROWL_RIGHT, GROWL_RIGHT', 50),\n",
       " ('GROWL_RIGHT, GROWL_LEFT', 16),\n",
       " ('GROWL_LEFT, GROWL_LEFT', 10),\n",
       " ('GROWL_LEFT, GROWL_RIGHT', 8)]"
      ]
     },
     "metadata": {},
     "output_type": "display_data"
    },
    {
     "data": {
      "text/plain": [
       "[('START, START => OPEN_RIGHT', 45),\n",
       " ('START, START => LISTEN', 41),\n",
       " ('START, GROWL_LEFT => LISTEN', 40),\n",
       " ('GROWL_RIGHT, START => LISTEN', 38),\n",
       " ('GROWL_LEFT, START => LISTEN', 29),\n",
       " ('START, GROWL_RIGHT => OPEN_RIGHT', 27),\n",
       " ('GROWL_RIGHT, GROWL_RIGHT => LISTEN', 25),\n",
       " ('START, GROWL_RIGHT => LISTEN', 24),\n",
       " ('START, START => OPEN_LEFT', 19),\n",
       " ('GROWL_LEFT, START => OPEN_LEFT', 18),\n",
       " ('GROWL_RIGHT, GROWL_RIGHT => OPEN_LEFT', 17),\n",
       " ('GROWL_RIGHT, START => OPEN_LEFT', 14),\n",
       " ('START, GROWL_RIGHT => OPEN_LEFT', 12),\n",
       " ('GROWL_RIGHT, GROWL_LEFT => LISTEN', 12),\n",
       " ('START, GROWL_LEFT => OPEN_RIGHT', 11),\n",
       " ('GROWL_RIGHT, START => OPEN_RIGHT', 10),\n",
       " ('GROWL_LEFT, GROWL_RIGHT => LISTEN', 8),\n",
       " ('GROWL_RIGHT, GROWL_RIGHT => OPEN_RIGHT', 8),\n",
       " ('GROWL_LEFT, START => OPEN_RIGHT', 8),\n",
       " ('GROWL_LEFT, GROWL_LEFT => LISTEN', 8),\n",
       " ('START, GROWL_LEFT => OPEN_LEFT', 5),\n",
       " ('GROWL_RIGHT, GROWL_LEFT => OPEN_LEFT', 2),\n",
       " ('GROWL_LEFT, GROWL_LEFT => OPEN_RIGHT', 2),\n",
       " ('GROWL_RIGHT, GROWL_LEFT => OPEN_RIGHT', 2)]"
      ]
     },
     "metadata": {},
     "output_type": "display_data"
    },
    {
     "name": "stdout",
     "output_type": "stream",
     "text": [
      "episode: 80 total reward: 10 eps: 0.3539529195983115 avg reward (last 100): -34.629629629629626\n",
      "obs1         obs2           OPEN LEFT Q Value  OPEN RIGHT Q Value    LISTEN Q Value\n",
      "-----------  -----------  -------------------  --------------------  ----------------\n",
      "START        START                  -30.5806   -29.652447            [-1.5976776]\n",
      "START        GROWL_LEFT              -4.19686  [0.39124095]          -0.9549478\n",
      "START        GROWL_RIGHT            -27.0932   -29.517607            [-1.8116983]\n",
      "GROWL_LEFT   START                  -30.9943   -24.62175             [-0.94689786]\n",
      "GROWL_LEFT   GROWL_LEFT              -6.10777  -8.149257             [0.24256042]\n",
      "GROWL_LEFT   GROWL_RIGHT            -30.0897   -23.589977            [-0.88734305]\n",
      "GROWL_RIGHT  START                  -30.1509   -27.8794              [-1.2611343]\n",
      "GROWL_RIGHT  GROWL_LEFT             -11.5383   -15.614324            [-0.23770982]\n",
      "GROWL_RIGHT  GROWL_RIGHT            -25.4788   -27.819685            [-1.8536786]\n"
     ]
    },
    {
     "data": {
      "text/plain": [
       "[('START, START', 111),\n",
       " ('START, GROWL_RIGHT', 67),\n",
       " ('GROWL_RIGHT, START', 65),\n",
       " ('GROWL_LEFT, START', 64),\n",
       " ('START, GROWL_LEFT', 60),\n",
       " ('GROWL_RIGHT, GROWL_RIGHT', 55),\n",
       " ('GROWL_RIGHT, GROWL_LEFT', 19),\n",
       " ('GROWL_LEFT, GROWL_LEFT', 12),\n",
       " ('GROWL_LEFT, GROWL_RIGHT', 9)]"
      ]
     },
     "metadata": {},
     "output_type": "display_data"
    },
    {
     "data": {
      "text/plain": [
       "[('START, START => OPEN_RIGHT', 46),\n",
       " ('START, GROWL_LEFT => LISTEN', 44),\n",
       " ('START, START => LISTEN', 43),\n",
       " ('GROWL_RIGHT, START => LISTEN', 39),\n",
       " ('GROWL_LEFT, START => LISTEN', 34),\n",
       " ('GROWL_RIGHT, GROWL_RIGHT => LISTEN', 29),\n",
       " ('START, GROWL_RIGHT => OPEN_RIGHT', 28),\n",
       " ('START, GROWL_RIGHT => LISTEN', 26),\n",
       " ('START, START => OPEN_LEFT', 22),\n",
       " ('GROWL_LEFT, START => OPEN_LEFT', 22),\n",
       " ('GROWL_RIGHT, GROWL_RIGHT => OPEN_LEFT', 18),\n",
       " ('GROWL_RIGHT, START => OPEN_LEFT', 15),\n",
       " ('GROWL_RIGHT, GROWL_LEFT => LISTEN', 14),\n",
       " ('START, GROWL_RIGHT => OPEN_LEFT', 13),\n",
       " ('START, GROWL_LEFT => OPEN_RIGHT', 11),\n",
       " ('GROWL_RIGHT, START => OPEN_RIGHT', 11),\n",
       " ('GROWL_LEFT, GROWL_RIGHT => LISTEN', 9),\n",
       " ('GROWL_LEFT, GROWL_LEFT => LISTEN', 9),\n",
       " ('GROWL_RIGHT, GROWL_RIGHT => OPEN_RIGHT', 8),\n",
       " ('GROWL_LEFT, START => OPEN_RIGHT', 8),\n",
       " ('START, GROWL_LEFT => OPEN_LEFT', 5),\n",
       " ('GROWL_RIGHT, GROWL_LEFT => OPEN_LEFT', 3),\n",
       " ('GROWL_LEFT, GROWL_LEFT => OPEN_RIGHT', 3),\n",
       " ('GROWL_RIGHT, GROWL_LEFT => OPEN_RIGHT', 2)]"
      ]
     },
     "metadata": {},
     "output_type": "display_data"
    },
    {
     "name": "stdout",
     "output_type": "stream",
     "text": [
      "episode: 90 total reward: -100 eps: 0.3501460890033889 avg reward (last 100): -35.21978021978022\n",
      "obs1         obs2           OPEN LEFT Q Value  OPEN RIGHT Q Value    LISTEN Q Value\n",
      "-----------  -----------  -------------------  --------------------  ----------------\n",
      "START        START                  -32.2813   -29.35173             [-1.6387762]\n",
      "START        GROWL_LEFT              -5.65907  [2.657101]            -1.1301928\n",
      "START        GROWL_RIGHT            -28.1767   -29.183222            [-2.0708547]\n",
      "GROWL_LEFT   START                  -33.0474   -24.344137            [-0.89108145]\n",
      "GROWL_LEFT   GROWL_LEFT              -7.99058  -7.745365             [-0.99069476]\n",
      "GROWL_LEFT   GROWL_RIGHT            -32.8479   -23.874157            [-0.85201]\n",
      "GROWL_RIGHT  START                  -31.1187   -25.557198            [-1.1325796]\n",
      "GROWL_RIGHT  GROWL_LEFT             -12.165    -14.36685             [-2.0935092]\n",
      "GROWL_LEFT   GROWL_LEFT              -7.99058  -7.745365             [-0.99069476]\n"
     ]
    },
    {
     "data": {
      "text/plain": [
       "[('START, START', 120),\n",
       " ('START, GROWL_RIGHT', 73),\n",
       " ('GROWL_RIGHT, START', 72),\n",
       " ('GROWL_LEFT, START', 68),\n",
       " ('START, GROWL_LEFT', 65),\n",
       " ('GROWL_RIGHT, GROWL_RIGHT', 63),\n",
       " ('GROWL_RIGHT, GROWL_LEFT', 23),\n",
       " ('GROWL_LEFT, GROWL_LEFT', 16),\n",
       " ('GROWL_LEFT, GROWL_RIGHT', 10)]"
      ]
     },
     "metadata": {},
     "output_type": "display_data"
    },
    {
     "data": {
      "text/plain": [
       "[('START, START => OPEN_RIGHT', 51),\n",
       " ('START, START => LISTEN', 47),\n",
       " ('START, GROWL_LEFT => LISTEN', 47),\n",
       " ('GROWL_RIGHT, START => LISTEN', 43),\n",
       " ('GROWL_LEFT, START => LISTEN', 35),\n",
       " ('GROWL_RIGHT, GROWL_RIGHT => LISTEN', 33),\n",
       " ('START, GROWL_RIGHT => OPEN_RIGHT', 29),\n",
       " ('START, GROWL_RIGHT => LISTEN', 29),\n",
       " ('GROWL_LEFT, START => OPEN_LEFT', 25),\n",
       " ('START, START => OPEN_LEFT', 22),\n",
       " ('GROWL_RIGHT, GROWL_RIGHT => OPEN_LEFT', 21),\n",
       " ('GROWL_RIGHT, GROWL_LEFT => LISTEN', 17),\n",
       " ('START, GROWL_RIGHT => OPEN_LEFT', 15),\n",
       " ('GROWL_RIGHT, START => OPEN_LEFT', 15),\n",
       " ('GROWL_RIGHT, START => OPEN_RIGHT', 14),\n",
       " ('GROWL_LEFT, GROWL_LEFT => LISTEN', 13),\n",
       " ('START, GROWL_LEFT => OPEN_RIGHT', 12),\n",
       " ('GROWL_LEFT, GROWL_RIGHT => LISTEN', 9),\n",
       " ('GROWL_RIGHT, GROWL_RIGHT => OPEN_RIGHT', 9),\n",
       " ('GROWL_LEFT, START => OPEN_RIGHT', 8),\n",
       " ('START, GROWL_LEFT => OPEN_LEFT', 6),\n",
       " ('GROWL_RIGHT, GROWL_LEFT => OPEN_LEFT', 3),\n",
       " ('GROWL_LEFT, GROWL_LEFT => OPEN_RIGHT', 3),\n",
       " ('GROWL_RIGHT, GROWL_LEFT => OPEN_RIGHT', 3),\n",
       " ('GROWL_LEFT, GROWL_RIGHT => OPEN_LEFT', 1)]"
      ]
     },
     "metadata": {},
     "output_type": "display_data"
    },
    {
     "name": "stdout",
     "output_type": "stream",
     "text": [
      "avg reward for last 100 episodes: -58.1\n",
      "total steps: -3686.0\n"
     ]
    }
   ],
   "source": [
    "offset = offset + n\n",
    "for n in range(N):\n",
    "    eps = 1/(n+offset+1)**(1/5)\n",
    "    totalreward = play_one(env, model, tmodel, eps, gamma,\n",
    "                           copy_period, max_steps=10)\n",
    "    totalrewards[n] = totalreward\n",
    "    if n % 10 == 0:\n",
    "        ravg = running_avg(totalrewards, n)\n",
    "        print('episode:', n,\n",
    "              'total reward:', totalreward,\n",
    "              'eps:', eps,\n",
    "              'avg reward (last 100):', ravg)\n",
    "        Q = []\n",
    "        for perm in obs_perms:\n",
    "            o1, o2 = perm\n",
    "            model.last_n_obs = perm\n",
    "            _o1 = env.translate_obs(o1)\n",
    "            _o2 = env.translate_obs(o2)\n",
    "            pred = model.predict(o2, update=False)\n",
    "            best_action_idx = np.argmax(pred[0])\n",
    "            action_values = pred[0].astype(str)\n",
    "            action_values[best_action_idx] =  '[' + action_values[best_action_idx] + ']'\n",
    "            a_openl, a_openr, a_listen = action_values\n",
    "            Q.append([_o1, _o2, a_openl, a_openr, a_listen])\n",
    "        print(tabulate(Q, headers=['obs1', 'obs2', 'OPEN LEFT Q Value', 'OPEN RIGHT Q Value', 'LISTEN Q Value']))\n",
    "        display(sorted(model.train_obs_seq_counts.items(), key=lambda x: x[1], reverse=True))\n",
    "        display(sorted(model.train_obs_seq_action_counts.items(), key=lambda x: x[1], reverse=True))\n",
    "\n",
    "print('avg reward for last 100 episodes:', totalrewards[-10:].mean())\n",
    "print('total steps:', totalrewards.sum())"
   ]
  }
 ],
 "metadata": {
  "kernelspec": {
   "display_name": "conda (rlpomdp)",
   "language": "python",
   "name": "rlpomdp"
  },
  "language_info": {
   "codemirror_mode": {
    "name": "ipython",
    "version": 3
   },
   "file_extension": ".py",
   "mimetype": "text/x-python",
   "name": "python",
   "nbconvert_exporter": "python",
   "pygments_lexer": "ipython3",
   "version": "3.6.8"
  },
  "toc": {
   "base_numbering": 1,
   "nav_menu": {},
   "number_sections": true,
   "sideBar": true,
   "skip_h1_title": false,
   "title_cell": "Table of Contents",
   "title_sidebar": "Contents",
   "toc_cell": false,
   "toc_position": {},
   "toc_section_display": true,
   "toc_window_display": true
  },
  "varInspector": {
   "cols": {
    "lenName": 16,
    "lenType": 16,
    "lenVar": 40
   },
   "kernels_config": {
    "python": {
     "delete_cmd_postfix": "",
     "delete_cmd_prefix": "del ",
     "library": "var_list.py",
     "varRefreshCmd": "print(var_dic_list())"
    },
    "r": {
     "delete_cmd_postfix": ") ",
     "delete_cmd_prefix": "rm(",
     "library": "var_list.r",
     "varRefreshCmd": "cat(var_dic_list()) "
    }
   },
   "position": {
    "height": "146px",
    "left": "1340.65625px",
    "right": "20px",
    "top": "123px",
    "width": "352px"
   },
   "types_to_exclude": [
    "module",
    "function",
    "builtin_function_or_method",
    "instance",
    "_Feature"
   ],
   "window_display": false
  }
 },
 "nbformat": 4,
 "nbformat_minor": 2
}
