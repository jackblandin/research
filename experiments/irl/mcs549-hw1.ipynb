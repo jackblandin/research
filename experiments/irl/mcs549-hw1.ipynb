{
 "cells": [
  {
   "cell_type": "code",
   "execution_count": 16,
   "id": "78ddc241",
   "metadata": {
    "ExecuteTime": {
     "end_time": "2023-10-06T15:35:24.239050Z",
     "start_time": "2023-10-06T15:35:24.231736Z"
    }
   },
   "outputs": [],
   "source": [
    "import numpy as np"
   ]
  },
  {
   "cell_type": "code",
   "execution_count": 51,
   "id": "9d164fda",
   "metadata": {
    "ExecuteTime": {
     "end_time": "2023-10-06T15:53:36.111346Z",
     "start_time": "2023-10-06T15:53:36.092018Z"
    }
   },
   "outputs": [],
   "source": [
    "def hitting_time_neq4():\n",
    "    # Graph:\n",
    "    # a <-> b <-> c <-> d <-> a\n",
    "    ht = 0\n",
    "    state = 'a'\n",
    "    while state != 'b':\n",
    "        ht += 1\n",
    "        r = np.random.rand()\n",
    "        if state == 'a':\n",
    "            if r <= .5:\n",
    "                state = 'b'\n",
    "            else:\n",
    "                state = 'd'\n",
    "        elif state == 'd':\n",
    "            if r <= .5:\n",
    "                state = 'a'\n",
    "            else:\n",
    "                state = 'c'\n",
    "        elif state == 'c':\n",
    "            if r <= .5:\n",
    "                state = 'b'\n",
    "            else:\n",
    "                state = 'd'\n",
    "        else:\n",
    "            raise ValueError('Should not get here.')\n",
    "\n",
    "    return ht\n",
    "\n",
    "def hitting_time_neq5():\n",
    "    # Graph:\n",
    "    # a <-> b <-> c <-> d <-> e <-> a\n",
    "    ht = 0\n",
    "    state = 'a'\n",
    "    while state != 'b':\n",
    "        ht += 1\n",
    "        r = np.random.rand()\n",
    "        if state == 'a':\n",
    "            if r <= .5:\n",
    "                state = 'b'\n",
    "            else:\n",
    "                state = 'e'\n",
    "        elif state == 'e':\n",
    "            if r <= .5:\n",
    "                state = 'a'\n",
    "            else:\n",
    "                state = 'd'\n",
    "        elif state == 'd':\n",
    "            if r <= .5:\n",
    "                state = 'e'\n",
    "            else:\n",
    "                state = 'c'\n",
    "        elif state == 'c':\n",
    "            if r <= .5:\n",
    "                state = 'b'\n",
    "            else:\n",
    "                state = 'd'\n",
    "        else:\n",
    "            raise ValueError('Should not get here.')\n",
    "\n",
    "    return ht\n",
    "\n",
    "\n",
    "def hitting_time_neq6():\n",
    "    # Graph:\n",
    "    # a <-> b <-> f <-> c <-> d <-> e <-> a\n",
    "    ht = 0\n",
    "    state = 'a'\n",
    "    while state != 'b':\n",
    "        ht += 1\n",
    "        r = np.random.rand()\n",
    "        if state == 'a':\n",
    "            if r <= .5:\n",
    "                state = 'b'\n",
    "            else:\n",
    "                state = 'e'\n",
    "        elif state == 'e':\n",
    "            if r <= .5:\n",
    "                state = 'a'\n",
    "            else:\n",
    "                state = 'd'\n",
    "        elif state == 'd':\n",
    "            if r <= .5:\n",
    "                state = 'e'\n",
    "            else:\n",
    "                state = 'c'\n",
    "        elif state == 'c':\n",
    "            if r <= .5:\n",
    "                state = 'f'\n",
    "            else:\n",
    "                state = 'd'\n",
    "        elif state == 'f':\n",
    "            if r <= .5:\n",
    "                state = 'b'\n",
    "            else:\n",
    "                state = 'c'\n",
    "        else:\n",
    "            raise ValueError('Should not get here.')\n",
    "\n",
    "    return ht\n",
    "\n",
    "\n",
    "def hitting_time_neq7():\n",
    "    # Graph:\n",
    "    # a <-> b <-> g <-> f <-> c <-> d <-> e <-> a\n",
    "    ht = 0\n",
    "    state = 'a'\n",
    "    while state != 'b':\n",
    "        ht += 1\n",
    "        r = np.random.rand()\n",
    "        if state == 'a':\n",
    "            if r <= .5:\n",
    "                state = 'b'\n",
    "            else:\n",
    "                state = 'e'\n",
    "        elif state == 'e':\n",
    "            if r <= .5:\n",
    "                state = 'a'\n",
    "            else:\n",
    "                state = 'd'\n",
    "        elif state == 'd':\n",
    "            if r <= .5:\n",
    "                state = 'e'\n",
    "            else:\n",
    "                state = 'c'\n",
    "        elif state == 'c':\n",
    "            if r <= .5:\n",
    "                state = 'f'\n",
    "            else:\n",
    "                state = 'd'\n",
    "        elif state == 'f':\n",
    "            if r <= .5:\n",
    "                state = 'g'\n",
    "            else:\n",
    "                state = 'c'\n",
    "        elif state == 'g':\n",
    "            if r <= .5:\n",
    "                state = 'b'\n",
    "            else:\n",
    "                state = 'f'\n",
    "        else:\n",
    "            raise ValueError('Should not get here.')\n",
    "\n",
    "    return ht"
   ]
  },
  {
   "cell_type": "code",
   "execution_count": 53,
   "id": "0577378d",
   "metadata": {
    "ExecuteTime": {
     "end_time": "2023-10-06T15:53:39.829797Z",
     "start_time": "2023-10-06T15:53:39.809546Z"
    },
    "code_folding": [
     0,
     26,
     56
    ]
   },
   "outputs": [],
   "source": [
    "def hitting_time_neq4_edge_removed():\n",
    "    # Graph:\n",
    "    # b <-> c <-> d <-> a\n",
    "    ht = 0\n",
    "    state = 'a'\n",
    "    while state != 'b':\n",
    "        ht += 1\n",
    "        r = np.random.rand()\n",
    "        if state == 'a':\n",
    "            state = 'd'\n",
    "        elif state == 'd':\n",
    "            if r <= .5:\n",
    "                state = 'a'\n",
    "            else:\n",
    "                state = 'c'\n",
    "        elif state == 'c':\n",
    "            if r <= .5:\n",
    "                state = 'b'\n",
    "            else:\n",
    "                state = 'd'\n",
    "        else:\n",
    "            raise ValueError('Should not get here.')\n",
    "\n",
    "    return ht\n",
    "\n",
    "\n",
    "def hitting_time_neq5_edge_removed():\n",
    "    # Graph:\n",
    "    # b <-> c <-> d <-> e <-> a\n",
    "    ht = 0\n",
    "    state = 'a'\n",
    "    while state != 'b':\n",
    "        ht += 1\n",
    "        r = np.random.rand()\n",
    "        if state == 'a':\n",
    "            state = 'e'\n",
    "        elif state == 'e':\n",
    "            if r <= .5:\n",
    "                state = 'a'\n",
    "            else:\n",
    "                state = 'd'\n",
    "        elif state == 'd':\n",
    "            if r <= .5:\n",
    "                state = 'e'\n",
    "            else:\n",
    "                state = 'c'\n",
    "        elif state == 'c':\n",
    "            if r <= .5:\n",
    "                state = 'b'\n",
    "            else:\n",
    "                state = 'd'\n",
    "        else:\n",
    "            raise ValueError('Should not get here.')\n",
    "\n",
    "    return ht\n",
    "\n",
    "\n",
    "def hitting_time_neq6_edge_removed():\n",
    "    # Graph:\n",
    "    # a b <-> f <-> c <-> d <-> e <-> a\n",
    "    ht = 0\n",
    "    state = 'a'\n",
    "    while state != 'b':\n",
    "        ht += 1\n",
    "        r = np.random.rand()\n",
    "        if state == 'a':\n",
    "            state = 'e'\n",
    "        elif state == 'e':\n",
    "            if r <= .5:\n",
    "                state = 'a'\n",
    "            else:\n",
    "                state = 'd'\n",
    "        elif state == 'd':\n",
    "            if r <= .5:\n",
    "                state = 'e'\n",
    "            else:\n",
    "                state = 'c'\n",
    "        elif state == 'c':\n",
    "            if r <= .5:\n",
    "                state = 'f'\n",
    "            else:\n",
    "                state = 'd'\n",
    "        elif state == 'f':\n",
    "            if r <= .5:\n",
    "                state = 'b'\n",
    "            else:\n",
    "                state = 'c'\n",
    "        else:\n",
    "            raise ValueError('Should not get here.')\n",
    "\n",
    "    return ht"
   ]
  },
  {
   "cell_type": "code",
   "execution_count": 54,
   "id": "a2e25cd4",
   "metadata": {
    "ExecuteTime": {
     "end_time": "2023-10-06T15:53:40.570261Z",
     "start_time": "2023-10-06T15:53:40.072412Z"
    }
   },
   "outputs": [
    {
     "name": "stdout",
     "output_type": "stream",
     "text": [
      "n=4 2.98766\n",
      "n=5 4.01231\n",
      "n=6 4.99012\n",
      "n=7 6.01656\n"
     ]
    }
   ],
   "source": [
    "print('n=4', np.mean([hitting_time_neq4() for _ in range(100_000)]))\n",
    "print('n=5', np.mean([hitting_time_neq5() for _ in range(100_000)]))\n",
    "print('n=6', np.mean([hitting_time_neq6() for _ in range(100_000)]))\n",
    "print('n=7', np.mean([hitting_time_neq7() for _ in range(100_000)]))"
   ]
  },
  {
   "cell_type": "code",
   "execution_count": 48,
   "id": "8d3be208",
   "metadata": {
    "ExecuteTime": {
     "end_time": "2023-10-06T15:49:54.746575Z",
     "start_time": "2023-10-06T15:49:53.523090Z"
    }
   },
   "outputs": [
    {
     "name": "stdout",
     "output_type": "stream",
     "text": [
      "Edge removed\n",
      "n=4 8.99748\n",
      "n=5 15.93624\n",
      "n=6 25.0681\n"
     ]
    }
   ],
   "source": [
    "print('Edge removed')\n",
    "print('n=4', np.mean([hitting_time_neq4_edge_removed() for _ in range(100_000)]))\n",
    "print('n=5', np.mean([hitting_time_neq5_edge_removed() for _ in range(100_000)]))\n",
    "print('n=6', np.mean([hitting_time_neq6_edge_removed() for _ in range(100_000)]))"
   ]
  },
  {
   "cell_type": "code",
   "execution_count": 39,
   "id": "a8cfd286",
   "metadata": {
    "ExecuteTime": {
     "end_time": "2023-10-06T15:44:09.097236Z",
     "start_time": "2023-10-06T15:44:08.962668Z"
    }
   },
   "outputs": [
    {
     "data": {
      "text/plain": [
       "3.99557"
      ]
     },
     "metadata": {},
     "output_type": "display_data"
    }
   ],
   "source": [
    "# Simulate the hitting time.\n",
    "hts = [hitting_time_neq5() for _ in range(100_000)]\n",
    "\n",
    "# Print the hitting time.\n",
    "display(np.mean(hts))"
   ]
  },
  {
   "cell_type": "code",
   "execution_count": 41,
   "id": "a7ab81ae",
   "metadata": {
    "ExecuteTime": {
     "end_time": "2023-10-06T15:44:50.050444Z",
     "start_time": "2023-10-06T15:44:49.805535Z"
    }
   },
   "outputs": [
    {
     "data": {
      "text/plain": [
       "8.99164"
      ]
     },
     "metadata": {},
     "output_type": "display_data"
    }
   ],
   "source": [
    "# Simulate the hitting time.\n",
    "hts = [hitting_time_neq4_edge_removed() for _ in range(100_000)]\n",
    "\n",
    "# Print the hitting time.\n",
    "display(np.mean(hts))"
   ]
  },
  {
   "cell_type": "code",
   "execution_count": 43,
   "id": "85c8e29b",
   "metadata": {
    "ExecuteTime": {
     "end_time": "2023-10-06T15:45:31.346857Z",
     "start_time": "2023-10-06T15:45:30.930901Z"
    }
   },
   "outputs": [
    {
     "data": {
      "text/plain": [
       "16.04822"
      ]
     },
     "metadata": {},
     "output_type": "display_data"
    }
   ],
   "source": [
    "# Simulate the hitting time.\n",
    "hts = [hitting_time_neq5_edge_removed() for _ in range(100_000)]\n",
    "\n",
    "# Print the hitting time.\n",
    "display(np.mean(hts))"
   ]
  },
  {
   "cell_type": "code",
   "execution_count": 74,
   "id": "117afbcd",
   "metadata": {
    "ExecuteTime": {
     "end_time": "2023-10-06T16:04:33.230497Z",
     "start_time": "2023-10-06T16:04:33.218303Z"
    }
   },
   "outputs": [],
   "source": [
    "def geo1(n):\n",
    "    _sum = 0\n",
    "    for i in range(0, n):\n",
    "        _sum += 1 / (2**(n-2))\n",
    "    return _sum\n",
    "\n",
    "def geo2(n):\n",
    "    _sum = 0\n",
    "    for i in range(0, n):\n",
    "        _sum += 2*(1-(1/2)**n)\n",
    "    return _sum"
   ]
  },
  {
   "cell_type": "code",
   "execution_count": 75,
   "id": "20942efd",
   "metadata": {
    "ExecuteTime": {
     "end_time": "2023-10-06T16:04:33.748154Z",
     "start_time": "2023-10-06T16:04:33.733382Z"
    }
   },
   "outputs": [
    {
     "data": {
      "text/plain": [
       "0.0390625"
      ]
     },
     "execution_count": 75,
     "metadata": {},
     "output_type": "execute_result"
    }
   ],
   "source": [
    "geo1(10)"
   ]
  },
  {
   "cell_type": "code",
   "execution_count": 82,
   "id": "7925c416",
   "metadata": {
    "ExecuteTime": {
     "end_time": "2023-10-06T16:04:45.474821Z",
     "start_time": "2023-10-06T16:04:45.460795Z"
    }
   },
   "outputs": [
    {
     "data": {
      "text/plain": [
       "7.5"
      ]
     },
     "execution_count": 82,
     "metadata": {},
     "output_type": "execute_result"
    }
   ],
   "source": [
    "geo2(4)"
   ]
  },
  {
   "cell_type": "code",
   "execution_count": null,
   "id": "e51fbac6",
   "metadata": {},
   "outputs": [],
   "source": []
  }
 ],
 "metadata": {
  "kernelspec": {
   "display_name": "Python 3 (ipykernel)",
   "language": "python",
   "name": "python3"
  },
  "language_info": {
   "codemirror_mode": {
    "name": "ipython",
    "version": 3
   },
   "file_extension": ".py",
   "mimetype": "text/x-python",
   "name": "python",
   "nbconvert_exporter": "python",
   "pygments_lexer": "ipython3",
   "version": "3.10.6"
  },
  "toc": {
   "base_numbering": 1,
   "nav_menu": {},
   "number_sections": true,
   "sideBar": true,
   "skip_h1_title": false,
   "title_cell": "Table of Contents",
   "title_sidebar": "Contents",
   "toc_cell": false,
   "toc_position": {},
   "toc_section_display": true,
   "toc_window_display": false
  },
  "varInspector": {
   "cols": {
    "lenName": 16,
    "lenType": 16,
    "lenVar": 40
   },
   "kernels_config": {
    "python": {
     "delete_cmd_postfix": "",
     "delete_cmd_prefix": "del ",
     "library": "var_list.py",
     "varRefreshCmd": "print(var_dic_list())"
    },
    "r": {
     "delete_cmd_postfix": ") ",
     "delete_cmd_prefix": "rm(",
     "library": "var_list.r",
     "varRefreshCmd": "cat(var_dic_list()) "
    }
   },
   "types_to_exclude": [
    "module",
    "function",
    "builtin_function_or_method",
    "instance",
    "_Feature"
   ],
   "window_display": false
  }
 },
 "nbformat": 4,
 "nbformat_minor": 5
}
