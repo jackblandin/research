{
 "cells": [
  {
   "cell_type": "markdown",
   "id": "6f8a9706",
   "metadata": {},
   "source": [
    "# Setup"
   ]
  },
  {
   "cell_type": "code",
   "execution_count": 37,
   "id": "8b9ff4b5",
   "metadata": {
    "ExecuteTime": {
     "end_time": "2023-05-11T21:57:32.848677Z",
     "start_time": "2023-05-11T21:57:32.810791Z"
    },
    "code_folding": []
   },
   "outputs": [
    {
     "name": "stdout",
     "output_type": "stream",
     "text": [
      "The autoreload extension is already loaded. To reload it, use:\n",
      "  %reload_ext autoreload\n"
     ]
    },
    {
     "data": {
      "text/html": [
       "<style>.container { width:1800px !important; }</style>"
      ],
      "text/plain": [
       "<IPython.core.display.HTML object>"
      ]
     },
     "metadata": {},
     "output_type": "display_data"
    }
   ],
   "source": [
    "# Add parent directory to current path. Needed for research imports.\n",
    "import os.path\n",
    "import sys\n",
    "p = os.path.abspath('../..')\n",
    "if p not in sys.path:\n",
    "    sys.path.insert(0,p)\n",
    "\n",
    "# Enable hot reloading\n",
    "%load_ext autoreload\n",
    "%autoreload 2\n",
    "\n",
    "\n",
    "import logging\n",
    "import matplotlib.pyplot as plt\n",
    "import numpy as np\n",
    "import pandas as pd\n",
    "import seaborn as sns\n",
    "from experiments.irl.fair_irl import *\n",
    "from imblearn.under_sampling import RandomUnderSampler\n",
    "from research.irl.fair_irl import *\n",
    "from research.ml.svm import SVM\n",
    "from research.utils import *\n",
    "from sklearn.dummy import DummyClassifier\n",
    "from sklearn.ensemble import RandomForestClassifier\n",
    "from sklearn.model_selection import train_test_split, KFold\n",
    "\n",
    "\n",
    "logging.basicConfig(level=logging.INFO)\n",
    "\n",
    "cp = sns.color_palette()\n",
    "\n",
    "from IPython.display import display, HTML\n",
    "display(HTML(\"<style>.container { width:1800px !important; }</style>\"))\n",
    "pd.set_option('display.max_colwidth', None)"
   ]
  },
  {
   "cell_type": "markdown",
   "id": "29943066",
   "metadata": {},
   "source": [
    "# Read in Adult dataset"
   ]
  },
  {
   "cell_type": "code",
   "execution_count": 97,
   "id": "946a48df",
   "metadata": {
    "ExecuteTime": {
     "end_time": "2023-05-11T22:25:31.055908Z",
     "start_time": "2023-05-11T22:25:30.945850Z"
    },
    "code_folding": [],
    "scrolled": false
   },
   "outputs": [
    {
     "name": "stderr",
     "output_type": "stream",
     "text": [
      "INFO:root:Dataset count of each z, y group\n",
      "INFO:root:\n",
      "\t      y          \n",
      "\t  count      mean\n",
      "\tz                \n",
      "\t0   766  0.154047\n",
      "\t1  4234  0.252480\n",
      "\n"
     ]
    },
    {
     "data": {
      "text/html": [
       "<div>\n",
       "<style scoped>\n",
       "    .dataframe tbody tr th:only-of-type {\n",
       "        vertical-align: middle;\n",
       "    }\n",
       "\n",
       "    .dataframe tbody tr th {\n",
       "        vertical-align: top;\n",
       "    }\n",
       "\n",
       "    .dataframe thead th {\n",
       "        text-align: right;\n",
       "    }\n",
       "</style>\n",
       "<table border=\"1\" class=\"dataframe\">\n",
       "  <thead>\n",
       "    <tr style=\"text-align: right;\">\n",
       "      <th></th>\n",
       "      <th>age</th>\n",
       "      <th>workclass</th>\n",
       "      <th>fnlwgt</th>\n",
       "      <th>education</th>\n",
       "      <th>educational-num</th>\n",
       "      <th>marital-status</th>\n",
       "      <th>occupation</th>\n",
       "      <th>relationship</th>\n",
       "      <th>race</th>\n",
       "      <th>gender</th>\n",
       "      <th>capital-gain</th>\n",
       "      <th>capital-loss</th>\n",
       "      <th>hours-per-week</th>\n",
       "      <th>native-country</th>\n",
       "      <th>income</th>\n",
       "      <th>is_income_over_50k</th>\n",
       "      <th>is_race_white</th>\n",
       "      <th>z</th>\n",
       "      <th>y</th>\n",
       "    </tr>\n",
       "  </thead>\n",
       "  <tbody>\n",
       "    <tr>\n",
       "      <th>1673</th>\n",
       "      <td>62</td>\n",
       "      <td>Private</td>\n",
       "      <td>664366</td>\n",
       "      <td>Bachelors</td>\n",
       "      <td>13</td>\n",
       "      <td>Married-civ-spouse</td>\n",
       "      <td>Sales</td>\n",
       "      <td>Husband</td>\n",
       "      <td>White</td>\n",
       "      <td>Male</td>\n",
       "      <td>0</td>\n",
       "      <td>0</td>\n",
       "      <td>60</td>\n",
       "      <td>United-States</td>\n",
       "      <td>&gt;50K</td>\n",
       "      <td>True</td>\n",
       "      <td>True</td>\n",
       "      <td>1</td>\n",
       "      <td>1</td>\n",
       "    </tr>\n",
       "    <tr>\n",
       "      <th>1172</th>\n",
       "      <td>45</td>\n",
       "      <td>Private</td>\n",
       "      <td>337825</td>\n",
       "      <td>HS-grad</td>\n",
       "      <td>9</td>\n",
       "      <td>Married-civ-spouse</td>\n",
       "      <td>Craft-repair</td>\n",
       "      <td>Husband</td>\n",
       "      <td>White</td>\n",
       "      <td>Male</td>\n",
       "      <td>0</td>\n",
       "      <td>0</td>\n",
       "      <td>45</td>\n",
       "      <td>United-States</td>\n",
       "      <td>&lt;=50K</td>\n",
       "      <td>False</td>\n",
       "      <td>True</td>\n",
       "      <td>1</td>\n",
       "      <td>0</td>\n",
       "    </tr>\n",
       "    <tr>\n",
       "      <th>998</th>\n",
       "      <td>38</td>\n",
       "      <td>Self-emp-not-inc</td>\n",
       "      <td>589838</td>\n",
       "      <td>HS-grad</td>\n",
       "      <td>9</td>\n",
       "      <td>Married-civ-spouse</td>\n",
       "      <td>Craft-repair</td>\n",
       "      <td>Husband</td>\n",
       "      <td>White</td>\n",
       "      <td>Male</td>\n",
       "      <td>0</td>\n",
       "      <td>0</td>\n",
       "      <td>47</td>\n",
       "      <td>United-States</td>\n",
       "      <td>&lt;=50K</td>\n",
       "      <td>False</td>\n",
       "      <td>True</td>\n",
       "      <td>1</td>\n",
       "      <td>0</td>\n",
       "    </tr>\n",
       "    <tr>\n",
       "      <th>989</th>\n",
       "      <td>50</td>\n",
       "      <td>Private</td>\n",
       "      <td>162632</td>\n",
       "      <td>HS-grad</td>\n",
       "      <td>9</td>\n",
       "      <td>Married-civ-spouse</td>\n",
       "      <td>Exec-managerial</td>\n",
       "      <td>Husband</td>\n",
       "      <td>White</td>\n",
       "      <td>Male</td>\n",
       "      <td>0</td>\n",
       "      <td>0</td>\n",
       "      <td>45</td>\n",
       "      <td>United-States</td>\n",
       "      <td>&lt;=50K</td>\n",
       "      <td>False</td>\n",
       "      <td>True</td>\n",
       "      <td>1</td>\n",
       "      <td>0</td>\n",
       "    </tr>\n",
       "    <tr>\n",
       "      <th>1810</th>\n",
       "      <td>39</td>\n",
       "      <td>Private</td>\n",
       "      <td>177140</td>\n",
       "      <td>HS-grad</td>\n",
       "      <td>9</td>\n",
       "      <td>Separated</td>\n",
       "      <td>Adm-clerical</td>\n",
       "      <td>Not-in-family</td>\n",
       "      <td>White</td>\n",
       "      <td>Male</td>\n",
       "      <td>0</td>\n",
       "      <td>0</td>\n",
       "      <td>40</td>\n",
       "      <td>United-States</td>\n",
       "      <td>&gt;50K</td>\n",
       "      <td>True</td>\n",
       "      <td>True</td>\n",
       "      <td>1</td>\n",
       "      <td>1</td>\n",
       "    </tr>\n",
       "  </tbody>\n",
       "</table>\n",
       "</div>"
      ],
      "text/plain": [
       "      age         workclass  fnlwgt  education  educational-num  \\\n",
       "1673   62           Private  664366  Bachelors               13   \n",
       "1172   45           Private  337825    HS-grad                9   \n",
       "998    38  Self-emp-not-inc  589838    HS-grad                9   \n",
       "989    50           Private  162632    HS-grad                9   \n",
       "1810   39           Private  177140    HS-grad                9   \n",
       "\n",
       "          marital-status       occupation   relationship   race gender  \\\n",
       "1673  Married-civ-spouse            Sales        Husband  White   Male   \n",
       "1172  Married-civ-spouse     Craft-repair        Husband  White   Male   \n",
       "998   Married-civ-spouse     Craft-repair        Husband  White   Male   \n",
       "989   Married-civ-spouse  Exec-managerial        Husband  White   Male   \n",
       "1810           Separated     Adm-clerical  Not-in-family  White   Male   \n",
       "\n",
       "      capital-gain  capital-loss  hours-per-week native-country income  \\\n",
       "1673             0             0              60  United-States   >50K   \n",
       "1172             0             0              45  United-States  <=50K   \n",
       "998              0             0              47  United-States  <=50K   \n",
       "989              0             0              45  United-States  <=50K   \n",
       "1810             0             0              40  United-States   >50K   \n",
       "\n",
       "      is_income_over_50k  is_race_white  z  y  \n",
       "1673                True           True  1  1  \n",
       "1172               False           True  1  0  \n",
       "998                False           True  1  0  \n",
       "989                False           True  1  0  \n",
       "1810                True           True  1  1  "
      ]
     },
     "metadata": {},
     "output_type": "display_data"
    },
    {
     "data": {
      "text/html": [
       "<div>\n",
       "<style scoped>\n",
       "    .dataframe tbody tr th:only-of-type {\n",
       "        vertical-align: middle;\n",
       "    }\n",
       "\n",
       "    .dataframe tbody tr th {\n",
       "        vertical-align: top;\n",
       "    }\n",
       "\n",
       "    .dataframe thead th {\n",
       "        text-align: right;\n",
       "    }\n",
       "</style>\n",
       "<table border=\"1\" class=\"dataframe\">\n",
       "  <thead>\n",
       "    <tr style=\"text-align: right;\">\n",
       "      <th></th>\n",
       "      <th></th>\n",
       "      <th>count</th>\n",
       "      <th>mean_y</th>\n",
       "    </tr>\n",
       "    <tr>\n",
       "      <th>z</th>\n",
       "      <th>gender</th>\n",
       "      <th></th>\n",
       "      <th></th>\n",
       "    </tr>\n",
       "  </thead>\n",
       "  <tbody>\n",
       "    <tr>\n",
       "      <th>1</th>\n",
       "      <th>Male</th>\n",
       "      <td>1572</td>\n",
       "      <td>0.594148</td>\n",
       "    </tr>\n",
       "    <tr>\n",
       "      <th>0</th>\n",
       "      <th>Male</th>\n",
       "      <td>199</td>\n",
       "      <td>0.477387</td>\n",
       "    </tr>\n",
       "    <tr>\n",
       "      <th>1</th>\n",
       "      <th>Female</th>\n",
       "      <td>488</td>\n",
       "      <td>0.276639</td>\n",
       "    </tr>\n",
       "    <tr>\n",
       "      <th>0</th>\n",
       "      <th>Female</th>\n",
       "      <td>115</td>\n",
       "      <td>0.200000</td>\n",
       "    </tr>\n",
       "  </tbody>\n",
       "</table>\n",
       "</div>"
      ],
      "text/plain": [
       "          count    mean_y\n",
       "z gender                 \n",
       "1 Male     1572  0.594148\n",
       "0 Male      199  0.477387\n",
       "1 Female    488  0.276639\n",
       "0 Female    115  0.200000"
      ]
     },
     "execution_count": 97,
     "metadata": {},
     "output_type": "execute_result"
    }
   ],
   "source": [
    "df, X, y = generate_adult_dataset(\n",
    "    filepath='./../../data/adult/adult.csv',\n",
    "    n=5_000,\n",
    ")\n",
    "rus = RandomUnderSampler(sampling_strategy=1)\n",
    "X, y = rus.fit_resample(X, y)\n",
    "df = X\n",
    "df['y'] = y\n",
    "\n",
    "display(df.sample(5))\n",
    "temp = (\n",
    "    df.groupby(['z', 'gender'])[['y']].agg(['count', 'mean'])\n",
    "    ['y'].sort_values(['mean', 'count'], ascending=False)\n",
    "    .rename(columns={'mean': 'mean_y'})\n",
    ")\n",
    "temp"
   ]
  },
  {
   "cell_type": "markdown",
   "id": "2f7644b0",
   "metadata": {},
   "source": [
    "# Split data for expert demonstrations and learned policy iterations."
   ]
  },
  {
   "cell_type": "code",
   "execution_count": 98,
   "id": "b0a4d139",
   "metadata": {
    "ExecuteTime": {
     "end_time": "2023-05-11T22:25:32.692325Z",
     "start_time": "2023-05-11T22:25:32.646754Z"
    }
   },
   "outputs": [],
   "source": [
    "##\n",
    "# Split data into two: (X_demo, y_demo), (X_irl_valid, y_irl_valid). The\n",
    "# former is used for generating the expert's demonstrations. The latter is\n",
    "# used in the IRL loop for learning the optimal policies for a given reward\n",
    "# function.\n",
    "##\n",
    "X_demo, X_irl_valid, y_demo, y_irl_valid = train_test_split(\n",
    "    X, y, test_size=.33)\n",
    "\n",
    "del X, y  # Make sure I don't acidentally use these variables later on"
   ]
  },
  {
   "cell_type": "markdown",
   "id": "32ab080e",
   "metadata": {},
   "source": [
    "# Generate Expert Demonstrations"
   ]
  },
  {
   "cell_type": "code",
   "execution_count": 99,
   "id": "699ae4af",
   "metadata": {
    "ExecuteTime": {
     "end_time": "2023-05-11T22:25:40.416097Z",
     "start_time": "2023-05-11T22:25:40.366089Z"
    }
   },
   "outputs": [],
   "source": [
    "##\n",
    "# These are the feature types that will be used in the classifier that will\n",
    "# produce the expert feature demonstrations.\n",
    "##\n",
    "expert_demo_feature_types = {\n",
    "    'boolean': [\n",
    "        'z',\n",
    "        'gender',\n",
    "    ],\n",
    "    'categoric': [\n",
    "        'workclass',\n",
    "#         'education',\n",
    "#         'marital-status',\n",
    "        # 'occupation',\n",
    "        # 'relationship',\n",
    "        # 'native-country',\n",
    "    ],\n",
    "    'continuous': [\n",
    "        # 'age',\n",
    "        # 'educational-num',\n",
    "        # 'capital-gain',\n",
    "        # 'capital-loss',\n",
    "        # 'hours-per-week',\n",
    "    ],\n",
    "    'meta': [\n",
    "        'fnlwgt'\n",
    "    ],\n",
    "}"
   ]
  },
  {
   "cell_type": "markdown",
   "id": "a05b611c",
   "metadata": {},
   "source": [
    "### Train classsifier on target variable "
   ]
  },
  {
   "cell_type": "code",
   "execution_count": 100,
   "id": "c72cca43",
   "metadata": {
    "ExecuteTime": {
     "end_time": "2023-05-11T22:25:42.299349Z",
     "start_time": "2023-05-11T22:25:42.164640Z"
    },
    "scrolled": false
   },
   "outputs": [
    {
     "name": "stderr",
     "output_type": "stream",
     "text": [
      "INFO:root:\n",
      "INFO:root:Generating expert demonstrations...\n",
      "INFO:root:\tStaring iteration 1/1\n",
      "INFO:root:\t\tChecking if classifier already fitted...\n",
      "INFO:root:\t\tFitting classifier...\n",
      "INFO:root:\t\tGenerating demo...\n",
      "INFO:root:\n",
      "\t     yhat          \n",
      "\t    count      mean\n",
      "\tz y                \n",
      "\t0 0    40  0.275000\n",
      "\t  1    29  0.827586\n",
      "\t1 0   230  0.378261\n",
      "\t  1   226  0.840708\n",
      "\n",
      "INFO:root:\t\tComputing feature expectations...\n",
      "INFO:root:\t\tmuE[0]: [0.7352381  0.53904762 0.98687824]\n",
      "INFO:root:[[0.7352381  0.53904762 0.98687824]]\n"
     ]
    },
    {
     "name": "stdout",
     "output_type": "stream",
     "text": [
      "0.8275862068965517 0.8407079646017699\n"
     ]
    }
   ],
   "source": [
    "clf_inst = RandomForestClassifier()\n",
    "m = 1\n",
    "muE, demosE = generate_expert_demonstrations(\n",
    "    X_demo, y_demo, expert_demo_feature_types, clf_inst, n_feat_exp=3, m=m,\n",
    ")\n",
    "logging.info(muE)"
   ]
  },
  {
   "cell_type": "markdown",
   "id": "c434b814",
   "metadata": {},
   "source": [
    "### Manually construct classifier to only care about fairness"
   ]
  },
  {
   "cell_type": "code",
   "execution_count": 87,
   "id": "751fb891",
   "metadata": {
    "ExecuteTime": {
     "end_time": "2023-05-11T22:14:56.994001Z",
     "start_time": "2023-05-11T22:14:56.942419Z"
    }
   },
   "outputs": [
    {
     "name": "stderr",
     "output_type": "stream",
     "text": [
      "INFO:root:\n",
      "INFO:root:Generating expert demonstrations...\n",
      "INFO:root:\tStaring iteration 1/1\n",
      "INFO:root:\t\tChecking if classifier already fitted...\n",
      "INFO:root:\t\tClassifier already fitted. Skipping fit.\n",
      "INFO:root:\t\tGenerating demo...\n",
      "INFO:root:\n",
      "\t     yhat          \n",
      "\t    count      mean\n",
      "\tz y                \n",
      "\t0 0    38  0.368421\n",
      "\t  1    18  0.222222\n",
      "\t1 0   232  0.370690\n",
      "\t  1   241  0.174274\n",
      "\n",
      "INFO:root:\t\tComputing feature expectations...\n",
      "INFO:root:\t\tmuE[0]: [0.40831758 0.79206049 0.95205164]\n",
      "INFO:root:[[0.40831758 0.79206049 0.95205164]]\n"
     ]
    },
    {
     "name": "stdout",
     "output_type": "stream",
     "text": [
      "0.2222222222222222 0.17427385892116182\n"
     ]
    }
   ],
   "source": [
    "lambda_female = lambda row: int(row['gender'] == 'Female')\n",
    "\n",
    "clf_inst = ManualClassifier(lambda_female)\n",
    "\n",
    "m = 1\n",
    "muE, demosE = generate_expert_demonstrations(\n",
    "    X_demo, y_demo, expert_demo_feature_types, clf_inst, n_feat_exp=3, m=m,\n",
    ")\n",
    "logging.info(muE)"
   ]
  },
  {
   "cell_type": "markdown",
   "id": "b4bfadee",
   "metadata": {
    "ExecuteTime": {
     "end_time": "2023-03-08T18:32:46.032416Z",
     "start_time": "2023-03-08T18:32:46.026164Z"
    }
   },
   "source": [
    "# IRL Loop"
   ]
  },
  {
   "cell_type": "code",
   "execution_count": 101,
   "id": "16b2354a",
   "metadata": {
    "ExecuteTime": {
     "end_time": "2023-05-11T22:26:08.929239Z",
     "start_time": "2023-05-11T22:25:48.653197Z"
    },
    "scrolled": false
   },
   "outputs": [
    {
     "name": "stderr",
     "output_type": "stream",
     "text": [
      "INFO:root:\n",
      "INFO:root:Generating initial policy 1/1\n",
      "INFO:root:\tFitting classifier...\n",
      "INFO:root:\t\tChecking if classifier already fitted...\n",
      "INFO:root:\t\tFitting classifier...\n",
      "INFO:root:\tGenerating demo...\n",
      "INFO:root:\tComputing feature expectations...\n",
      "INFO:root:\tmu: [array([0.49333333, 0.63619048, 0.88215488])]\n",
      "INFO:root:\n",
      "INFO:root:Starting IRL Loop ...\n",
      "INFO:root:\tIRL Loop iteration 1/4 ...\n",
      "INFO:root:\tFitting SVM classifier...\n",
      "INFO:root:\tFitting `y|x` predictor for clf policy...\n",
      "INFO:root:\tComputing the optimal policy given reward weights and `y|x` classifier...\n"
     ]
    },
    {
     "name": "stdout",
     "output_type": "stream",
     "text": [
      "0.36363636363636365 0.48148148148148145\n"
     ]
    },
    {
     "ename": "KeyboardInterrupt",
     "evalue": "",
     "output_type": "error",
     "traceback": [
      "\u001b[0;31m---------------------------------------------------------------------------\u001b[0m",
      "\u001b[0;31mKeyboardInterrupt\u001b[0m                         Traceback (most recent call last)",
      "Cell \u001b[0;32mIn[101], line 103\u001b[0m\n\u001b[1;32m    101\u001b[0m \u001b[38;5;66;03m# Learn a policy that maximizes the reward function.\u001b[39;00m\n\u001b[1;32m    102\u001b[0m logging\u001b[38;5;241m.\u001b[39minfo(\u001b[38;5;124m'\u001b[39m\u001b[38;5;130;01m\\t\u001b[39;00m\u001b[38;5;124mComputing the optimal policy given reward weights and `y|x` classifier...\u001b[39m\u001b[38;5;124m'\u001b[39m)\n\u001b[0;32m--> 103\u001b[0m clf_pol \u001b[38;5;241m=\u001b[39m \u001b[43mcompute_optimal_policy\u001b[49m\u001b[43m(\u001b[49m\n\u001b[1;32m    104\u001b[0m \u001b[43m    \u001b[49m\u001b[43mclf_df\u001b[49m\u001b[38;5;241;43m=\u001b[39;49m\u001b[43mvalid_df\u001b[49m\u001b[43m,\u001b[49m\n\u001b[1;32m    105\u001b[0m \u001b[43m    \u001b[49m\u001b[43mfeature_types\u001b[49m\u001b[38;5;241;43m=\u001b[39;49m\u001b[43mirl_loop_feature_types\u001b[49m\u001b[43m,\u001b[49m\n\u001b[1;32m    106\u001b[0m \u001b[43m    \u001b[49m\u001b[43mclf_inst\u001b[49m\u001b[38;5;241;43m=\u001b[39;49m\u001b[43mrf\u001b[49m\u001b[43m,\u001b[49m\n\u001b[1;32m    107\u001b[0m \u001b[43m    \u001b[49m\u001b[43mx_cols\u001b[49m\u001b[38;5;241;43m=\u001b[39;49m\u001b[43mx_cols\u001b[49m\u001b[43m,\u001b[49m\n\u001b[1;32m    108\u001b[0m \u001b[43m    \u001b[49m\u001b[43macc_weight\u001b[49m\u001b[38;5;241;43m=\u001b[39;49m\u001b[43mwi\u001b[49m\u001b[43m[\u001b[49m\u001b[38;5;241;43m0\u001b[39;49m\u001b[43m]\u001b[49m\u001b[43m,\u001b[49m\n\u001b[1;32m    109\u001b[0m \u001b[43m    \u001b[49m\u001b[43mdisp_imp_weight\u001b[49m\u001b[38;5;241;43m=\u001b[39;49m\u001b[43mwi\u001b[49m\u001b[43m[\u001b[49m\u001b[38;5;241;43m1\u001b[39;49m\u001b[43m]\u001b[49m\u001b[43m,\u001b[49m\n\u001b[1;32m    110\u001b[0m \u001b[43m\u001b[49m\u001b[43m)\u001b[49m\n\u001b[1;32m    112\u001b[0m \u001b[38;5;66;03m# Compute feature expectations of the learned policy\u001b[39;00m\n\u001b[1;32m    113\u001b[0m logging\u001b[38;5;241m.\u001b[39minfo(\u001b[38;5;124m'\u001b[39m\u001b[38;5;130;01m\\t\u001b[39;00m\u001b[38;5;124mGenerating learned demostration...\u001b[39m\u001b[38;5;124m'\u001b[39m)\n",
      "File \u001b[0;32m~/my/research/research/irl/fair_irl.py:121\u001b[0m, in \u001b[0;36mcompute_optimal_policy\u001b[0;34m(clf_df, feature_types, clf_inst, x_cols, acc_weight, disp_imp_weight)\u001b[0m\n\u001b[1;32m    113\u001b[0m clf_mdp \u001b[38;5;241m=\u001b[39m ClassificationMDP(\n\u001b[1;32m    114\u001b[0m     gamma\u001b[38;5;241m=\u001b[39mgamma,\n\u001b[1;32m    115\u001b[0m     x_cols\u001b[38;5;241m=\u001b[39mx_cols,\n\u001b[0;32m   (...)\u001b[0m\n\u001b[1;32m    118\u001b[0m     eq_opp_reward_weight\u001b[38;5;241m=\u001b[39mdisp_imp_weight,\n\u001b[1;32m    119\u001b[0m )\n\u001b[1;32m    120\u001b[0m clf_mdp\u001b[38;5;241m.\u001b[39mfit(clf_df)\n\u001b[0;32m--> 121\u001b[0m optimal_policies \u001b[38;5;241m=\u001b[39m \u001b[43mclf_mdp\u001b[49m\u001b[38;5;241;43m.\u001b[39;49m\u001b[43mcompute_optimal_policies\u001b[49m\u001b[43m(\u001b[49m\u001b[43m)\u001b[49m\n\u001b[1;32m    122\u001b[0m sampled_policy \u001b[38;5;241m=\u001b[39m optimal_policies[np\u001b[38;5;241m.\u001b[39mrandom\u001b[38;5;241m.\u001b[39mchoice(\u001b[38;5;28mlen\u001b[39m(optimal_policies))]\n\u001b[1;32m    124\u001b[0m clf \u001b[38;5;241m=\u001b[39m train_clf(\n\u001b[1;32m    125\u001b[0m     feature_types,\n\u001b[1;32m    126\u001b[0m     clf_inst,\n\u001b[1;32m    127\u001b[0m     clf_df\u001b[38;5;241m.\u001b[39miloc[:, :\u001b[38;5;241m-\u001b[39m\u001b[38;5;241m1\u001b[39m],\n\u001b[1;32m    128\u001b[0m     clf_df\u001b[38;5;241m.\u001b[39miloc[:, \u001b[38;5;241m-\u001b[39m\u001b[38;5;241m1\u001b[39m],\n\u001b[1;32m    129\u001b[0m )\n",
      "File \u001b[0;32m~/my/research/research/rl/env/clf_mdp.py:193\u001b[0m, in \u001b[0;36mcompute_optimal_policies\u001b[0;34m(self)\u001b[0m\n\u001b[1;32m    191\u001b[0m best_policies_best_rewards = []\n\u001b[1;32m    192\u001b[0m for subprob in self.subproblems_:\n\u001b[0;32m--> 193\u001b[0m     opt_pols, opt_rew = _find_all_solutions_lp(\n\u001b[1;32m    194\u001b[0m         c=subprob['c'],\n\u001b[1;32m    195\u001b[0m         A_eq=subprob['A_eq'],\n",
      "File \u001b[0;32m~/my/research/research/rl/env/clf_mdp.py:698\u001b[0m, in \u001b[0;36m_find_all_solutions_lp\u001b[0;34m(c, A_eq, b_eq, A_ub, b_ub, error_term)\u001b[0m\n\u001b[1;32m    696\u001b[0m cneg = np.array(c)\n\u001b[1;32m    697\u001b[0m cneg[i] -= error_term\n\u001b[0;32m--> 698\u001b[0m res = linprog(cneg, A_eq=A_eq, b_eq=b_eq, A_ub=A_ub, b_ub=b_ub)\n\u001b[1;32m    699\u001b[0m if ((-1*res.fun > best_reward)\n\u001b[1;32m    700\u001b[0m     and (not np.isclose(-1*res.fun, best_reward, atol=.001))):\n",
      "File \u001b[0;32m/opt/homebrew/Caskroom/miniconda/base/envs/research/lib/python3.10/site-packages/scipy/optimize/_linprog.py:602\u001b[0m, in \u001b[0;36mlinprog\u001b[0;34m(c, A_ub, b_ub, A_eq, b_eq, bounds, method, callback, options, x0, integrality)\u001b[0m\n\u001b[1;32m    597\u001b[0m     \u001b[38;5;28;01mraise\u001b[39;00m \u001b[38;5;167;01mNotImplementedError\u001b[39;00m(\u001b[38;5;124m\"\u001b[39m\u001b[38;5;124mHiGHS solvers do not support the \u001b[39m\u001b[38;5;124m\"\u001b[39m\n\u001b[1;32m    598\u001b[0m                               \u001b[38;5;124m\"\u001b[39m\u001b[38;5;124mcallback interface.\u001b[39m\u001b[38;5;124m\"\u001b[39m)\n\u001b[1;32m    599\u001b[0m highs_solvers \u001b[38;5;241m=\u001b[39m {\u001b[38;5;124m'\u001b[39m\u001b[38;5;124mhighs-ipm\u001b[39m\u001b[38;5;124m'\u001b[39m: \u001b[38;5;124m'\u001b[39m\u001b[38;5;124mipm\u001b[39m\u001b[38;5;124m'\u001b[39m, \u001b[38;5;124m'\u001b[39m\u001b[38;5;124mhighs-ds\u001b[39m\u001b[38;5;124m'\u001b[39m: \u001b[38;5;124m'\u001b[39m\u001b[38;5;124msimplex\u001b[39m\u001b[38;5;124m'\u001b[39m,\n\u001b[1;32m    600\u001b[0m                  \u001b[38;5;124m'\u001b[39m\u001b[38;5;124mhighs\u001b[39m\u001b[38;5;124m'\u001b[39m: \u001b[38;5;28;01mNone\u001b[39;00m}\n\u001b[0;32m--> 602\u001b[0m sol \u001b[38;5;241m=\u001b[39m \u001b[43m_linprog_highs\u001b[49m\u001b[43m(\u001b[49m\u001b[43mlp\u001b[49m\u001b[43m,\u001b[49m\u001b[43m \u001b[49m\u001b[43msolver\u001b[49m\u001b[38;5;241;43m=\u001b[39;49m\u001b[43mhighs_solvers\u001b[49m\u001b[43m[\u001b[49m\u001b[43mmeth\u001b[49m\u001b[43m]\u001b[49m\u001b[43m,\u001b[49m\n\u001b[1;32m    603\u001b[0m \u001b[43m                     \u001b[49m\u001b[38;5;241;43m*\u001b[39;49m\u001b[38;5;241;43m*\u001b[39;49m\u001b[43msolver_options\u001b[49m\u001b[43m)\u001b[49m\n\u001b[1;32m    604\u001b[0m sol[\u001b[38;5;124m'\u001b[39m\u001b[38;5;124mstatus\u001b[39m\u001b[38;5;124m'\u001b[39m], sol[\u001b[38;5;124m'\u001b[39m\u001b[38;5;124mmessage\u001b[39m\u001b[38;5;124m'\u001b[39m] \u001b[38;5;241m=\u001b[39m (\n\u001b[1;32m    605\u001b[0m     _check_result(sol[\u001b[38;5;124m'\u001b[39m\u001b[38;5;124mx\u001b[39m\u001b[38;5;124m'\u001b[39m], sol[\u001b[38;5;124m'\u001b[39m\u001b[38;5;124mfun\u001b[39m\u001b[38;5;124m'\u001b[39m], sol[\u001b[38;5;124m'\u001b[39m\u001b[38;5;124mstatus\u001b[39m\u001b[38;5;124m'\u001b[39m], sol[\u001b[38;5;124m'\u001b[39m\u001b[38;5;124mslack\u001b[39m\u001b[38;5;124m'\u001b[39m],\n\u001b[1;32m    606\u001b[0m                   sol[\u001b[38;5;124m'\u001b[39m\u001b[38;5;124mcon\u001b[39m\u001b[38;5;124m'\u001b[39m], lp\u001b[38;5;241m.\u001b[39mbounds, tol, sol[\u001b[38;5;124m'\u001b[39m\u001b[38;5;124mmessage\u001b[39m\u001b[38;5;124m'\u001b[39m]))\n\u001b[1;32m    607\u001b[0m sol[\u001b[38;5;124m'\u001b[39m\u001b[38;5;124msuccess\u001b[39m\u001b[38;5;124m'\u001b[39m] \u001b[38;5;241m=\u001b[39m sol[\u001b[38;5;124m'\u001b[39m\u001b[38;5;124mstatus\u001b[39m\u001b[38;5;124m'\u001b[39m] \u001b[38;5;241m==\u001b[39m \u001b[38;5;241m0\u001b[39m\n",
      "File \u001b[0;32m/opt/homebrew/Caskroom/miniconda/base/envs/research/lib/python3.10/site-packages/scipy/optimize/_linprog_highs.py:369\u001b[0m, in \u001b[0;36m_linprog_highs\u001b[0;34m(lp, solver, time_limit, presolve, disp, maxiter, dual_feasibility_tolerance, primal_feasibility_tolerance, ipm_optimality_tolerance, simplex_dual_edge_weight_strategy, mip_max_nodes, **unknown_options)\u001b[0m\n\u001b[1;32m    366\u001b[0m \u001b[38;5;28;01melse\u001b[39;00m:\n\u001b[1;32m    367\u001b[0m     integrality \u001b[38;5;241m=\u001b[39m np\u001b[38;5;241m.\u001b[39marray(integrality)\n\u001b[0;32m--> 369\u001b[0m res \u001b[38;5;241m=\u001b[39m \u001b[43m_highs_wrapper\u001b[49m\u001b[43m(\u001b[49m\u001b[43mc\u001b[49m\u001b[43m,\u001b[49m\u001b[43m \u001b[49m\u001b[43mA\u001b[49m\u001b[38;5;241;43m.\u001b[39;49m\u001b[43mindptr\u001b[49m\u001b[43m,\u001b[49m\u001b[43m \u001b[49m\u001b[43mA\u001b[49m\u001b[38;5;241;43m.\u001b[39;49m\u001b[43mindices\u001b[49m\u001b[43m,\u001b[49m\u001b[43m \u001b[49m\u001b[43mA\u001b[49m\u001b[38;5;241;43m.\u001b[39;49m\u001b[43mdata\u001b[49m\u001b[43m,\u001b[49m\u001b[43m \u001b[49m\u001b[43mlhs\u001b[49m\u001b[43m,\u001b[49m\u001b[43m \u001b[49m\u001b[43mrhs\u001b[49m\u001b[43m,\u001b[49m\n\u001b[1;32m    370\u001b[0m \u001b[43m                     \u001b[49m\u001b[43mlb\u001b[49m\u001b[43m,\u001b[49m\u001b[43m \u001b[49m\u001b[43mub\u001b[49m\u001b[43m,\u001b[49m\u001b[43m \u001b[49m\u001b[43mintegrality\u001b[49m\u001b[38;5;241;43m.\u001b[39;49m\u001b[43mastype\u001b[49m\u001b[43m(\u001b[49m\u001b[43mnp\u001b[49m\u001b[38;5;241;43m.\u001b[39;49m\u001b[43muint8\u001b[49m\u001b[43m)\u001b[49m\u001b[43m,\u001b[49m\u001b[43m \u001b[49m\u001b[43moptions\u001b[49m\u001b[43m)\u001b[49m\n\u001b[1;32m    372\u001b[0m \u001b[38;5;66;03m# HiGHS represents constraints as lhs/rhs, so\u001b[39;00m\n\u001b[1;32m    373\u001b[0m \u001b[38;5;66;03m# Ax + s = b => Ax = b - s\u001b[39;00m\n\u001b[1;32m    374\u001b[0m \u001b[38;5;66;03m# and we need to split up s by A_ub and A_eq\u001b[39;00m\n\u001b[1;32m    375\u001b[0m \u001b[38;5;28;01mif\u001b[39;00m \u001b[38;5;124m'\u001b[39m\u001b[38;5;124mslack\u001b[39m\u001b[38;5;124m'\u001b[39m \u001b[38;5;129;01min\u001b[39;00m res:\n",
      "\u001b[0;31mKeyboardInterrupt\u001b[0m: "
     ]
    }
   ],
   "source": [
    "##\n",
    "# Run IRL loop.\n",
    "# Create a clf dataset where inputs are feature expectations and outputs are\n",
    "# whether the policy is expert or learned through IRL iterations. Then train\n",
    "# an SVM classifier on this dataset. Then extract the weights of the svm and\n",
    "# use them as the weights for the \"reward\" function. Then use this reward\n",
    "# function to learn a policy (classifier). Then compute the feature\n",
    "# expectations from this classifer on the irl hold-out set. Then compute the\n",
    "# error between the feature expectations of this learned clf and the\n",
    "# demonstration feature exp. If this error is less than epsilon, stop. The\n",
    "# reward function is the final set of weights.\n",
    "##\n",
    "\n",
    "\n",
    "# These are the feature types that will be used in the classifier that will\n",
    "# predict `y` given `X` when learning the optimal policy for a given reward\n",
    "# function.\n",
    "irl_loop_feature_types = {\n",
    "    'boolean': [\n",
    "        'z',\n",
    "        'gender',\n",
    "    ],\n",
    "    'categoric': [\n",
    "        'workclass',\n",
    "#         'education',\n",
    "#         'marital-status',\n",
    "#         'occupation',\n",
    "        # 'relationship',\n",
    "        # 'native-country',\n",
    "    ],\n",
    "    'continuous': [\n",
    "        # 'age',\n",
    "        # 'educational-num',\n",
    "        # 'capital-gain',\n",
    "        # 'capital-loss',\n",
    "        # 'hours-per-week',\n",
    "    ],\n",
    "    'meta': [\n",
    "        'fnlwgt'\n",
    "    ],\n",
    "}\n",
    "x_cols = (\n",
    "    irl_loop_feature_types['boolean']\n",
    "    + irl_loop_feature_types['categoric']\n",
    "    + irl_loop_feature_types['continuous']\n",
    ")\n",
    "x_cols.remove('z')\n",
    "\n",
    "# Generate initial policy(s) and add them to `mu`\n",
    "N_INIT_POLICIES = 1\n",
    "dummy_clf = DummyClassifier(strategy=\"uniform\")\n",
    "mu = generate_initial_policies(\n",
    "    X_demo, y_demo, irl_loop_feature_types, dummy_clf,\n",
    "    n_policies=N_INIT_POLICIES,\n",
    ")\n",
    "\n",
    "X_irl_exp = pd.DataFrame(muE, columns=['acc', 'disp_imp', 'eq_opp'])\n",
    "y_irl_exp = pd.Series(np.ones(m), dtype=int)\n",
    "X_irl_learn = pd.DataFrame(mu, columns=['acc', 'disp_imp', 'eq_opp'])\n",
    "y_irl_learn = pd.Series(np.zeros(len(mu)), dtype=int)\n",
    "\n",
    "epsilon = .01\n",
    "t = []  # Errors for each iteration\n",
    "mu_delta_l2norm_hist = []\n",
    "weights = []\n",
    "i = 0\n",
    "max_iter = 4\n",
    "demo_history = []\n",
    "mu_history = []\n",
    "\n",
    "logging.info('')\n",
    "logging.info('Starting IRL Loop ...')\n",
    "\n",
    "while True:\n",
    "    logging.info(f\"\\tIRL Loop iteration {i+1}/{max_iter} ...\")\n",
    "    \n",
    "    # Train SVM classifier that distinguishes which demonstrations are expert\n",
    "    # and which were generated from this loop.\n",
    "    X_irl = pd.concat([X_irl_exp, X_irl_learn], axis=0).reset_index(drop=True)\n",
    "    y_irl = pd.concat([y_irl_exp, y_irl_learn], axis=0).reset_index(drop=True)\n",
    "    logging.info('\\tFitting SVM classifier...')\n",
    "    svm = SVM().fit(X_irl, y_irl)\n",
    "    \n",
    "    # Extract the weights from the SVM classifier. These weights become the\n",
    "    # reward weights.\n",
    "    wi = svm.weights()\n",
    "    \n",
    "    # Trying something out\n",
    "    for _i, w in enumerate(wi):\n",
    "        if w < 0:\n",
    "            wi[_i] = 0\n",
    "            \n",
    "    weights.append(wi)\n",
    "    \n",
    "    # Learn a policy (clf_pol) from the reward (SVM) weights.\n",
    "    valid_df = pd.DataFrame(X_demo)\n",
    "    valid_df['y'] = y_demo\n",
    "    rf = RandomForestClassifier()\n",
    "    # Fit a classifier that predicts `y` from `X`.\n",
    "    logging.info('\\tFitting `y|x` predictor for clf policy...')\n",
    "    # Learn a policy that maximizes the reward function.\n",
    "    logging.info('\\tComputing the optimal policy given reward weights and `y|x` classifier...')\n",
    "    clf_pol = compute_optimal_policy(\n",
    "        clf_df=valid_df,\n",
    "        feature_types=irl_loop_feature_types,\n",
    "        clf_inst=rf,\n",
    "        x_cols=x_cols,\n",
    "        acc_weight=wi[0],\n",
    "        disp_imp_weight=wi[1],\n",
    "    )\n",
    "    \n",
    "    # Compute feature expectations of the learned policy\n",
    "    logging.info('\\tGenerating learned demostration...')\n",
    "    demo = generate_demo(clf_pol, X_irl_valid, y_irl_valid)\n",
    "    demo_history.append(demo)\n",
    "    muj = compute_demo_feature_exp(demo)\n",
    "    mu_history.append(muj)\n",
    "    logging.info(f\"\\t\\t muL[i] = {np.round(muj, 3)}\")\n",
    "    \n",
    "    # Append policy's feature expectations to irl clf dataset\n",
    "    X_irl_learn_i = pd.DataFrame(np.array([muj]), columns=['acc', 'disp_imp', 'eq_opp'])\n",
    "    y_irl_learn_i = pd.Series(np.zeros(1), dtype=int)\n",
    "    X_irl_learn = pd.concat([X_irl_learn, X_irl_learn_i], axis=0)\n",
    "    y_irl_learn = pd.concat([y_irl_learn, y_irl_learn_i], axis=0)\n",
    "    \n",
    "    # Compute error of the learned policy: t[i] = wT(muE-mu[j])\n",
    "    ti, mu_delta, mu_delta_l2norm= irl_error(wi, muE, muj)\n",
    "    t.append(ti)\n",
    "    mu_delta_l2norm_hist.append(mu_delta_l2norm)\n",
    "    logging.info(f\"\\t\\t mu_delta[i] \\t= {np.round(mu_delta, 3)}\")\n",
    "    logging.info(f\"\\t\\t t[i] \\t\\t= {t[i]:.5f}\")\n",
    "    logging.info(f\"\\t\\t weights[{i}] \\t= {np.round(weights[i], 3)}\")\n",
    "    \n",
    "    # Show a summary of the learned policy\n",
    "#     logging.info(\n",
    "#         df_to_log(\n",
    "#             demo.groupby(['z']+x_cols+['y', 'yhat'])[['age']].agg(['count']),\n",
    "#             title='\\tLearned Policy:',\n",
    "#             tab_level=3,\n",
    "#         )\n",
    "#     )\n",
    "    \n",
    "    if ti < epsilon or i >= max_iter - 1:\n",
    "        break\n",
    "        \n",
    "    i += 1\n",
    "    \n",
    "\n",
    "print('\\n'+ 100*'-' + '\\n')\n",
    "\n",
    "# Compare the best learned policy with the expert demonstrations\n",
    "for demo in demosE:\n",
    "    print(f\"Expert demo yhat:\\t {demo['yhat'].mean()}\")\n",
    "#     display(demo.groupby(['z']+x_cols+['y'])[['yhat']].agg(['count', 'mean']))\n",
    "    \n",
    "print('\\n'+ 100*'-' + '\\n')\n",
    "\n",
    "best_iter = np.argmin(t)\n",
    "print('Best iteration: ' + str(best_iter))\n",
    "best_demo = demo_history[best_iter]\n",
    "print(f\"Best Learned Policy yhat: {best_demo['yhat'].mean():.3f}\")\n",
    "# display(\n",
    "#     best_demo.groupby(['z']+x_cols+['y'])[['yhat']].agg(['count', 'mean'])\n",
    "# )\n",
    "best_weight = weights[best_iter]\n",
    "print(f\"best weight:\\t {np.round(best_weight, 3)}\")\n",
    "\n",
    "print('\\n'+ 100*'-' + '\\n')\n",
    "X_irl = pd.concat([X_irl_exp, X_irl_learn], axis=0).reset_index(drop=True)\n",
    "y_irl = pd.concat([y_irl_exp, y_irl_learn], axis=0).reset_index(drop=True)\n",
    "df_irl = X_irl\n",
    "df_irl['is_expert'] = y_irl\n",
    "df_irl['accuracy_weight'] = [0, 0] + [w[0] for w in weights]\n",
    "df_irl['disp_imp_weight'] = [0, 0] + [w[1] for w in weights]\n",
    "df_irl['eq_opp_weight'] = [0, 0] + [w[2] for w in weights]\n",
    "df_irl['t'] = [0,0] + t\n",
    "df_irl['mu_delta_l2norm'] = [0,0] + mu_delta_l2norm_hist\n",
    "print('Historical feature expectations')\n",
    "display(df_irl)"
   ]
  },
  {
   "cell_type": "code",
   "execution_count": 96,
   "id": "081bb9a7",
   "metadata": {
    "ExecuteTime": {
     "end_time": "2023-05-11T22:24:14.748152Z",
     "start_time": "2023-05-11T22:24:14.443035Z"
    }
   },
   "outputs": [
    {
     "name": "stderr",
     "output_type": "stream",
     "text": [
      "WARNING:matplotlib.axes._axes:*c* argument looks like a single numeric RGB or RGBA sequence, which should be avoided as value-mapping will have precedence in case its length matches with *x* & *y*.  Please use the *color* keyword-argument or provide a 2D array with a single row if you intend to specify the same RGB or RGBA value for all points.\n",
      "WARNING:matplotlib.axes._axes:*c* argument looks like a single numeric RGB or RGBA sequence, which should be avoided as value-mapping will have precedence in case its length matches with *x* & *y*.  Please use the *color* keyword-argument or provide a 2D array with a single row if you intend to specify the same RGB or RGBA value for all points.\n",
      "WARNING:matplotlib.axes._axes:*c* argument looks like a single numeric RGB or RGBA sequence, which should be avoided as value-mapping will have precedence in case its length matches with *x* & *y*.  Please use the *color* keyword-argument or provide a 2D array with a single row if you intend to specify the same RGB or RGBA value for all points.\n",
      "WARNING:matplotlib.axes._axes:*c* argument looks like a single numeric RGB or RGBA sequence, which should be avoided as value-mapping will have precedence in case its length matches with *x* & *y*.  Please use the *color* keyword-argument or provide a 2D array with a single row if you intend to specify the same RGB or RGBA value for all points.\n",
      "WARNING:matplotlib.axes._axes:*c* argument looks like a single numeric RGB or RGBA sequence, which should be avoided as value-mapping will have precedence in case its length matches with *x* & *y*.  Please use the *color* keyword-argument or provide a 2D array with a single row if you intend to specify the same RGB or RGBA value for all points.\n",
      "WARNING:matplotlib.axes._axes:*c* argument looks like a single numeric RGB or RGBA sequence, which should be avoided as value-mapping will have precedence in case its length matches with *x* & *y*.  Please use the *color* keyword-argument or provide a 2D array with a single row if you intend to specify the same RGB or RGBA value for all points.\n"
     ]
    },
    {
     "data": {
      "image/png": "[encoded data removed]",
      "text/plain": [
       "<Figure size 1700x500 with 3 Axes>"
      ]
     },
     "metadata": {},
     "output_type": "display_data"
    }
   ],
   "source": [
    "sns.set_theme(style='darkgrid', font_scale=1.2)\n",
    "\n",
    "fig, (ax1, ax2, ax3) = plt.subplots(1, 3, figsize=(17, 5))\n",
    "exp = df_irl.query('is_expert == True').reset_index(drop=True)\n",
    "init_pols = df_irl.query('is_expert == False')[0:N_INIT_POLICIES].reset_index(drop=True)\n",
    "lrn = df_irl.query('is_expert == False')[N_INIT_POLICIES:].reset_index(drop=True)\n",
    "\n",
    "###\n",
    "# Accuracy vs disparate impact\n",
    "###\n",
    "# Plot expert\n",
    "ax1.scatter(exp['acc'], exp['disp_imp'], label='Expert feat exp $\\mu^E$', s=600, alpha=1, c='black')\n",
    "# Inject noise so we can see the expert when it's overlapping\n",
    "noise = [.03*(np.random.rand()-.6), .03*(np.random.rand()-.5)]\n",
    "# Plot initial policy\n",
    "ax1.scatter(init_pols['acc']+noise[0], init_pols['disp_imp']+noise[1], label=None, s=600, alpha=.7, c=cp[2])\n",
    "ax1.scatter(lrn['acc']+noise[0], lrn['disp_imp']+noise[1], label='Learned feat exp $\\mu^L$', s=600, alpha=.7, c=cp[2])\n",
    "ax1.set_xlim([-.1, 1.1])\n",
    "ax1.set_ylim([-.1, 1.1])\n",
    "ax1.set_xlabel('Accuracy')\n",
    "ax1.set_ylabel('Disparate Impact')\n",
    "# Label each learned policy with its ordered index\n",
    "# Initial learned policy\n",
    "ax1.annotate(1, (-.012+(init_pols['acc']+noise[0]), -.015+(init_pols['disp_imp']+noise[1])), fontsize=16, fontweight=700)\n",
    "# All learned policies\n",
    "for idx, row in lrn.iterrows():\n",
    "    ax1.annotate(2+idx, (-.012+(row['acc']+noise[0]), -.015+(row['disp_imp']+noise[1])), fontsize=16, fontweight=700)\n",
    "ax1.legend(labelspacing=1, loc='best')\n",
    "\n",
    "###\n",
    "# Accuracy vs Equal Opportunity\n",
    "###\n",
    "# Plot expert\n",
    "ax2.scatter(exp['acc'], exp['eq_opp'], label='Expert feat exp $\\mu^E$', s=600, alpha=1, c='black')\n",
    "# Inject noise so we can see the expert when it's overlapping\n",
    "noise = [.03*(np.random.rand()-.6), .03*(np.random.rand()-.5)]\n",
    "# Plot initial policy\n",
    "ax2.scatter(init_pols['acc']+noise[0], init_pols['eq_opp']+noise[1], label=None, s=600, alpha=.7, c=cp[2])\n",
    "ax2.scatter(lrn['acc']+noise[0], lrn['eq_opp']+noise[1], label='Learned feat exp $\\mu^L$', s=600, alpha=.7, c=cp[2])\n",
    "ax2.set_xlim([-.1, 1.1])\n",
    "ax2.set_ylim([-.1, 1.1])\n",
    "ax2.set_xlabel('Accuracy')\n",
    "ax2.set_ylabel('Equal Opportunity')\n",
    "# Label each learned policy with its ordered index\n",
    "# Initial learned policy\n",
    "ax2.annotate(1, (-.012+(init_pols['acc']+noise[0]), -.015+(init_pols['eq_opp']+noise[1])), fontsize=16, fontweight=700)\n",
    "# All learned policies\n",
    "for idx, row in lrn.iterrows():\n",
    "    ax2.annotate(2+idx, (-.012+(row['acc']+noise[0]), -.015+(row['eq_opp']+noise[1])), fontsize=16, fontweight=700)\n",
    "ax2.legend(labelspacing=1, loc='best')\n",
    "\n",
    "\n",
    "###\n",
    "# Disparate Impact vs Equal Opportunity\n",
    "###\n",
    "# Plot expert\n",
    "ax3.scatter(exp['disp_imp'], exp['eq_opp'], label='Expert feat exp $\\mu^E$', s=600, alpha=1, c='black')\n",
    "# Inject noise so we can see the expert when it's overlapping\n",
    "noise = [.03*(np.random.rand()-.6), .03*(np.random.rand()-.5)]\n",
    "# Plot initial policy\n",
    "ax3.scatter(init_pols['disp_imp']+noise[0], init_pols['eq_opp']+noise[1], label=None, s=600, alpha=.7, c=cp[2])\n",
    "ax3.scatter(lrn['disp_imp']+noise[0], lrn['eq_opp']+noise[1], label='Learned feat exp $\\mu^L$', s=600, alpha=.7, c=cp[2])\n",
    "ax3.set_xlim([-.1, 1.1])\n",
    "ax3.set_ylim([-.1, 1.1])\n",
    "ax3.set_xlabel('Disparate Impact')\n",
    "ax3.set_ylabel('Equal Opportunity')\n",
    "# Label each learned policy with its ordered index\n",
    "# Initial learned policy\n",
    "ax3.annotate(1, (-.012+(init_pols['disp_imp']+noise[0]), -.015+(init_pols['eq_opp']+noise[1])), fontsize=16, fontweight=700)\n",
    "# All learned policies\n",
    "for idx, row in lrn.iterrows():\n",
    "    ax3.annotate(2+idx, (-.012+(row['disp_imp']+noise[0]), -.015+(row['eq_opp']+noise[1])), fontsize=16, fontweight=700)\n",
    "ax3.legend(labelspacing=1, loc='best')\n",
    "\n",
    "\n",
    "plt.show()"
   ]
  },
  {
   "cell_type": "markdown",
   "id": "d7c3909f",
   "metadata": {
    "heading_collapsed": true
   },
   "source": [
    "# Use learned rewards on Adult to predict on Compas dataset"
   ]
  },
  {
   "cell_type": "code",
   "execution_count": 310,
   "id": "a436f269",
   "metadata": {
    "ExecuteTime": {
     "end_time": "2023-04-12T18:40:24.876057Z",
     "start_time": "2023-04-12T18:40:24.747470Z"
    },
    "hidden": true,
    "scrolled": true
   },
   "outputs": [],
   "source": [
    "# _df = pd.read_csv('./../../data/compas-scores-raw.csv')\n",
    "# _df = pd.read_csv('./../../data/compas/propublica_data_for_fairml.csv')\n",
    "# _df = pd.read_csv('./../../data/compas/cox-violent-parsed_filt.csv')\n",
    "# _df = pd.read_csv('./../../data/compas/cox-violent-parsed.csv')\n",
    "compas = pd.read_csv('./../../data/compas/cox-violent-parsed.csv')"
   ]
  },
  {
   "cell_type": "code",
   "execution_count": 311,
   "id": "d918579f",
   "metadata": {
    "ExecuteTime": {
     "end_time": "2023-04-12T18:40:25.593448Z",
     "start_time": "2023-04-12T18:40:25.404643Z"
    },
    "hidden": true
   },
   "outputs": [
    {
     "name": "stderr",
     "output_type": "stream",
     "text": [
      "INFO:root:Dataset count of each z, y group\n",
      "INFO:root:\n",
      "\t      y          \n",
      "\t  count      mean\n",
      "\tz                \n",
      "\t0  6400  0.503906\n",
      "\t1  3164  0.421302\n",
      "\n"
     ]
    },
    {
     "data": {
      "text/html": [
       "<div>\n",
       "<style scoped>\n",
       "    .dataframe tbody tr th:only-of-type {\n",
       "        vertical-align: middle;\n",
       "    }\n",
       "\n",
       "    .dataframe tbody tr th {\n",
       "        vertical-align: top;\n",
       "    }\n",
       "\n",
       "    .dataframe thead th {\n",
       "        text-align: right;\n",
       "    }\n",
       "</style>\n",
       "<table border=\"1\" class=\"dataframe\">\n",
       "  <thead>\n",
       "    <tr style=\"text-align: right;\">\n",
       "      <th></th>\n",
       "      <th></th>\n",
       "      <th>count</th>\n",
       "      <th>mean_y</th>\n",
       "    </tr>\n",
       "    <tr>\n",
       "      <th>z</th>\n",
       "      <th>gender</th>\n",
       "      <th></th>\n",
       "      <th></th>\n",
       "    </tr>\n",
       "  </thead>\n",
       "  <tbody>\n",
       "    <tr>\n",
       "      <th>0</th>\n",
       "      <th>Male</th>\n",
       "      <td>5424</td>\n",
       "      <td>0.530420</td>\n",
       "    </tr>\n",
       "    <tr>\n",
       "      <th rowspan=\"2\" valign=\"top\">1</th>\n",
       "      <th>Male</th>\n",
       "      <td>2409</td>\n",
       "      <td>0.432130</td>\n",
       "    </tr>\n",
       "    <tr>\n",
       "      <th>Female</th>\n",
       "      <td>755</td>\n",
       "      <td>0.386755</td>\n",
       "    </tr>\n",
       "    <tr>\n",
       "      <th>0</th>\n",
       "      <th>Female</th>\n",
       "      <td>976</td>\n",
       "      <td>0.356557</td>\n",
       "    </tr>\n",
       "  </tbody>\n",
       "</table>\n",
       "</div>"
      ],
      "text/plain": [
       "          count    mean_y\n",
       "z gender                 \n",
       "0 Male     5424  0.530420\n",
       "1 Male     2409  0.432130\n",
       "  Female    755  0.386755\n",
       "0 Female    976  0.356557"
      ]
     },
     "metadata": {},
     "output_type": "display_data"
    },
    {
     "data": {
      "text/html": [
       "<div>\n",
       "<style scoped>\n",
       "    .dataframe tbody tr th:only-of-type {\n",
       "        vertical-align: middle;\n",
       "    }\n",
       "\n",
       "    .dataframe tbody tr th {\n",
       "        vertical-align: top;\n",
       "    }\n",
       "\n",
       "    .dataframe thead th {\n",
       "        text-align: right;\n",
       "    }\n",
       "</style>\n",
       "<table border=\"1\" class=\"dataframe\">\n",
       "  <thead>\n",
       "    <tr style=\"text-align: right;\">\n",
       "      <th></th>\n",
       "      <th></th>\n",
       "      <th>count</th>\n",
       "      <th>mean_y</th>\n",
       "    </tr>\n",
       "    <tr>\n",
       "      <th>z</th>\n",
       "      <th>gender</th>\n",
       "      <th></th>\n",
       "      <th></th>\n",
       "    </tr>\n",
       "  </thead>\n",
       "  <tbody>\n",
       "    <tr>\n",
       "      <th>0</th>\n",
       "      <th>Male</th>\n",
       "      <td>5205</td>\n",
       "      <td>0.552738</td>\n",
       "    </tr>\n",
       "    <tr>\n",
       "      <th rowspan=\"2\" valign=\"top\">1</th>\n",
       "      <th>Male</th>\n",
       "      <td>2280</td>\n",
       "      <td>0.456579</td>\n",
       "    </tr>\n",
       "    <tr>\n",
       "      <th>Female</th>\n",
       "      <td>713</td>\n",
       "      <td>0.409537</td>\n",
       "    </tr>\n",
       "    <tr>\n",
       "      <th>0</th>\n",
       "      <th>Female</th>\n",
       "      <td>918</td>\n",
       "      <td>0.379085</td>\n",
       "    </tr>\n",
       "  </tbody>\n",
       "</table>\n",
       "</div>"
      ],
      "text/plain": [
       "          count    mean_y\n",
       "z gender                 \n",
       "0 Male     5205  0.552738\n",
       "1 Male     2280  0.456579\n",
       "  Female    713  0.409537\n",
       "0 Female    918  0.379085"
      ]
     },
     "metadata": {},
     "output_type": "display_data"
    }
   ],
   "source": [
    "df, X, y = generate_compas_dataset(\n",
    "    filepath='./../../data/compas/cox-violent-parsed.csv',\n",
    "    n=10_000,\n",
    ")\n",
    "\n",
    "display(\n",
    "    df.groupby(['z', 'gender'])[['y']].agg(['count', 'mean'])\n",
    "    ['y'].sort_values(['mean', 'count'], ascending=False)\n",
    "    .rename(columns={'mean': 'mean_y'})\n",
    ")\n",
    "rus = RandomUnderSampler(sampling_strategy=1)\n",
    "X, y = rus.fit_resample(X, y)\n",
    "df = X\n",
    "df['y'] = y\n",
    "\n",
    "display(\n",
    "    df.groupby(['z', 'gender'])[['y']].agg(['count', 'mean'])\n",
    "    ['y'].sort_values(['mean', 'count'], ascending=False)\n",
    "    .rename(columns={'mean': 'mean_y'})\n",
    ")"
   ]
  },
  {
   "cell_type": "code",
   "execution_count": 340,
   "id": "efcc12de",
   "metadata": {
    "ExecuteTime": {
     "end_time": "2023-04-12T18:59:00.228442Z",
     "start_time": "2023-04-12T18:59:00.163564Z"
    },
    "hidden": true
   },
   "outputs": [],
   "source": [
    "##\n",
    "# These are the feature types that will be used in the classifier that is\n",
    "# learned in the target domain and optimizes the weights learned from the\n",
    "# source domain.\n",
    "##\n",
    "target_feature_types = {\n",
    "    'boolean': [\n",
    "        'z',\n",
    "        'gender',\n",
    "    ],\n",
    "    'categoric': [\n",
    "        'score_text',\n",
    "    ],\n",
    "    'continuous': [\n",
    "#         'priors_count',\n",
    "    ],\n",
    "    'meta': [\n",
    "    ],\n",
    "}\n",
    "x_cols = (\n",
    "    target_feature_types['boolean']\n",
    "    + target_feature_types['categoric']\n",
    "    + target_feature_types['continuous']\n",
    ")\n",
    "x_cols.remove('z')"
   ]
  },
  {
   "cell_type": "code",
   "execution_count": 342,
   "id": "627a124e",
   "metadata": {
    "ExecuteTime": {
     "end_time": "2023-04-12T19:00:09.174841Z",
     "start_time": "2023-04-12T19:00:08.825320Z"
    },
    "hidden": true,
    "scrolled": false
   },
   "outputs": [
    {
     "name": "stderr",
     "output_type": "stream",
     "text": [
      "INFO:root:Adult dataset learned weights: [0.952 0.048]\n",
      "INFO:root:\n",
      "\n",
      "----------------------------------------------------------------------------------------------------\n",
      "\n",
      "INFO:root:\tFitting `y|x` predictor for clf policy...\n",
      "INFO:root:\tComputing the optimal policy given reward weights and `y|x` classifier...\n",
      "INFO:root:\t\tChecking if classifier already fitted...\n",
      "INFO:root:\t\tFitting classifier...\n",
      "INFO:root:\tGenerating learned demonstration...\n",
      "INFO:root:\tState Lookup Error: ('Male', nan, 1, 1)\n",
      "INFO:root:\tUsing default action: 0\n",
      "INFO:root:Accuracy of learned policy: 0.62\n",
      "INFO:root:Disp Imp of learned policy: 0.76\n",
      "INFO:root:\n",
      "\n",
      "----------------------------------------------------------------------------------------------------\n",
      "\n"
     ]
    }
   ],
   "source": [
    "logging.info(f\"Adult dataset learned weights: {np.round(best_weight, 3)}\")\n",
    "\n",
    "logging.info('\\n\\n'+ 100*'-' + '\\n')\n",
    "\n",
    "X_train, X_test, y_train, y_test = train_test_split(X, y, test_size=.33)\n",
    "train_df = pd.DataFrame(X_train)\n",
    "train_df['y'] = y_train\n",
    "# Fit a classifier that predicts `y` from `X`.\n",
    "rf = RandomForestClassifier()\n",
    "logging.info('\\tFitting `y|x` predictor for clf policy...')\n",
    "# Learn a policy that maximizes the reward function.\n",
    "logging.info('\\tComputing the optimal policy given reward weights and `y|x` classifier...')\n",
    "clf_pol = compute_optimal_policy(\n",
    "    clf_df=train_df,\n",
    "    feature_types=target_feature_types,\n",
    "    clf_inst=rf,\n",
    "    x_cols=x_cols,\n",
    "    acc_weight=best_weight[0],\n",
    "    disp_imp_weight=best_weight[1],\n",
    ")\n",
    "\n",
    "# Compute feature expectations of the learned policy\n",
    "logging.info('\\tGenerating learned demonstration...')\n",
    "demo = generate_demo(clf_pol, X_test, y_test)\n",
    "muj = compute_demo_feature_exp(demo)\n",
    "logging.info(f\"Accuracy of learned policy: {muj[0]:.2f}\")\n",
    "logging.info(f\"Disp Imp of learned policy: {muj[1]:.2f}\")\n",
    "\n",
    "    \n",
    "logging.info('\\n\\n'+ 100*'-' + '\\n')"
   ]
  },
  {
   "cell_type": "code",
   "execution_count": 343,
   "id": "2683a236",
   "metadata": {
    "ExecuteTime": {
     "end_time": "2023-04-12T19:00:21.969733Z",
     "start_time": "2023-04-12T19:00:21.635455Z"
    },
    "hidden": true,
    "scrolled": true
   },
   "outputs": [
    {
     "name": "stderr",
     "output_type": "stream",
     "text": [
      "INFO:root:\tGenerating demonstration of the exact policy used on the original adult dataset\n",
      "INFO:root:\tComputing the optimal policy given reward weights and `y|x` classifier...\n",
      "INFO:root:\t\tChecking if classifier already fitted...\n",
      "INFO:root:\t\tFitting classifier...\n",
      "INFO:root:\tState Lookup Error: ('Male', nan, 1, 1)\n",
      "INFO:root:\tUsing default action: 0\n",
      "INFO:root:Accuracy of explicit policy: 0.62\n",
      "INFO:root:Disp Imp of explicit policy: 0.76\n"
     ]
    }
   ],
   "source": [
    "ORIGINAL_WEIGHTS = [1, 0]\n",
    "logging.info('\\tGenerating demonstration of the exact policy used on the original adult dataset')\n",
    "\n",
    "# clf_inst = ManualClassifier(lambda_female)\n",
    "# demo = generate_demo(clf_inst, X_test, y_test)\n",
    "# muj = compute_demo_feature_exp(demo)\n",
    "# logging.info(f\"Accuracy of explicit policy: {muj[0]:.2f}\")\n",
    "# logging.info(f\"Disp Imp of explicit policy: {muj[1]:.2f}\")\n",
    "\n",
    "# Learn a policy that maximizes the reward function.\n",
    "logging.info('\\tComputing the optimal policy given reward weights and `y|x` classifier...')\n",
    "clf_inst = RandomForestClassifier()\n",
    "clf_pol = compute_optimal_policy(\n",
    "    clf_df=train_df,\n",
    "    feature_types=target_feature_types,\n",
    "    clf_inst=clf_inst,\n",
    "    x_cols=x_cols,\n",
    "    acc_weight=ORIGINAL_WEIGHTS[0],\n",
    "    disp_imp_weight=ORIGINAL_WEIGHTS[1],\n",
    ")\n",
    "demo = generate_demo(clf_pol, X_test, y_test)\n",
    "muj = compute_demo_feature_exp(demo)\n",
    "logging.info(f\"Accuracy of explicit policy: {muj[0]:.2f}\")\n",
    "logging.info(f\"Disp Imp of explicit policy: {muj[1]:.2f}\")"
   ]
  },
  {
   "cell_type": "code",
   "execution_count": null,
   "id": "e8b0c99f",
   "metadata": {
    "hidden": true
   },
   "outputs": [],
   "source": []
  },
  {
   "cell_type": "code",
   "execution_count": null,
   "id": "2bedc44b",
   "metadata": {
    "hidden": true
   },
   "outputs": [],
   "source": []
  },
  {
   "cell_type": "markdown",
   "id": "2c864245",
   "metadata": {},
   "source": [
    "# Other Notes"
   ]
  },
  {
   "cell_type": "markdown",
   "id": "34da8a80",
   "metadata": {},
   "source": [
    "### Notes and Assumptions\n",
    "\n",
    "* Meaning of `fnlwgt` column: it is the (estimated) number of people each row in the data represents. I'm removing it for now. Although we may want to consider resampling each row based on its `fnlwgt` value. See what other papers do with this column.\n",
    "* There are 5 possible values for `race`. I'm going to make it binary with `White` vs `Non-White`. Gender only has male and female so leaving this as is."
   ]
  },
  {
   "cell_type": "code",
   "execution_count": null,
   "id": "2ea91e7f",
   "metadata": {},
   "outputs": [],
   "source": []
  }
 ],
 "metadata": {
  "kernelspec": {
   "display_name": "research",
   "language": "python",
   "name": "research"
  },
  "language_info": {
   "codemirror_mode": {
    "name": "ipython",
    "version": 3
   },
   "file_extension": ".py",
   "mimetype": "text/x-python",
   "name": "python",
   "nbconvert_exporter": "python",
   "pygments_lexer": "ipython3",
   "version": "3.10.6"
  },
  "notify_time": "5",
  "toc": {
   "base_numbering": 1,
   "nav_menu": {},
   "number_sections": false,
   "sideBar": true,
   "skip_h1_title": false,
   "title_cell": "Table of Contents",
   "title_sidebar": "Contents",
   "toc_cell": false,
   "toc_position": {
    "height": "calc(100% - 180px)",
    "left": "10px",
    "top": "150px",
    "width": "673.4006958007812px"
   },
   "toc_section_display": true,
   "toc_window_display": false
  },
  "varInspector": {
   "cols": {
    "lenName": 16,
    "lenType": 16,
    "lenVar": 40
   },
   "kernels_config": {
    "python": {
     "delete_cmd_postfix": "",
     "delete_cmd_prefix": "del ",
     "library": "var_list.py",
     "varRefreshCmd": "print(var_dic_list())"
    },
    "r": {
     "delete_cmd_postfix": ") ",
     "delete_cmd_prefix": "rm(",
     "library": "var_list.r",
     "varRefreshCmd": "cat(var_dic_list()) "
    }
   },
   "types_to_exclude": [
    "module",
    "function",
    "builtin_function_or_method",
    "instance",
    "_Feature"
   ],
   "window_display": false
  }
 },
 "nbformat": 4,
 "nbformat_minor": 5
}
