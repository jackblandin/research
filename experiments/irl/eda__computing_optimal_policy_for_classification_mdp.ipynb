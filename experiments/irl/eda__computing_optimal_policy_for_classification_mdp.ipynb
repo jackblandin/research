{
 "cells": [
  {
   "cell_type": "markdown",
   "id": "c4c4618c",
   "metadata": {
    "ExecuteTime": {
     "end_time": "2023-04-05T14:36:43.751114Z",
     "start_time": "2023-04-05T14:36:43.743983Z"
    },
    "heading_collapsed": true
   },
   "source": [
    "# Setup"
   ]
  },
  {
   "cell_type": "code",
   "execution_count": 14,
   "id": "5efd61f0",
   "metadata": {
    "ExecuteTime": {
     "end_time": "2023-04-05T15:55:40.444889Z",
     "start_time": "2023-04-05T15:55:40.437610Z"
    },
    "hidden": true
   },
   "outputs": [],
   "source": [
    "import numpy as np\n",
    "import pandas as pd\n",
    "from scipy.optimize import linprog"
   ]
  },
  {
   "cell_type": "markdown",
   "id": "590cf7de",
   "metadata": {
    "ExecuteTime": {
     "end_time": "2023-03-29T16:08:20.691675Z",
     "start_time": "2023-03-29T16:08:20.684307Z"
    }
   },
   "source": [
    "# Simple Classification MDP"
   ]
  },
  {
   "cell_type": "markdown",
   "id": "08d82efc",
   "metadata": {
    "ExecuteTime": {
     "end_time": "2023-03-29T14:38:56.447937Z",
     "start_time": "2023-03-29T14:38:56.440777Z"
    },
    "heading_collapsed": true
   },
   "source": [
    "## Brute Force"
   ]
  },
  {
   "cell_type": "markdown",
   "id": "26d38f1d",
   "metadata": {
    "heading_collapsed": true,
    "hidden": true
   },
   "source": [
    "### Disparate Impact"
   ]
  },
  {
   "cell_type": "code",
   "execution_count": 4,
   "id": "4e1a68a8",
   "metadata": {
    "ExecuteTime": {
     "end_time": "2023-03-28T17:02:17.695166Z",
     "start_time": "2023-03-28T17:02:17.681367Z"
    },
    "hidden": true
   },
   "outputs": [],
   "source": [
    "# Brute force grid search for optimal a, b, c, d\n",
    "\n",
    "def brute_force_constrained_opt(obj, constraints, grid=None):\n",
    "    if grid is None:\n",
    "        grid = np.array([\n",
    "            np.linspace(0, 1, 11),\n",
    "            np.linspace(0, 1, 11),\n",
    "            np.linspace(0, 1, 11),\n",
    "            np.linspace(0, 1, 11),\n",
    "        ])\n",
    "\n",
    "    best_obj = -1*np.infty\n",
    "    best_lambdas = [\n",
    "        [-1, -1, -1, -1],\n",
    "    ]\n",
    "\n",
    "    for a in grid[0]:\n",
    "        for b in grid[1]:\n",
    "            for c in grid[2]:\n",
    "                for d in grid[3]:\n",
    "                    constr_violated = False\n",
    "                    for constr in constraints:\n",
    "                        if not constr(a, b, c, d):\n",
    "                            constr_violated = True\n",
    "                            break\n",
    "                    if constr_violated:\n",
    "                        continue\n",
    "                    _obj = obj(a, b, c, d)\n",
    "                    if _obj >= best_obj:\n",
    "                        if _obj > best_obj:\n",
    "                            best_lambdas = [[a, b, c, d]]\n",
    "                        else:\n",
    "                            best_lambdas += [[a, b, c, d]]\n",
    "                        best_obj = _obj\n",
    "                        \n",
    "    return best_obj, best_lambdas"
   ]
  },
  {
   "cell_type": "markdown",
   "id": "0bb5d48a",
   "metadata": {
    "hidden": true
   },
   "source": [
    "##### Subproblem 1\n",
    "\n",
    "$$\n",
    "1 - 2(\\lambda_{0,1} - \\lambda_{1,1}) \\hspace{.5cm} \\text{s.t.} \\hspace{.5cm} \\lambda_{0,1} \\geq \\lambda_{1,1} \\label{eq:subproblem_objective1}\n",
    "$$"
   ]
  },
  {
   "cell_type": "code",
   "execution_count": 5,
   "id": "69ff1abd",
   "metadata": {
    "ExecuteTime": {
     "end_time": "2023-03-28T17:02:18.295836Z",
     "start_time": "2023-03-28T17:02:18.146685Z"
    },
    "hidden": true
   },
   "outputs": [
    {
     "name": "stdout",
     "output_type": "stream",
     "text": [
      "\n",
      "Maximum Reward:\n",
      "\t -0.0\n",
      "\n",
      "Argmax Lambdas: \n"
     ]
    },
    {
     "data": {
      "text/plain": [
       "array([[0. , 1. , 0. , 1. ],\n",
       "       [0.1, 0.9, 0.1, 0.9],\n",
       "       [0.2, 0.8, 0.2, 0.8],\n",
       "       [0.3, 0.7, 0.3, 0.7],\n",
       "       [0.4, 0.6, 0.4, 0.6],\n",
       "       [0.5, 0.5, 0.5, 0.5],\n",
       "       [0.6, 0.4, 0.6, 0.4],\n",
       "       [0.7, 0.3, 0.7, 0.3],\n",
       "       [0.8, 0.2, 0.8, 0.2],\n",
       "       [0.9, 0.1, 0.9, 0.1],\n",
       "       [1. , 0. , 1. , 0. ]])"
      ]
     },
     "metadata": {},
     "output_type": "display_data"
    },
    {
     "name": "stdout",
     "output_type": "stream",
     "text": [
      "\n",
      "Optimal Policies:\n",
      "\t [1 1]\n",
      "\t [1 1]\n",
      "\t [1 1]\n",
      "\t [1 1]\n",
      "\t [1 1]\n",
      "\t [0 0]\n",
      "\t [0 0]\n",
      "\t [0 0]\n",
      "\t [0 0]\n",
      "\t [0 0]\n",
      "\t [0 0]\n"
     ]
    }
   ],
   "source": [
    "g = gamma\n",
    "\n",
    "obj = lambda a, b, c, d: -(b - d)\n",
    "\n",
    "constraints = [\n",
    "    lambda a, b, c, d: b >= d,\n",
    "    lambda a, b, c, d: np.allclose(.5, a*(1-.5*g) + b*(1-.5*g) + c*(0-.5*g) + d*(0-.5*g), atol=.01),\n",
    "    lambda a, b, c, d: np.allclose(.5, a*(0-.5*g) + b*(0-.5*g) + c*(1-.5*g) + d*(1-.5*g), atol=.01),\n",
    "]\n",
    "\n",
    "best_obj, best_lambdas = brute_force_constrained_opt(obj, constraints)\n",
    "\n",
    "print('\\nMaximum Reward:')\n",
    "print('\\t', best_obj)\n",
    "\n",
    "print('\\nArgmax Lambdas: ')\n",
    "display(np.round(best_lambdas, 2))\n",
    "\n",
    "\n",
    "print('\\nOptimal Policies:')\n",
    "pi_opt = np.zeros(n_states, dtype=int)\n",
    "for pi in best_lambdas:\n",
    "    for s in range(n_states):\n",
    "        start_idx = s*n_actions\n",
    "        end_idx = s*n_actions+n_actions\n",
    "        pi_opt[s] = np.array(pi[start_idx:end_idx]).argmax()\n",
    "\n",
    "    print('\\t', pi_opt)"
   ]
  },
  {
   "cell_type": "markdown",
   "id": "a9b14a7e",
   "metadata": {
    "hidden": true
   },
   "source": [
    "##### Subproblem 2\n",
    "\n",
    "$$\n",
    "1 - 2(\\lambda_{1,1} - \\lambda_{0,1}) \\hspace{.5cm} \\text{s.t.} \\hspace{.5cm} \\lambda_{1,1} > \\lambda_{0,1}\n",
    "$$"
   ]
  },
  {
   "cell_type": "code",
   "execution_count": 6,
   "id": "7681328a",
   "metadata": {
    "ExecuteTime": {
     "end_time": "2023-03-28T17:02:18.935146Z",
     "start_time": "2023-03-28T17:02:18.786801Z"
    },
    "hidden": true
   },
   "outputs": [
    {
     "name": "stdout",
     "output_type": "stream",
     "text": [
      "\n",
      "Maximum Reward:\n",
      "\t -0.0\n",
      "\n",
      "Argmax Lambdas: \n"
     ]
    },
    {
     "data": {
      "text/plain": [
       "array([[0. , 1. , 0. , 1. ],\n",
       "       [0.1, 0.9, 0.1, 0.9],\n",
       "       [0.2, 0.8, 0.2, 0.8],\n",
       "       [0.3, 0.7, 0.3, 0.7],\n",
       "       [0.4, 0.6, 0.4, 0.6],\n",
       "       [0.5, 0.5, 0.5, 0.5],\n",
       "       [0.6, 0.4, 0.6, 0.4],\n",
       "       [0.7, 0.3, 0.7, 0.3],\n",
       "       [0.8, 0.2, 0.8, 0.2],\n",
       "       [0.9, 0.1, 0.9, 0.1],\n",
       "       [1. , 0. , 1. , 0. ]])"
      ]
     },
     "metadata": {},
     "output_type": "display_data"
    },
    {
     "name": "stdout",
     "output_type": "stream",
     "text": [
      "\n",
      "Optimal Policies:\n",
      "\t [1 1]\n",
      "\t [1 1]\n",
      "\t [1 1]\n",
      "\t [1 1]\n",
      "\t [1 1]\n",
      "\t [0 0]\n",
      "\t [0 0]\n",
      "\t [0 0]\n",
      "\t [0 0]\n",
      "\t [0 0]\n",
      "\t [0 0]\n"
     ]
    }
   ],
   "source": [
    "g = gamma\n",
    "\n",
    "obj = lambda a, b, c, d: -(d - b)\n",
    "\n",
    "constraints = [\n",
    "    lambda a, b, c, d: d >= b,\n",
    "    lambda a, b, c, d: np.allclose(.5, a*(1-.5*g) + b*(1-.5*g) + c*(0-.5*g) + d*(0-.5*g), atol=.01),\n",
    "    lambda a, b, c, d: np.allclose(.5, a*(0-.5*g) + b*(0-.5*g) + c*(1-.5*g) + d*(1-.5*g), atol=.01),\n",
    "]\n",
    "\n",
    "best_obj, best_lambdas = brute_force_constrained_opt(obj, constraints)\n",
    "\n",
    "print('\\nMaximum Reward:')\n",
    "print('\\t', best_obj)\n",
    "\n",
    "print('\\nArgmax Lambdas: ')\n",
    "display(np.round(best_lambdas, 2))\n",
    "\n",
    "\n",
    "print('\\nOptimal Policies:')\n",
    "pi_opt = np.zeros(n_states, dtype=int)\n",
    "for pi in best_lambdas:\n",
    "    for s in range(n_states):\n",
    "        start_idx = s*n_actions\n",
    "        end_idx = s*n_actions+n_actions\n",
    "        pi_opt[s] = np.array(pi[start_idx:end_idx]).argmax()\n",
    "\n",
    "    print('\\t', pi_opt)"
   ]
  },
  {
   "cell_type": "markdown",
   "id": "37c307b6",
   "metadata": {
    "heading_collapsed": true,
    "hidden": true
   },
   "source": [
    "### Accuracy + Disparate Impact"
   ]
  },
  {
   "cell_type": "markdown",
   "id": "8af6814e",
   "metadata": {
    "heading_collapsed": true,
    "hidden": true
   },
   "source": [
    "##### Subproblem 1\n",
    "\n",
    "$$\n",
    "1 - 2(\\lambda_{0,1} - \\lambda_{1,1}) \\hspace{.5cm} \\text{s.t.} \\hspace{.5cm} \\lambda_{0,1} \\geq \\lambda_{1,1} \\label{eq:subproblem_objective1}\n",
    "$$"
   ]
  },
  {
   "cell_type": "code",
   "execution_count": 7,
   "id": "5a0af944",
   "metadata": {
    "ExecuteTime": {
     "end_time": "2023-03-28T17:02:20.064048Z",
     "start_time": "2023-03-28T17:02:19.914139Z"
    },
    "hidden": true
   },
   "outputs": [
    {
     "name": "stdout",
     "output_type": "stream",
     "text": [
      "\n",
      "Maximum Reward:\n",
      "\t 1.0\n",
      "\n",
      "Argmax Lambdas: \n"
     ]
    },
    {
     "data": {
      "text/plain": [
       "array([[0. , 1. , 0. , 1. ],\n",
       "       [0.1, 0.9, 0.1, 0.9],\n",
       "       [0.2, 0.8, 0.2, 0.8],\n",
       "       [0.3, 0.7, 0.3, 0.7],\n",
       "       [0.4, 0.6, 0.4, 0.6],\n",
       "       [0.5, 0.5, 0.5, 0.5],\n",
       "       [0.6, 0.4, 0.6, 0.4],\n",
       "       [0.7, 0.3, 0.7, 0.3],\n",
       "       [0.8, 0.2, 0.8, 0.2],\n",
       "       [0.9, 0.1, 0.9, 0.1],\n",
       "       [1. , 0. , 1. , 0. ]])"
      ]
     },
     "metadata": {},
     "output_type": "display_data"
    },
    {
     "name": "stdout",
     "output_type": "stream",
     "text": [
      "\n",
      "Optimal Policies:\n",
      "\t [1 1]\n",
      "\t [1 1]\n",
      "\t [1 1]\n",
      "\t [1 1]\n",
      "\t [1 1]\n",
      "\t [0 0]\n",
      "\t [0 0]\n",
      "\t [0 0]\n",
      "\t [0 0]\n",
      "\t [0 0]\n",
      "\t [0 0]\n"
     ]
    }
   ],
   "source": [
    "g = gamma\n",
    "\n",
    "obj = lambda a, b, c, d: ((a+d) - (b-d))\n",
    "\n",
    "constraints = [\n",
    "    lambda a, b, c, d: b >= d,\n",
    "    lambda a, b, c, d: np.allclose(.5, a*(1-.5*g) + b*(1-.5*g) + c*(0-.5*g) + d*(0-.5*g), atol=.01),\n",
    "    lambda a, b, c, d: np.allclose(.5, a*(0-.5*g) + b*(0-.5*g) + c*(1-.5*g) + d*(1-.5*g), atol=.01),\n",
    "]\n",
    "\n",
    "best_obj, best_lambdas = brute_force_constrained_opt(obj, constraints)\n",
    "\n",
    "print('\\nMaximum Reward:')\n",
    "print('\\t', best_obj)\n",
    "\n",
    "print('\\nArgmax Lambdas: ')\n",
    "display(np.round(best_lambdas, 2))\n",
    "\n",
    "\n",
    "print('\\nOptimal Policies:')\n",
    "pi_opt = np.zeros(n_states, dtype=int)\n",
    "for pi in best_lambdas:\n",
    "    for s in range(n_states):\n",
    "        start_idx = s*n_actions\n",
    "        end_idx = s*n_actions+n_actions\n",
    "        pi_opt[s] = np.array(pi[start_idx:end_idx]).argmax()\n",
    "\n",
    "    print('\\t', pi_opt)"
   ]
  },
  {
   "cell_type": "markdown",
   "id": "ba897c36",
   "metadata": {
    "hidden": true
   },
   "source": [
    "##### Subproblem 2\n",
    "\n",
    "$$\n",
    "1 - 2(\\lambda_{1,1} - \\lambda_{0,1}) \\hspace{.5cm} \\text{s.t.} \\hspace{.5cm} \\lambda_{1,1} > \\lambda_{0,1}\n",
    "$$"
   ]
  },
  {
   "cell_type": "code",
   "execution_count": 8,
   "id": "1a8a3f67",
   "metadata": {
    "ExecuteTime": {
     "end_time": "2023-03-28T17:02:20.646343Z",
     "start_time": "2023-03-28T17:02:20.492873Z"
    },
    "hidden": true
   },
   "outputs": [
    {
     "name": "stdout",
     "output_type": "stream",
     "text": [
      "\n",
      "Maximum Reward:\n",
      "\t 1.0000000000000002\n",
      "\n",
      "Argmax Lambdas: \n"
     ]
    },
    {
     "data": {
      "text/plain": [
       "array([[0.3, 0.7, 0.1, 0.9],\n",
       "       [0.4, 0.6, 0.2, 0.8],\n",
       "       [0.6, 0.4, 0.3, 0.7],\n",
       "       [0.7, 0.3, 0. , 1. ],\n",
       "       [0.7, 0.3, 0.4, 0.6],\n",
       "       [0.7, 0.3, 0.5, 0.5],\n",
       "       [0.8, 0.2, 0.1, 0.9],\n",
       "       [0.8, 0.2, 0.6, 0.4],\n",
       "       [0.9, 0.1, 0.7, 0.3]])"
      ]
     },
     "metadata": {},
     "output_type": "display_data"
    },
    {
     "name": "stdout",
     "output_type": "stream",
     "text": [
      "\n",
      "Optimal Policies:\n",
      "\t [1 1]\n",
      "\t [1 1]\n",
      "\t [0 1]\n",
      "\t [0 1]\n",
      "\t [0 1]\n",
      "\t [0 0]\n",
      "\t [0 1]\n",
      "\t [0 0]\n",
      "\t [0 0]\n"
     ]
    }
   ],
   "source": [
    "g = gamma\n",
    "\n",
    "obj = lambda a, b, c, d: ((a+d) - (d-b))\n",
    "\n",
    "constraints = [\n",
    "    lambda a, b, c, d: d >= b,\n",
    "    lambda a, b, c, d: np.allclose(.5, a*(1-.5*g) + b*(1-.5*g) + c*(0-.5*g) + d*(0-.5*g), atol=.01),\n",
    "    lambda a, b, c, d: np.allclose(.5, a*(0-.5*g) + b*(0-.5*g) + c*(1-.5*g) + d*(1-.5*g), atol=.01),\n",
    "]\n",
    "\n",
    "best_obj, best_lambdas = brute_force_constrained_opt(obj, constraints)\n",
    "\n",
    "print('\\nMaximum Reward:')\n",
    "print('\\t', best_obj)\n",
    "\n",
    "print('\\nArgmax Lambdas: ')\n",
    "display(np.round(best_lambdas, 2))\n",
    "\n",
    "\n",
    "print('\\nOptimal Policies:')\n",
    "pi_opt = np.zeros(n_states, dtype=int)\n",
    "for pi in best_lambdas:\n",
    "    for s in range(n_states):\n",
    "        start_idx = s*n_actions\n",
    "        end_idx = s*n_actions+n_actions\n",
    "        pi_opt[s] = np.array(pi[start_idx:end_idx]).argmax()\n",
    "\n",
    "    print('\\t', pi_opt)"
   ]
  },
  {
   "cell_type": "markdown",
   "id": "8a423ace",
   "metadata": {
    "heading_collapsed": true
   },
   "source": [
    "## Linear Programming"
   ]
  },
  {
   "cell_type": "markdown",
   "id": "7ec93fa6",
   "metadata": {
    "heading_collapsed": true,
    "hidden": true
   },
   "source": [
    "### Helper functions"
   ]
  },
  {
   "cell_type": "code",
   "execution_count": 27,
   "id": "33e13107",
   "metadata": {
    "ExecuteTime": {
     "end_time": "2023-04-05T16:06:49.439515Z",
     "start_time": "2023-04-05T16:06:49.416363Z"
    },
    "code_folding": [
     0,
     7
    ],
    "hidden": true
   },
   "outputs": [],
   "source": [
    "def is_pol_in_pols(pol, policies):\n",
    "    for p in policies:\n",
    "        if np.array_equal(p, pol):\n",
    "            return True\n",
    "    return False\n",
    "\n",
    "\n",
    "def find_all_solutions_lp(c, A_eq, b_eq, A_ub, b_ub, error_term=.0001):\n",
    "    \"\"\"\n",
    "    Wrapper around scipy.optimize.linprog that finds ALL optimal solutions\n",
    "    by iteratively solving the LP problem after adding/subtracting an \"error\"\n",
    "    term to each objective component.\n",
    "    \"\"\"\n",
    "    best_policies = []\n",
    "    best_reward = -1*np.inf\n",
    "    \n",
    "    for i in range(len(A_eq)):\n",
    "\n",
    "        # Positive error\n",
    "        cpos = np.array(c)\n",
    "        cpos[i] += error_term\n",
    "        res = linprog(cpos, A_eq=A_eq, b_eq=b_eq, A_ub=A_ub, b_ub=b_ub)\n",
    "        if ((-1*res.fun > best_reward)\n",
    "            and (not np.isclose(-1*res.fun, best_reward, atol=.001))):\n",
    "            best_reward = -1*res.fun\n",
    "            print(f\"\\nBest Reward:\\t {best_reward}\")\n",
    "        print(f\"Lambdas:\\t {np.round(res.x, 2)}\")\n",
    "        pi_opt = np.zeros(n_states, dtype=int)\n",
    "        for s in range(n_states):\n",
    "            start_idx = s*n_actions\n",
    "            end_idx = s*n_actions+n_actions\n",
    "            pi_opt[s] = res.x[start_idx:end_idx].argmax()\n",
    "        if not is_pol_in_pols(pi_opt, best_policies):\n",
    "            best_policies.append(pi_opt)\n",
    "            print(f\"Optimal Policy:\\t, {pi_opt} \\n\")\n",
    "\n",
    "        # Negative error\n",
    "        cneg = np.array(c)\n",
    "        cneg[i] -= error_term\n",
    "        res = linprog(cneg, A_eq=A_eq, b_eq=b_eq, A_ub=A_ub, b_ub=b_ub)\n",
    "        if ((-1*res.fun > best_reward)\n",
    "            and (not np.isclose(-1*res.fun, best_reward, atol=.001))):\n",
    "            best_reward = -1*res.fun\n",
    "            print(f\"\\nBest Reward:\\t {best_reward}\")\n",
    "        print(f\"Lambdas:\\t {np.round(res.x, 2)}\")\n",
    "        pi_opt = np.zeros(n_states, dtype=int)\n",
    "        for s in range(n_states):\n",
    "            start_idx = s*n_actions\n",
    "            end_idx = s*n_actions+n_actions\n",
    "            pi_opt[s] = res.x[start_idx:end_idx].argmax()\n",
    "        if not is_pol_in_pols(pi_opt, best_policies):\n",
    "            best_policies.append(pi_opt)\n",
    "            print(f\"Optimal Policy:\\t, {pi_opt} \\n\")\n",
    "\n",
    "    print('\\nOptimal policies:')\n",
    "    for pi in best_policies:\n",
    "        print('\\t', np.round(pi, 2))\n",
    "        \n",
    "    return best_policies, best_reward"
   ]
  },
  {
   "cell_type": "markdown",
   "id": "acd0f0f1",
   "metadata": {
    "ExecuteTime": {
     "end_time": "2023-03-29T14:41:52.966262Z",
     "start_time": "2023-03-29T14:41:52.963515Z"
    },
    "heading_collapsed": true,
    "hidden": true
   },
   "source": [
    "### Shared parameters"
   ]
  },
  {
   "cell_type": "code",
   "execution_count": 28,
   "id": "25212b06",
   "metadata": {
    "ExecuteTime": {
     "end_time": "2023-04-05T16:06:50.255406Z",
     "start_time": "2023-04-05T16:06:50.240244Z"
    },
    "hidden": true
   },
   "outputs": [],
   "source": [
    "n_states = 2\n",
    "n_actions = 2\n",
    "gamma = 1e-6\n",
    "\n",
    "A_eq = np.array([\n",
    "    np.array([(1-gamma*.5), (1-gamma*.5), (0-gamma*.5), (0-gamma*.5)]),\n",
    "    np.array([(0-gamma*.5), (0-gamma*.5), (1-gamma*.5), (1-gamma*.5)]),\n",
    "], dtype=float)\n",
    "b_eq = np.array([.5, .5], dtype=float)\n",
    "\n",
    "c_acc = np.array([1, 0, 0, 1], dtype=float)\n",
    "c_disp_sub1 = np.array([0, -2, 0, 2], dtype=float)\n",
    "c_disp_sub2 = np.array([0, 2, 0, -2], dtype=float)"
   ]
  },
  {
   "cell_type": "markdown",
   "id": "60d1dffc",
   "metadata": {
    "ExecuteTime": {
     "end_time": "2023-03-29T15:03:49.570931Z",
     "start_time": "2023-03-29T15:03:49.564094Z"
    },
    "heading_collapsed": true,
    "hidden": true
   },
   "source": [
    "### Accuracy"
   ]
  },
  {
   "cell_type": "code",
   "execution_count": 29,
   "id": "9594a766",
   "metadata": {
    "ExecuteTime": {
     "end_time": "2023-04-05T16:06:51.353608Z",
     "start_time": "2023-04-05T16:06:51.330797Z"
    },
    "hidden": true
   },
   "outputs": [
    {
     "name": "stdout",
     "output_type": "stream",
     "text": [
      "c:\t[-1. -0. -0. -1.]\n",
      "\n",
      "Best Reward:\t 0.9999509999509999\n",
      "Lambdas:\t [0.5 0.  0.  0.5]\n",
      "Optimal Policy:\t, [0 1] \n",
      "\n",
      "Lambdas:\t [0.5 0.  0.  0.5]\n",
      "Lambdas:\t [0.5 0.  0.  0.5]\n",
      "Lambdas:\t [0.5 0.  0.  0.5]\n",
      "\n",
      "Optimal policies:\n",
      "\t [0 1]\n"
     ]
    },
    {
     "data": {
      "text/plain": [
       "0.9999509999509999"
      ]
     },
     "execution_count": 29,
     "metadata": {},
     "output_type": "execute_result"
    }
   ],
   "source": [
    "c = -1*c_acc\n",
    "print(f\"c:\\t{c}\")\n",
    "\n",
    "best_policies, best_reward = find_all_solutions_lp(\n",
    "    c=c,\n",
    "    A_eq=A_eq,\n",
    "    b_eq=b_eq,\n",
    "    A_ub=None,\n",
    "    b_ub=None,\n",
    ")\n",
    "best_reward"
   ]
  },
  {
   "cell_type": "markdown",
   "id": "4914f790",
   "metadata": {
    "heading_collapsed": true,
    "hidden": true
   },
   "source": [
    "### Disparate Impact"
   ]
  },
  {
   "cell_type": "markdown",
   "id": "d048150f",
   "metadata": {
    "hidden": true
   },
   "source": [
    "##### Subproblem 1"
   ]
  },
  {
   "cell_type": "code",
   "execution_count": 30,
   "id": "68c1bb3d",
   "metadata": {
    "ExecuteTime": {
     "end_time": "2023-04-05T16:06:55.046578Z",
     "start_time": "2023-04-05T16:06:55.023143Z"
    },
    "hidden": true
   },
   "outputs": [
    {
     "name": "stdout",
     "output_type": "stream",
     "text": [
      "c:\t[-0.  2. -0. -2.]\n",
      "\n",
      "Best Reward:\t -0.0\n",
      "Lambdas:\t [-0.   0.5  0.   0.5]\n",
      "Optimal Policy:\t, [1 1] \n",
      "\n",
      "Lambdas:\t [ 0.5 -0.   0.5  0. ]\n",
      "Optimal Policy:\t, [0 0] \n",
      "\n",
      "Lambdas:\t [ 0.5 -0.   0.5  0. ]\n",
      "Lambdas:\t [-0.   0.5  0.   0.5]\n",
      "\n",
      "Optimal policies:\n",
      "\t [1 1]\n",
      "\t [0 0]\n",
      "\n",
      "best reward: -0.0\n"
     ]
    }
   ],
   "source": [
    "c = -1*(c_disp_sub1)\n",
    "print(f\"c:\\t{c}\")\n",
    "A_ub = np.array([\n",
    "    np.array([0, -1, 0, 1]), np.array([0, -1, 0, 1])\n",
    "], dtype=float)\n",
    "b_ub = np.array([0, 0], dtype=float)\n",
    "\n",
    "best_policies, best_reward = find_all_solutions_lp(\n",
    "    c=c,\n",
    "    A_eq=A_eq,\n",
    "    b_eq=b_eq,\n",
    "    A_ub=A_ub,\n",
    "    b_ub=b_ub,\n",
    ")\n",
    "print(f\"\\nbest reward: {best_reward}\")"
   ]
  },
  {
   "cell_type": "markdown",
   "id": "694f12c9",
   "metadata": {
    "heading_collapsed": true,
    "hidden": true
   },
   "source": [
    "##### Subproblem 2"
   ]
  },
  {
   "cell_type": "code",
   "execution_count": 220,
   "id": "01c06d45",
   "metadata": {
    "ExecuteTime": {
     "end_time": "2023-04-05T15:14:59.563554Z",
     "start_time": "2023-04-05T15:14:59.534855Z"
    },
    "hidden": true
   },
   "outputs": [
    {
     "name": "stdout",
     "output_type": "stream",
     "text": [
      "c:\t[-0. -2. -0.  2.]\n"
     ]
    },
    {
     "ename": "NameError",
     "evalue": "name 'A_eq' is not defined",
     "output_type": "error",
     "traceback": [
      "\u001b[0;31m---------------------------------------------------------------------------\u001b[0m",
      "\u001b[0;31mNameError\u001b[0m                                 Traceback (most recent call last)",
      "Cell \u001b[0;32mIn[220], line 10\u001b[0m\n\u001b[1;32m      3\u001b[0m A_ub \u001b[38;5;241m=\u001b[39m np\u001b[38;5;241m.\u001b[39marray([\n\u001b[1;32m      4\u001b[0m     np\u001b[38;5;241m.\u001b[39marray([\u001b[38;5;241m0\u001b[39m, \u001b[38;5;241m1\u001b[39m, \u001b[38;5;241m0\u001b[39m, \u001b[38;5;241m-\u001b[39m\u001b[38;5;241m1\u001b[39m]), np\u001b[38;5;241m.\u001b[39marray([\u001b[38;5;241m0\u001b[39m, \u001b[38;5;241m1\u001b[39m, \u001b[38;5;241m0\u001b[39m, \u001b[38;5;241m-\u001b[39m\u001b[38;5;241m1\u001b[39m])\n\u001b[1;32m      5\u001b[0m ], dtype\u001b[38;5;241m=\u001b[39m\u001b[38;5;28mfloat\u001b[39m)\n\u001b[1;32m      6\u001b[0m b_ub \u001b[38;5;241m=\u001b[39m np\u001b[38;5;241m.\u001b[39marray([\u001b[38;5;241m0\u001b[39m, \u001b[38;5;241m0\u001b[39m], dtype\u001b[38;5;241m=\u001b[39m\u001b[38;5;28mfloat\u001b[39m)\n\u001b[1;32m      8\u001b[0m best_policies, best_reward \u001b[38;5;241m=\u001b[39m find_all_solutions_lp(\n\u001b[1;32m      9\u001b[0m     c\u001b[38;5;241m=\u001b[39mc,\n\u001b[0;32m---> 10\u001b[0m     A_eq\u001b[38;5;241m=\u001b[39m\u001b[43mA_eq\u001b[49m,\n\u001b[1;32m     11\u001b[0m     b_eq\u001b[38;5;241m=\u001b[39mb_eq,\n\u001b[1;32m     12\u001b[0m     A_ub\u001b[38;5;241m=\u001b[39mA_ub,\n\u001b[1;32m     13\u001b[0m     b_ub\u001b[38;5;241m=\u001b[39mb_ub,\n\u001b[1;32m     14\u001b[0m )\n\u001b[1;32m     15\u001b[0m best_reward\n",
      "\u001b[0;31mNameError\u001b[0m: name 'A_eq' is not defined"
     ]
    }
   ],
   "source": [
    "c = -1*(c_disp_sub2)\n",
    "print(f\"c:\\t{c}\")\n",
    "A_ub = np.array([\n",
    "    np.array([0, 1, 0, -1]), np.array([0, 1, 0, -1])\n",
    "], dtype=float)\n",
    "b_ub = np.array([0, 0], dtype=float)\n",
    "\n",
    "best_policies, best_reward = find_all_solutions_lp(\n",
    "    c=c,\n",
    "    A_eq=A_eq,\n",
    "    b_eq=b_eq,\n",
    "    A_ub=A_ub,\n",
    "    b_ub=b_ub,\n",
    ")\n",
    "best_reward"
   ]
  },
  {
   "cell_type": "markdown",
   "id": "a31e4b13",
   "metadata": {
    "heading_collapsed": true,
    "hidden": true
   },
   "source": [
    "### Accuracy + Disparate Impact"
   ]
  },
  {
   "cell_type": "markdown",
   "id": "94b68302",
   "metadata": {
    "heading_collapsed": true,
    "hidden": true
   },
   "source": [
    "##### Subproblem 1, $\\lambda_{0,1} \\geq \\lambda_{1,1}$"
   ]
  },
  {
   "cell_type": "code",
   "execution_count": 186,
   "id": "6e7300ba",
   "metadata": {
    "ExecuteTime": {
     "end_time": "2023-03-29T19:28:29.951045Z",
     "start_time": "2023-03-29T19:28:29.928356Z"
    },
    "hidden": true
   },
   "outputs": [
    {
     "name": "stdout",
     "output_type": "stream",
     "text": [
      "c:\t[-0.5  1.  -0.  -1.5]\n",
      "\n",
      "Best Reward:\t 0.25000025000024995\n",
      "Lambdas:\t [-0.   0.5  0.   0.5]\n",
      "Optimal Policy:\t, [1 1] \n",
      "\n",
      "Lambdas:\t [ 0.5 -0.   0.5  0. ]\n",
      "Optimal Policy:\t, [0 0] \n",
      "\n",
      "Lambdas:\t [ 0.5 -0.   0.5  0. ]\n",
      "Lambdas:\t [-0.   0.5  0.   0.5]\n",
      "\n",
      "Optimal policies:\n",
      "\t [1 1]\n",
      "\t [0 0]\n",
      "\n",
      "Best reward: 0.25\n"
     ]
    }
   ],
   "source": [
    "c = -1*(.5*c_acc + .5*c_disp_sub1)\n",
    "print(f\"c:\\t{c}\")\n",
    "A_ub = np.array([np.array([0., -1, 0, 1]), np.array([0., -1, 0, 1])])\n",
    "b_ub = np.array([0., 0])\n",
    "\n",
    "best_policies, best_reward = find_all_solutions_lp(\n",
    "    c=c,\n",
    "    A_eq=A_eq,\n",
    "    b_eq=b_eq,\n",
    "    A_ub=A_ub,\n",
    "    b_ub=b_ub,\n",
    ")\n",
    "print(f\"\\nBest reward: {best_reward:.2f}\")"
   ]
  },
  {
   "cell_type": "markdown",
   "id": "3ae6076c",
   "metadata": {
    "hidden": true
   },
   "source": [
    "##### Subproblem 2, $\\lambda_{1,1} \\geq \\lambda_{0,1}$"
   ]
  },
  {
   "cell_type": "code",
   "execution_count": 187,
   "id": "17db8802",
   "metadata": {
    "ExecuteTime": {
     "end_time": "2023-03-29T19:28:35.001493Z",
     "start_time": "2023-03-29T19:28:34.981933Z"
    },
    "hidden": true
   },
   "outputs": [
    {
     "name": "stdout",
     "output_type": "stream",
     "text": [
      "c:\t[-0.5 -1.  -0.   0.5]\n",
      "\n",
      "Best Reward:\t 0.25000025000025\n",
      "Lambdas:\t [-0.   0.5  0.   0.5]\n",
      "Optimal Policy:\t, [1 1] \n",
      "\n",
      "Lambdas:\t [ 0.5  0.   0.5 -0. ]\n",
      "Optimal Policy:\t, [0 0] \n",
      "\n",
      "Lambdas:\t [ 0.5  0.   0.5 -0. ]\n",
      "Lambdas:\t [-0.   0.5  0.   0.5]\n",
      "\n",
      "Optimal policies:\n",
      "\t [1 1]\n",
      "\t [0 0]\n",
      "\n",
      "Best reward: 0.25\n"
     ]
    }
   ],
   "source": [
    "c = -1*(.5*c_acc + .5*c_disp_sub2)\n",
    "print(f\"c:\\t{c}\")\n",
    "A_ub = np.array([np.array([0., 1, 0, -1]), np.array([0., 1, 0, -1])])\n",
    "b_ub = np.array([0., 0])\n",
    "\n",
    "best_policies, best_reward = find_all_solutions_lp(\n",
    "    c=c,\n",
    "    A_eq=A_eq,\n",
    "    b_eq=b_eq,\n",
    "    A_ub=A_ub,\n",
    "    b_ub=b_ub,\n",
    ")\n",
    "print(f\"\\nBest reward: {best_reward:.2f}\")"
   ]
  },
  {
   "cell_type": "markdown",
   "id": "0cf74c32",
   "metadata": {
    "ExecuteTime": {
     "end_time": "2023-03-29T16:08:01.553816Z",
     "start_time": "2023-03-29T16:08:01.545112Z"
    },
    "heading_collapsed": true
   },
   "source": [
    "# Arbitrary classification MDP"
   ]
  },
  {
   "cell_type": "code",
   "execution_count": 327,
   "id": "0794118f",
   "metadata": {
    "ExecuteTime": {
     "end_time": "2023-04-08T15:52:43.804489Z",
     "start_time": "2023-04-08T15:52:43.781274Z"
    },
    "code_folding": [
     7
    ],
    "hidden": true
   },
   "outputs": [],
   "source": [
    "def is_pol_in_pols(pol, policies):\n",
    "    for p in policies:\n",
    "        if np.array_equal(p, pol):\n",
    "            return True\n",
    "    return False\n",
    "\n",
    "\n",
    "def find_all_solutions_lp(\n",
    "    c, A_eq, b_eq, A_ub=None, b_ub=None, error_term=.0001, verbose=False):\n",
    "    \"\"\"\n",
    "    Wrapper around scipy.optimize.linprog that finds ALL optimal solutions\n",
    "    by iteratively solving the LP problem after adding/subtracting an \"error\"\n",
    "    term to each objective component.\n",
    "    \"\"\"\n",
    "    best_policies = []\n",
    "    best_reward = -1*np.inf\n",
    "    n_states = len(b_eq)\n",
    "    n_actions = 2\n",
    "    \n",
    "    for i in range(len(A_eq)):\n",
    "\n",
    "        # Positive error\n",
    "        cpos = np.array(c)\n",
    "        cpos[i] += error_term\n",
    "        res = linprog(cpos, A_eq=A_eq, b_eq=b_eq, A_ub=A_ub, b_ub=b_ub)\n",
    "        if ((-1*res.fun > best_reward)\n",
    "            and (not np.isclose(-1*res.fun, best_reward, atol=.001))):\n",
    "            best_reward = -1*res.fun\n",
    "            if verbose:\n",
    "                print(f\"\\nBest Reward:\\t {best_reward}\")\n",
    "        if verbose:\n",
    "            print(f\"Lambdas:\\t {np.round(res.x, 2)}\")\n",
    "        pi_opt = np.zeros(n_states, dtype=int)\n",
    "        for s in range(n_states):\n",
    "            start_idx = s*n_actions\n",
    "            end_idx = s*n_actions+n_actions\n",
    "            pi_opt[s] = res.x[start_idx:end_idx].argmax()\n",
    "        if not is_pol_in_pols(pi_opt, best_policies):\n",
    "            best_policies.append(pi_opt)\n",
    "            if verbose:\n",
    "                print(f\"Optimal Policy:\\t, {pi_opt} \\n\")\n",
    "\n",
    "        # Negative error\n",
    "        cneg = np.array(c)\n",
    "        cneg[i] -= error_term\n",
    "        res = linprog(cneg, A_eq=A_eq, b_eq=b_eq, A_ub=A_ub, b_ub=b_ub)\n",
    "        if ((-1*res.fun > best_reward)\n",
    "            and (not np.isclose(-1*res.fun, best_reward, atol=.001))):\n",
    "            best_reward = -1*res.fun\n",
    "            if verbose:\n",
    "                print(f\"\\nBest Reward:\\t {best_reward}\")\n",
    "        if verbose:\n",
    "            print(f\"Lambdas:\\t {np.round(res.x, 2)}\")\n",
    "        pi_opt = np.zeros(n_states, dtype=int)\n",
    "        for s in range(n_states):\n",
    "            start_idx = s*n_actions\n",
    "            end_idx = s*n_actions+n_actions\n",
    "            pi_opt[s] = res.x[start_idx:end_idx].argmax()\n",
    "        if not is_pol_in_pols(pi_opt, best_policies):\n",
    "            best_policies.append(pi_opt)\n",
    "            if verbose:\n",
    "                print(f\"Optimal Policy:\\t, {pi_opt} \\n\")\n",
    "    if verbose:\n",
    "        print('\\nOptimal policies:')\n",
    "        for pi in best_policies:\n",
    "            print('\\t', np.round(pi, 2))\n",
    "        \n",
    "    return best_policies, best_reward\n",
    "\n",
    "\n",
    "def test_eq(a, b, fail_msg=None):\n",
    "    try:\n",
    "        assert np.allclose(a, b, atol=1e-4)\n",
    "    except AssertionError as err:\n",
    "        if fail_msg is not None:\n",
    "            print(fail_msg)\n",
    "        display('a', a)\n",
    "        display('b', b)"
   ]
  },
  {
   "cell_type": "code",
   "execution_count": 32,
   "id": "c3b604fc",
   "metadata": {
    "ExecuteTime": {
     "end_time": "2023-04-05T16:07:07.048621Z",
     "start_time": "2023-04-05T16:07:07.038084Z"
    },
    "code_folding": [],
    "hidden": true
   },
   "outputs": [],
   "source": [
    "def construct_mu(df):\n",
    "    \"\"\"\n",
    "    Returns an array of size len(df) with 1/len(df) values representing the\n",
    "    initial state probabilities.\n",
    "    \"\"\"\n",
    "    n_states = len(df)\n",
    "    n_actions = 2 \n",
    "    mu = np.ones(n_states) / n_states\n",
    "    return mu"
   ]
  },
  {
   "cell_type": "code",
   "execution_count": 33,
   "id": "9d7cf727",
   "metadata": {
    "ExecuteTime": {
     "end_time": "2023-04-05T16:07:07.382840Z",
     "start_time": "2023-04-05T16:07:07.373552Z"
    },
    "code_folding": [],
    "hidden": true
   },
   "outputs": [],
   "source": [
    "def construct_A_eq(df, gamma):\n",
    "    \"\"\"\n",
    "    Constructs a transition matrix where all \"states\" have equal probability.\n",
    "    \"\"\"\n",
    "    n_states = len(df)\n",
    "    n_actions = 2 \n",
    "    mu = construct_mu(df)\n",
    "    A_eq = np.zeros((n_states, n_states*n_actions))\n",
    "    for s in range(n_states):\n",
    "        for sp in range(n_states):\n",
    "            for a in range(n_actions):\n",
    "                if s == sp:\n",
    "                    A_eq[s][sp*n_actions+a] = 1 - gamma*mu[sp]\n",
    "                else:\n",
    "                    A_eq[s][sp*n_actions+a] = 0 - gamma*mu[sp]\n",
    "    return A_eq"
   ]
  },
  {
   "cell_type": "code",
   "execution_count": 34,
   "id": "aa62313e",
   "metadata": {
    "ExecuteTime": {
     "end_time": "2023-04-05T16:07:07.668364Z",
     "start_time": "2023-04-05T16:07:07.658635Z"
    },
    "code_folding": [],
    "hidden": true
   },
   "outputs": [],
   "source": [
    "def construct_reward__accuracy(df):\n",
    "    df = df.copy()\n",
    "    n_states = len(df)\n",
    "    n_actions = 2\n",
    "    reward = np.empty((n_states*n_actions), dtype=float)\n",
    "    df['accurate_prediction'] = df['y']\n",
    "    \n",
    "    for i, (idx, row) in enumerate(df.iterrows()):\n",
    "        reward[i*n_actions] = int(row['y'] == 0)\n",
    "        reward[i*n_actions+1] = int(row['y'] == 1)\n",
    "        \n",
    "    c = -1 * reward  # Negative since maximizing not minimizing\n",
    "    \n",
    "    return c"
   ]
  },
  {
   "cell_type": "code",
   "execution_count": 35,
   "id": "8c808e98",
   "metadata": {
    "ExecuteTime": {
     "end_time": "2023-04-05T16:07:08.131654Z",
     "start_time": "2023-04-05T16:07:08.114599Z"
    },
    "code_folding": [
     26
    ],
    "hidden": true
   },
   "outputs": [],
   "source": [
    "def construct_lambda_matrix(df):\n",
    "    df = df.copy()\n",
    "    ldf = pd.concat([df, df], axis=0).reset_index(drop=True)  # lambda matrix\n",
    "    ldf = ldf.sort_values(list(ldf.columns))  # Make every two rows the same\n",
    "    yhat = np.zeros(len(ldf), dtype=int)\n",
    "    yhat[1::2] = 1  # Makes 'a' 0, 1 repeating sequence\n",
    "    ldf['yhat'] = yhat\n",
    "    return ldf\n",
    "\n",
    "\n",
    "def construct_reward__disp_imp_sub1(df):\n",
    "    \"\"\"\n",
    "    Subproblem 1 is when P(yhat=1|z=0) >= P(yhat=1|z=1)\n",
    "    \"\"\"\n",
    "    df = df.copy()\n",
    "    ldf = construct_lambda_matrix(df)\n",
    "    del df\n",
    "    filt__yhat1_giv_z0 = (ldf['z'] == 0) & (ldf['yhat'] == 1)\n",
    "    filt__yhat1_giv_z1 = (ldf['z'] == 1) & (ldf['yhat'] == 1)\n",
    "    ldf['r'] = np.zeros(len(ldf))\n",
    "    ldf.loc[filt__yhat1_giv_z0, 'r'] = -2\n",
    "    ldf.loc[filt__yhat1_giv_z1, 'r'] = 2\n",
    "    c = -1 * ldf['r']  # Negative since maximizing not minimizing\n",
    "    return c\n",
    "\n",
    "\n",
    "def construct_reward__disp_imp_sub2(df):\n",
    "    \"\"\"\n",
    "    Subproblem 2 is when P(yhat=1|z=1) >= P(yhat=1|z=0)\n",
    "    \"\"\"\n",
    "    df = df.copy()\n",
    "    ldf = construct_lambda_matrix(df)\n",
    "    del df\n",
    "    filt__yhat1_giv_z0 = (ldf['z'] == 0) & (ldf['yhat'] == 1)\n",
    "    filt__yhat1_giv_z1 = (ldf['z'] == 1) & (ldf['yhat'] == 1)\n",
    "    ldf['r'] = np.zeros(len(ldf))\n",
    "    ldf.loc[filt__yhat1_giv_z0, 'r'] = 2\n",
    "    ldf.loc[filt__yhat1_giv_z1, 'r'] = -2\n",
    "    c = -1 * ldf['r']  # Negative since maximizing not minimizing\n",
    "    return c"
   ]
  },
  {
   "cell_type": "code",
   "execution_count": 50,
   "id": "3860248b",
   "metadata": {
    "ExecuteTime": {
     "end_time": "2023-04-05T16:21:07.914596Z",
     "start_time": "2023-04-05T16:21:07.901768Z"
    },
    "code_folding": [],
    "hidden": true
   },
   "outputs": [],
   "source": [
    "def construct_A_ub__disp_imp_sub1(df):\n",
    "    \"\"\"\n",
    "    Subproblem 1 is when P(yhat=1|z=0) >= P(yhat=1|z=1)\n",
    "    \"\"\"\n",
    "    df = df.copy()\n",
    "    n_states = len(df)\n",
    "    n_actions = 2\n",
    "    ldf = construct_lambda_matrix(df)\n",
    "    del df\n",
    "    filt__yhat1_giv_z0 = (ldf['z'] == 0) & (ldf['yhat'] == 1)\n",
    "    filt__yhat1_giv_z1 = (ldf['z'] == 1) & (ldf['yhat'] == 1)\n",
    "    ldf['A_ub'] = 0.0\n",
    "    ldf.loc[filt__yhat1_giv_z0, 'A_ub'] = -1\n",
    "    ldf.loc[filt__yhat1_giv_z1, 'A_ub'] = 1\n",
    "    A_ub = np.zeros((n_states, n_states*n_actions), dtype=float)\n",
    "    for i in range(n_states):\n",
    "        A_ub[i] = ldf['A_ub']\n",
    "    return A_ub\n",
    "\n",
    "def construct_A_ub__disp_imp_sub2(df):\n",
    "    \"\"\"\n",
    "    Subproblem 2 is when P(yhat=1|z=1) >= P(yhat=1|z=0)\n",
    "    \"\"\"\n",
    "    df = df.copy()\n",
    "    n_states = len(df)\n",
    "    n_actions = 2\n",
    "    ldf = construct_lambda_matrix(df)\n",
    "    del df\n",
    "    filt__yhat1_giv_z0 = (ldf['z'] == 0) & (ldf['yhat'] == 1)\n",
    "    filt__yhat1_giv_z1 = (ldf['z'] == 1) & (ldf['yhat'] == 1)\n",
    "    ldf['A_ub'] = 0.0\n",
    "    ldf.loc[filt__yhat1_giv_z0, 'A_ub'] = 1\n",
    "    ldf.loc[filt__yhat1_giv_z1, 'A_ub'] = -1\n",
    "    A_ub = np.zeros((n_states, n_states*n_actions), dtype=float)\n",
    "    for i in range(n_states):\n",
    "        A_ub[i] = ldf['A_ub']\n",
    "    return A_ub"
   ]
  },
  {
   "cell_type": "code",
   "execution_count": 309,
   "id": "767113b9",
   "metadata": {
    "ExecuteTime": {
     "end_time": "2023-04-08T15:44:17.035866Z",
     "start_time": "2023-04-08T15:44:17.022312Z"
    },
    "code_folding": [],
    "hidden": true
   },
   "outputs": [],
   "source": [
    "def find_best_policies_from_multiple_subproblems(best_policies_best_rewards, verbose=False):\n",
    "    rewards = [bpbr['reward'] for bpbr in best_policies_best_rewards]\n",
    "    best_idx = np.argwhere(rewards == np.amax(rewards)).flatten().tolist()\n",
    "    if verbose:\n",
    "        print(f\"best_idx: {best_idx}\")\n",
    "    best_of_best_pols = []\n",
    "    # For each subproblem index where the reward is the best reward\n",
    "    for idx in best_idx:\n",
    "        # Get all the policies from that subproblem (all have same reward)\n",
    "        pols = best_policies_best_rewards[idx]['policies']\n",
    "        # For each of these policies, check add it to the list of\n",
    "        # best_of_best_pols if it's not already in it.\n",
    "        for pol in pols:\n",
    "            if verbose:\n",
    "                print('pol', pol)\n",
    "            pol_in_best = False\n",
    "            for bpol in best_of_best_pols:\n",
    "                if verbose:\n",
    "                    print('\\tbpol', bpol)\n",
    "                if np.allclose(pol, bpol, atol=1e-5):\n",
    "                    if verbose:\n",
    "                        print(\"\\t\\t\" + f\"{pol} already in best_of_best_pols\")\n",
    "                    pol_in_best = True\n",
    "                    break\n",
    "            if not pol_in_best:\n",
    "                if verbose:\n",
    "                    print(f\"appending {pol} to best_of_best_pols\")\n",
    "                best_of_best_pols.append(pol)\n",
    "            \n",
    "    return best_of_best_pols, rewards[best_idx[0]]"
   ]
  },
  {
   "cell_type": "markdown",
   "id": "a27e5cc9",
   "metadata": {
    "heading_collapsed": true,
    "hidden": true
   },
   "source": [
    "### 2-State Datataset"
   ]
  },
  {
   "cell_type": "code",
   "execution_count": 213,
   "id": "ad07820b",
   "metadata": {
    "ExecuteTime": {
     "end_time": "2023-04-05T20:55:46.371676Z",
     "start_time": "2023-04-05T20:55:46.334151Z"
    },
    "code_folding": [],
    "hidden": true
   },
   "outputs": [],
   "source": [
    "# Generate dataset\n",
    "df_test = pd.DataFrame()\n",
    "df_test['z'] = [0, 1]\n",
    "df_test['x0'] = [0, 0]\n",
    "df_test['y'] = [0, 1]\n",
    "\n",
    "# Set parameters shared for any reward\n",
    "gamma_test = 1e-6\n",
    "A_eq_test = construct_A_eq(df_test, gamma_test)\n",
    "b_eq_test = construct_mu(df_test)\n",
    "\n",
    "# Reward is accuracy\n",
    "c_acc_test = construct_reward__accuracy(df_test)\n",
    "opt_pols_acc_test, opt_rew_acc_test = find_all_solutions_lp(\n",
    "    c=c_acc_test,\n",
    "    A_eq=A_eq_test,\n",
    "    b_eq=b_eq_test,\n",
    ")\n",
    "\n",
    "# Reward is disparate impact\n",
    "b_ub_disp_imp = np.zeros(len(df_test), dtype=float)  # Same for both subproblems\n",
    "### Subproblem 1\n",
    "c_disp_imp_sub1_test = construct_reward__disp_imp_sub1(df_test)\n",
    "A_ub_disp_imp_sub1_test = construct_A_ub__disp_imp_sub1(df_test)\n",
    "opt_pols_disp_imp_sub1_test, opt_rew_disp_imp_sub1_test = find_all_solutions_lp(\n",
    "    c=c_disp_imp_sub1_test,\n",
    "    A_eq=A_eq_test,\n",
    "    b_eq=b_eq_test,\n",
    "    A_ub=A_ub_disp_imp_sub1_test,\n",
    "    b_ub=b_ub_disp_imp,\n",
    ")\n",
    "### Subproblem 2\n",
    "c_disp_imp_sub2_test = construct_reward__disp_imp_sub2(df_test)\n",
    "A_ub_disp_imp_sub2_test = construct_A_ub__disp_imp_sub2(df_test)\n",
    "opt_pols_disp_imp_sub2_test, opt_rew_disp_imp_sub2_test = find_all_solutions_lp(\n",
    "    c=c_disp_imp_sub2_test,\n",
    "    A_eq=A_eq_test,\n",
    "    b_eq=b_eq_test,\n",
    "    A_ub=A_ub_disp_imp_sub2_test,\n",
    "    b_ub=b_ub_disp_imp,\n",
    ")\n",
    "### Combined\n",
    "best_policies_best_rewards_disp_imp_test = (\n",
    "    {'policies': list(opt_pols_disp_imp_sub1_test), 'reward': float(opt_rew_disp_imp_sub1_test)},\n",
    "    {'policies': list(opt_pols_disp_imp_sub2_test), 'reward': float(opt_rew_disp_imp_sub2_test)},\n",
    ")\n",
    "opt_pols_disp_imp, opt_rew_disp_imp = find_best_policies_from_multiple_subproblems(\n",
    "    best_policies_best_rewards_disp_imp_test,\n",
    ")\n",
    "\n",
    "\n",
    "\n",
    "##\n",
    "# Unit tests\n",
    "##\n",
    "\n",
    "test_eq(A_eq_test.shape, (2, 4))\n",
    "test_eq(\n",
    "    A_eq_test,\n",
    "    np.array(\n",
    "        [np.array([1, 1, 0, 0], dtype=float),\n",
    "         np.array([0, 0, 1, 1], dtype=float),\n",
    "    ]),\n",
    ")\n",
    "test_eq(\n",
    "    c_acc_test.shape,\n",
    "    -1*np.array([1, 0, 0, 1]).shape,\n",
    "    fail_msg='Accuracy reward is wrong shape'\n",
    ")\n",
    "test_eq(\n",
    "    c_acc_test,\n",
    "    -1*np.array([1, 0, 0, 1], dtype=float),\n",
    "    fail_msg='Accuracy reward has wrong values'\n",
    ")\n",
    "test_eq(\n",
    "    c_disp_imp_sub1_test.shape,\n",
    "    -1*np.array([0, -2, 0, 2]).shape,\n",
    "    fail_msg='Disparate impact Sub Problem 1 reward has wrong shape'\n",
    ")\n",
    "test_eq(\n",
    "    c_disp_imp_sub1_test,\n",
    "    -1*np.array([0, -2, 0, 2]),\n",
    "    fail_msg='Disparate impact Sub Problem 1 reward has wrong values'\n",
    ")\n",
    "test_eq(\n",
    "    c_disp_imp_sub2_test,\n",
    "    -1*np.array([0, 2, 0, -2]),\n",
    "    fail_msg='Disparate impact Sub Problem 2 reward has wrong values'\n",
    ")\n",
    "test_eq(\n",
    "    len(opt_pols_acc_test),\n",
    "    1,\n",
    "    fail_msg='Accuracy optimal policies has wrong number of policies',\n",
    ")\n",
    "test_eq(\n",
    "    opt_pols_acc_test,\n",
    "    [0, 1],\n",
    "    fail_msg='Accuracy optimal policies has wrong policy(s)',\n",
    ")\n",
    "test_eq(\n",
    "    A_ub_disp_imp_sub1_test,\n",
    "    np.array([\n",
    "        np.array([0, -1, 0, 1]),\n",
    "        np.array([0, -1, 0, 1]),\n",
    "    ],dtype=float),\n",
    "    fail_msg='Disp Imp Sub1 A_ub has wrong values'\n",
    ")\n",
    "test_eq(\n",
    "    len(opt_pols_disp_imp_sub1_test),\n",
    "    2,\n",
    "    fail_msg='Disp Imp Sub1 optimal policies has wrong number of policies',\n",
    ")\n",
    "test_eq(\n",
    "    opt_pols_disp_imp_sub1_test,\n",
    "    [[1, 1], [0, 0]],\n",
    "    fail_msg='Disp Imp Sub1 optimal policies are wrong',\n",
    ")\n",
    "test_eq(\n",
    "    A_ub_disp_imp_sub2_test,\n",
    "    np.array([\n",
    "        np.array([0, 1, 0, -1]),\n",
    "        np.array([0, 1, 0, -1]),\n",
    "    ],dtype=float),\n",
    "    fail_msg='Disp Imp Sub2 A_ub has wrong values'\n",
    ")\n",
    "test_eq(\n",
    "    len(opt_pols_disp_imp_sub2_test),\n",
    "    2,\n",
    "    fail_msg='Disp Imp Sub2 optimal policies has wrong number of policies',\n",
    ")\n",
    "test_eq(\n",
    "    opt_pols_disp_imp_sub2_test,\n",
    "    [[1, 1], [0, 0]],\n",
    "    fail_msg='Disp Imp Sub2 optimal policies are wrong',\n",
    ")\n",
    "test_eq(\n",
    "    opt_pols_disp_imp,\n",
    "    [[1, 1], [0, 0]],\n",
    "    fail_msg='Disp Imp combined optimal policies are wrong'\n",
    ")"
   ]
  },
  {
   "cell_type": "markdown",
   "id": "9deb0277",
   "metadata": {
    "hidden": true
   },
   "source": [
    "### Try with Adult dataset"
   ]
  },
  {
   "cell_type": "code",
   "execution_count": 5,
   "id": "59c621c4",
   "metadata": {
    "ExecuteTime": {
     "end_time": "2023-04-08T17:57:03.415068Z",
     "start_time": "2023-04-08T17:57:03.383935Z"
    },
    "code_folding": [
     0
    ],
    "hidden": true
   },
   "outputs": [],
   "source": [
    "def generate_adult_dataset(n=50, verbose=True):\n",
    "    \"\"\"\n",
    "    Wrapper function for generating a sample adult dataset.\n",
    "    \"\"\"\n",
    "    \n",
    "    # Import adult dataset\n",
    "    adult = pd.read_csv('./../../data/adult.csv')\n",
    "    adult.sample(3)\n",
    "\n",
    "    # Sample down to make things faster\n",
    "    df_adult = adult.sample(n)\n",
    "\n",
    "    # Transform sensitive attriburtes and target to binary values\n",
    "    df_adult['race'] = df_adult['race'] == 'White'\n",
    "    df_adult['gender'] = df_adult['gender'] == 'Male'\n",
    "    df_adult['income'] = df_adult['income'] == '>50K'\n",
    "    df_adult.head()\n",
    "\n",
    "    # Rename variables to expected naming conventions for computing optimal polices\n",
    "    df_adult['z'] = df_adult['race'].astype(int)\n",
    "    df_adult['y'] = df_adult['income'].astype(int)\n",
    "    df_adult = df_adult[['z', 'y']]\n",
    "    \n",
    "    if verbose:\n",
    "        display(df_adult.head())\n",
    "        display(df_adult.groupby(['z'])[['y']].agg(['count', 'mean']))\n",
    "        \n",
    "    return df_adult"
   ]
  },
  {
   "cell_type": "markdown",
   "id": "23685d34",
   "metadata": {
    "hidden": true
   },
   "source": [
    "##### Accuracy Reward"
   ]
  },
  {
   "cell_type": "code",
   "execution_count": 4,
   "id": "5c0f5eb0",
   "metadata": {
    "ExecuteTime": {
     "end_time": "2023-04-08T17:17:22.394827Z",
     "start_time": "2023-04-08T17:17:22.385316Z"
    },
    "hidden": true
   },
   "outputs": [],
   "source": [
    "def compute_accuracy(df, yhat_col):\n",
    "    acc = (df['y'] == df[yhat_col]).mean()\n",
    "    return acc"
   ]
  },
  {
   "cell_type": "code",
   "execution_count": 245,
   "id": "656e0a57",
   "metadata": {
    "ExecuteTime": {
     "end_time": "2023-04-08T15:04:16.476986Z",
     "start_time": "2023-04-08T15:04:15.475380Z"
    },
    "code_folding": [
     0
    ],
    "hidden": true,
    "scrolled": false
   },
   "outputs": [
    {
     "data": {
      "text/html": [
       "<div>\n",
       "<style scoped>\n",
       "    .dataframe tbody tr th:only-of-type {\n",
       "        vertical-align: middle;\n",
       "    }\n",
       "\n",
       "    .dataframe tbody tr th {\n",
       "        vertical-align: top;\n",
       "    }\n",
       "\n",
       "    .dataframe thead th {\n",
       "        text-align: right;\n",
       "    }\n",
       "</style>\n",
       "<table border=\"1\" class=\"dataframe\">\n",
       "  <thead>\n",
       "    <tr style=\"text-align: right;\">\n",
       "      <th></th>\n",
       "      <th>z</th>\n",
       "      <th>y</th>\n",
       "    </tr>\n",
       "  </thead>\n",
       "  <tbody>\n",
       "    <tr>\n",
       "      <th>34084</th>\n",
       "      <td>1</td>\n",
       "      <td>0</td>\n",
       "    </tr>\n",
       "    <tr>\n",
       "      <th>43516</th>\n",
       "      <td>1</td>\n",
       "      <td>1</td>\n",
       "    </tr>\n",
       "    <tr>\n",
       "      <th>5621</th>\n",
       "      <td>1</td>\n",
       "      <td>0</td>\n",
       "    </tr>\n",
       "    <tr>\n",
       "      <th>12507</th>\n",
       "      <td>1</td>\n",
       "      <td>0</td>\n",
       "    </tr>\n",
       "    <tr>\n",
       "      <th>27803</th>\n",
       "      <td>0</td>\n",
       "      <td>0</td>\n",
       "    </tr>\n",
       "  </tbody>\n",
       "</table>\n",
       "</div>"
      ],
      "text/plain": [
       "       z  y\n",
       "34084  1  0\n",
       "43516  1  1\n",
       "5621   1  0\n",
       "12507  1  0\n",
       "27803  0  0"
      ]
     },
     "metadata": {},
     "output_type": "display_data"
    },
    {
     "data": {
      "text/html": [
       "<div>\n",
       "<style scoped>\n",
       "    .dataframe tbody tr th:only-of-type {\n",
       "        vertical-align: middle;\n",
       "    }\n",
       "\n",
       "    .dataframe tbody tr th {\n",
       "        vertical-align: top;\n",
       "    }\n",
       "\n",
       "    .dataframe thead tr th {\n",
       "        text-align: left;\n",
       "    }\n",
       "\n",
       "    .dataframe thead tr:last-of-type th {\n",
       "        text-align: right;\n",
       "    }\n",
       "</style>\n",
       "<table border=\"1\" class=\"dataframe\">\n",
       "  <thead>\n",
       "    <tr>\n",
       "      <th></th>\n",
       "      <th colspan=\"2\" halign=\"left\">y</th>\n",
       "    </tr>\n",
       "    <tr>\n",
       "      <th></th>\n",
       "      <th>count</th>\n",
       "      <th>mean</th>\n",
       "    </tr>\n",
       "    <tr>\n",
       "      <th>z</th>\n",
       "      <th></th>\n",
       "      <th></th>\n",
       "    </tr>\n",
       "  </thead>\n",
       "  <tbody>\n",
       "    <tr>\n",
       "      <th>0</th>\n",
       "      <td>6</td>\n",
       "      <td>0.000000</td>\n",
       "    </tr>\n",
       "    <tr>\n",
       "      <th>1</th>\n",
       "      <td>44</td>\n",
       "      <td>0.272727</td>\n",
       "    </tr>\n",
       "  </tbody>\n",
       "</table>\n",
       "</div>"
      ],
      "text/plain": [
       "      y          \n",
       "  count      mean\n",
       "z                \n",
       "0     6  0.000000\n",
       "1    44  0.272727"
      ]
     },
     "metadata": {},
     "output_type": "display_data"
    },
    {
     "data": {
      "text/plain": [
       "0.9999989999990012"
      ]
     },
     "metadata": {},
     "output_type": "display_data"
    },
    {
     "data": {
      "text/html": [
       "<div>\n",
       "<style scoped>\n",
       "    .dataframe tbody tr th:only-of-type {\n",
       "        vertical-align: middle;\n",
       "    }\n",
       "\n",
       "    .dataframe tbody tr th {\n",
       "        vertical-align: top;\n",
       "    }\n",
       "\n",
       "    .dataframe thead th {\n",
       "        text-align: right;\n",
       "    }\n",
       "</style>\n",
       "<table border=\"1\" class=\"dataframe\">\n",
       "  <thead>\n",
       "    <tr style=\"text-align: right;\">\n",
       "      <th></th>\n",
       "      <th>z</th>\n",
       "      <th>y</th>\n",
       "      <th>pi_acc_0</th>\n",
       "    </tr>\n",
       "  </thead>\n",
       "  <tbody>\n",
       "    <tr>\n",
       "      <th>34084</th>\n",
       "      <td>1</td>\n",
       "      <td>0</td>\n",
       "      <td>0</td>\n",
       "    </tr>\n",
       "    <tr>\n",
       "      <th>43516</th>\n",
       "      <td>1</td>\n",
       "      <td>1</td>\n",
       "      <td>1</td>\n",
       "    </tr>\n",
       "    <tr>\n",
       "      <th>5621</th>\n",
       "      <td>1</td>\n",
       "      <td>0</td>\n",
       "      <td>0</td>\n",
       "    </tr>\n",
       "    <tr>\n",
       "      <th>12507</th>\n",
       "      <td>1</td>\n",
       "      <td>0</td>\n",
       "      <td>0</td>\n",
       "    </tr>\n",
       "    <tr>\n",
       "      <th>27803</th>\n",
       "      <td>0</td>\n",
       "      <td>0</td>\n",
       "      <td>0</td>\n",
       "    </tr>\n",
       "  </tbody>\n",
       "</table>\n",
       "</div>"
      ],
      "text/plain": [
       "       z  y  pi_acc_0\n",
       "34084  1  0         0\n",
       "43516  1  1         1\n",
       "5621   1  0         0\n",
       "12507  1  0         0\n",
       "27803  0  0         0"
      ]
     },
     "metadata": {},
     "output_type": "display_data"
    },
    {
     "data": {
      "text/html": [
       "<div>\n",
       "<style scoped>\n",
       "    .dataframe tbody tr th:only-of-type {\n",
       "        vertical-align: middle;\n",
       "    }\n",
       "\n",
       "    .dataframe tbody tr th {\n",
       "        vertical-align: top;\n",
       "    }\n",
       "\n",
       "    .dataframe thead tr th {\n",
       "        text-align: left;\n",
       "    }\n",
       "\n",
       "    .dataframe thead tr:last-of-type th {\n",
       "        text-align: right;\n",
       "    }\n",
       "</style>\n",
       "<table border=\"1\" class=\"dataframe\">\n",
       "  <thead>\n",
       "    <tr>\n",
       "      <th></th>\n",
       "      <th></th>\n",
       "      <th colspan=\"2\" halign=\"left\">pi_acc_0</th>\n",
       "    </tr>\n",
       "    <tr>\n",
       "      <th></th>\n",
       "      <th></th>\n",
       "      <th>count</th>\n",
       "      <th>sum</th>\n",
       "    </tr>\n",
       "    <tr>\n",
       "      <th>z</th>\n",
       "      <th>y</th>\n",
       "      <th></th>\n",
       "      <th></th>\n",
       "    </tr>\n",
       "  </thead>\n",
       "  <tbody>\n",
       "    <tr>\n",
       "      <th>0</th>\n",
       "      <th>0</th>\n",
       "      <td>6</td>\n",
       "      <td>0</td>\n",
       "    </tr>\n",
       "    <tr>\n",
       "      <th rowspan=\"2\" valign=\"top\">1</th>\n",
       "      <th>0</th>\n",
       "      <td>32</td>\n",
       "      <td>0</td>\n",
       "    </tr>\n",
       "    <tr>\n",
       "      <th>1</th>\n",
       "      <td>12</td>\n",
       "      <td>12</td>\n",
       "    </tr>\n",
       "  </tbody>\n",
       "</table>\n",
       "</div>"
      ],
      "text/plain": [
       "    pi_acc_0    \n",
       "       count sum\n",
       "z y             \n",
       "0 0        6   0\n",
       "1 0       32   0\n",
       "  1       12  12"
      ]
     },
     "metadata": {},
     "output_type": "display_data"
    },
    {
     "name": "stdout",
     "output_type": "stream",
     "text": [
      "Accuracy: 1.000\n"
     ]
    }
   ],
   "source": [
    "# Set parameters shared for any reward\n",
    "df_adult = generate_adult_dataset()\n",
    "gamma_adult = 1e-6\n",
    "A_eq_adult = construct_A_eq(df_adult, gamma)\n",
    "b_eq_adult = construct_mu(df_adult)\n",
    "\n",
    "# Reward is accuracy\n",
    "c_acc_adult = construct_reward__accuracy(df_adult)\n",
    "opt_pols_acc_adult, opt_rew_acc_adult = find_all_solutions_lp(\n",
    "    c=c_acc_adult,\n",
    "    A_eq=A_eq_adult,\n",
    "    b_eq=b_eq_adult,\n",
    ")\n",
    "\n",
    "print(f\"Best Reward: {opt_rew_acc_adult:.3f}\")\n",
    "\n",
    "for i, pi in enumerate(opt_pols_acc_adult):\n",
    "    df_adult[f\"pi_acc_{i}\"] = pi\n",
    "    \n",
    "display(df_adult.head(5))\n",
    "for pi in df_adult.columns[2:]:\n",
    "    display(df_adult.groupby(['z', 'y'])[[pi]].agg(['count', 'sum']))\n",
    "    acc = compute_accuracy(df_adult, pi)\n",
    "    print(f\"Accuracy: {acc:.3f}\")\n",
    "    assert acc == 1"
   ]
  },
  {
   "cell_type": "markdown",
   "id": "afb0da76",
   "metadata": {
    "heading_collapsed": true,
    "hidden": true
   },
   "source": [
    "##### Disparate Impact Reward"
   ]
  },
  {
   "cell_type": "code",
   "execution_count": 326,
   "id": "e973b0d4",
   "metadata": {
    "ExecuteTime": {
     "end_time": "2023-04-08T15:52:25.208818Z",
     "start_time": "2023-04-08T15:52:19.261366Z"
    },
    "hidden": true,
    "scrolled": false
   },
   "outputs": [
    {
     "data": {
      "text/html": [
       "<div>\n",
       "<style scoped>\n",
       "    .dataframe tbody tr th:only-of-type {\n",
       "        vertical-align: middle;\n",
       "    }\n",
       "\n",
       "    .dataframe tbody tr th {\n",
       "        vertical-align: top;\n",
       "    }\n",
       "\n",
       "    .dataframe thead th {\n",
       "        text-align: right;\n",
       "    }\n",
       "</style>\n",
       "<table border=\"1\" class=\"dataframe\">\n",
       "  <thead>\n",
       "    <tr style=\"text-align: right;\">\n",
       "      <th></th>\n",
       "      <th>z</th>\n",
       "      <th>y</th>\n",
       "    </tr>\n",
       "  </thead>\n",
       "  <tbody>\n",
       "    <tr>\n",
       "      <th>15740</th>\n",
       "      <td>1</td>\n",
       "      <td>1</td>\n",
       "    </tr>\n",
       "    <tr>\n",
       "      <th>38562</th>\n",
       "      <td>1</td>\n",
       "      <td>0</td>\n",
       "    </tr>\n",
       "    <tr>\n",
       "      <th>1169</th>\n",
       "      <td>0</td>\n",
       "      <td>1</td>\n",
       "    </tr>\n",
       "    <tr>\n",
       "      <th>20007</th>\n",
       "      <td>1</td>\n",
       "      <td>1</td>\n",
       "    </tr>\n",
       "    <tr>\n",
       "      <th>26101</th>\n",
       "      <td>1</td>\n",
       "      <td>1</td>\n",
       "    </tr>\n",
       "  </tbody>\n",
       "</table>\n",
       "</div>"
      ],
      "text/plain": [
       "       z  y\n",
       "15740  1  1\n",
       "38562  1  0\n",
       "1169   0  1\n",
       "20007  1  1\n",
       "26101  1  1"
      ]
     },
     "metadata": {},
     "output_type": "display_data"
    },
    {
     "data": {
      "text/html": [
       "<div>\n",
       "<style scoped>\n",
       "    .dataframe tbody tr th:only-of-type {\n",
       "        vertical-align: middle;\n",
       "    }\n",
       "\n",
       "    .dataframe tbody tr th {\n",
       "        vertical-align: top;\n",
       "    }\n",
       "\n",
       "    .dataframe thead tr th {\n",
       "        text-align: left;\n",
       "    }\n",
       "\n",
       "    .dataframe thead tr:last-of-type th {\n",
       "        text-align: right;\n",
       "    }\n",
       "</style>\n",
       "<table border=\"1\" class=\"dataframe\">\n",
       "  <thead>\n",
       "    <tr>\n",
       "      <th></th>\n",
       "      <th colspan=\"2\" halign=\"left\">y</th>\n",
       "    </tr>\n",
       "    <tr>\n",
       "      <th></th>\n",
       "      <th>count</th>\n",
       "      <th>mean</th>\n",
       "    </tr>\n",
       "    <tr>\n",
       "      <th>z</th>\n",
       "      <th></th>\n",
       "      <th></th>\n",
       "    </tr>\n",
       "  </thead>\n",
       "  <tbody>\n",
       "    <tr>\n",
       "      <th>0</th>\n",
       "      <td>18</td>\n",
       "      <td>0.166667</td>\n",
       "    </tr>\n",
       "    <tr>\n",
       "      <th>1</th>\n",
       "      <td>82</td>\n",
       "      <td>0.280488</td>\n",
       "    </tr>\n",
       "  </tbody>\n",
       "</table>\n",
       "</div>"
      ],
      "text/plain": [
       "      y          \n",
       "  count      mean\n",
       "z                \n",
       "0    18  0.166667\n",
       "1    82  0.280488"
      ]
     },
     "metadata": {},
     "output_type": "display_data"
    },
    {
     "name": "stdout",
     "output_type": "stream",
     "text": [
      "Best Reward: -0.000\n"
     ]
    },
    {
     "data": {
      "text/html": [
       "<div>\n",
       "<style scoped>\n",
       "    .dataframe tbody tr th:only-of-type {\n",
       "        vertical-align: middle;\n",
       "    }\n",
       "\n",
       "    .dataframe tbody tr th {\n",
       "        vertical-align: top;\n",
       "    }\n",
       "\n",
       "    .dataframe thead th {\n",
       "        text-align: right;\n",
       "    }\n",
       "</style>\n",
       "<table border=\"1\" class=\"dataframe\">\n",
       "  <thead>\n",
       "    <tr style=\"text-align: right;\">\n",
       "      <th></th>\n",
       "      <th>z</th>\n",
       "      <th>y</th>\n",
       "      <th>pi_disp_imp_0</th>\n",
       "      <th>pi_disp_imp_1</th>\n",
       "      <th>pi_disp_imp_2</th>\n",
       "    </tr>\n",
       "  </thead>\n",
       "  <tbody>\n",
       "    <tr>\n",
       "      <th>15740</th>\n",
       "      <td>1</td>\n",
       "      <td>1</td>\n",
       "      <td>0</td>\n",
       "      <td>0</td>\n",
       "      <td>0</td>\n",
       "    </tr>\n",
       "    <tr>\n",
       "      <th>38562</th>\n",
       "      <td>1</td>\n",
       "      <td>0</td>\n",
       "      <td>0</td>\n",
       "      <td>0</td>\n",
       "      <td>0</td>\n",
       "    </tr>\n",
       "    <tr>\n",
       "      <th>1169</th>\n",
       "      <td>0</td>\n",
       "      <td>1</td>\n",
       "      <td>0</td>\n",
       "      <td>0</td>\n",
       "      <td>1</td>\n",
       "    </tr>\n",
       "    <tr>\n",
       "      <th>20007</th>\n",
       "      <td>1</td>\n",
       "      <td>1</td>\n",
       "      <td>0</td>\n",
       "      <td>0</td>\n",
       "      <td>0</td>\n",
       "    </tr>\n",
       "    <tr>\n",
       "      <th>26101</th>\n",
       "      <td>1</td>\n",
       "      <td>1</td>\n",
       "      <td>0</td>\n",
       "      <td>0</td>\n",
       "      <td>0</td>\n",
       "    </tr>\n",
       "  </tbody>\n",
       "</table>\n",
       "</div>"
      ],
      "text/plain": [
       "       z  y  pi_disp_imp_0  pi_disp_imp_1  pi_disp_imp_2\n",
       "15740  1  1              0              0              0\n",
       "38562  1  0              0              0              0\n",
       "1169   0  1              0              0              1\n",
       "20007  1  1              0              0              0\n",
       "26101  1  1              0              0              0"
      ]
     },
     "metadata": {},
     "output_type": "display_data"
    },
    {
     "name": "stdout",
     "output_type": "stream",
     "text": [
      "pi_disp_imp_0\n"
     ]
    },
    {
     "data": {
      "text/html": [
       "<div>\n",
       "<style scoped>\n",
       "    .dataframe tbody tr th:only-of-type {\n",
       "        vertical-align: middle;\n",
       "    }\n",
       "\n",
       "    .dataframe tbody tr th {\n",
       "        vertical-align: top;\n",
       "    }\n",
       "\n",
       "    .dataframe thead tr th {\n",
       "        text-align: left;\n",
       "    }\n",
       "\n",
       "    .dataframe thead tr:last-of-type th {\n",
       "        text-align: right;\n",
       "    }\n",
       "</style>\n",
       "<table border=\"1\" class=\"dataframe\">\n",
       "  <thead>\n",
       "    <tr>\n",
       "      <th></th>\n",
       "      <th></th>\n",
       "      <th colspan=\"2\" halign=\"left\">pi_disp_imp_0</th>\n",
       "    </tr>\n",
       "    <tr>\n",
       "      <th></th>\n",
       "      <th></th>\n",
       "      <th>count</th>\n",
       "      <th>sum</th>\n",
       "    </tr>\n",
       "    <tr>\n",
       "      <th>z</th>\n",
       "      <th>y</th>\n",
       "      <th></th>\n",
       "      <th></th>\n",
       "    </tr>\n",
       "  </thead>\n",
       "  <tbody>\n",
       "    <tr>\n",
       "      <th rowspan=\"2\" valign=\"top\">0</th>\n",
       "      <th>0</th>\n",
       "      <td>15</td>\n",
       "      <td>0</td>\n",
       "    </tr>\n",
       "    <tr>\n",
       "      <th>1</th>\n",
       "      <td>3</td>\n",
       "      <td>0</td>\n",
       "    </tr>\n",
       "    <tr>\n",
       "      <th rowspan=\"2\" valign=\"top\">1</th>\n",
       "      <th>0</th>\n",
       "      <td>59</td>\n",
       "      <td>0</td>\n",
       "    </tr>\n",
       "    <tr>\n",
       "      <th>1</th>\n",
       "      <td>23</td>\n",
       "      <td>0</td>\n",
       "    </tr>\n",
       "  </tbody>\n",
       "</table>\n",
       "</div>"
      ],
      "text/plain": [
       "    pi_disp_imp_0    \n",
       "            count sum\n",
       "z y                  \n",
       "0 0            15   0\n",
       "  1             3   0\n",
       "1 0            59   0\n",
       "  1            23   0"
      ]
     },
     "metadata": {},
     "output_type": "display_data"
    },
    {
     "name": "stdout",
     "output_type": "stream",
     "text": [
      "Disparate Impact: 0.000\n",
      "pi_disp_imp_1\n"
     ]
    },
    {
     "data": {
      "text/html": [
       "<div>\n",
       "<style scoped>\n",
       "    .dataframe tbody tr th:only-of-type {\n",
       "        vertical-align: middle;\n",
       "    }\n",
       "\n",
       "    .dataframe tbody tr th {\n",
       "        vertical-align: top;\n",
       "    }\n",
       "\n",
       "    .dataframe thead tr th {\n",
       "        text-align: left;\n",
       "    }\n",
       "\n",
       "    .dataframe thead tr:last-of-type th {\n",
       "        text-align: right;\n",
       "    }\n",
       "</style>\n",
       "<table border=\"1\" class=\"dataframe\">\n",
       "  <thead>\n",
       "    <tr>\n",
       "      <th></th>\n",
       "      <th></th>\n",
       "      <th colspan=\"2\" halign=\"left\">pi_disp_imp_1</th>\n",
       "    </tr>\n",
       "    <tr>\n",
       "      <th></th>\n",
       "      <th></th>\n",
       "      <th>count</th>\n",
       "      <th>sum</th>\n",
       "    </tr>\n",
       "    <tr>\n",
       "      <th>z</th>\n",
       "      <th>y</th>\n",
       "      <th></th>\n",
       "      <th></th>\n",
       "    </tr>\n",
       "  </thead>\n",
       "  <tbody>\n",
       "    <tr>\n",
       "      <th rowspan=\"2\" valign=\"top\">0</th>\n",
       "      <th>0</th>\n",
       "      <td>15</td>\n",
       "      <td>1</td>\n",
       "    </tr>\n",
       "    <tr>\n",
       "      <th>1</th>\n",
       "      <td>3</td>\n",
       "      <td>0</td>\n",
       "    </tr>\n",
       "    <tr>\n",
       "      <th rowspan=\"2\" valign=\"top\">1</th>\n",
       "      <th>0</th>\n",
       "      <td>59</td>\n",
       "      <td>1</td>\n",
       "    </tr>\n",
       "    <tr>\n",
       "      <th>1</th>\n",
       "      <td>23</td>\n",
       "      <td>0</td>\n",
       "    </tr>\n",
       "  </tbody>\n",
       "</table>\n",
       "</div>"
      ],
      "text/plain": [
       "    pi_disp_imp_1    \n",
       "            count sum\n",
       "z y                  \n",
       "0 0            15   1\n",
       "  1             3   0\n",
       "1 0            59   1\n",
       "  1            23   0"
      ]
     },
     "metadata": {},
     "output_type": "display_data"
    },
    {
     "name": "stdout",
     "output_type": "stream",
     "text": [
      "Disparate Impact: 0.043\n",
      "pi_disp_imp_2\n"
     ]
    },
    {
     "data": {
      "text/html": [
       "<div>\n",
       "<style scoped>\n",
       "    .dataframe tbody tr th:only-of-type {\n",
       "        vertical-align: middle;\n",
       "    }\n",
       "\n",
       "    .dataframe tbody tr th {\n",
       "        vertical-align: top;\n",
       "    }\n",
       "\n",
       "    .dataframe thead tr th {\n",
       "        text-align: left;\n",
       "    }\n",
       "\n",
       "    .dataframe thead tr:last-of-type th {\n",
       "        text-align: right;\n",
       "    }\n",
       "</style>\n",
       "<table border=\"1\" class=\"dataframe\">\n",
       "  <thead>\n",
       "    <tr>\n",
       "      <th></th>\n",
       "      <th></th>\n",
       "      <th colspan=\"2\" halign=\"left\">pi_disp_imp_2</th>\n",
       "    </tr>\n",
       "    <tr>\n",
       "      <th></th>\n",
       "      <th></th>\n",
       "      <th>count</th>\n",
       "      <th>sum</th>\n",
       "    </tr>\n",
       "    <tr>\n",
       "      <th>z</th>\n",
       "      <th>y</th>\n",
       "      <th></th>\n",
       "      <th></th>\n",
       "    </tr>\n",
       "  </thead>\n",
       "  <tbody>\n",
       "    <tr>\n",
       "      <th rowspan=\"2\" valign=\"top\">0</th>\n",
       "      <th>0</th>\n",
       "      <td>15</td>\n",
       "      <td>0</td>\n",
       "    </tr>\n",
       "    <tr>\n",
       "      <th>1</th>\n",
       "      <td>3</td>\n",
       "      <td>1</td>\n",
       "    </tr>\n",
       "    <tr>\n",
       "      <th rowspan=\"2\" valign=\"top\">1</th>\n",
       "      <th>0</th>\n",
       "      <td>59</td>\n",
       "      <td>1</td>\n",
       "    </tr>\n",
       "    <tr>\n",
       "      <th>1</th>\n",
       "      <td>23</td>\n",
       "      <td>0</td>\n",
       "    </tr>\n",
       "  </tbody>\n",
       "</table>\n",
       "</div>"
      ],
      "text/plain": [
       "    pi_disp_imp_2    \n",
       "            count sum\n",
       "z y                  \n",
       "0 0            15   0\n",
       "  1             3   1\n",
       "1 0            59   1\n",
       "  1            23   0"
      ]
     },
     "metadata": {},
     "output_type": "display_data"
    },
    {
     "name": "stdout",
     "output_type": "stream",
     "text": [
      "Disparate Impact: 0.043\n"
     ]
    }
   ],
   "source": [
    "# Set parameters shared for any reward\n",
    "df_adult = generate_adult_dataset(n=100)\n",
    "gamma_adult = 1e-6\n",
    "A_eq_adult = construct_A_eq(df_adult, gamma)\n",
    "b_eq_adult = construct_mu(df_adult)\n",
    "\n",
    "# Set parameters for reward = accuracy + disparate impact\n",
    "b_ub_disp_imp = np.zeros(len(df_adult), dtype=float)  # Same for both subproblems\n",
    "### Subproblem 1\n",
    "c_disp_imp_sub1_adult = construct_reward__disp_imp_sub1(df_adult)\n",
    "A_ub_disp_imp_sub1_adult = construct_A_ub__disp_imp_sub1(df_adult)\n",
    "opt_pols_disp_imp_sub1_adult, opt_rew_disp_imp_sub1_adult = find_all_solutions_lp(\n",
    "    c=c_disp_imp_sub1_adult,\n",
    "    A_eq=A_eq_adult,\n",
    "    b_eq=b_eq_adult,\n",
    "    A_ub=A_ub_disp_imp_sub1_adult,\n",
    "    b_ub=b_ub_disp_imp,\n",
    "    error_term=1e-11,\n",
    ")\n",
    "### Subproblem 2\n",
    "c_disp_imp_sub2_adult = construct_reward__disp_imp_sub2(df_adult)\n",
    "A_ub_disp_imp_sub2_adult = construct_A_ub__disp_imp_sub2(df_adult)\n",
    "opt_pols_disp_imp_sub2_adult, opt_rew_disp_imp_sub2_adult = find_all_solutions_lp(\n",
    "    c=c_disp_imp_sub2_adult,\n",
    "    A_eq=A_eq_adult,\n",
    "    b_eq=b_eq_adult,\n",
    "    A_ub=A_ub_disp_imp_sub2_adult,\n",
    "    b_ub=b_ub_disp_imp,\n",
    "    error_term=1e-11,\n",
    ")\n",
    "### Combined\n",
    "best_policies_best_rewards_disp_imp_adult = (\n",
    "    {\n",
    "        'policies': list(opt_pols_disp_imp_sub1_adult),\n",
    "        'reward': np.round(opt_rew_disp_imp_sub1_adult, decimals=6)},\n",
    "    {\n",
    "        'policies': list(opt_pols_disp_imp_sub2_adult),\n",
    "        'reward': np.round(opt_rew_disp_imp_sub2_adult, decimals=6)},\n",
    ")\n",
    "opt_pols_disp_imp, opt_rew_disp_imp = find_best_policies_from_multiple_subproblems(\n",
    "    best_policies_best_rewards_disp_imp_adult,\n",
    ")\n",
    "\n",
    "print(f\"Best Reward: {opt_rew_disp_imp:.3f}\")\n",
    "\n",
    "for i, pi in enumerate(opt_pols_disp_imp):\n",
    "    df_adult[f\"pi_disp_imp_{i}\"] = pi\n",
    "    \n",
    "display(df_adult.head(5))\n",
    "\n",
    "for pi in df_adult.columns[2:5]:\n",
    "    print(pi)\n",
    "    display(df_adult.groupby(['z', 'y'])[[pi]].agg(['count', 'sum']))\n",
    "    filt__yhat1_giv_z0 = (df_adult['z'] == 0) & (df_adult[pi] == 1)\n",
    "    filt__yhat1_giv_z1 = (df_adult['z'] == 1) & (df_adult[pi] == 1)\n",
    "    filt__z0 = df_adult['z'] == 0\n",
    "    filt__z1 = df_adult['z'] == 1\n",
    "    p_yhat1_giv_z0 = len(df_adult[filt__yhat1_giv_z0])/len(df_adult[filt__z0])\n",
    "    p_yhat1_giv_z1 = len(df_adult[filt__yhat1_giv_z1])/len(df_adult[filt__z1])\n",
    "    dispimp = np.abs(p_yhat1_giv_z0 - p_yhat1_giv_z1)\n",
    "    print(f\"Disparate Impact: {dispimp:.3f}\")\n",
    "#     assert dispimp == 0"
   ]
  },
  {
   "cell_type": "code",
   "execution_count": null,
   "id": "7d036694",
   "metadata": {
    "hidden": true
   },
   "outputs": [],
   "source": [
    "np.round()"
   ]
  },
  {
   "cell_type": "markdown",
   "id": "b803a701",
   "metadata": {
    "hidden": true
   },
   "source": [
    "##### Accuracy + Disparate Impact Reward"
   ]
  },
  {
   "cell_type": "code",
   "execution_count": 346,
   "id": "4b0ce58e",
   "metadata": {
    "ExecuteTime": {
     "end_time": "2023-04-08T16:04:43.814058Z",
     "start_time": "2023-04-08T16:04:38.175388Z"
    },
    "hidden": true
   },
   "outputs": [
    {
     "data": {
      "text/html": [
       "<div>\n",
       "<style scoped>\n",
       "    .dataframe tbody tr th:only-of-type {\n",
       "        vertical-align: middle;\n",
       "    }\n",
       "\n",
       "    .dataframe tbody tr th {\n",
       "        vertical-align: top;\n",
       "    }\n",
       "\n",
       "    .dataframe thead th {\n",
       "        text-align: right;\n",
       "    }\n",
       "</style>\n",
       "<table border=\"1\" class=\"dataframe\">\n",
       "  <thead>\n",
       "    <tr style=\"text-align: right;\">\n",
       "      <th></th>\n",
       "      <th>z</th>\n",
       "      <th>y</th>\n",
       "    </tr>\n",
       "  </thead>\n",
       "  <tbody>\n",
       "    <tr>\n",
       "      <th>29227</th>\n",
       "      <td>1</td>\n",
       "      <td>0</td>\n",
       "    </tr>\n",
       "    <tr>\n",
       "      <th>17538</th>\n",
       "      <td>1</td>\n",
       "      <td>1</td>\n",
       "    </tr>\n",
       "    <tr>\n",
       "      <th>47684</th>\n",
       "      <td>1</td>\n",
       "      <td>0</td>\n",
       "    </tr>\n",
       "    <tr>\n",
       "      <th>28325</th>\n",
       "      <td>1</td>\n",
       "      <td>1</td>\n",
       "    </tr>\n",
       "    <tr>\n",
       "      <th>2189</th>\n",
       "      <td>1</td>\n",
       "      <td>1</td>\n",
       "    </tr>\n",
       "  </tbody>\n",
       "</table>\n",
       "</div>"
      ],
      "text/plain": [
       "       z  y\n",
       "29227  1  0\n",
       "17538  1  1\n",
       "47684  1  0\n",
       "28325  1  1\n",
       "2189   1  1"
      ]
     },
     "metadata": {},
     "output_type": "display_data"
    },
    {
     "data": {
      "text/html": [
       "<div>\n",
       "<style scoped>\n",
       "    .dataframe tbody tr th:only-of-type {\n",
       "        vertical-align: middle;\n",
       "    }\n",
       "\n",
       "    .dataframe tbody tr th {\n",
       "        vertical-align: top;\n",
       "    }\n",
       "\n",
       "    .dataframe thead tr th {\n",
       "        text-align: left;\n",
       "    }\n",
       "\n",
       "    .dataframe thead tr:last-of-type th {\n",
       "        text-align: right;\n",
       "    }\n",
       "</style>\n",
       "<table border=\"1\" class=\"dataframe\">\n",
       "  <thead>\n",
       "    <tr>\n",
       "      <th></th>\n",
       "      <th colspan=\"2\" halign=\"left\">y</th>\n",
       "    </tr>\n",
       "    <tr>\n",
       "      <th></th>\n",
       "      <th>count</th>\n",
       "      <th>mean</th>\n",
       "    </tr>\n",
       "    <tr>\n",
       "      <th>z</th>\n",
       "      <th></th>\n",
       "      <th></th>\n",
       "    </tr>\n",
       "  </thead>\n",
       "  <tbody>\n",
       "    <tr>\n",
       "      <th>0</th>\n",
       "      <td>12</td>\n",
       "      <td>0.083333</td>\n",
       "    </tr>\n",
       "    <tr>\n",
       "      <th>1</th>\n",
       "      <td>88</td>\n",
       "      <td>0.215909</td>\n",
       "    </tr>\n",
       "  </tbody>\n",
       "</table>\n",
       "</div>"
      ],
      "text/plain": [
       "      y          \n",
       "  count      mean\n",
       "z                \n",
       "0    12  0.083333\n",
       "1    88  0.215909"
      ]
     },
     "metadata": {},
     "output_type": "display_data"
    },
    {
     "name": "stdout",
     "output_type": "stream",
     "text": [
      "Best Reward: 1.880\n",
      "9 optimal policies found\n"
     ]
    },
    {
     "data": {
      "text/html": [
       "<div>\n",
       "<style scoped>\n",
       "    .dataframe tbody tr th:only-of-type {\n",
       "        vertical-align: middle;\n",
       "    }\n",
       "\n",
       "    .dataframe tbody tr th {\n",
       "        vertical-align: top;\n",
       "    }\n",
       "\n",
       "    .dataframe thead th {\n",
       "        text-align: right;\n",
       "    }\n",
       "</style>\n",
       "<table border=\"1\" class=\"dataframe\">\n",
       "  <thead>\n",
       "    <tr style=\"text-align: right;\">\n",
       "      <th></th>\n",
       "      <th>z</th>\n",
       "      <th>y</th>\n",
       "      <th>pi_disp_imp_0</th>\n",
       "      <th>pi_disp_imp_1</th>\n",
       "      <th>pi_disp_imp_2</th>\n",
       "      <th>pi_disp_imp_3</th>\n",
       "      <th>pi_disp_imp_4</th>\n",
       "      <th>pi_disp_imp_5</th>\n",
       "      <th>pi_disp_imp_6</th>\n",
       "      <th>pi_disp_imp_7</th>\n",
       "      <th>pi_disp_imp_8</th>\n",
       "    </tr>\n",
       "  </thead>\n",
       "  <tbody>\n",
       "    <tr>\n",
       "      <th>29227</th>\n",
       "      <td>1</td>\n",
       "      <td>0</td>\n",
       "      <td>0</td>\n",
       "      <td>0</td>\n",
       "      <td>0</td>\n",
       "      <td>0</td>\n",
       "      <td>0</td>\n",
       "      <td>0</td>\n",
       "      <td>0</td>\n",
       "      <td>0</td>\n",
       "      <td>0</td>\n",
       "    </tr>\n",
       "    <tr>\n",
       "      <th>17538</th>\n",
       "      <td>1</td>\n",
       "      <td>1</td>\n",
       "      <td>1</td>\n",
       "      <td>1</td>\n",
       "      <td>1</td>\n",
       "      <td>1</td>\n",
       "      <td>1</td>\n",
       "      <td>1</td>\n",
       "      <td>1</td>\n",
       "      <td>1</td>\n",
       "      <td>1</td>\n",
       "    </tr>\n",
       "    <tr>\n",
       "      <th>47684</th>\n",
       "      <td>1</td>\n",
       "      <td>0</td>\n",
       "      <td>0</td>\n",
       "      <td>0</td>\n",
       "      <td>0</td>\n",
       "      <td>1</td>\n",
       "      <td>1</td>\n",
       "      <td>1</td>\n",
       "      <td>1</td>\n",
       "      <td>1</td>\n",
       "      <td>1</td>\n",
       "    </tr>\n",
       "    <tr>\n",
       "      <th>28325</th>\n",
       "      <td>1</td>\n",
       "      <td>1</td>\n",
       "      <td>1</td>\n",
       "      <td>1</td>\n",
       "      <td>1</td>\n",
       "      <td>1</td>\n",
       "      <td>1</td>\n",
       "      <td>1</td>\n",
       "      <td>1</td>\n",
       "      <td>1</td>\n",
       "      <td>1</td>\n",
       "    </tr>\n",
       "    <tr>\n",
       "      <th>2189</th>\n",
       "      <td>1</td>\n",
       "      <td>1</td>\n",
       "      <td>1</td>\n",
       "      <td>1</td>\n",
       "      <td>1</td>\n",
       "      <td>1</td>\n",
       "      <td>1</td>\n",
       "      <td>1</td>\n",
       "      <td>1</td>\n",
       "      <td>1</td>\n",
       "      <td>1</td>\n",
       "    </tr>\n",
       "  </tbody>\n",
       "</table>\n",
       "</div>"
      ],
      "text/plain": [
       "       z  y  pi_disp_imp_0  pi_disp_imp_1  pi_disp_imp_2  pi_disp_imp_3  \\\n",
       "29227  1  0              0              0              0              0   \n",
       "17538  1  1              1              1              1              1   \n",
       "47684  1  0              0              0              0              1   \n",
       "28325  1  1              1              1              1              1   \n",
       "2189   1  1              1              1              1              1   \n",
       "\n",
       "       pi_disp_imp_4  pi_disp_imp_5  pi_disp_imp_6  pi_disp_imp_7  \\\n",
       "29227              0              0              0              0   \n",
       "17538              1              1              1              1   \n",
       "47684              1              1              1              1   \n",
       "28325              1              1              1              1   \n",
       "2189               1              1              1              1   \n",
       "\n",
       "       pi_disp_imp_8  \n",
       "29227              0  \n",
       "17538              1  \n",
       "47684              1  \n",
       "28325              1  \n",
       "2189               1  "
      ]
     },
     "metadata": {},
     "output_type": "display_data"
    },
    {
     "name": "stdout",
     "output_type": "stream",
     "text": [
      "pi_disp_imp_0\n"
     ]
    },
    {
     "data": {
      "text/html": [
       "<div>\n",
       "<style scoped>\n",
       "    .dataframe tbody tr th:only-of-type {\n",
       "        vertical-align: middle;\n",
       "    }\n",
       "\n",
       "    .dataframe tbody tr th {\n",
       "        vertical-align: top;\n",
       "    }\n",
       "\n",
       "    .dataframe thead tr th {\n",
       "        text-align: left;\n",
       "    }\n",
       "\n",
       "    .dataframe thead tr:last-of-type th {\n",
       "        text-align: right;\n",
       "    }\n",
       "</style>\n",
       "<table border=\"1\" class=\"dataframe\">\n",
       "  <thead>\n",
       "    <tr>\n",
       "      <th></th>\n",
       "      <th></th>\n",
       "      <th colspan=\"2\" halign=\"left\">pi_disp_imp_0</th>\n",
       "    </tr>\n",
       "    <tr>\n",
       "      <th></th>\n",
       "      <th></th>\n",
       "      <th>count</th>\n",
       "      <th>sum</th>\n",
       "    </tr>\n",
       "    <tr>\n",
       "      <th>z</th>\n",
       "      <th>y</th>\n",
       "      <th></th>\n",
       "      <th></th>\n",
       "    </tr>\n",
       "  </thead>\n",
       "  <tbody>\n",
       "    <tr>\n",
       "      <th rowspan=\"2\" valign=\"top\">0</th>\n",
       "      <th>0</th>\n",
       "      <td>11</td>\n",
       "      <td>0</td>\n",
       "    </tr>\n",
       "    <tr>\n",
       "      <th>1</th>\n",
       "      <td>1</td>\n",
       "      <td>1</td>\n",
       "    </tr>\n",
       "    <tr>\n",
       "      <th rowspan=\"2\" valign=\"top\">1</th>\n",
       "      <th>0</th>\n",
       "      <td>69</td>\n",
       "      <td>0</td>\n",
       "    </tr>\n",
       "    <tr>\n",
       "      <th>1</th>\n",
       "      <td>19</td>\n",
       "      <td>13</td>\n",
       "    </tr>\n",
       "  </tbody>\n",
       "</table>\n",
       "</div>"
      ],
      "text/plain": [
       "    pi_disp_imp_0    \n",
       "            count sum\n",
       "z y                  \n",
       "0 0            11   0\n",
       "  1             1   1\n",
       "1 0            69   0\n",
       "  1            19  13"
      ]
     },
     "metadata": {},
     "output_type": "display_data"
    },
    {
     "name": "stdout",
     "output_type": "stream",
     "text": [
      "Accuracy: 0.940\n",
      "Disparate Impact: 0.064\n",
      "pi_disp_imp_1\n"
     ]
    },
    {
     "data": {
      "text/html": [
       "<div>\n",
       "<style scoped>\n",
       "    .dataframe tbody tr th:only-of-type {\n",
       "        vertical-align: middle;\n",
       "    }\n",
       "\n",
       "    .dataframe tbody tr th {\n",
       "        vertical-align: top;\n",
       "    }\n",
       "\n",
       "    .dataframe thead tr th {\n",
       "        text-align: left;\n",
       "    }\n",
       "\n",
       "    .dataframe thead tr:last-of-type th {\n",
       "        text-align: right;\n",
       "    }\n",
       "</style>\n",
       "<table border=\"1\" class=\"dataframe\">\n",
       "  <thead>\n",
       "    <tr>\n",
       "      <th></th>\n",
       "      <th></th>\n",
       "      <th colspan=\"2\" halign=\"left\">pi_disp_imp_1</th>\n",
       "    </tr>\n",
       "    <tr>\n",
       "      <th></th>\n",
       "      <th></th>\n",
       "      <th>count</th>\n",
       "      <th>sum</th>\n",
       "    </tr>\n",
       "    <tr>\n",
       "      <th>z</th>\n",
       "      <th>y</th>\n",
       "      <th></th>\n",
       "      <th></th>\n",
       "    </tr>\n",
       "  </thead>\n",
       "  <tbody>\n",
       "    <tr>\n",
       "      <th rowspan=\"2\" valign=\"top\">0</th>\n",
       "      <th>0</th>\n",
       "      <td>11</td>\n",
       "      <td>0</td>\n",
       "    </tr>\n",
       "    <tr>\n",
       "      <th>1</th>\n",
       "      <td>1</td>\n",
       "      <td>1</td>\n",
       "    </tr>\n",
       "    <tr>\n",
       "      <th rowspan=\"2\" valign=\"top\">1</th>\n",
       "      <th>0</th>\n",
       "      <td>69</td>\n",
       "      <td>0</td>\n",
       "    </tr>\n",
       "    <tr>\n",
       "      <th>1</th>\n",
       "      <td>19</td>\n",
       "      <td>13</td>\n",
       "    </tr>\n",
       "  </tbody>\n",
       "</table>\n",
       "</div>"
      ],
      "text/plain": [
       "    pi_disp_imp_1    \n",
       "            count sum\n",
       "z y                  \n",
       "0 0            11   0\n",
       "  1             1   1\n",
       "1 0            69   0\n",
       "  1            19  13"
      ]
     },
     "metadata": {},
     "output_type": "display_data"
    },
    {
     "name": "stdout",
     "output_type": "stream",
     "text": [
      "Accuracy: 0.940\n",
      "Disparate Impact: 0.064\n",
      "pi_disp_imp_2\n"
     ]
    },
    {
     "data": {
      "text/html": [
       "<div>\n",
       "<style scoped>\n",
       "    .dataframe tbody tr th:only-of-type {\n",
       "        vertical-align: middle;\n",
       "    }\n",
       "\n",
       "    .dataframe tbody tr th {\n",
       "        vertical-align: top;\n",
       "    }\n",
       "\n",
       "    .dataframe thead tr th {\n",
       "        text-align: left;\n",
       "    }\n",
       "\n",
       "    .dataframe thead tr:last-of-type th {\n",
       "        text-align: right;\n",
       "    }\n",
       "</style>\n",
       "<table border=\"1\" class=\"dataframe\">\n",
       "  <thead>\n",
       "    <tr>\n",
       "      <th></th>\n",
       "      <th></th>\n",
       "      <th colspan=\"2\" halign=\"left\">pi_disp_imp_2</th>\n",
       "    </tr>\n",
       "    <tr>\n",
       "      <th></th>\n",
       "      <th></th>\n",
       "      <th>count</th>\n",
       "      <th>sum</th>\n",
       "    </tr>\n",
       "    <tr>\n",
       "      <th>z</th>\n",
       "      <th>y</th>\n",
       "      <th></th>\n",
       "      <th></th>\n",
       "    </tr>\n",
       "  </thead>\n",
       "  <tbody>\n",
       "    <tr>\n",
       "      <th rowspan=\"2\" valign=\"top\">0</th>\n",
       "      <th>0</th>\n",
       "      <td>11</td>\n",
       "      <td>0</td>\n",
       "    </tr>\n",
       "    <tr>\n",
       "      <th>1</th>\n",
       "      <td>1</td>\n",
       "      <td>1</td>\n",
       "    </tr>\n",
       "    <tr>\n",
       "      <th rowspan=\"2\" valign=\"top\">1</th>\n",
       "      <th>0</th>\n",
       "      <td>69</td>\n",
       "      <td>0</td>\n",
       "    </tr>\n",
       "    <tr>\n",
       "      <th>1</th>\n",
       "      <td>19</td>\n",
       "      <td>13</td>\n",
       "    </tr>\n",
       "  </tbody>\n",
       "</table>\n",
       "</div>"
      ],
      "text/plain": [
       "    pi_disp_imp_2    \n",
       "            count sum\n",
       "z y                  \n",
       "0 0            11   0\n",
       "  1             1   1\n",
       "1 0            69   0\n",
       "  1            19  13"
      ]
     },
     "metadata": {},
     "output_type": "display_data"
    },
    {
     "name": "stdout",
     "output_type": "stream",
     "text": [
      "Accuracy: 0.940\n",
      "Disparate Impact: 0.064\n"
     ]
    }
   ],
   "source": [
    "# Set parameters shared for any reward\n",
    "df_adult = generate_adult_dataset(n=100)\n",
    "gamma_adult = 1e-6\n",
    "A_eq_adult = construct_A_eq(df_adult, gamma)\n",
    "b_eq_adult = construct_mu(df_adult)\n",
    "\n",
    "# Set parameters for reward = accuracy + disparate impact\n",
    "b_ub_disp_imp = np.zeros(len(df_adult), dtype=float)  # Same for both subproblems\n",
    "### Subproblem 1\n",
    "c_disp_imp_sub1_adult = (\n",
    "    2.0 * construct_reward__accuracy(df_adult) +\n",
    "    1.0 * construct_reward__disp_imp_sub1(df_adult)\n",
    ")\n",
    "A_ub_disp_imp_sub1_adult = construct_A_ub__disp_imp_sub1(df_adult)\n",
    "opt_pols_disp_imp_sub1_adult, opt_rew_disp_imp_sub1_adult = find_all_solutions_lp(\n",
    "    c=c_disp_imp_sub1_adult,\n",
    "    A_eq=A_eq_adult,\n",
    "    b_eq=b_eq_adult,\n",
    "    A_ub=A_ub_disp_imp_sub1_adult,\n",
    "    b_ub=b_ub_disp_imp,\n",
    "    error_term=1e-12,\n",
    ")\n",
    "### Subproblem 2\n",
    "c_disp_imp_sub2_adult = (\n",
    "    2.0 * construct_reward__accuracy(df_adult) +\n",
    "    1.0 * construct_reward__disp_imp_sub2(df_adult)\n",
    ")\n",
    "A_ub_disp_imp_sub2_adult = construct_A_ub__disp_imp_sub2(df_adult)\n",
    "opt_pols_disp_imp_sub2_adult, opt_rew_disp_imp_sub2_adult = find_all_solutions_lp(\n",
    "    c=c_disp_imp_sub2_adult,\n",
    "    A_eq=A_eq_adult,\n",
    "    b_eq=b_eq_adult,\n",
    "    A_ub=A_ub_disp_imp_sub2_adult,\n",
    "    b_ub=b_ub_disp_imp,\n",
    "    error_term=1e-12,\n",
    ")\n",
    "### Combined\n",
    "best_policies_best_rewards_disp_imp_adult = (\n",
    "    {\n",
    "        'policies': list(opt_pols_disp_imp_sub1_adult),\n",
    "        'reward': np.round(opt_rew_disp_imp_sub1_adult, decimals=6)\n",
    "    },\n",
    "    {\n",
    "        'policies': list(opt_pols_disp_imp_sub2_adult),\n",
    "        'reward': np.round(opt_rew_disp_imp_sub2_adult, decimals=6)\n",
    "    },\n",
    ")\n",
    "opt_pols_disp_imp, opt_rew_disp_imp = find_best_policies_from_multiple_subproblems(\n",
    "    best_policies_best_rewards_disp_imp_adult,\n",
    ")\n",
    "\n",
    "print(f\"Best Reward: {opt_rew_disp_imp:.3f}\")\n",
    "print(f\"{len(opt_pols_disp_imp)} optimal policies found\")\n",
    "\n",
    "for i, pi in enumerate(opt_pols_disp_imp):\n",
    "    df_adult[f\"pi_disp_imp_{i}\"] = pi\n",
    "    \n",
    "display(df_adult.head(5))\n",
    "\n",
    "for pi in df_adult.columns[2:5]:\n",
    "    print(pi)\n",
    "    display(df_adult.groupby(['z', 'y'])[[pi]].agg(['count', 'sum']))\n",
    "    # Print accuracy\n",
    "    acc = compute_accuracy(df_adult, pi)\n",
    "    print(f\"Accuracy: {acc:.3f}\")\n",
    "    filt__yhat1_giv_z0 = (df_adult['z'] == 0) & (df_adult[pi] == 1)\n",
    "    filt__yhat1_giv_z1 = (df_adult['z'] == 1) & (df_adult[pi] == 1)\n",
    "    filt__z0 = df_adult['z'] == 0\n",
    "    filt__z1 = df_adult['z'] == 1\n",
    "    p_yhat1_giv_z0 = len(df_adult[filt__yhat1_giv_z0])/len(df_adult[filt__z0])\n",
    "    p_yhat1_giv_z1 = len(df_adult[filt__yhat1_giv_z1])/len(df_adult[filt__z1])\n",
    "    dispimp = np.abs(p_yhat1_giv_z0 - p_yhat1_giv_z1)\n",
    "    # Print Disparate Impact\n",
    "    print(f\"Disparate Impact: {dispimp:.3f}\")"
   ]
  },
  {
   "cell_type": "markdown",
   "id": "e5cebe41",
   "metadata": {},
   "source": [
    "# Using only repo files"
   ]
  },
  {
   "cell_type": "code",
   "execution_count": 1,
   "id": "457424ab",
   "metadata": {
    "ExecuteTime": {
     "end_time": "2023-04-08T21:29:17.143020Z",
     "start_time": "2023-04-08T21:29:16.689209Z"
    }
   },
   "outputs": [],
   "source": [
    "# Add parent directory to current path. Needed for research imports.\n",
    "import os.path\n",
    "import sys\n",
    "p = os.path.abspath('../..')\n",
    "if p not in sys.path:\n",
    "    sys.path.insert(0,p)\n",
    "    \n",
    "%load_ext autoreload\n",
    "%autoreload 2\n",
    "\n",
    "from research.rl.env.clf_mdp import *"
   ]
  },
  {
   "cell_type": "code",
   "execution_count": 112,
   "id": "f772bf41",
   "metadata": {
    "ExecuteTime": {
     "end_time": "2023-04-08T22:06:10.399038Z",
     "start_time": "2023-04-08T22:06:10.366566Z"
    },
    "code_folding": []
   },
   "outputs": [],
   "source": [
    "def generate_adult_dataset(n=50, verbose=True):\n",
    "    \"\"\"\n",
    "    Wrapper function for generating a sample adult dataset.\n",
    "    \"\"\"\n",
    "    \n",
    "    # Import adult dataset\n",
    "    adult = pd.read_csv('./../../data/adult.csv')\n",
    "    adult.sample(3)\n",
    "\n",
    "    # Sample down to make things faster\n",
    "    df_adult = adult.sample(n)\n",
    "\n",
    "    # Transform sensitive attriburtes and target to binary values\n",
    "    df_adult['race'] = df_adult['race'] == 'White'\n",
    "    df_adult['gender'] = df_adult['gender'] == 'Male'\n",
    "    df_adult['income'] = df_adult['income'] == '>50K'\n",
    "    df_adult.head()\n",
    "\n",
    "    # Rename variables to expected naming conventions for computing optimal polices\n",
    "    df_adult['z'] = df_adult['race'].astype(int)\n",
    "    df_adult['y'] = df_adult['income'].astype(int)\n",
    "    df_adult = df_adult[['z', 'y']]\n",
    "    \n",
    "    if verbose:\n",
    "        print('Adult dataset sample:')\n",
    "        display(df_adult.head())\n",
    "        print('Adult dataset count of each z,y group')\n",
    "        display(df_adult.groupby(['z'])[['y']].agg(['count', 'mean']))\n",
    "        \n",
    "    return df_adult"
   ]
  },
  {
   "cell_type": "code",
   "execution_count": 113,
   "id": "10003f9e",
   "metadata": {
    "ExecuteTime": {
     "end_time": "2023-04-08T22:06:11.437014Z",
     "start_time": "2023-04-08T22:06:11.401352Z"
    },
    "code_folding": []
   },
   "outputs": [],
   "source": [
    "from sklearn.base import BaseEstimator, ClassifierMixin\n",
    "\n",
    "\n",
    "class ClassificationMDPPolicy(BaseEstimator, ClassifierMixin):\n",
    "    \"\"\"\n",
    "    A Scikit-Learn compatible wrapper for a Classification MDP policy.\n",
    "    \n",
    "    Parameters\n",
    "    ----------\n",
    "    clf : sklearn.BaseEstimator\n",
    "        Binary classifier used for predicting `y` from `X`.\n",
    "        \n",
    "    Attributes\n",
    "    ----------\n",
    "    reward_weights : list<float>\n",
    "        Weights for each objective component.\n",
    "    pi : numpy.array<int>\n",
    "        The policy.\n",
    "    \"\"\"\n",
    "    \n",
    "    def __init__(self, clf):\n",
    "        self.clf = clf\n",
    "        self.state_lookup_ = None\n",
    "        self.pi_ = None\n",
    "    \n",
    "    def fit(self, X, y):\n",
    "        \"\"\"\n",
    "        In addition to fitting a binary classifier that predicts y from X, it\n",
    "        also generates the `state_lookup_` dictionary which maps a sample of\n",
    "        (X,y) to its state index.\n",
    "        \n",
    "        Parameters\n",
    "        ----------\n",
    "        X : pandas.DataFrame\n",
    "            Classification input.\n",
    "        y : pandas.Series<int>\n",
    "            Binary target variable.\n",
    "            \n",
    "        Fits\n",
    "        ----\n",
    "        clf : sklearn.BaseEstimator\n",
    "            Binary classifier used for predicting `y`.\n",
    "        pi : numpy.array<int>\n",
    "            The policy.\n",
    "        \n",
    "        Returns\n",
    "        -------\n",
    "        None\n",
    "        \"\"\"\n",
    "        pass\n",
    "    \n",
    "    def predict(self, X):\n",
    "        \"\"\"\n",
    "        Predicts y from X. However, this prediction is not the \"action\" here.\n",
    "        Rather, the action is taken from the policy, which comes from the\n",
    "        state. In this sense, it's acting like a POMDP.\n",
    "        \n",
    "        I.e. here is some crude pseudocode reprsenting what's actually\n",
    "        happening:\n",
    "            ```\n",
    "            y = predict(X)\n",
    "            a = pi(X, y)\n",
    "            return a\n",
    "            ```\n",
    "        Returns\n",
    "        -------\n",
    "        actions : numpy.array<int>, len(len(X))\n",
    "            The \"predictions\", (actually the actions from the Classification\n",
    "            MDP.\n",
    "        \"\"\"\n",
    "        df = pd.DataFrame(X)\n",
    "        df['y'] = self.clf(X)\n",
    "        actions = np.zeros(len(X))\n",
    "        for i, (idx, row) in enumerate(df.iterrows()):\n",
    "            state = self.state_lookup_[tuple(row)]\n",
    "            actions[i] = self.pi_[state]\n",
    "        return actions"
   ]
  },
  {
   "cell_type": "code",
   "execution_count": 114,
   "id": "167a8bf1",
   "metadata": {
    "ExecuteTime": {
     "end_time": "2023-04-08T22:06:11.940843Z",
     "start_time": "2023-04-08T22:06:11.904749Z"
    },
    "code_folding": []
   },
   "outputs": [],
   "source": [
    "def compute_optimal_policy(clf_df, acc_weight, disp_imp_weight):\n",
    "    \"\"\"\n",
    "    Learns the optimal policies from the provided reward weights.\n",
    "    \n",
    "    Parameters\n",
    "    ----------\n",
    "    clf_df : pandas.DataFrame\n",
    "        Classification dataset. Required columns:\n",
    "            'z' : int. Binary protected attribute.\n",
    "            'y' : int. Binary target variable.\n",
    "    acc_weight : float\n",
    "        The Accuracy reward weight.\n",
    "    disp_imp_weight : float\n",
    "        The Disparate Impact reward weight.\n",
    "        \n",
    "    Returns\n",
    "    -------\n",
    "    opt_pol : list<np.array<int>>\n",
    "        The optimal policy. If there are multiple, it randomly selects one.\n",
    "    \"\"\"\n",
    "\n",
    "    # Set parameters shared for any reward\n",
    "    gamma = 1e-6\n",
    "    clf_mdp = ClassificationMDP(\n",
    "        gamma=gamma,\n",
    "        x_cols=[],\n",
    "        acc_reward_weight=acc_weight,\n",
    "        disp_imp_reward_weight=disp_imp_weight,\n",
    "    )\n",
    "    clf_mdp.fit(clf_df)\n",
    "    optimal_policies = clf_mdp.compute_optimal_policies()\n",
    "    sampled_policy = optimal_policies[np.random.choice(len(optimal_policies))]\n",
    "    return sampled_policy"
   ]
  },
  {
   "cell_type": "code",
   "execution_count": 115,
   "id": "d38677fd",
   "metadata": {
    "ExecuteTime": {
     "end_time": "2023-04-08T22:06:12.604561Z",
     "start_time": "2023-04-08T22:06:12.466359Z"
    },
    "scrolled": false
   },
   "outputs": [
    {
     "name": "stdout",
     "output_type": "stream",
     "text": [
      "Adult dataset sample:\n"
     ]
    },
    {
     "data": {
      "text/html": [
       "<div>\n",
       "<style scoped>\n",
       "    .dataframe tbody tr th:only-of-type {\n",
       "        vertical-align: middle;\n",
       "    }\n",
       "\n",
       "    .dataframe tbody tr th {\n",
       "        vertical-align: top;\n",
       "    }\n",
       "\n",
       "    .dataframe thead th {\n",
       "        text-align: right;\n",
       "    }\n",
       "</style>\n",
       "<table border=\"1\" class=\"dataframe\">\n",
       "  <thead>\n",
       "    <tr style=\"text-align: right;\">\n",
       "      <th></th>\n",
       "      <th>z</th>\n",
       "      <th>y</th>\n",
       "    </tr>\n",
       "  </thead>\n",
       "  <tbody>\n",
       "    <tr>\n",
       "      <th>31625</th>\n",
       "      <td>1</td>\n",
       "      <td>0</td>\n",
       "    </tr>\n",
       "    <tr>\n",
       "      <th>26025</th>\n",
       "      <td>1</td>\n",
       "      <td>0</td>\n",
       "    </tr>\n",
       "    <tr>\n",
       "      <th>47652</th>\n",
       "      <td>1</td>\n",
       "      <td>0</td>\n",
       "    </tr>\n",
       "    <tr>\n",
       "      <th>9755</th>\n",
       "      <td>1</td>\n",
       "      <td>0</td>\n",
       "    </tr>\n",
       "    <tr>\n",
       "      <th>34366</th>\n",
       "      <td>1</td>\n",
       "      <td>1</td>\n",
       "    </tr>\n",
       "  </tbody>\n",
       "</table>\n",
       "</div>"
      ],
      "text/plain": [
       "       z  y\n",
       "31625  1  0\n",
       "26025  1  0\n",
       "47652  1  0\n",
       "9755   1  0\n",
       "34366  1  1"
      ]
     },
     "metadata": {},
     "output_type": "display_data"
    },
    {
     "name": "stdout",
     "output_type": "stream",
     "text": [
      "Adult dataset count of each z,y group\n"
     ]
    },
    {
     "data": {
      "text/html": [
       "<div>\n",
       "<style scoped>\n",
       "    .dataframe tbody tr th:only-of-type {\n",
       "        vertical-align: middle;\n",
       "    }\n",
       "\n",
       "    .dataframe tbody tr th {\n",
       "        vertical-align: top;\n",
       "    }\n",
       "\n",
       "    .dataframe thead tr th {\n",
       "        text-align: left;\n",
       "    }\n",
       "\n",
       "    .dataframe thead tr:last-of-type th {\n",
       "        text-align: right;\n",
       "    }\n",
       "</style>\n",
       "<table border=\"1\" class=\"dataframe\">\n",
       "  <thead>\n",
       "    <tr>\n",
       "      <th></th>\n",
       "      <th colspan=\"2\" halign=\"left\">y</th>\n",
       "    </tr>\n",
       "    <tr>\n",
       "      <th></th>\n",
       "      <th>count</th>\n",
       "      <th>mean</th>\n",
       "    </tr>\n",
       "    <tr>\n",
       "      <th>z</th>\n",
       "      <th></th>\n",
       "      <th></th>\n",
       "    </tr>\n",
       "  </thead>\n",
       "  <tbody>\n",
       "    <tr>\n",
       "      <th>0</th>\n",
       "      <td>17</td>\n",
       "      <td>0.235294</td>\n",
       "    </tr>\n",
       "    <tr>\n",
       "      <th>1</th>\n",
       "      <td>83</td>\n",
       "      <td>0.204819</td>\n",
       "    </tr>\n",
       "  </tbody>\n",
       "</table>\n",
       "</div>"
      ],
      "text/plain": [
       "      y          \n",
       "  count      mean\n",
       "z                \n",
       "0    17  0.235294\n",
       "1    83  0.204819"
      ]
     },
     "metadata": {},
     "output_type": "display_data"
    },
    {
     "name": "stdout",
     "output_type": "stream",
     "text": [
      "Best Reward: 0.870\n",
      "1 optimal policies found\n"
     ]
    },
    {
     "data": {
      "text/html": [
       "<div>\n",
       "<style scoped>\n",
       "    .dataframe tbody tr th:only-of-type {\n",
       "        vertical-align: middle;\n",
       "    }\n",
       "\n",
       "    .dataframe tbody tr th {\n",
       "        vertical-align: top;\n",
       "    }\n",
       "\n",
       "    .dataframe thead th {\n",
       "        text-align: right;\n",
       "    }\n",
       "</style>\n",
       "<table border=\"1\" class=\"dataframe\">\n",
       "  <thead>\n",
       "    <tr style=\"text-align: right;\">\n",
       "      <th></th>\n",
       "      <th>z</th>\n",
       "      <th>y</th>\n",
       "    </tr>\n",
       "  </thead>\n",
       "  <tbody>\n",
       "    <tr>\n",
       "      <th>0</th>\n",
       "      <td>0</td>\n",
       "      <td>0</td>\n",
       "    </tr>\n",
       "    <tr>\n",
       "      <th>1</th>\n",
       "      <td>0</td>\n",
       "      <td>1</td>\n",
       "    </tr>\n",
       "    <tr>\n",
       "      <th>2</th>\n",
       "      <td>1</td>\n",
       "      <td>0</td>\n",
       "    </tr>\n",
       "    <tr>\n",
       "      <th>3</th>\n",
       "      <td>1</td>\n",
       "      <td>1</td>\n",
       "    </tr>\n",
       "  </tbody>\n",
       "</table>\n",
       "</div>"
      ],
      "text/plain": [
       "   z  y\n",
       "0  0  0\n",
       "1  0  1\n",
       "2  1  0\n",
       "3  1  1"
      ]
     },
     "metadata": {},
     "output_type": "display_data"
    }
   ],
   "source": [
    "df_adult = generate_adult_dataset(n=100)\n",
    "clf_pol = compute_optimal_policy(\n",
    "    df_adult,\n",
    "    acc_weight=1,\n",
    "    disp_imp_weight=1,\n",
    ")"
   ]
  },
  {
   "cell_type": "markdown",
   "id": "412db901",
   "metadata": {},
   "source": [
    "### Debug"
   ]
  },
  {
   "cell_type": "code",
   "execution_count": 64,
   "id": "9f9bd3dd",
   "metadata": {
    "ExecuteTime": {
     "end_time": "2023-04-08T22:03:11.985231Z",
     "start_time": "2023-04-08T22:03:11.873809Z"
    },
    "scrolled": false
   },
   "outputs": [
    {
     "data": {
      "text/html": [
       "<div>\n",
       "<style scoped>\n",
       "    .dataframe tbody tr th:only-of-type {\n",
       "        vertical-align: middle;\n",
       "    }\n",
       "\n",
       "    .dataframe tbody tr th {\n",
       "        vertical-align: top;\n",
       "    }\n",
       "\n",
       "    .dataframe thead th {\n",
       "        text-align: right;\n",
       "    }\n",
       "</style>\n",
       "<table border=\"1\" class=\"dataframe\">\n",
       "  <thead>\n",
       "    <tr style=\"text-align: right;\">\n",
       "      <th></th>\n",
       "      <th>z</th>\n",
       "      <th>y</th>\n",
       "    </tr>\n",
       "  </thead>\n",
       "  <tbody>\n",
       "    <tr>\n",
       "      <th>7280</th>\n",
       "      <td>1</td>\n",
       "      <td>1</td>\n",
       "    </tr>\n",
       "    <tr>\n",
       "      <th>2876</th>\n",
       "      <td>1</td>\n",
       "      <td>1</td>\n",
       "    </tr>\n",
       "    <tr>\n",
       "      <th>40063</th>\n",
       "      <td>1</td>\n",
       "      <td>1</td>\n",
       "    </tr>\n",
       "    <tr>\n",
       "      <th>31806</th>\n",
       "      <td>1</td>\n",
       "      <td>0</td>\n",
       "    </tr>\n",
       "    <tr>\n",
       "      <th>16493</th>\n",
       "      <td>0</td>\n",
       "      <td>0</td>\n",
       "    </tr>\n",
       "  </tbody>\n",
       "</table>\n",
       "</div>"
      ],
      "text/plain": [
       "       z  y\n",
       "7280   1  1\n",
       "2876   1  1\n",
       "40063  1  1\n",
       "31806  1  0\n",
       "16493  0  0"
      ]
     },
     "metadata": {},
     "output_type": "display_data"
    },
    {
     "data": {
      "text/html": [
       "<div>\n",
       "<style scoped>\n",
       "    .dataframe tbody tr th:only-of-type {\n",
       "        vertical-align: middle;\n",
       "    }\n",
       "\n",
       "    .dataframe tbody tr th {\n",
       "        vertical-align: top;\n",
       "    }\n",
       "\n",
       "    .dataframe thead tr th {\n",
       "        text-align: left;\n",
       "    }\n",
       "\n",
       "    .dataframe thead tr:last-of-type th {\n",
       "        text-align: right;\n",
       "    }\n",
       "</style>\n",
       "<table border=\"1\" class=\"dataframe\">\n",
       "  <thead>\n",
       "    <tr>\n",
       "      <th></th>\n",
       "      <th colspan=\"2\" halign=\"left\">y</th>\n",
       "    </tr>\n",
       "    <tr>\n",
       "      <th></th>\n",
       "      <th>count</th>\n",
       "      <th>mean</th>\n",
       "    </tr>\n",
       "    <tr>\n",
       "      <th>z</th>\n",
       "      <th></th>\n",
       "      <th></th>\n",
       "    </tr>\n",
       "  </thead>\n",
       "  <tbody>\n",
       "    <tr>\n",
       "      <th>0</th>\n",
       "      <td>138</td>\n",
       "      <td>0.137681</td>\n",
       "    </tr>\n",
       "    <tr>\n",
       "      <th>1</th>\n",
       "      <td>862</td>\n",
       "      <td>0.221578</td>\n",
       "    </tr>\n",
       "  </tbody>\n",
       "</table>\n",
       "</div>"
      ],
      "text/plain": [
       "      y          \n",
       "  count      mean\n",
       "z                \n",
       "0   138  0.137681\n",
       "1   862  0.221578"
      ]
     },
     "metadata": {},
     "output_type": "display_data"
    },
    {
     "name": "stdout",
     "output_type": "stream",
     "text": [
      "Best Reward: 1.656\n",
      "1 optimal policies found\n"
     ]
    },
    {
     "data": {
      "text/html": [
       "<div>\n",
       "<style scoped>\n",
       "    .dataframe tbody tr th:only-of-type {\n",
       "        vertical-align: middle;\n",
       "    }\n",
       "\n",
       "    .dataframe tbody tr th {\n",
       "        vertical-align: top;\n",
       "    }\n",
       "\n",
       "    .dataframe thead th {\n",
       "        text-align: right;\n",
       "    }\n",
       "</style>\n",
       "<table border=\"1\" class=\"dataframe\">\n",
       "  <thead>\n",
       "    <tr style=\"text-align: right;\">\n",
       "      <th></th>\n",
       "      <th>z</th>\n",
       "      <th>y</th>\n",
       "    </tr>\n",
       "  </thead>\n",
       "  <tbody>\n",
       "    <tr>\n",
       "      <th>0</th>\n",
       "      <td>0</td>\n",
       "      <td>0</td>\n",
       "    </tr>\n",
       "    <tr>\n",
       "      <th>1</th>\n",
       "      <td>0</td>\n",
       "      <td>1</td>\n",
       "    </tr>\n",
       "    <tr>\n",
       "      <th>2</th>\n",
       "      <td>1</td>\n",
       "      <td>0</td>\n",
       "    </tr>\n",
       "    <tr>\n",
       "      <th>3</th>\n",
       "      <td>1</td>\n",
       "      <td>1</td>\n",
       "    </tr>\n",
       "  </tbody>\n",
       "</table>\n",
       "</div>"
      ],
      "text/plain": [
       "   z  y\n",
       "0  0  0\n",
       "1  0  1\n",
       "2  1  0\n",
       "3  1  1"
      ]
     },
     "metadata": {},
     "output_type": "display_data"
    }
   ],
   "source": [
    "df_adult = generate_adult_dataset(n=1_000)\n",
    "acc_weight = 2\n",
    "disp_imp_weight = 1\n",
    "gamma = 1e-6\n",
    "clf_mdp = ClassificationMDP(\n",
    "    gamma=gamma,\n",
    "    x_cols=[],\n",
    "    acc_reward_weight=acc_weight,\n",
    "    disp_imp_reward_weight=disp_imp_weight,\n",
    ")\n",
    "clf_mdp.fit(df_adult)\n",
    "optimal_policies = clf_mdp.compute_optimal_policies()\n",
    "# sampled_policy = np.random.choice(optimal_policies)\n",
    "# return sampled_policy"
   ]
  },
  {
   "cell_type": "code",
   "execution_count": 65,
   "id": "c78d839a",
   "metadata": {
    "ExecuteTime": {
     "end_time": "2023-04-08T22:03:12.536487Z",
     "start_time": "2023-04-08T22:03:12.491813Z"
    }
   },
   "outputs": [
    {
     "data": {
      "text/html": [
       "<div>\n",
       "<style scoped>\n",
       "    .dataframe tbody tr th:only-of-type {\n",
       "        vertical-align: middle;\n",
       "    }\n",
       "\n",
       "    .dataframe tbody tr th {\n",
       "        vertical-align: top;\n",
       "    }\n",
       "\n",
       "    .dataframe thead th {\n",
       "        text-align: right;\n",
       "    }\n",
       "</style>\n",
       "<table border=\"1\" class=\"dataframe\">\n",
       "  <thead>\n",
       "    <tr style=\"text-align: right;\">\n",
       "      <th></th>\n",
       "      <th>z</th>\n",
       "      <th>y</th>\n",
       "      <th>mu0</th>\n",
       "      <th>pi_0</th>\n",
       "    </tr>\n",
       "  </thead>\n",
       "  <tbody>\n",
       "    <tr>\n",
       "      <th>0</th>\n",
       "      <td>0</td>\n",
       "      <td>0</td>\n",
       "      <td>0.119</td>\n",
       "      <td>0</td>\n",
       "    </tr>\n",
       "    <tr>\n",
       "      <th>1</th>\n",
       "      <td>0</td>\n",
       "      <td>1</td>\n",
       "      <td>0.019</td>\n",
       "      <td>1</td>\n",
       "    </tr>\n",
       "    <tr>\n",
       "      <th>2</th>\n",
       "      <td>1</td>\n",
       "      <td>0</td>\n",
       "      <td>0.671</td>\n",
       "      <td>0</td>\n",
       "    </tr>\n",
       "    <tr>\n",
       "      <th>3</th>\n",
       "      <td>1</td>\n",
       "      <td>1</td>\n",
       "      <td>0.191</td>\n",
       "      <td>0</td>\n",
       "    </tr>\n",
       "  </tbody>\n",
       "</table>\n",
       "</div>"
      ],
      "text/plain": [
       "   z  y    mu0  pi_0\n",
       "0  0  0  0.119     0\n",
       "1  0  1  0.019     1\n",
       "2  1  0  0.671     0\n",
       "3  1  1  0.191     0"
      ]
     },
     "execution_count": 65,
     "metadata": {},
     "output_type": "execute_result"
    }
   ],
   "source": [
    "clf_mdp.state_df_"
   ]
  },
  {
   "cell_type": "code",
   "execution_count": null,
   "id": "c1fce7f5",
   "metadata": {},
   "outputs": [],
   "source": []
  }
 ],
 "metadata": {
  "kernelspec": {
   "display_name": "research",
   "language": "python",
   "name": "research"
  },
  "language_info": {
   "codemirror_mode": {
    "name": "ipython",
    "version": 3
   },
   "file_extension": ".py",
   "mimetype": "text/x-python",
   "name": "python",
   "nbconvert_exporter": "python",
   "pygments_lexer": "ipython3",
   "version": "3.10.6"
  },
  "notify_time": "5",
  "toc": {
   "base_numbering": 1,
   "nav_menu": {},
   "number_sections": false,
   "sideBar": true,
   "skip_h1_title": false,
   "title_cell": "Table of Contents",
   "title_sidebar": "Contents",
   "toc_cell": false,
   "toc_position": {
    "height": "calc(100% - 180px)",
    "left": "10px",
    "top": "150px",
    "width": "495.9190979003906px"
   },
   "toc_section_display": true,
   "toc_window_display": true
  },
  "varInspector": {
   "cols": {
    "lenName": 16,
    "lenType": 16,
    "lenVar": 40
   },
   "kernels_config": {
    "python": {
     "delete_cmd_postfix": "",
     "delete_cmd_prefix": "del ",
     "library": "var_list.py",
     "varRefreshCmd": "print(var_dic_list())"
    },
    "r": {
     "delete_cmd_postfix": ") ",
     "delete_cmd_prefix": "rm(",
     "library": "var_list.r",
     "varRefreshCmd": "cat(var_dic_list()) "
    }
   },
   "types_to_exclude": [
    "module",
    "function",
    "builtin_function_or_method",
    "instance",
    "_Feature"
   ],
   "window_display": false
  }
 },
 "nbformat": 4,
 "nbformat_minor": 5
}
