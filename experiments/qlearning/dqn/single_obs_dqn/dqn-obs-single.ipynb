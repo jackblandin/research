{
 "cells": [
  {
   "cell_type": "markdown",
   "metadata": {
    "heading_collapsed": true
   },
   "source": [
    "# Documentation"
   ]
  },
  {
   "cell_type": "code",
   "execution_count": 373,
   "metadata": {
    "ExecuteTime": {
     "end_time": "2019-06-22T20:48:17.955033Z",
     "start_time": "2019-06-22T20:48:17.950755Z"
    },
    "hidden": true
   },
   "outputs": [
    {
     "data": {
      "text/html": [
       "<style>\n",
       "    .MathJax_Display { font-size: 23px; }\n",
       "</style>"
      ],
      "text/plain": [
       "<IPython.core.display.HTML object>"
      ]
     },
     "execution_count": 373,
     "metadata": {},
     "output_type": "execute_result"
    }
   ],
   "source": [
    "from IPython.core.display import HTML\n",
    "HTML(\"\"\"<style>\n",
    "    .MathJax_Display { font-size: 23px; }\n",
    "</style>\"\"\")"
   ]
  },
  {
   "cell_type": "markdown",
   "metadata": {
    "ExecuteTime": {
     "start_time": "2019-05-25T19:41:03.246Z"
    },
    "hidden": true
   },
   "source": [
    "$$\n",
    "\\theta = \\theta + \\alpha (r + \\gamma max_{a'} Q(s',a') - Q(s,a)) \\nabla_{\\theta} Q(s,a)\n",
    "$$"
   ]
  },
  {
   "cell_type": "markdown",
   "metadata": {
    "heading_collapsed": true
   },
   "source": [
    "# Setup"
   ]
  },
  {
   "cell_type": "code",
   "execution_count": 1,
   "metadata": {
    "ExecuteTime": {
     "end_time": "2019-06-23T20:11:22.223530Z",
     "start_time": "2019-06-23T20:11:21.616713Z"
    },
    "hidden": true
   },
   "outputs": [],
   "source": [
    "\"\"\"\n",
    "Add parent directorys to current path\n",
    "\"\"\"\n",
    "import os.path\n",
    "import sys\n",
    "\n",
    "\n",
    "for p in ['..', '../..', '../../..', '../../../..']:\n",
    "    d = os.path.abspath(p)\n",
    "    if d not in sys.path:\n",
    "        sys.path.insert(0,d)\n",
    "    \n",
    "\"\"\"\n",
    "Add tiger-env directory to current path\n",
    "Still not sure why this is needed.\n",
    "\"\"\"\n",
    "d = [os.path.abspath('../../../../../custom_envs/gym-tiger'),\n",
    "    os.path.abspath('../../../../../custom_envs/gym-dummy/')]\n",
    "for _d in d:\n",
    "    if _d not in sys.path:\n",
    "        sys.path.insert(0, _d)\n",
    "    \n",
    "\n",
    "\"\"\"\n",
    "Enable hot-reloading\n",
    "\"\"\"    \n",
    "from notebook_utils import import_module_by_name, reload_module_by_name\n",
    "\n",
    "def reload():\n",
    "    reload_module_by_name('research.neural_networks.mlp', 'ReLU')\n",
    "    reload_module_by_name('research.neural_networks.mlp', 'Sigmoid')\n",
    "    reload_module_by_name('research.neural_networks.mlp', 'MLPRegressor')\n",
    "    reload_module_by_name(\n",
    "        'experiments.qlearning.dqn.single_obs_dqn.numpy_dqn_obs_single',\n",
    "        'NumpyDQNObsSingle')\n",
    "    global ReLU, Sigmoid, MLPRegressor\n",
    "    global NumpyDQNObsSingle\n",
    "    from research.neural_networks.mlp import ReLU, MLPRegressor\n",
    "    from experiments.qlearning.dqn.single_obs_dqn.numpy_dqn_obs_single \\\n",
    "        import NumpyDQNObsSingle\n",
    "    \n",
    "    \n",
    "import gym\n",
    "import gym_tiger\n",
    "import gym_dummy\n",
    "import matplotlib.pyplot as plt\n",
    "from tabulate import tabulate\n",
    "\n",
    "from research.neural_networks.mlp import MLPRegressor, ReLU, Sigmoid\n",
    "from experiments.qlearning.dqn.single_obs_dqn.numpy_dqn_obs_single \\\n",
    "        import NumpyDQNObsSingle, play_one, main, running_avg, plot_running_avg\n",
    "\n",
    "\n",
    "OBS_GROWL_LEFT = [1, 0, 0]\n",
    "OBS_GROWL_RIGHT = [0, 1, 0]\n",
    "OBS_START = [0, 0, 1]\n",
    "\n",
    "ACTION_OPEN_LEFT = 0\n",
    "ACTION_OPEN_RIGHT = 1\n",
    "ACTION_LISTEN = 2\n",
    "ACTION_MAP = {\n",
    "    ACTION_OPEN_LEFT: 'OPEN_LEFT',\n",
    "    ACTION_OPEN_RIGHT: 'OPEN_RIGHT',\n",
    "    ACTION_LISTEN: 'LISTEN',\n",
    "}"
   ]
  },
  {
   "cell_type": "markdown",
   "metadata": {
    "heading_collapsed": true
   },
   "source": [
    "# Tiger-v0 + Tensorflow"
   ]
  },
  {
   "cell_type": "markdown",
   "metadata": {
    "heading_collapsed": true,
    "hidden": true
   },
   "source": [
    "## Play 1000 Episodes with 100% observation accuracy"
   ]
  },
  {
   "cell_type": "code",
   "execution_count": 3,
   "metadata": {
    "ExecuteTime": {
     "end_time": "2019-06-16T18:14:31.994205Z",
     "start_time": "2019-06-16T18:14:04.643874Z"
    },
    "hidden": true,
    "scrolled": false
   },
   "outputs": [
    {
     "name": "stdout",
     "output_type": "stream",
     "text": [
      "WARNING:tensorflow:From /Users/jblandin/miniconda3/envs/research/lib/python3.6/site-packages/tensorflow/python/framework/op_def_library.py:263: colocate_with (from tensorflow.python.framework.ops) is deprecated and will be removed in a future version.\n",
      "Instructions for updating:\n",
      "Colocations handled automatically by placer.\n"
     ]
    },
    {
     "name": "stderr",
     "output_type": "stream",
     "text": [
      "/Users/jblandin/miniconda3/envs/research/lib/python3.6/site-packages/gym/envs/registration.py:14: PkgResourcesDeprecationWarning: Parameters to load are deprecated.  Call .resolve and .require separately.\n",
      "  result = entry_point.load(False)\n",
      "WARNING:tensorflow:From /Users/jblandin/miniconda3/envs/research/lib/python3.6/site-packages/tensorflow/python/framework/op_def_library.py:263: colocate_with (from tensorflow.python.framework.ops) is deprecated and will be removed in a future version.\n",
      "Instructions for updating:\n",
      "Colocations handled automatically by placer.\n"
     ]
    },
    {
     "name": "stdout",
     "output_type": "stream",
     "text": [
      "WARNING:tensorflow:From /Users/jblandin/miniconda3/envs/research/lib/python3.6/site-packages/tensorflow/python/ops/math_ops.py:3066: to_int32 (from tensorflow.python.ops.math_ops) is deprecated and will be removed in a future version.\n",
      "Instructions for updating:\n",
      "Use tf.cast instead.\n"
     ]
    },
    {
     "name": "stderr",
     "output_type": "stream",
     "text": [
      "WARNING:tensorflow:From /Users/jblandin/miniconda3/envs/research/lib/python3.6/site-packages/tensorflow/python/ops/math_ops.py:3066: to_int32 (from tensorflow.python.ops.math_ops) is deprecated and will be removed in a future version.\n",
      "Instructions for updating:\n",
      "Use tf.cast instead.\n"
     ]
    },
    {
     "name": "stdout",
     "output_type": "stream",
     "text": [
      "episode: 0 total reward: -274 eps: 1.0 avg reward (last 100): -274.0\n",
      "episode: 100 total reward: 1 eps: 0.09950371902099892 avg reward (last 100): -156.92079207920793\n",
      "episode: 200 total reward: -10 eps: 0.07053456158585983 avg reward (last 100): -30.475247524752476\n",
      "episode: 300 total reward: -10 eps: 0.0576390417704235 avg reward (last 100): -23.722772277227723\n",
      "episode: 400 total reward: -10 eps: 0.04993761694389223 avg reward (last 100): -25.574257425742573\n",
      "episode: 500 total reward: -109 eps: 0.04467670516087703 avg reward (last 100): -26.11881188118812\n",
      "episode: 600 total reward: -10 eps: 0.04079085082240021 avg reward (last 100): -23.396039603960396\n",
      "episode: 700 total reward: -10 eps: 0.0377694787300249 avg reward (last 100): -19.03960396039604\n",
      "episode: 800 total reward: -10 eps: 0.03533326266687867 avg reward (last 100): -22.96039603960396\n",
      "episode: 900 total reward: -10 eps: 0.03331483023263848 avg reward (last 100): -21.217821782178216\n",
      "avg reward for last 100 episodes: -15.83\n",
      "total steps: -36697.0\n",
      "               OPEN_LEFT    OPEN_RIGHT     LISTEN\n",
      "-----------  -----------  ------------  ---------\n",
      "START           -31.8723      -25.5862  -0.551066\n",
      "GROWL_LEFT      -38.9804      -30.6945  -0.45058\n",
      "GROWL_RIGHT     -31.6751      -33.0251  -0.35726\n"
     ]
    }
   ],
   "source": [
    "\"\"\"\n",
    "Remove old tensorboard log files\n",
    "\"\"\"\n",
    "!rm -rf ./logs\n",
    "\n",
    "import tensorflow as tf\n",
    "\n",
    "env = gym.make('Tiger-v0')\n",
    "env.__init__(reward_tiger=-100, reward_gold=10, reward_listen=-1,\n",
    "            obs_accuracy=1)\n",
    "gamma = 0.99\n",
    "hidden_layer_sizes = [25, 25]\n",
    "batch_size = 2\n",
    "copy_period = 25\n",
    "N=1000\n",
    "\n",
    "session = tf.InteractiveSession()\n",
    "D = env.observation_space.n\n",
    "K = env.action_space.n\n",
    "model = DQN('main', session, D, K, hidden_layer_sizes, gamma,\n",
    "            batch_size=batch_size,\n",
    "            log_summaries=True, logs_dir='./logs')\n",
    "tmodel = DQN('target', session, D, K, hidden_layer_sizes, gamma,\n",
    "             batch_size=batch_size)\n",
    "init = tf.global_variables_initializer()\n",
    "session.run(init)\n",
    "\n",
    "totalrewards = np.zeros(N)\n",
    "for n in range(N):\n",
    "    eps = 1.0/np.sqrt(n+1)\n",
    "#     eps = 1/(n+1)**(1/5)\n",
    "    totalreward = play_one(env, model, tmodel, eps, gamma,\n",
    "                           copy_period, max_steps=10)\n",
    "    totalrewards[n] = totalreward\n",
    "    if n % 100 == 0:\n",
    "        ravg = running_avg(totalrewards, n)\n",
    "        print('episode:', n,\n",
    "              'total reward:', totalreward,\n",
    "              'eps:', eps,\n",
    "              'avg reward (last 100):', ravg)\n",
    "\n",
    "\n",
    "print('avg reward for last 100 episodes:', totalrewards[-100:].mean())\n",
    "print('total steps:', totalrewards.sum())\n",
    "\n",
    "# plt.plot(totalrewards)\n",
    "# plt.title(\"Rewards\")\n",
    "# plt.show()\n",
    "\n",
    "# plot_running_avg(totalrewards)\n",
    "\n",
    "\n",
    "\n",
    "\"\"\"\n",
    "Inspect final Q values\n",
    "\"\"\"\n",
    "actions = model.predict([OBS_START,\n",
    "                         OBS_GROWL_LEFT,\n",
    "                         OBS_GROWL_RIGHT])\n",
    "obs = np.array(['START', 'GROWL_LEFT', 'GROWL_RIGHT']).reshape(-1,1)\n",
    "actions = np.hstack([obs, actions])\n",
    "print(tabulate(actions, headers=list(ACTION_MAP.values())))"
   ]
  },
  {
   "cell_type": "markdown",
   "metadata": {
    "heading_collapsed": true,
    "hidden": true
   },
   "source": [
    "## Play 1000 Episodes with 92% observation accuracy"
   ]
  },
  {
   "cell_type": "code",
   "execution_count": 58,
   "metadata": {
    "ExecuteTime": {
     "end_time": "2019-05-25T23:35:54.081863Z",
     "start_time": "2019-05-25T23:35:06.907827Z"
    },
    "hidden": true
   },
   "outputs": [
    {
     "name": "stdout",
     "output_type": "stream",
     "text": [
      "episode: 0 total reward: 10 eps: 1.0 avg reward (last 100): 10.0\n",
      "episode: 100 total reward: 10 eps: 0.09950371902099892 avg reward (last 100): -46.722772277227726\n",
      "episode: 200 total reward: 10 eps: 0.07053456158585983 avg reward (last 100): -40.98019801980198\n",
      "episode: 300 total reward: -100 eps: 0.0576390417704235 avg reward (last 100): -24.465346534653467\n",
      "episode: 400 total reward: -10 eps: 0.04993761694389223 avg reward (last 100): -21.801980198019802\n",
      "episode: 500 total reward: -10 eps: 0.04467670516087703 avg reward (last 100): -18.85148514851485\n",
      "episode: 600 total reward: -10 eps: 0.04079085082240021 avg reward (last 100): -17.99009900990099\n",
      "episode: 700 total reward: -10 eps: 0.0377694787300249 avg reward (last 100): -17.91089108910891\n",
      "episode: 800 total reward: -10 eps: 0.03533326266687867 avg reward (last 100): -19.059405940594058\n",
      "episode: 900 total reward: -10 eps: 0.03331483023263848 avg reward (last 100): -15.564356435643564\n",
      "avg reward for last 100 episodes: -14.1\n",
      "total steps: -23828.0\n",
      "               OPEN_LEFT    OPEN_RIGHT      LISTEN\n",
      "-----------  -----------  ------------  ----------\n",
      "START           -25.8049     -20.6542   -0.0697432\n",
      "GROWL_LEFT      -24.1767      -3.54829   0.67755\n",
      "GROWL_RIGHT     -14.85       -21.3003   -0.708726\n"
     ]
    }
   ],
   "source": [
    "\"\"\"\n",
    "Remove old tensorboard log files\n",
    "\"\"\"\n",
    "!rm -rf ./logs\n",
    "\n",
    "import tensorflow as tf\n",
    "\n",
    "env = gym.make('Tiger-v0')\n",
    "env.__init__(reward_tiger=-100, reward_gold=10, reward_listen=-1,\n",
    "            obs_accuracy=.92)\n",
    "gamma = 0.99\n",
    "hidden_layer_sizes = [25, 25]\n",
    "batch_size = 2\n",
    "copy_period = 25\n",
    "N=1000\n",
    "\n",
    "session = tf.InteractiveSession()\n",
    "D = env.observation_space.n\n",
    "K = env.action_space.n\n",
    "model = DQN('main', session, D, K, hidden_layer_sizes, gamma,\n",
    "            batch_size=batch_size,\n",
    "            log_summaries=True, logs_dir='./logs')\n",
    "tmodel = DQN('target', session, D, K, hidden_layer_sizes, gamma,\n",
    "             batch_size=batch_size)\n",
    "init = tf.global_variables_initializer()\n",
    "session.run(init)\n",
    "\n",
    "totalrewards = np.zeros(N)\n",
    "for n in range(N):\n",
    "    eps = 1.0/np.sqrt(n+1)\n",
    "#     eps = 1/(n+1)**(1/5)\n",
    "    totalreward = play_one(env, model, tmodel, eps, gamma,\n",
    "                           copy_period, max_steps=10)\n",
    "    totalrewards[n] = totalreward\n",
    "    if n % 100 == 0:\n",
    "        ravg = running_avg(totalrewards, n)\n",
    "        print('episode:', n,\n",
    "              'total reward:', totalreward,\n",
    "              'eps:', eps,\n",
    "              'avg reward (last 100):', ravg)\n",
    "\n",
    "\n",
    "print('avg reward for last 100 episodes:', totalrewards[-100:].mean())\n",
    "print('total steps:', totalrewards.sum())\n",
    "\n",
    "# plt.plot(totalrewards)\n",
    "# plt.title(\"Rewards\")\n",
    "# plt.show()\n",
    "\n",
    "# plot_running_avg(totalrewards)\n",
    "\n",
    "\n",
    "\n",
    "\"\"\"\n",
    "Inspect final Q values\n",
    "\"\"\"\n",
    "actions = model.predict([OBS_START,\n",
    "                         OBS_GROWL_LEFT,\n",
    "                         OBS_GROWL_RIGHT])\n",
    "obs = np.array(['START', 'GROWL_LEFT', 'GROWL_RIGHT']).reshape(-1,1)\n",
    "actions = np.hstack([obs, actions])\n",
    "print(tabulate(actions, headers=list(ACTION_MAP.values())))"
   ]
  },
  {
   "cell_type": "markdown",
   "metadata": {
    "heading_collapsed": true,
    "hidden": true
   },
   "source": [
    "## Play 1000 Episodes with 85% observation accuracy"
   ]
  },
  {
   "cell_type": "code",
   "execution_count": 59,
   "metadata": {
    "ExecuteTime": {
     "end_time": "2019-05-25T23:40:41.241708Z",
     "start_time": "2019-05-25T23:39:44.139551Z"
    },
    "hidden": true
   },
   "outputs": [
    {
     "name": "stdout",
     "output_type": "stream",
     "text": [
      "episode: 0 total reward: 8 eps: 1.0 avg reward (last 100): 8.0\n",
      "episode: 100 total reward: -100 eps: 0.09950371902099892 avg reward (last 100): -46.71287128712871\n",
      "episode: 200 total reward: -100 eps: 0.07053456158585983 avg reward (last 100): -46.633663366336634\n",
      "episode: 300 total reward: -10 eps: 0.0576390417704235 avg reward (last 100): -30.0\n",
      "episode: 400 total reward: -10 eps: 0.04993761694389223 avg reward (last 100): -18.415841584158414\n",
      "episode: 500 total reward: -10 eps: 0.04467670516087703 avg reward (last 100): -19.653465346534652\n",
      "episode: 600 total reward: -10 eps: 0.04079085082240021 avg reward (last 100): -19.81188118811881\n",
      "episode: 700 total reward: 7 eps: 0.0377694787300249 avg reward (last 100): -14.049504950495049\n",
      "episode: 800 total reward: -10 eps: 0.03533326266687867 avg reward (last 100): -11.405940594059405\n",
      "episode: 900 total reward: -10 eps: 0.03331483023263848 avg reward (last 100): -21.316831683168317\n",
      "avg reward for last 100 episodes: -19.22\n",
      "total steps: -24697.0\n",
      "               OPEN_LEFT    OPEN_RIGHT    LISTEN\n",
      "-----------  -----------  ------------  --------\n",
      "START           -27.8812      -28.5151   4.26692\n",
      "GROWL_LEFT      -22.8492      -22.6336   3.82962\n",
      "GROWL_RIGHT     -12.3168      -27.3978   4.87747\n"
     ]
    }
   ],
   "source": [
    "\"\"\"\n",
    "Remove old tensorboard log files\n",
    "\"\"\"\n",
    "!rm -rf ./logs\n",
    "\n",
    "import tensorflow as tf\n",
    "\n",
    "env = gym.make('Tiger-v0')\n",
    "env.__init__(reward_tiger=-100, reward_gold=10, reward_listen=-1,\n",
    "            obs_accuracy=.85)\n",
    "gamma = 0.99\n",
    "hidden_layer_sizes = [25, 25]\n",
    "batch_size = 2\n",
    "copy_period = 25\n",
    "N=1000\n",
    "\n",
    "session = tf.InteractiveSession()\n",
    "D = env.observation_space.n\n",
    "K = env.action_space.n\n",
    "model = DQN('main', session, D, K, hidden_layer_sizes, gamma,\n",
    "            batch_size=batch_size,\n",
    "            log_summaries=True, logs_dir='./logs')\n",
    "tmodel = DQN('target', session, D, K, hidden_layer_sizes, gamma,\n",
    "             batch_size=batch_size)\n",
    "init = tf.global_variables_initializer()\n",
    "session.run(init)\n",
    "\n",
    "totalrewards = np.zeros(N)\n",
    "for n in range(N):\n",
    "    eps = 1.0/np.sqrt(n+1)\n",
    "#     eps = 1/(n+1)**(1/5)\n",
    "    totalreward = play_one(env, model, tmodel, eps, gamma,\n",
    "                           copy_period, max_steps=10)\n",
    "    totalrewards[n] = totalreward\n",
    "    if n % 100 == 0:\n",
    "        ravg = running_avg(totalrewards, n)\n",
    "        print('episode:', n,\n",
    "              'total reward:', totalreward,\n",
    "              'eps:', eps,\n",
    "              'avg reward (last 100):', ravg)\n",
    "\n",
    "\n",
    "print('avg reward for last 100 episodes:', totalrewards[-100:].mean())\n",
    "print('total steps:', totalrewards.sum())\n",
    "\n",
    "# plt.plot(totalrewards)\n",
    "# plt.title(\"Rewards\")\n",
    "# plt.show()\n",
    "\n",
    "# plot_running_avg(totalrewards)\n",
    "\n",
    "\n",
    "\n",
    "\"\"\"\n",
    "Inspect final Q values\n",
    "\"\"\"\n",
    "actions = model.predict([OBS_START,\n",
    "                         OBS_GROWL_LEFT,\n",
    "                         OBS_GROWL_RIGHT])\n",
    "obs = np.array(['START', 'GROWL_LEFT', 'GROWL_RIGHT']).reshape(-1,1)\n",
    "actions = np.hstack([obs, actions])\n",
    "print(tabulate(actions, headers=list(ACTION_MAP.values())))"
   ]
  },
  {
   "cell_type": "markdown",
   "metadata": {
    "heading_collapsed": true
   },
   "source": [
    "# GreaterThanZero-v0 + `NumpyDQNObsSingle`"
   ]
  },
  {
   "cell_type": "code",
   "execution_count": 5,
   "metadata": {
    "ExecuteTime": {
     "end_time": "2019-06-22T23:04:03.186760Z",
     "start_time": "2019-06-22T23:03:19.628722Z"
    },
    "hidden": true,
    "scrolled": false
   },
   "outputs": [
    {
     "name": "stdout",
     "output_type": "stream",
     "text": [
      "\u001b[33mWARN: gym.spaces.Box autodetected dtype as <class 'numpy.float32'>. Please provide explicit dtype.\u001b[0m\n",
      "\u001b[33mWARN: gym.spaces.Box autodetected dtype as <class 'numpy.float32'>. Please provide explicit dtype.\u001b[0m\n",
      "\n",
      "\n",
      "\t   ACTION 0 | ACTION 1\n",
      "\t   -------- | --------\n",
      "OBS -1.0       8.85 |     -0.3\n",
      "OBS -0.5      8.402 |   -0.657\n",
      "OBS  0.0      8.277 |   -0.863\n",
      "OBS  0.5      8.507 |   -0.839\n",
      "OBS  1.0      8.797 |   -1.007\n",
      "\n",
      "episode: 0 total reward: 12 eps: 1.0 avg reward (last 10): 12.0\n",
      "\n",
      "\n",
      "\t   ACTION 0 | ACTION 1\n",
      "\t   -------- | --------\n",
      "OBS -1.0      8.761 |    0.032\n",
      "OBS -0.5      8.312 |    -0.31\n",
      "OBS  0.0      8.185 |   -0.511\n",
      "OBS  0.5      8.414 |   -0.481\n",
      "OBS  1.0      8.704 |   -0.646\n",
      "\n",
      "episode: 50 total reward: -16 eps: 0.40342790485972335 avg reward (last 10): -0.39215686274509803\n",
      "episode: 100 total reward: -12 eps: 0.3868631798468569 avg reward (last 10): 2.3564356435643563\n",
      "\n",
      "\n",
      "\t   ACTION 0 | ACTION 1\n",
      "\t   -------- | --------\n",
      "OBS -1.0      2.807 |    2.633\n",
      "OBS -0.5      2.142 |    2.502\n",
      "OBS  0.0      1.816 |    2.467\n",
      "OBS  0.5      1.925 |    2.632\n",
      "OBS  1.0      2.099 |    2.538\n",
      "\n",
      "episode: 150 total reward: 38 eps: 0.37729076800925687 avg reward (last 10): 15.900990099009901\n",
      "episode: 200 total reward: 50 eps: 0.3705561336414371 avg reward (last 10): 34.97029702970297\n",
      "\n",
      "\n",
      "\t   ACTION 0 | ACTION 1\n",
      "\t   -------- | --------\n",
      "OBS -1.0      2.409 |     1.36\n",
      "OBS -0.5        1.7 |    1.406\n",
      "OBS  0.0      1.299 |    1.778\n",
      "OBS  0.5      1.315 |    2.298\n",
      "OBS  1.0      1.403 |    2.428\n",
      "\n",
      "episode: 250 total reward: 40 eps: 0.3653666427733934 avg reward (last 10): 46.118811881188115\n",
      "episode: 300 total reward: 42 eps: 0.3611495508042332 avg reward (last 10): 51.62376237623762\n",
      "\n",
      "\n",
      "\t   ACTION 0 | ACTION 1\n",
      "\t   -------- | --------\n",
      "OBS -1.0      3.118 |    1.498\n",
      "OBS -0.5      2.408 |     1.67\n",
      "OBS  0.0       1.96 |    2.262\n",
      "OBS  0.5      1.894 |    2.973\n",
      "OBS  1.0      1.899 |    3.213\n",
      "\n",
      "episode: 350 total reward: 60 eps: 0.3576006441149649 avg reward (last 10): 55.76237623762376\n",
      "episode: 400 total reward: 64 eps: 0.3545389957538057 avg reward (last 10): 58.87128712871287\n",
      "\n",
      "\n",
      "\t   ACTION 0 | ACTION 1\n",
      "\t   -------- | --------\n",
      "OBS -1.0      3.806 |    1.839\n",
      "OBS -0.5      3.117 |    2.086\n",
      "OBS  0.0      2.639 |    2.784\n",
      "OBS  0.5      2.499 |    3.576\n",
      "OBS  1.0      2.426 |    3.853\n",
      "\n",
      "episode: 450 total reward: 60 eps: 0.3518482769256367 avg reward (last 10): 60.415841584158414\n",
      "avg reward for last 10 episodes: 61.28\n",
      "total steps: 20860.0\n"
     ]
    },
    {
     "data": {
      "image/png": "[encoded data removed]",
      "text/plain": [
       "<Figure size 432x288 with 1 Axes>"
      ]
     },
     "metadata": {
      "needs_background": "light"
     },
     "output_type": "display_data"
    },
    {
     "data": {
      "image/png": "[encoded data removed]",
      "text/plain": [
       "<Figure size 432x288 with 1 Axes>"
      ]
     },
     "metadata": {
      "needs_background": "light"
     },
     "output_type": "display_data"
    },
    {
     "name": "stdout",
     "output_type": "stream",
     "text": [
      "\n",
      "\n",
      "\t   ACTION 0 | ACTION 1\n",
      "\t   -------- | --------\n",
      "OBS -1.0       4.15 |    2.086\n",
      "OBS -0.5      3.497 |    2.372\n",
      "OBS  0.0      3.017 |     3.12\n",
      "OBS  0.5      2.836 |    3.939\n",
      "OBS  1.0      2.712 |     4.22\n",
      "\n"
     ]
    }
   ],
   "source": [
    "from experiments.utils import NullFeatureTransformer\n",
    "env = gym.make('GreaterThanZero-v0')\n",
    "env.__init__(max_steps_per_episode=100)\n",
    "copy_period = 10\n",
    "gamma = .8\n",
    "start_obs = env.reset()\n",
    "hidden_layer_sizes = [50, 50]\n",
    "hidden_layer_opts = {'hidden_layer_sizes': hidden_layer_sizes,\n",
    "                     'Z': Sigmoid(),\n",
    "                     'learning_rate': 1e-5,\n",
    "                     'mu': .7}\n",
    "ft = NullFeatureTransformer()\n",
    "\n",
    "D = 1\n",
    "K = 2\n",
    "\n",
    "model = NumpyDQNObsSingle(env, ft, D=D, K=K,\n",
    "                          hidden_layer_opts=hidden_layer_opts,\n",
    "                          gamma=gamma, start_obs=start_obs,\n",
    "                          min_experiences=1)\n",
    "\n",
    "print(model)\n",
    "\n",
    "N = 500\n",
    "totalrewards = np.zeros(N)\n",
    "\n",
    "for n in range(N):\n",
    "    eps = 1.0/(n**.1 + 1)\n",
    "    totalreward = play_one(env, model, eps, gamma, copy_period)\n",
    "    totalrewards[n] = totalreward\n",
    "    if n % (N/10) == 0:\n",
    "        ravg = running_avg(totalrewards, n)\n",
    "        print('episode:', n,\n",
    "              'total reward:', totalreward,\n",
    "              'eps:', eps,\n",
    "              'avg reward (last 10):', ravg)\n",
    "    if n % (N/5) == 0:\n",
    "        print(model)\n",
    "\n",
    "\n",
    "print('avg reward for last 10 episodes:', totalrewards[int(-1*(N/10)):].mean())\n",
    "print('total steps:', totalrewards.sum())\n",
    "\n",
    "plt.plot(totalrewards\n",
    "        )\n",
    "plt.title(\"Rewards\")\n",
    "plt.show()\n",
    "\n",
    "plot_running_avg(totalrewards)\n",
    "\n",
    "print(model)"
   ]
  },
  {
   "cell_type": "markdown",
   "metadata": {
    "heading_collapsed": true
   },
   "source": [
    "# NotXOR-v0"
   ]
  },
  {
   "cell_type": "code",
   "execution_count": 14,
   "metadata": {
    "ExecuteTime": {
     "end_time": "2019-06-23T21:05:48.307369Z",
     "start_time": "2019-06-23T21:05:07.792630Z"
    },
    "hidden": true
   },
   "outputs": [
    {
     "name": "stdout",
     "output_type": "stream",
     "text": [
      "\n",
      "Obs.    Action 0\n",
      "------  -----------------------\n",
      "0,0     [0.4236301  2.20510493]\n",
      "1,1     [0.42763913 2.24609481]\n",
      "0,1     [0.40420371 2.22646715]\n",
      "1,0     [0.45145773 2.22875625]\n",
      "\n",
      "episode: 0 total reward: -6 eps: 1.0 avg reward (last 10): -6.0\n",
      "\n",
      "Obs.    Action 0\n",
      "------  -----------------------\n",
      "0,0     [0.87531175 1.04748535]\n",
      "1,1     [0.88320005 1.07682622]\n",
      "0,1     [0.85743442 1.06056132]\n",
      "1,0     [0.90539375 1.06669415]\n",
      "\n",
      "episode: 50 total reward: 8 eps: 0.45549746548537273 avg reward (last 10): 2.0784313725490198\n",
      "episode: 100 total reward: 6 eps: 0.3973156987429393 avg reward (last 10): 1.2277227722772277\n",
      "\n",
      "Obs.    Action 0\n",
      "------  -----------------------\n",
      "0,0     [0.58400431 0.65985958]\n",
      "1,1     [0.58635718 0.66882561]\n",
      "0,1     [0.54530862 0.66258024]\n",
      "1,0     [0.65041749 0.66671027]\n",
      "\n",
      "episode: 150 total reward: 24 eps: 0.36661025622335097 avg reward (last 10): 1.2079207920792079\n",
      "episode: 200 total reward: 40 eps: 0.34622688507614907 avg reward (last 10): 12.712871287128714\n",
      "\n",
      "Obs.    Action 0\n",
      "------  -----------------------\n",
      "0,0     [0.60821546 1.55858247]\n",
      "1,1     [1.16493507 1.57402955]\n",
      "0,1     [1.0629653  1.56413616]\n",
      "1,0     [2.08637335 1.56905395]\n",
      "\n",
      "episode: 250 total reward: 78 eps: 0.3311808799270357 avg reward (last 10): 32.75247524752475\n",
      "episode: 300 total reward: 64 eps: 0.3193645454542496 avg reward (last 10): 53.40594059405941\n",
      "\n",
      "Obs.    Action 0\n",
      "------  -----------------------\n",
      "0,0     [2.09461941 3.45277237]\n",
      "1,1     [2.11183642 3.49060111]\n",
      "0,1     [4.09576386 2.5655366 ]\n",
      "1,0     [4.14359446 3.86375279]\n",
      "\n",
      "episode: 350 total reward: 48 eps: 0.30969812548752007 avg reward (last 10): 64.31683168316832\n",
      "episode: 400 total reward: 66 eps: 0.3015581882864355 avg reward (last 10): 63.76237623762376\n",
      "\n",
      "Obs.    Action 0\n",
      "------  -----------------------\n",
      "0,0     [2.3915591  4.12032028]\n",
      "1,1     [2.39968578 4.14031311]\n",
      "0,1     [4.37936978 2.5545078 ]\n",
      "1,0     [4.34940544 4.13675381]\n",
      "\n",
      "episode: 450 total reward: 100 eps: 0 avg reward (last 10): 66.87128712871286\n",
      "avg reward for last 10 episodes: 100.0\n",
      "total steps: 21528.0\n"
     ]
    },
    {
     "data": {
      "image/png": "[encoded data removed]",
      "text/plain": [
       "<Figure size 432x288 with 1 Axes>"
      ]
     },
     "metadata": {
      "needs_background": "light"
     },
     "output_type": "display_data"
    },
    {
     "data": {
      "image/png": "[encoded data removed]",
      "text/plain": [
       "<Figure size 432x288 with 1 Axes>"
      ]
     },
     "metadata": {
      "needs_background": "light"
     },
     "output_type": "display_data"
    },
    {
     "name": "stdout",
     "output_type": "stream",
     "text": [
      "\n",
      "Obs.    Action 0\n",
      "------  -----------------------\n",
      "0,0     [2.61934323 4.58279951]\n",
      "1,1     [2.61261503 4.59667749]\n",
      "0,1     [4.559565   2.68416364]\n",
      "1,0     [4.53101844 2.74989523]\n",
      "\n"
     ]
    }
   ],
   "source": [
    "from experiments.utils import NullFeatureTransformer\n",
    "env = gym.make('NotXOR-v0')\n",
    "env.__init__(max_steps_per_episode=100)\n",
    "copy_period = 10\n",
    "gamma = .8\n",
    "start_obs = env.reset()\n",
    "hidden_layer_sizes = [3, 3]\n",
    "hidden_layer_opts = {'hidden_layer_sizes': hidden_layer_sizes,\n",
    "                     'Z': Sigmoid(),\n",
    "                     'learning_rate': 1e-2,\n",
    "                     'mu': .7}\n",
    "ft = NullFeatureTransformer()\n",
    "\n",
    "D = 2\n",
    "K = 2\n",
    "\n",
    "model = NumpyDQNObsSingle(env, ft, D=D, K=K,\n",
    "                          hidden_layer_opts=hidden_layer_opts,\n",
    "                          gamma=gamma, start_obs=start_obs,\n",
    "                          min_experiences=1)\n",
    "\n",
    "print(model)\n",
    "\n",
    "N = 500\n",
    "totalrewards = np.zeros(N)\n",
    "\n",
    "window = int(N/10)\n",
    "for n in range(N):\n",
    "    if n >= (N - window):\n",
    "        eps = 0\n",
    "    else:\n",
    "        eps = 1.0/(n+1)**.2\n",
    "    totalreward = play_one(env, model, eps, gamma, copy_period)\n",
    "    totalrewards[n] = totalreward\n",
    "    if n % window == 0:\n",
    "        ravg = running_avg(totalrewards, n)\n",
    "        print('episode:', n,\n",
    "              'total reward:', totalreward,\n",
    "              'eps:', eps,\n",
    "              'avg reward (last 10):', ravg)\n",
    "        print(model)\n",
    "\n",
    "\n",
    "print('avg reward for last 10 episodes:', totalrewards[int(-1*(N/10)):].mean())\n",
    "print('total steps:', totalrewards.sum())\n",
    "\n",
    "plt.plot(totalrewards\n",
    "        )\n",
    "plt.title(\"Rewards\")\n",
    "plt.show()\n",
    "\n",
    "plot_running_avg(totalrewards)\n",
    "\n",
    "print(model)"
   ]
  },
  {
   "cell_type": "markdown",
   "metadata": {},
   "source": [
    "# Cartpole-v0 + `NumpyDQNObsSingle`"
   ]
  },
  {
   "cell_type": "markdown",
   "metadata": {
    "heading_collapsed": true
   },
   "source": [
    "## Solved using RBF Kernel to transform feature space into higher dimensions"
   ]
  },
  {
   "cell_type": "markdown",
   "metadata": {
    "hidden": true
   },
   "source": [
    "This is sort of cheating since the goal of DQNs is to do the feature transformation for ou. Although I guess we can consider this as similar to the 3 convolutional layers that are in the Atari DQNs."
   ]
  },
  {
   "cell_type": "code",
   "execution_count": 309,
   "metadata": {
    "ExecuteTime": {
     "end_time": "2019-06-22T19:07:36.701674Z",
     "start_time": "2019-06-22T19:07:36.681085Z"
    },
    "code_folding": [],
    "hidden": true
   },
   "outputs": [],
   "source": [
    "from sklearn.pipeline import FeatureUnion\n",
    "from sklearn.preprocessing import StandardScaler\n",
    "from sklearn.kernel_approximation import RBFSampler\n",
    "\n",
    "class CartpoleFeatureTransformer:\n",
    "\n",
    "    def __init__(self, env, n_components=500):\n",
    "        \"\"\"Fits a union of RBFSamplers on a sample set of observations.\n",
    "        Pseudocode\n",
    "        ----------\n",
    "        Sample observation space.\n",
    "        Fit a standard scaler instance to the observed examples.\n",
    "        Create a representation of the state using RBF kernels (rbf samplers)\n",
    "            with different variances to cover different parts of the space.\n",
    "        Transform the observation examples first with the standard scaler, then\n",
    "            with the union of rbf samplers.\n",
    "        Store the standard scaler, rbf featurizer, and the feature example\n",
    "            dimensions as attributes.\n",
    "        \"\"\"\n",
    "        self.env = env\n",
    "        self.scaler = None\n",
    "        self.featurizer = None\n",
    "        # obs_samples = [env.observation_space.sample() for x in range(10000)]\n",
    "        obs_samples = np.random.random(( 20000, 4))*2 - 1\n",
    "        scaler = StandardScaler()\n",
    "        obs_samples_t = scaler.fit_transform(obs_samples)\n",
    "        featurizer = FeatureUnion([\n",
    "            ('rbf1', RBFSampler(gamma=5.0, n_components=n_components)),\n",
    "            ('rbf5', RBFSampler(gamma=2.0, n_components=n_components)),\n",
    "            ('rbf3', RBFSampler(gamma=1.0, n_components=n_components)),\n",
    "            ('rbf4', RBFSampler(gamma=0.5, n_components=n_components)),\n",
    "        ])\n",
    "        obs_samples_t = featurizer.fit_transform(obs_samples_t)\n",
    "        self.scaler = scaler\n",
    "        self.featurizer = featurizer\n",
    "        self.dimensions = obs_samples_t.shape[1]\n",
    "\n",
    "    def transform(self, observations):\n",
    "        scaled = self.scaler.transform(observations)\n",
    "        return self.featurizer.transform(scaled)"
   ]
  },
  {
   "cell_type": "code",
   "execution_count": 348,
   "metadata": {
    "ExecuteTime": {
     "end_time": "2019-06-22T19:20:56.069631Z",
     "start_time": "2019-06-22T19:19:27.210008Z"
    },
    "hidden": true,
    "scrolled": false
   },
   "outputs": [
    {
     "name": "stderr",
     "output_type": "stream",
     "text": [
      "/Users/jblandin/miniconda3/envs/research/lib/python3.6/site-packages/gym/envs/registration.py:14: PkgResourcesDeprecationWarning: Parameters to load are deprecated.  Call .resolve and .require separately.\n",
      "  result = entry_point.load(False)\n"
     ]
    },
    {
     "name": "stdout",
     "output_type": "stream",
     "text": [
      "\u001b[33mWARN: gym.spaces.Box autodetected dtype as <class 'numpy.float32'>. Please provide explicit dtype.\u001b[0m\n",
      "too few experiences 1\n",
      "too few experiences 2\n",
      "too few experiences 3\n",
      "too few experiences 4\n",
      "episode: 0 total reward: 20.0 eps: 1.0 avg reward (last 10): 20.0\n",
      "episode: 10 total reward: 8.0 eps: 0.30151134457776363 avg reward (last 10): 14.909090909090908\n",
      "episode: 20 total reward: 12.0 eps: 0.2182178902359924 avg reward (last 10): 12.666666666666666\n",
      "episode: 30 total reward: 10.0 eps: 0.1796053020267749 avg reward (last 10): 11.64516129032258\n",
      "episode: 40 total reward: 15.0 eps: 0.15617376188860607 avg reward (last 10): 13.024390243902438\n",
      "episode: 50 total reward: 31.0 eps: 0.14002800840280097 avg reward (last 10): 15.901960784313726\n",
      "episode: 60 total reward: 36.0 eps: 0.12803687993289598 avg reward (last 10): 18.524590163934427\n",
      "episode: 70 total reward: 36.0 eps: 0.11867816581938533 avg reward (last 10): 21.211267605633804\n",
      "episode: 80 total reward: 30.0 eps: 0.1111111111111111 avg reward (last 10): 23.925925925925927\n",
      "episode: 90 total reward: 73.0 eps: 0.10482848367219183 avg reward (last 10): 26.373626373626372\n",
      "episode: 100 total reward: 57.0 eps: 0.09950371902099892 avg reward (last 10): 28.475247524752476\n",
      "episode: 110 total reward: 106.0 eps: 0.0949157995752499 avg reward (last 10): 33.28712871287129\n",
      "episode: 120 total reward: 47.0 eps: 0.09090909090909091 avg reward (last 10): 37.87128712871287\n",
      "episode: 130 total reward: 92.0 eps: 0.0873704056661038 avg reward (last 10): 42.59405940594059\n",
      "episode: 140 total reward: 34.0 eps: 0.0842151921066519 avg reward (last 10): 44.97029702970297\n",
      "episode: 150 total reward: 44.0 eps: 0.08137884587711594 avg reward (last 10): 49.306930693069305\n",
      "episode: 160 total reward: 45.0 eps: 0.07881104062391006 avg reward (last 10): 51.306930693069305\n",
      "episode: 170 total reward: 81.0 eps: 0.07647191129018725 avg reward (last 10): 54.37623762376238\n",
      "episode: 180 total reward: 11.0 eps: 0.07432941462471664 avg reward (last 10): 54.584158415841586\n",
      "episode: 190 total reward: 105.0 eps: 0.07235746052924216 avg reward (last 10): 54.7029702970297\n",
      "episode: 200 total reward: 54.0 eps: 0.07053456158585983 avg reward (last 10): 58.46534653465346\n",
      "episode: 210 total reward: 34.0 eps: 0.06884283908215143 avg reward (last 10): 58.0\n",
      "episode: 220 total reward: 71.0 eps: 0.06726727939963124 avg reward (last 10): 58.23762376237624\n",
      "episode: 230 total reward: 81.0 eps: 0.0657951694959769 avg reward (last 10): 59.960396039603964\n",
      "episode: 240 total reward: 73.0 eps: 0.06441566264008308 avg reward (last 10): 62.475247524752476\n",
      "episode: 250 total reward: 124.0 eps: 0.06311944030978031 avg reward (last 10): 65.27722772277228\n",
      "episode: 260 total reward: 84.0 eps: 0.061898446059017294 avg reward (last 10): 67.45544554455445\n",
      "episode: 270 total reward: 69.0 eps: 0.0607456739230787 avg reward (last 10): 69.95049504950495\n",
      "episode: 280 total reward: 52.0 eps: 0.05965499862718936 avg reward (last 10): 72.33663366336634\n",
      "episode: 290 total reward: 50.0 eps: 0.05862103817605492 avg reward (last 10): 75.67326732673267\n",
      "episode: 300 total reward: 95.0 eps: 0.0576390417704235 avg reward (last 10): 73.79207920792079\n",
      "episode: 310 total reward: 82.0 eps: 0.05670479771237427 avg reward (last 10): 77.44554455445545\n",
      "episode: 320 total reward: 62.0 eps: 0.05581455721859476 avg reward (last 10): 78.32673267326733\n",
      "episode: 330 total reward: 96.0 eps: 0.05496497099293127 avg reward (last 10): 80.77227722772277\n",
      "episode: 340 total reward: 58.0 eps: 0.05415303610738823 avg reward (last 10): 81.2871287128713\n",
      "episode: 350 total reward: 142.0 eps: 0.05337605126836238 avg reward (last 10): 83.95049504950495\n",
      "episode: 360 total reward: 57.0 eps: 0.05263157894736842 avg reward (last 10): 84.93069306930693\n",
      "episode: 370 total reward: 88.0 eps: 0.0519174131651165 avg reward (last 10): 84.72277227722772\n",
      "episode: 380 total reward: 52.0 eps: 0.051231551957855996 avg reward (last 10): 83.85148514851485\n",
      "episode: 390 total reward: 18.0 eps: 0.05057217374241736 avg reward (last 10): 85.87128712871286\n",
      "episode: 400 total reward: 110.0 eps: 0.04993761694389223 avg reward (last 10): 86.95049504950495\n",
      "episode: 410 total reward: 127.0 eps: 0.049326362366699 avg reward (last 10): 86.54455445544555\n",
      "episode: 420 total reward: 64.0 eps: 0.04873701788285793 avg reward (last 10): 87.66336633663366\n",
      "episode: 430 total reward: 114.0 eps: 0.0481683050859088 avg reward (last 10): 88.44554455445545\n",
      "episode: 440 total reward: 78.0 eps: 0.047619047619047616 avg reward (last 10): 89.75247524752476\n",
      "episode: 450 total reward: 98.0 eps: 0.04708816093480111 avg reward (last 10): 88.61386138613861\n",
      "episode: 460 total reward: 90.0 eps: 0.04657464328326223 avg reward (last 10): 89.70297029702971\n",
      "episode: 470 total reward: 87.0 eps: 0.04607756775840914 avg reward (last 10): 90.52475247524752\n",
      "episode: 480 total reward: 87.0 eps: 0.04559607525875532 avg reward (last 10): 95.08910891089108\n",
      "episode: 490 total reward: 118.0 eps: 0.04512936824065242 avg reward (last 10): 97.32673267326733\n",
      "avg reward for last 10 episodes: 107.3\n",
      "total steps: 34780.0\n"
     ]
    },
    {
     "data": {
      "image/png": "[encoded data removed]",
      "text/plain": [
       "<Figure size 432x288 with 1 Axes>"
      ]
     },
     "metadata": {
      "needs_background": "light"
     },
     "output_type": "display_data"
    },
    {
     "data": {
      "image/png": "[encoded data removed]",
      "text/plain": [
       "<Figure size 432x288 with 1 Axes>"
      ]
     },
     "metadata": {
      "needs_background": "light"
     },
     "output_type": "display_data"
    }
   ],
   "source": [
    "env = gym.make('CartPole-v0')\n",
    "copy_period = 10\n",
    "gamma = 0.8\n",
    "start_obs = env.reset()\n",
    "# D = len(env.observation_space.sample())\n",
    "# Set D to shape of output of feature_transformer.transform()\n",
    "D = 2000\n",
    "K = env.action_space.n\n",
    "hidden_layer_sizes = [1]\n",
    "hidden_layer_opts = {'hidden_layer_sizes': hidden_layer_sizes,\n",
    "                     'Z': ReLU(),\n",
    "                     'learning_rate': 1e-2,\n",
    "                     'mu': .5}\n",
    "feature_transformer = CartpoleFeatureTransformer(env)\n",
    "model = NumpyDQNObsSingle(env, feature_transformer, D=D, K=K,\n",
    "                          hidden_layer_opts=hidden_layer_opts,\n",
    "                          gamma=gamma, start_obs=start_obs)\n",
    "\n",
    "N = 500\n",
    "totalrewards = np.zeros(N)\n",
    "\n",
    "for n in range(N):\n",
    "    eps = 1.0/np.sqrt(n+1)\n",
    "    totalreward = play_one(env, model, eps, gamma, copy_period)\n",
    "    totalrewards[n] = totalreward\n",
    "    if n % 10 == 0:\n",
    "        ravg = running_avg(totalrewards, n)\n",
    "        print('episode:', n,\n",
    "              'total reward:', totalreward,\n",
    "              'eps:', eps,\n",
    "              'avg reward (last 10):', ravg)\n",
    "        if ravg > 150:\n",
    "            break\n",
    "\n",
    "\n",
    "totalrewards = totalrewards[np.where(totalrewards > 0)]\n",
    "print('avg reward for last 10 episodes:', totalrewards[-10:].mean())\n",
    "print('total steps:', totalrewards.sum())\n",
    "\n",
    "plt.plot(totalrewards)\n",
    "plt.title(\"Rewards\")\n",
    "plt.show()\n",
    "\n",
    "plot_running_avg(totalrewards)"
   ]
  },
  {
   "cell_type": "markdown",
   "metadata": {},
   "source": [
    "## Without a feature transformer"
   ]
  },
  {
   "cell_type": "code",
   "execution_count": 9,
   "metadata": {
    "ExecuteTime": {
     "end_time": "2019-06-22T23:05:33.840159Z",
     "start_time": "2019-06-22T23:05:16.312381Z"
    }
   },
   "outputs": [
    {
     "name": "stdout",
     "output_type": "stream",
     "text": [
      "\u001b[33mWARN: gym.spaces.Box autodetected dtype as <class 'numpy.float32'>. Please provide explicit dtype.\u001b[0m\n",
      "too few experiences 1\n",
      "too few experiences 2\n",
      "too few experiences 3\n",
      "too few experiences 4\n",
      "episode: 0 total reward: 36.0 eps: 1.0 avg reward (last 10): 36.0\n",
      "episode: 10 total reward: 20.0 eps: 0.30151134457776363 avg reward (last 10): 16.0\n",
      "episode: 20 total reward: 19.0 eps: 0.2182178902359924 avg reward (last 10): 17.428571428571427\n",
      "episode: 30 total reward: 23.0 eps: 0.1796053020267749 avg reward (last 10): 19.903225806451612\n",
      "episode: 40 total reward: 17.0 eps: 0.15617376188860607 avg reward (last 10): 20.48780487804878\n",
      "episode: 50 total reward: 26.0 eps: 0.14002800840280097 avg reward (last 10): 23.80392156862745\n",
      "episode: 60 total reward: 23.0 eps: 0.12803687993289598 avg reward (last 10): 27.0\n",
      "episode: 70 total reward: 94.0 eps: 0.11867816581938533 avg reward (last 10): 29.450704225352112\n",
      "episode: 80 total reward: 35.0 eps: 0.1111111111111111 avg reward (last 10): 35.02469135802469\n",
      "episode: 90 total reward: 104.0 eps: 0.10482848367219183 avg reward (last 10): 40.07692307692308\n",
      "episode: 100 total reward: 114.0 eps: 0.09950371902099892 avg reward (last 10): 42.17821782178218\n",
      "episode: 110 total reward: 24.0 eps: 0.0949157995752499 avg reward (last 10): 45.960396039603964\n",
      "episode: 120 total reward: 113.0 eps: 0.09090909090909091 avg reward (last 10): 48.7029702970297\n",
      "episode: 130 total reward: 33.0 eps: 0.0873704056661038 avg reward (last 10): 49.475247524752476\n",
      "episode: 140 total reward: 24.0 eps: 0.0842151921066519 avg reward (last 10): 50.148514851485146\n",
      "episode: 150 total reward: 50.0 eps: 0.08137884587711594 avg reward (last 10): 48.97029702970297\n",
      "episode: 160 total reward: 19.0 eps: 0.07881104062391006 avg reward (last 10): 46.82178217821782\n",
      "episode: 170 total reward: 18.0 eps: 0.07647191129018725 avg reward (last 10): 45.306930693069305\n",
      "episode: 180 total reward: 17.0 eps: 0.07432941462471664 avg reward (last 10): 39.445544554455445\n",
      "episode: 190 total reward: 17.0 eps: 0.07235746052924216 avg reward (last 10): 34.05940594059406\n",
      "episode: 200 total reward: 22.0 eps: 0.07053456158585983 avg reward (last 10): 30.00990099009901\n",
      "episode: 210 total reward: 13.0 eps: 0.06884283908215143 avg reward (last 10): 25.445544554455445\n",
      "episode: 220 total reward: 16.0 eps: 0.06726727939963124 avg reward (last 10): 23.465346534653467\n",
      "episode: 230 total reward: 17.0 eps: 0.0657951694959769 avg reward (last 10): 21.168316831683168\n",
      "episode: 240 total reward: 13.0 eps: 0.06441566264008308 avg reward (last 10): 19.643564356435643\n",
      "episode: 250 total reward: 17.0 eps: 0.06311944030978031 avg reward (last 10): 18.96039603960396\n",
      "episode: 260 total reward: 13.0 eps: 0.061898446059017294 avg reward (last 10): 17.93069306930693\n",
      "episode: 270 total reward: 11.0 eps: 0.0607456739230787 avg reward (last 10): 17.336633663366335\n",
      "episode: 280 total reward: 15.0 eps: 0.05965499862718936 avg reward (last 10): 16.564356435643564\n",
      "episode: 290 total reward: 10.0 eps: 0.05862103817605492 avg reward (last 10): 15.811881188118813\n",
      "episode: 300 total reward: 13.0 eps: 0.0576390417704235 avg reward (last 10): 15.07920792079208\n",
      "episode: 310 total reward: 10.0 eps: 0.05670479771237427 avg reward (last 10): 14.396039603960396\n",
      "episode: 320 total reward: 15.0 eps: 0.05581455721859476 avg reward (last 10): 13.871287128712872\n",
      "episode: 330 total reward: 16.0 eps: 0.05496497099293127 avg reward (last 10): 13.356435643564357\n",
      "episode: 340 total reward: 12.0 eps: 0.05415303610738823 avg reward (last 10): 12.851485148514852\n",
      "episode: 350 total reward: 10.0 eps: 0.05337605126836238 avg reward (last 10): 12.435643564356436\n",
      "episode: 360 total reward: 9.0 eps: 0.05263157894736842 avg reward (last 10): 12.01980198019802\n",
      "episode: 370 total reward: 11.0 eps: 0.0519174131651165 avg reward (last 10): 11.356435643564357\n",
      "episode: 380 total reward: 9.0 eps: 0.051231551957855996 avg reward (last 10): 10.94059405940594\n",
      "episode: 390 total reward: 9.0 eps: 0.05057217374241736 avg reward (last 10): 10.663366336633663\n",
      "episode: 400 total reward: 9.0 eps: 0.04993761694389223 avg reward (last 10): 10.633663366336634\n",
      "episode: 410 total reward: 11.0 eps: 0.049326362366699 avg reward (last 10): 10.702970297029703\n",
      "episode: 420 total reward: 9.0 eps: 0.04873701788285793 avg reward (last 10): 10.475247524752476\n",
      "episode: 430 total reward: 9.0 eps: 0.0481683050859088 avg reward (last 10): 10.306930693069306\n",
      "episode: 440 total reward: 8.0 eps: 0.047619047619047616 avg reward (last 10): 10.148514851485148\n",
      "episode: 450 total reward: 11.0 eps: 0.04708816093480111 avg reward (last 10): 10.089108910891088\n",
      "episode: 460 total reward: 10.0 eps: 0.04657464328326223 avg reward (last 10): 9.94059405940594\n",
      "episode: 470 total reward: 9.0 eps: 0.04607756775840914 avg reward (last 10): 9.930693069306932\n",
      "episode: 480 total reward: 10.0 eps: 0.04559607525875532 avg reward (last 10): 10.306930693069306\n",
      "episode: 490 total reward: 12.0 eps: 0.04512936824065242 avg reward (last 10): 10.445544554455445\n",
      "avg reward for last 10 episodes: 14.4\n",
      "total steps: 10808.0\n"
     ]
    },
    {
     "data": {
      "image/png": "[encoded data removed]",
      "text/plain": [
       "<Figure size 432x288 with 1 Axes>"
      ]
     },
     "metadata": {
      "needs_background": "light"
     },
     "output_type": "display_data"
    },
    {
     "data": {
      "image/png": "[encoded data removed]",
      "text/plain": [
       "<Figure size 432x288 with 1 Axes>"
      ]
     },
     "metadata": {
      "needs_background": "light"
     },
     "output_type": "display_data"
    }
   ],
   "source": [
    "from experiments.utils import NullFeatureTransformer\n",
    "\n",
    "env = gym.make('CartPole-v0')\n",
    "copy_period = 10\n",
    "gamma = 0.8\n",
    "start_obs = env.reset()\n",
    "D = len(env.observation_space.sample())\n",
    "K = env.action_space.n\n",
    "hidden_layer_sizes = [2000, 10]\n",
    "hidden_layer_opts = {'hidden_layer_sizes': hidden_layer_sizes,\n",
    "                     'Z': ReLU(),\n",
    "                     'learning_rate': 5e-6,\n",
    "                     'mu': .5}\n",
    "feature_transformer = NullFeatureTransformer()\n",
    "model = NumpyDQNObsSingle(env, feature_transformer, D=D, K=K,\n",
    "                          hidden_layer_opts=hidden_layer_opts,\n",
    "                          gamma=gamma, start_obs=start_obs)\n",
    "\n",
    "N = 500\n",
    "totalrewards = np.zeros(N)\n",
    "\n",
    "for n in range(N):\n",
    "    eps = 1.0/np.sqrt(n+1)\n",
    "    totalreward = play_one(env, model, eps, gamma, copy_period)\n",
    "    totalrewards[n] = totalreward\n",
    "    if n % 10 == 0:\n",
    "        ravg = running_avg(totalrewards, n)\n",
    "        print('episode:', n,\n",
    "              'total reward:', totalreward,\n",
    "              'eps:', eps,\n",
    "              'avg reward (last 10):', ravg)\n",
    "        if ravg > 150:\n",
    "            break\n",
    "\n",
    "print('avg reward for last 10 episodes:', totalrewards[-10:].mean())\n",
    "print('total steps:', totalrewards.sum())\n",
    "\n",
    "plt.plot(totalrewards)\n",
    "plt.title(\"Rewards\")\n",
    "plt.show()\n",
    "\n",
    "plot_running_avg(totalrewards)"
   ]
  },
  {
   "cell_type": "code",
   "execution_count": null,
   "metadata": {},
   "outputs": [],
   "source": []
  }
 ],
 "metadata": {
  "kernelspec": {
   "display_name": "research",
   "language": "python",
   "name": "research"
  },
  "language_info": {
   "codemirror_mode": {
    "name": "ipython",
    "version": 3
   },
   "file_extension": ".py",
   "mimetype": "text/x-python",
   "name": "python",
   "nbconvert_exporter": "python",
   "pygments_lexer": "ipython3",
   "version": "3.6.8"
  },
  "toc": {
   "base_numbering": 1,
   "nav_menu": {},
   "number_sections": true,
   "sideBar": true,
   "skip_h1_title": false,
   "title_cell": "Table of Contents",
   "title_sidebar": "Contents",
   "toc_cell": false,
   "toc_position": {},
   "toc_section_display": true,
   "toc_window_display": false
  },
  "varInspector": {
   "cols": {
    "lenName": 16,
    "lenType": 16,
    "lenVar": 40
   },
   "kernels_config": {
    "python": {
     "delete_cmd_postfix": "",
     "delete_cmd_prefix": "del ",
     "library": "var_list.py",
     "varRefreshCmd": "print(var_dic_list())"
    },
    "r": {
     "delete_cmd_postfix": ") ",
     "delete_cmd_prefix": "rm(",
     "library": "var_list.r",
     "varRefreshCmd": "cat(var_dic_list()) "
    }
   },
   "position": {
    "height": "145px",
    "left": "1337.666748046875px",
    "right": "20px",
    "top": "121px",
    "width": "351px"
   },
   "types_to_exclude": [
    "module",
    "function",
    "builtin_function_or_method",
    "instance",
    "_Feature"
   ],
   "window_display": true
  }
 },
 "nbformat": 4,
 "nbformat_minor": 2
}
