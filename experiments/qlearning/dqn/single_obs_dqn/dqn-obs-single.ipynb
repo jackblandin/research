{
 "cells": [
  {
   "cell_type": "markdown",
   "metadata": {
    "heading_collapsed": true
   },
   "source": [
    "# Documentation"
   ]
  },
  {
   "cell_type": "code",
   "execution_count": 373,
   "metadata": {
    "ExecuteTime": {
     "end_time": "2019-06-22T20:48:17.955033Z",
     "start_time": "2019-06-22T20:48:17.950755Z"
    },
    "hidden": true
   },
   "outputs": [
    {
     "data": {
      "text/html": [
       "<style>\n",
       "    .MathJax_Display { font-size: 23px; }\n",
       "</style>"
      ],
      "text/plain": [
       "<IPython.core.display.HTML object>"
      ]
     },
     "execution_count": 373,
     "metadata": {},
     "output_type": "execute_result"
    }
   ],
   "source": [
    "from IPython.core.display import HTML\n",
    "HTML(\"\"\"<style>\n",
    "    .MathJax_Display { font-size: 23px; }\n",
    "</style>\"\"\")"
   ]
  },
  {
   "cell_type": "markdown",
   "metadata": {
    "ExecuteTime": {
     "start_time": "2019-05-25T19:41:03.246Z"
    },
    "hidden": true
   },
   "source": [
    "$$\n",
    "\\theta = \\theta + \\alpha (r + \\gamma max_{a'} Q(s',a') - Q(s,a)) \\nabla_{\\theta} Q(s,a)\n",
    "$$"
   ]
  },
  {
   "cell_type": "markdown",
   "metadata": {
    "heading_collapsed": true
   },
   "source": [
    "# Setup"
   ]
  },
  {
   "cell_type": "code",
   "execution_count": 1,
   "metadata": {
    "ExecuteTime": {
     "end_time": "2019-06-22T21:13:38.222928Z",
     "start_time": "2019-06-22T21:13:37.618821Z"
    },
    "hidden": true
   },
   "outputs": [],
   "source": [
    "\"\"\"\n",
    "Add parent directorys to current path\n",
    "\"\"\"\n",
    "import os.path\n",
    "import sys\n",
    "\n",
    "\n",
    "for p in ['..', '../..', '../../..', '../../../..']:\n",
    "    d = os.path.abspath(p)\n",
    "    if d not in sys.path:\n",
    "        sys.path.insert(0,d)\n",
    "    \n",
    "\"\"\"\n",
    "Add tiger-env directory to current path\n",
    "Still not sure why this is needed.\n",
    "\"\"\"\n",
    "d = [os.path.abspath('../../../../../custom_envs/gym-tiger'),\n",
    "    os.path.abspath('../../../../../custom_envs/gym-dummy/')]\n",
    "for _d in d:\n",
    "    if _d not in sys.path:\n",
    "        sys.path.insert(0, _d)\n",
    "    \n",
    "\n",
    "\"\"\"\n",
    "Enable hot-reloading\n",
    "\"\"\"    \n",
    "from notebook_utils import import_module_by_name, reload_module_by_name\n",
    "\n",
    "def reload():\n",
    "    reload_module_by_name('research.neural_networks.mlp', 'ReLU')\n",
    "    reload_module_by_name('research.neural_networks.mlp', 'Sigmoid')\n",
    "    reload_module_by_name('research.neural_networks.mlp', 'MLPRegressor')\n",
    "    reload_module_by_name(\n",
    "        'experiments.qlearning.dqn.single_obs_dqn.numpy_dqn_obs_single',\n",
    "        'NumpyDQNObsSingle')\n",
    "    global ReLU, Sigmoid, MLPRegressor\n",
    "    global NumpyDQNObsSingle\n",
    "    from research.neural_networks.mlp import ReLU, MLPRegressor\n",
    "    from experiments.qlearning.dqn.single_obs_dqn.numpy_dqn_obs_single \\\n",
    "        import NumpyDQNObsSingle\n",
    "    \n",
    "    \n",
    "import gym\n",
    "import gym_tiger\n",
    "import gym_dummy\n",
    "import matplotlib.pyplot as plt\n",
    "from tabulate import tabulate\n",
    "\n",
    "from research.neural_networks.mlp import MLPRegressor, ReLU, Sigmoid\n",
    "from experiments.qlearning.dqn.single_obs_dqn.numpy_dqn_obs_single \\\n",
    "        import NumpyDQNObsSingle, play_one, main, running_avg, plot_running_avg\n",
    "\n",
    "\n",
    "OBS_GROWL_LEFT = [1, 0, 0]\n",
    "OBS_GROWL_RIGHT = [0, 1, 0]\n",
    "OBS_START = [0, 0, 1]\n",
    "\n",
    "ACTION_OPEN_LEFT = 0\n",
    "ACTION_OPEN_RIGHT = 1\n",
    "ACTION_LISTEN = 2\n",
    "ACTION_MAP = {\n",
    "    ACTION_OPEN_LEFT: 'OPEN_LEFT',\n",
    "    ACTION_OPEN_RIGHT: 'OPEN_RIGHT',\n",
    "    ACTION_LISTEN: 'LISTEN',\n",
    "}"
   ]
  },
  {
   "cell_type": "markdown",
   "metadata": {
    "heading_collapsed": true
   },
   "source": [
    "# Tiger-v0 + Tensorflow"
   ]
  },
  {
   "cell_type": "markdown",
   "metadata": {
    "heading_collapsed": true,
    "hidden": true
   },
   "source": [
    "## Play 1000 Episodes with 100% observation accuracy"
   ]
  },
  {
   "cell_type": "code",
   "execution_count": 3,
   "metadata": {
    "ExecuteTime": {
     "end_time": "2019-06-16T18:14:31.994205Z",
     "start_time": "2019-06-16T18:14:04.643874Z"
    },
    "hidden": true,
    "scrolled": false
   },
   "outputs": [
    {
     "name": "stdout",
     "output_type": "stream",
     "text": [
      "WARNING:tensorflow:From /Users/jblandin/miniconda3/envs/research/lib/python3.6/site-packages/tensorflow/python/framework/op_def_library.py:263: colocate_with (from tensorflow.python.framework.ops) is deprecated and will be removed in a future version.\n",
      "Instructions for updating:\n",
      "Colocations handled automatically by placer.\n"
     ]
    },
    {
     "name": "stderr",
     "output_type": "stream",
     "text": [
      "/Users/jblandin/miniconda3/envs/research/lib/python3.6/site-packages/gym/envs/registration.py:14: PkgResourcesDeprecationWarning: Parameters to load are deprecated.  Call .resolve and .require separately.\n",
      "  result = entry_point.load(False)\n",
      "WARNING:tensorflow:From /Users/jblandin/miniconda3/envs/research/lib/python3.6/site-packages/tensorflow/python/framework/op_def_library.py:263: colocate_with (from tensorflow.python.framework.ops) is deprecated and will be removed in a future version.\n",
      "Instructions for updating:\n",
      "Colocations handled automatically by placer.\n"
     ]
    },
    {
     "name": "stdout",
     "output_type": "stream",
     "text": [
      "WARNING:tensorflow:From /Users/jblandin/miniconda3/envs/research/lib/python3.6/site-packages/tensorflow/python/ops/math_ops.py:3066: to_int32 (from tensorflow.python.ops.math_ops) is deprecated and will be removed in a future version.\n",
      "Instructions for updating:\n",
      "Use tf.cast instead.\n"
     ]
    },
    {
     "name": "stderr",
     "output_type": "stream",
     "text": [
      "WARNING:tensorflow:From /Users/jblandin/miniconda3/envs/research/lib/python3.6/site-packages/tensorflow/python/ops/math_ops.py:3066: to_int32 (from tensorflow.python.ops.math_ops) is deprecated and will be removed in a future version.\n",
      "Instructions for updating:\n",
      "Use tf.cast instead.\n"
     ]
    },
    {
     "name": "stdout",
     "output_type": "stream",
     "text": [
      "episode: 0 total reward: -274 eps: 1.0 avg reward (last 100): -274.0\n",
      "episode: 100 total reward: 1 eps: 0.09950371902099892 avg reward (last 100): -156.92079207920793\n",
      "episode: 200 total reward: -10 eps: 0.07053456158585983 avg reward (last 100): -30.475247524752476\n",
      "episode: 300 total reward: -10 eps: 0.0576390417704235 avg reward (last 100): -23.722772277227723\n",
      "episode: 400 total reward: -10 eps: 0.04993761694389223 avg reward (last 100): -25.574257425742573\n",
      "episode: 500 total reward: -109 eps: 0.04467670516087703 avg reward (last 100): -26.11881188118812\n",
      "episode: 600 total reward: -10 eps: 0.04079085082240021 avg reward (last 100): -23.396039603960396\n",
      "episode: 700 total reward: -10 eps: 0.0377694787300249 avg reward (last 100): -19.03960396039604\n",
      "episode: 800 total reward: -10 eps: 0.03533326266687867 avg reward (last 100): -22.96039603960396\n",
      "episode: 900 total reward: -10 eps: 0.03331483023263848 avg reward (last 100): -21.217821782178216\n",
      "avg reward for last 100 episodes: -15.83\n",
      "total steps: -36697.0\n",
      "               OPEN_LEFT    OPEN_RIGHT     LISTEN\n",
      "-----------  -----------  ------------  ---------\n",
      "START           -31.8723      -25.5862  -0.551066\n",
      "GROWL_LEFT      -38.9804      -30.6945  -0.45058\n",
      "GROWL_RIGHT     -31.6751      -33.0251  -0.35726\n"
     ]
    }
   ],
   "source": [
    "\"\"\"\n",
    "Remove old tensorboard log files\n",
    "\"\"\"\n",
    "!rm -rf ./logs\n",
    "\n",
    "import tensorflow as tf\n",
    "\n",
    "env = gym.make('Tiger-v0')\n",
    "env.__init__(reward_tiger=-100, reward_gold=10, reward_listen=-1,\n",
    "            obs_accuracy=1)\n",
    "gamma = 0.99\n",
    "hidden_layer_sizes = [25, 25]\n",
    "batch_size = 2\n",
    "copy_period = 25\n",
    "N=1000\n",
    "\n",
    "session = tf.InteractiveSession()\n",
    "D = env.observation_space.n\n",
    "K = env.action_space.n\n",
    "model = DQN('main', session, D, K, hidden_layer_sizes, gamma,\n",
    "            batch_size=batch_size,\n",
    "            log_summaries=True, logs_dir='./logs')\n",
    "tmodel = DQN('target', session, D, K, hidden_layer_sizes, gamma,\n",
    "             batch_size=batch_size)\n",
    "init = tf.global_variables_initializer()\n",
    "session.run(init)\n",
    "\n",
    "totalrewards = np.zeros(N)\n",
    "for n in range(N):\n",
    "    eps = 1.0/np.sqrt(n+1)\n",
    "#     eps = 1/(n+1)**(1/5)\n",
    "    totalreward = play_one(env, model, tmodel, eps, gamma,\n",
    "                           copy_period, max_steps=10)\n",
    "    totalrewards[n] = totalreward\n",
    "    if n % 100 == 0:\n",
    "        ravg = running_avg(totalrewards, n)\n",
    "        print('episode:', n,\n",
    "              'total reward:', totalreward,\n",
    "              'eps:', eps,\n",
    "              'avg reward (last 100):', ravg)\n",
    "\n",
    "\n",
    "print('avg reward for last 100 episodes:', totalrewards[-100:].mean())\n",
    "print('total steps:', totalrewards.sum())\n",
    "\n",
    "# plt.plot(totalrewards)\n",
    "# plt.title(\"Rewards\")\n",
    "# plt.show()\n",
    "\n",
    "# plot_running_avg(totalrewards)\n",
    "\n",
    "\n",
    "\n",
    "\"\"\"\n",
    "Inspect final Q values\n",
    "\"\"\"\n",
    "actions = model.predict([OBS_START,\n",
    "                         OBS_GROWL_LEFT,\n",
    "                         OBS_GROWL_RIGHT])\n",
    "obs = np.array(['START', 'GROWL_LEFT', 'GROWL_RIGHT']).reshape(-1,1)\n",
    "actions = np.hstack([obs, actions])\n",
    "print(tabulate(actions, headers=list(ACTION_MAP.values())))"
   ]
  },
  {
   "cell_type": "markdown",
   "metadata": {
    "heading_collapsed": true,
    "hidden": true
   },
   "source": [
    "## Play 1000 Episodes with 92% observation accuracy"
   ]
  },
  {
   "cell_type": "code",
   "execution_count": 58,
   "metadata": {
    "ExecuteTime": {
     "end_time": "2019-05-25T23:35:54.081863Z",
     "start_time": "2019-05-25T23:35:06.907827Z"
    },
    "hidden": true
   },
   "outputs": [
    {
     "name": "stdout",
     "output_type": "stream",
     "text": [
      "episode: 0 total reward: 10 eps: 1.0 avg reward (last 100): 10.0\n",
      "episode: 100 total reward: 10 eps: 0.09950371902099892 avg reward (last 100): -46.722772277227726\n",
      "episode: 200 total reward: 10 eps: 0.07053456158585983 avg reward (last 100): -40.98019801980198\n",
      "episode: 300 total reward: -100 eps: 0.0576390417704235 avg reward (last 100): -24.465346534653467\n",
      "episode: 400 total reward: -10 eps: 0.04993761694389223 avg reward (last 100): -21.801980198019802\n",
      "episode: 500 total reward: -10 eps: 0.04467670516087703 avg reward (last 100): -18.85148514851485\n",
      "episode: 600 total reward: -10 eps: 0.04079085082240021 avg reward (last 100): -17.99009900990099\n",
      "episode: 700 total reward: -10 eps: 0.0377694787300249 avg reward (last 100): -17.91089108910891\n",
      "episode: 800 total reward: -10 eps: 0.03533326266687867 avg reward (last 100): -19.059405940594058\n",
      "episode: 900 total reward: -10 eps: 0.03331483023263848 avg reward (last 100): -15.564356435643564\n",
      "avg reward for last 100 episodes: -14.1\n",
      "total steps: -23828.0\n",
      "               OPEN_LEFT    OPEN_RIGHT      LISTEN\n",
      "-----------  -----------  ------------  ----------\n",
      "START           -25.8049     -20.6542   -0.0697432\n",
      "GROWL_LEFT      -24.1767      -3.54829   0.67755\n",
      "GROWL_RIGHT     -14.85       -21.3003   -0.708726\n"
     ]
    }
   ],
   "source": [
    "\"\"\"\n",
    "Remove old tensorboard log files\n",
    "\"\"\"\n",
    "!rm -rf ./logs\n",
    "\n",
    "import tensorflow as tf\n",
    "\n",
    "env = gym.make('Tiger-v0')\n",
    "env.__init__(reward_tiger=-100, reward_gold=10, reward_listen=-1,\n",
    "            obs_accuracy=.92)\n",
    "gamma = 0.99\n",
    "hidden_layer_sizes = [25, 25]\n",
    "batch_size = 2\n",
    "copy_period = 25\n",
    "N=1000\n",
    "\n",
    "session = tf.InteractiveSession()\n",
    "D = env.observation_space.n\n",
    "K = env.action_space.n\n",
    "model = DQN('main', session, D, K, hidden_layer_sizes, gamma,\n",
    "            batch_size=batch_size,\n",
    "            log_summaries=True, logs_dir='./logs')\n",
    "tmodel = DQN('target', session, D, K, hidden_layer_sizes, gamma,\n",
    "             batch_size=batch_size)\n",
    "init = tf.global_variables_initializer()\n",
    "session.run(init)\n",
    "\n",
    "totalrewards = np.zeros(N)\n",
    "for n in range(N):\n",
    "    eps = 1.0/np.sqrt(n+1)\n",
    "#     eps = 1/(n+1)**(1/5)\n",
    "    totalreward = play_one(env, model, tmodel, eps, gamma,\n",
    "                           copy_period, max_steps=10)\n",
    "    totalrewards[n] = totalreward\n",
    "    if n % 100 == 0:\n",
    "        ravg = running_avg(totalrewards, n)\n",
    "        print('episode:', n,\n",
    "              'total reward:', totalreward,\n",
    "              'eps:', eps,\n",
    "              'avg reward (last 100):', ravg)\n",
    "\n",
    "\n",
    "print('avg reward for last 100 episodes:', totalrewards[-100:].mean())\n",
    "print('total steps:', totalrewards.sum())\n",
    "\n",
    "# plt.plot(totalrewards)\n",
    "# plt.title(\"Rewards\")\n",
    "# plt.show()\n",
    "\n",
    "# plot_running_avg(totalrewards)\n",
    "\n",
    "\n",
    "\n",
    "\"\"\"\n",
    "Inspect final Q values\n",
    "\"\"\"\n",
    "actions = model.predict([OBS_START,\n",
    "                         OBS_GROWL_LEFT,\n",
    "                         OBS_GROWL_RIGHT])\n",
    "obs = np.array(['START', 'GROWL_LEFT', 'GROWL_RIGHT']).reshape(-1,1)\n",
    "actions = np.hstack([obs, actions])\n",
    "print(tabulate(actions, headers=list(ACTION_MAP.values())))"
   ]
  },
  {
   "cell_type": "markdown",
   "metadata": {
    "heading_collapsed": true,
    "hidden": true
   },
   "source": [
    "## Play 1000 Episodes with 85% observation accuracy"
   ]
  },
  {
   "cell_type": "code",
   "execution_count": 59,
   "metadata": {
    "ExecuteTime": {
     "end_time": "2019-05-25T23:40:41.241708Z",
     "start_time": "2019-05-25T23:39:44.139551Z"
    },
    "hidden": true
   },
   "outputs": [
    {
     "name": "stdout",
     "output_type": "stream",
     "text": [
      "episode: 0 total reward: 8 eps: 1.0 avg reward (last 100): 8.0\n",
      "episode: 100 total reward: -100 eps: 0.09950371902099892 avg reward (last 100): -46.71287128712871\n",
      "episode: 200 total reward: -100 eps: 0.07053456158585983 avg reward (last 100): -46.633663366336634\n",
      "episode: 300 total reward: -10 eps: 0.0576390417704235 avg reward (last 100): -30.0\n",
      "episode: 400 total reward: -10 eps: 0.04993761694389223 avg reward (last 100): -18.415841584158414\n",
      "episode: 500 total reward: -10 eps: 0.04467670516087703 avg reward (last 100): -19.653465346534652\n",
      "episode: 600 total reward: -10 eps: 0.04079085082240021 avg reward (last 100): -19.81188118811881\n",
      "episode: 700 total reward: 7 eps: 0.0377694787300249 avg reward (last 100): -14.049504950495049\n",
      "episode: 800 total reward: -10 eps: 0.03533326266687867 avg reward (last 100): -11.405940594059405\n",
      "episode: 900 total reward: -10 eps: 0.03331483023263848 avg reward (last 100): -21.316831683168317\n",
      "avg reward for last 100 episodes: -19.22\n",
      "total steps: -24697.0\n",
      "               OPEN_LEFT    OPEN_RIGHT    LISTEN\n",
      "-----------  -----------  ------------  --------\n",
      "START           -27.8812      -28.5151   4.26692\n",
      "GROWL_LEFT      -22.8492      -22.6336   3.82962\n",
      "GROWL_RIGHT     -12.3168      -27.3978   4.87747\n"
     ]
    }
   ],
   "source": [
    "\"\"\"\n",
    "Remove old tensorboard log files\n",
    "\"\"\"\n",
    "!rm -rf ./logs\n",
    "\n",
    "import tensorflow as tf\n",
    "\n",
    "env = gym.make('Tiger-v0')\n",
    "env.__init__(reward_tiger=-100, reward_gold=10, reward_listen=-1,\n",
    "            obs_accuracy=.85)\n",
    "gamma = 0.99\n",
    "hidden_layer_sizes = [25, 25]\n",
    "batch_size = 2\n",
    "copy_period = 25\n",
    "N=1000\n",
    "\n",
    "session = tf.InteractiveSession()\n",
    "D = env.observation_space.n\n",
    "K = env.action_space.n\n",
    "model = DQN('main', session, D, K, hidden_layer_sizes, gamma,\n",
    "            batch_size=batch_size,\n",
    "            log_summaries=True, logs_dir='./logs')\n",
    "tmodel = DQN('target', session, D, K, hidden_layer_sizes, gamma,\n",
    "             batch_size=batch_size)\n",
    "init = tf.global_variables_initializer()\n",
    "session.run(init)\n",
    "\n",
    "totalrewards = np.zeros(N)\n",
    "for n in range(N):\n",
    "    eps = 1.0/np.sqrt(n+1)\n",
    "#     eps = 1/(n+1)**(1/5)\n",
    "    totalreward = play_one(env, model, tmodel, eps, gamma,\n",
    "                           copy_period, max_steps=10)\n",
    "    totalrewards[n] = totalreward\n",
    "    if n % 100 == 0:\n",
    "        ravg = running_avg(totalrewards, n)\n",
    "        print('episode:', n,\n",
    "              'total reward:', totalreward,\n",
    "              'eps:', eps,\n",
    "              'avg reward (last 100):', ravg)\n",
    "\n",
    "\n",
    "print('avg reward for last 100 episodes:', totalrewards[-100:].mean())\n",
    "print('total steps:', totalrewards.sum())\n",
    "\n",
    "# plt.plot(totalrewards)\n",
    "# plt.title(\"Rewards\")\n",
    "# plt.show()\n",
    "\n",
    "# plot_running_avg(totalrewards)\n",
    "\n",
    "\n",
    "\n",
    "\"\"\"\n",
    "Inspect final Q values\n",
    "\"\"\"\n",
    "actions = model.predict([OBS_START,\n",
    "                         OBS_GROWL_LEFT,\n",
    "                         OBS_GROWL_RIGHT])\n",
    "obs = np.array(['START', 'GROWL_LEFT', 'GROWL_RIGHT']).reshape(-1,1)\n",
    "actions = np.hstack([obs, actions])\n",
    "print(tabulate(actions, headers=list(ACTION_MAP.values())))"
   ]
  },
  {
   "cell_type": "markdown",
   "metadata": {},
   "source": [
    "# GreaterThanZero-v0 + `NumpyDQNObsSingle`"
   ]
  },
  {
   "cell_type": "code",
   "execution_count": 2,
   "metadata": {
    "ExecuteTime": {
     "end_time": "2019-06-22T21:16:23.833180Z",
     "start_time": "2019-06-22T21:14:11.912932Z"
    },
    "scrolled": false
   },
   "outputs": [
    {
     "name": "stderr",
     "output_type": "stream",
     "text": [
      "/Users/jblandin/miniconda3/envs/research/lib/python3.6/site-packages/gym/envs/registration.py:14: PkgResourcesDeprecationWarning: Parameters to load are deprecated.  Call .resolve and .require separately.\n",
      "  result = entry_point.load(False)\n"
     ]
    },
    {
     "name": "stdout",
     "output_type": "stream",
     "text": [
      "\n",
      "\n",
      "\t   ACTION 0 | ACTION 1\n",
      "\t   -------- | --------\n",
      "OBS -1.0     -3.602 |     2.79\n",
      "OBS -0.5     -4.431 |    3.229\n",
      "OBS  0.0     -5.301 |    3.655\n",
      "OBS  0.5     -5.539 |    3.827\n",
      "OBS  1.0     -5.338 |    3.593\n",
      "\n",
      "episode: 0 total reward: 6 eps: 1.0 avg reward (last 10): 6.0\n",
      "\n",
      "\n",
      "\t   ACTION 0 | ACTION 1\n",
      "\t   -------- | --------\n",
      "OBS -1.0     -3.142 |    2.742\n",
      "OBS -0.5     -3.975 |     3.18\n",
      "OBS  0.0     -4.874 |     3.61\n",
      "OBS  0.5     -5.133 |    3.786\n",
      "OBS  1.0     -4.945 |    3.555\n",
      "\n",
      "episode: 150 total reward: 52 eps: 0.37729076800925687 avg reward (last 10): 46.73267326732673\n",
      "episode: 300 total reward: 58 eps: 0.3611495508042332 avg reward (last 10): 57.62376237623762\n",
      "\n",
      "\n",
      "\t   ACTION 0 | ACTION 1\n",
      "\t   -------- | --------\n",
      "OBS -1.0      4.435 |    1.865\n",
      "OBS -0.5      3.996 |    2.528\n",
      "OBS  0.0      2.974 |    3.443\n",
      "OBS  0.5      2.114 |    4.109\n",
      "OBS  1.0      1.722 |    4.309\n",
      "\n",
      "episode: 450 total reward: 48 eps: 0.3518482769256367 avg reward (last 10): 60.2970297029703\n",
      "episode: 600 total reward: 58 eps: 0.34531594825445333 avg reward (last 10): 61.960396039603964\n",
      "\n",
      "\n",
      "\t   ACTION 0 | ACTION 1\n",
      "\t   -------- | --------\n",
      "OBS -1.0      4.728 |    2.247\n",
      "OBS -0.5      4.467 |    2.887\n",
      "OBS  0.0       3.64 |    3.802\n",
      "OBS  0.5      2.786 |    4.487\n",
      "OBS  1.0      2.309 |    4.718\n",
      "\n",
      "episode: 750 total reward: 76 eps: 0.34028883906542884 avg reward (last 10): 63.98019801980198\n",
      "episode: 900 total reward: 72 eps: 0.33620785605544634 avg reward (last 10): 66.23762376237623\n",
      "\n",
      "\n",
      "\t   ACTION 0 | ACTION 1\n",
      "\t   -------- | --------\n",
      "OBS -1.0      4.758 |    2.383\n",
      "OBS -0.5      4.581 |    2.987\n",
      "OBS  0.0      3.846 |    3.879\n",
      "OBS  0.5      2.996 |    4.552\n",
      "OBS  1.0      2.478 |    4.778\n",
      "\n",
      "episode: 1050 total reward: 60 eps: 0.3327763744292864 avg reward (last 10): 65.54455445544555\n",
      "episode: 1200 total reward: 68 eps: 0.32981814291040207 avg reward (last 10): 66.93069306930693\n",
      "\n",
      "\n",
      "\t   ACTION 0 | ACTION 1\n",
      "\t   -------- | --------\n",
      "OBS -1.0      4.733 |     2.45\n",
      "OBS -0.5      4.593 |    3.035\n",
      "OBS  0.0      3.894 |    3.915\n",
      "OBS  0.5      3.038 |    4.577\n",
      "OBS  1.0      2.499 |    4.793\n",
      "\n",
      "episode: 1350 total reward: 64 eps: 0.3272199266916163 avg reward (last 10): 67.74257425742574\n",
      "avg reward for last 10 episodes: 66.58666666666667\n",
      "total steps: 91310.0\n"
     ]
    },
    {
     "data": {
      "image/png": "[encoded data removed]",
      "text/plain": [
       "<Figure size 432x288 with 1 Axes>"
      ]
     },
     "metadata": {
      "needs_background": "light"
     },
     "output_type": "display_data"
    },
    {
     "data": {
      "image/png": "[encoded data removed]",
      "text/plain": [
       "<Figure size 432x288 with 1 Axes>"
      ]
     },
     "metadata": {
      "needs_background": "light"
     },
     "output_type": "display_data"
    },
    {
     "name": "stdout",
     "output_type": "stream",
     "text": [
      "\n",
      "\n",
      "\t   ACTION 0 | ACTION 1\n",
      "\t   -------- | --------\n",
      "OBS -1.0      4.692 |    2.429\n",
      "OBS -0.5      4.559 |    3.001\n",
      "OBS  0.0      3.859 |     3.88\n",
      "OBS  0.5      2.993 |    4.541\n",
      "OBS  1.0      2.455 |    4.752\n",
      "\n"
     ]
    }
   ],
   "source": [
    "from experiments.utils import NullFeatureTransformer\n",
    "\n",
    "env = gym.make('GreaterThanZero-v0')\n",
    "env.__init__(max_steps_per_episode=100)\n",
    "copy_period = 10\n",
    "gamma = .8\n",
    "start_obs = env.reset()\n",
    "hidden_layer_sizes = [50, 50]\n",
    "hidden_layer_opts = {'hidden_layer_sizes': hidden_layer_sizes,\n",
    "                     'Z': Sigmoid(),\n",
    "                     'learning_rate': 1e-5,\n",
    "                     'mu': .7}\n",
    "ft = NullFeatureTransformer()\n",
    "\n",
    "D = 1\n",
    "K = 2\n",
    "\n",
    "model = NumpyDQNObsSingle(env, ft, D=D, K=K,\n",
    "                          hidden_layer_opts=hidden_layer_opts,\n",
    "                          gamma=gamma, start_obs=start_obs,\n",
    "                          min_experiences=1)\n",
    "\n",
    "print(model)\n",
    "\n",
    "N = 1500\n",
    "totalrewards = np.zeros(N)\n",
    "\n",
    "for n in range(N):\n",
    "    eps = 1.0/(n**.1 + 1)\n",
    "    totalreward = play_one(env, model, eps, gamma, copy_period)\n",
    "    totalrewards[n] = totalreward\n",
    "    if n % (N/10) == 0:\n",
    "        ravg = running_avg(totalrewards, n)\n",
    "        print('episode:', n,\n",
    "              'total reward:', totalreward,\n",
    "              'eps:', eps,\n",
    "              'avg reward (last 10):', ravg)\n",
    "    if n % (N/5) == 0:\n",
    "        print(model)\n",
    "\n",
    "\n",
    "print('avg reward for last 10 episodes:', totalrewards[int(-1*(N/10)):].mean())\n",
    "print('total steps:', totalrewards.sum())\n",
    "\n",
    "plt.plot(totalrewards\n",
    "        )\n",
    "plt.title(\"Rewards\")\n",
    "plt.show()\n",
    "\n",
    "plot_running_avg(totalrewards)\n",
    "\n",
    "print(model)"
   ]
  },
  {
   "cell_type": "markdown",
   "metadata": {
    "heading_collapsed": true
   },
   "source": [
    "# Cartpole-v0 + `NumpyDQNObsSingle`"
   ]
  },
  {
   "cell_type": "markdown",
   "metadata": {
    "heading_collapsed": true,
    "hidden": true
   },
   "source": [
    "## Solved using RBF Kernel to transform feature space into higher dimensions"
   ]
  },
  {
   "cell_type": "markdown",
   "metadata": {
    "hidden": true
   },
   "source": [
    "This is sort of cheating since the goal of DQNs is to do the feature transformation for ou. Although I guess we can consider this as similar to the 3 convolutional layers that are in the Atari DQNs."
   ]
  },
  {
   "cell_type": "code",
   "execution_count": 309,
   "metadata": {
    "ExecuteTime": {
     "end_time": "2019-06-22T19:07:36.701674Z",
     "start_time": "2019-06-22T19:07:36.681085Z"
    },
    "code_folding": [],
    "hidden": true
   },
   "outputs": [],
   "source": [
    "from sklearn.pipeline import FeatureUnion\n",
    "from sklearn.preprocessing import StandardScaler\n",
    "from sklearn.kernel_approximation import RBFSampler\n",
    "\n",
    "class CartpoleFeatureTransformer:\n",
    "\n",
    "    def __init__(self, env, n_components=500):\n",
    "        \"\"\"Fits a union of RBFSamplers on a sample set of observations.\n",
    "        Pseudocode\n",
    "        ----------\n",
    "        Sample observation space.\n",
    "        Fit a standard scaler instance to the observed examples.\n",
    "        Create a representation of the state using RBF kernels (rbf samplers)\n",
    "            with different variances to cover different parts of the space.\n",
    "        Transform the observation examples first with the standard scaler, then\n",
    "            with the union of rbf samplers.\n",
    "        Store the standard scaler, rbf featurizer, and the feature example\n",
    "            dimensions as attributes.\n",
    "        \"\"\"\n",
    "        self.env = env\n",
    "        self.scaler = None\n",
    "        self.featurizer = None\n",
    "        # obs_samples = [env.observation_space.sample() for x in range(10000)]\n",
    "        obs_samples = np.random.random(( 20000, 4))*2 - 1\n",
    "        scaler = StandardScaler()\n",
    "        obs_samples_t = scaler.fit_transform(obs_samples)\n",
    "        featurizer = FeatureUnion([\n",
    "            ('rbf1', RBFSampler(gamma=5.0, n_components=n_components)),\n",
    "            ('rbf5', RBFSampler(gamma=2.0, n_components=n_components)),\n",
    "            ('rbf3', RBFSampler(gamma=1.0, n_components=n_components)),\n",
    "            ('rbf4', RBFSampler(gamma=0.5, n_components=n_components)),\n",
    "        ])\n",
    "        obs_samples_t = featurizer.fit_transform(obs_samples_t)\n",
    "        self.scaler = scaler\n",
    "        self.featurizer = featurizer\n",
    "        self.dimensions = obs_samples_t.shape[1]\n",
    "\n",
    "    def transform(self, observations):\n",
    "        scaled = self.scaler.transform(observations)\n",
    "        return self.featurizer.transform(scaled)"
   ]
  },
  {
   "cell_type": "code",
   "execution_count": 348,
   "metadata": {
    "ExecuteTime": {
     "end_time": "2019-06-22T19:20:56.069631Z",
     "start_time": "2019-06-22T19:19:27.210008Z"
    },
    "hidden": true,
    "scrolled": false
   },
   "outputs": [
    {
     "name": "stderr",
     "output_type": "stream",
     "text": [
      "/Users/jblandin/miniconda3/envs/research/lib/python3.6/site-packages/gym/envs/registration.py:14: PkgResourcesDeprecationWarning: Parameters to load are deprecated.  Call .resolve and .require separately.\n",
      "  result = entry_point.load(False)\n"
     ]
    },
    {
     "name": "stdout",
     "output_type": "stream",
     "text": [
      "\u001b[33mWARN: gym.spaces.Box autodetected dtype as <class 'numpy.float32'>. Please provide explicit dtype.\u001b[0m\n",
      "too few experiences 1\n",
      "too few experiences 2\n",
      "too few experiences 3\n",
      "too few experiences 4\n",
      "episode: 0 total reward: 20.0 eps: 1.0 avg reward (last 10): 20.0\n",
      "episode: 10 total reward: 8.0 eps: 0.30151134457776363 avg reward (last 10): 14.909090909090908\n",
      "episode: 20 total reward: 12.0 eps: 0.2182178902359924 avg reward (last 10): 12.666666666666666\n",
      "episode: 30 total reward: 10.0 eps: 0.1796053020267749 avg reward (last 10): 11.64516129032258\n",
      "episode: 40 total reward: 15.0 eps: 0.15617376188860607 avg reward (last 10): 13.024390243902438\n",
      "episode: 50 total reward: 31.0 eps: 0.14002800840280097 avg reward (last 10): 15.901960784313726\n",
      "episode: 60 total reward: 36.0 eps: 0.12803687993289598 avg reward (last 10): 18.524590163934427\n",
      "episode: 70 total reward: 36.0 eps: 0.11867816581938533 avg reward (last 10): 21.211267605633804\n",
      "episode: 80 total reward: 30.0 eps: 0.1111111111111111 avg reward (last 10): 23.925925925925927\n",
      "episode: 90 total reward: 73.0 eps: 0.10482848367219183 avg reward (last 10): 26.373626373626372\n",
      "episode: 100 total reward: 57.0 eps: 0.09950371902099892 avg reward (last 10): 28.475247524752476\n",
      "episode: 110 total reward: 106.0 eps: 0.0949157995752499 avg reward (last 10): 33.28712871287129\n",
      "episode: 120 total reward: 47.0 eps: 0.09090909090909091 avg reward (last 10): 37.87128712871287\n",
      "episode: 130 total reward: 92.0 eps: 0.0873704056661038 avg reward (last 10): 42.59405940594059\n",
      "episode: 140 total reward: 34.0 eps: 0.0842151921066519 avg reward (last 10): 44.97029702970297\n",
      "episode: 150 total reward: 44.0 eps: 0.08137884587711594 avg reward (last 10): 49.306930693069305\n",
      "episode: 160 total reward: 45.0 eps: 0.07881104062391006 avg reward (last 10): 51.306930693069305\n",
      "episode: 170 total reward: 81.0 eps: 0.07647191129018725 avg reward (last 10): 54.37623762376238\n",
      "episode: 180 total reward: 11.0 eps: 0.07432941462471664 avg reward (last 10): 54.584158415841586\n",
      "episode: 190 total reward: 105.0 eps: 0.07235746052924216 avg reward (last 10): 54.7029702970297\n",
      "episode: 200 total reward: 54.0 eps: 0.07053456158585983 avg reward (last 10): 58.46534653465346\n",
      "episode: 210 total reward: 34.0 eps: 0.06884283908215143 avg reward (last 10): 58.0\n",
      "episode: 220 total reward: 71.0 eps: 0.06726727939963124 avg reward (last 10): 58.23762376237624\n",
      "episode: 230 total reward: 81.0 eps: 0.0657951694959769 avg reward (last 10): 59.960396039603964\n",
      "episode: 240 total reward: 73.0 eps: 0.06441566264008308 avg reward (last 10): 62.475247524752476\n",
      "episode: 250 total reward: 124.0 eps: 0.06311944030978031 avg reward (last 10): 65.27722772277228\n",
      "episode: 260 total reward: 84.0 eps: 0.061898446059017294 avg reward (last 10): 67.45544554455445\n",
      "episode: 270 total reward: 69.0 eps: 0.0607456739230787 avg reward (last 10): 69.95049504950495\n",
      "episode: 280 total reward: 52.0 eps: 0.05965499862718936 avg reward (last 10): 72.33663366336634\n",
      "episode: 290 total reward: 50.0 eps: 0.05862103817605492 avg reward (last 10): 75.67326732673267\n",
      "episode: 300 total reward: 95.0 eps: 0.0576390417704235 avg reward (last 10): 73.79207920792079\n",
      "episode: 310 total reward: 82.0 eps: 0.05670479771237427 avg reward (last 10): 77.44554455445545\n",
      "episode: 320 total reward: 62.0 eps: 0.05581455721859476 avg reward (last 10): 78.32673267326733\n",
      "episode: 330 total reward: 96.0 eps: 0.05496497099293127 avg reward (last 10): 80.77227722772277\n",
      "episode: 340 total reward: 58.0 eps: 0.05415303610738823 avg reward (last 10): 81.2871287128713\n",
      "episode: 350 total reward: 142.0 eps: 0.05337605126836238 avg reward (last 10): 83.95049504950495\n",
      "episode: 360 total reward: 57.0 eps: 0.05263157894736842 avg reward (last 10): 84.93069306930693\n",
      "episode: 370 total reward: 88.0 eps: 0.0519174131651165 avg reward (last 10): 84.72277227722772\n",
      "episode: 380 total reward: 52.0 eps: 0.051231551957855996 avg reward (last 10): 83.85148514851485\n",
      "episode: 390 total reward: 18.0 eps: 0.05057217374241736 avg reward (last 10): 85.87128712871286\n",
      "episode: 400 total reward: 110.0 eps: 0.04993761694389223 avg reward (last 10): 86.95049504950495\n",
      "episode: 410 total reward: 127.0 eps: 0.049326362366699 avg reward (last 10): 86.54455445544555\n",
      "episode: 420 total reward: 64.0 eps: 0.04873701788285793 avg reward (last 10): 87.66336633663366\n",
      "episode: 430 total reward: 114.0 eps: 0.0481683050859088 avg reward (last 10): 88.44554455445545\n",
      "episode: 440 total reward: 78.0 eps: 0.047619047619047616 avg reward (last 10): 89.75247524752476\n",
      "episode: 450 total reward: 98.0 eps: 0.04708816093480111 avg reward (last 10): 88.61386138613861\n",
      "episode: 460 total reward: 90.0 eps: 0.04657464328326223 avg reward (last 10): 89.70297029702971\n",
      "episode: 470 total reward: 87.0 eps: 0.04607756775840914 avg reward (last 10): 90.52475247524752\n",
      "episode: 480 total reward: 87.0 eps: 0.04559607525875532 avg reward (last 10): 95.08910891089108\n",
      "episode: 490 total reward: 118.0 eps: 0.04512936824065242 avg reward (last 10): 97.32673267326733\n",
      "avg reward for last 10 episodes: 107.3\n",
      "total steps: 34780.0\n"
     ]
    },
    {
     "data": {
      "image/png": "[encoded data removed]",
      "text/plain": [
       "<Figure size 432x288 with 1 Axes>"
      ]
     },
     "metadata": {
      "needs_background": "light"
     },
     "output_type": "display_data"
    },
    {
     "data": {
      "image/png": "[encoded data removed]",
      "text/plain": [
       "<Figure size 432x288 with 1 Axes>"
      ]
     },
     "metadata": {
      "needs_background": "light"
     },
     "output_type": "display_data"
    }
   ],
   "source": [
    "env = gym.make('CartPole-v0')\n",
    "copy_period = 10\n",
    "gamma = 0.8\n",
    "start_obs = env.reset()\n",
    "# D = len(env.observation_space.sample())\n",
    "# Set D to shape of output of feature_transformer.transform()\n",
    "D = 2000\n",
    "K = env.action_space.n\n",
    "hidden_layer_sizes = [1]\n",
    "hidden_layer_opts = {'hidden_layer_sizes': hidden_layer_sizes,\n",
    "                     'Z': ReLU(),\n",
    "                     'learning_rate': 1e-2,\n",
    "                     'mu': .5}\n",
    "feature_transformer = CartpoleFeatureTransformer(env)\n",
    "model = NumpyDQNObsSingle(env, feature_transformer, D=D, K=K,\n",
    "                          hidden_layer_opts=hidden_layer_opts,\n",
    "                          gamma=gamma, start_obs=start_obs)\n",
    "\n",
    "N = 500\n",
    "totalrewards = np.zeros(N)\n",
    "\n",
    "for n in range(N):\n",
    "    eps = 1.0/np.sqrt(n+1)\n",
    "    totalreward = play_one(env, model, eps, gamma, copy_period)\n",
    "    totalrewards[n] = totalreward\n",
    "    if n % 10 == 0:\n",
    "        ravg = running_avg(totalrewards, n)\n",
    "        print('episode:', n,\n",
    "              'total reward:', totalreward,\n",
    "              'eps:', eps,\n",
    "              'avg reward (last 10):', ravg)\n",
    "        if ravg > 150:\n",
    "            break\n",
    "\n",
    "\n",
    "totalrewards = totalrewards[np.where(totalrewards > 0)]\n",
    "print('avg reward for last 10 episodes:', totalrewards[-10:].mean())\n",
    "print('total steps:', totalrewards.sum())\n",
    "\n",
    "plt.plot(totalrewards)\n",
    "plt.title(\"Rewards\")\n",
    "plt.show()\n",
    "\n",
    "plot_running_avg(totalrewards)"
   ]
  },
  {
   "cell_type": "markdown",
   "metadata": {
    "heading_collapsed": true,
    "hidden": true
   },
   "source": [
    "## Without a feature transformer"
   ]
  },
  {
   "cell_type": "code",
   "execution_count": 372,
   "metadata": {
    "ExecuteTime": {
     "end_time": "2019-06-22T19:36:00.638185Z",
     "start_time": "2019-06-22T19:35:05.750881Z"
    },
    "hidden": true
   },
   "outputs": [
    {
     "name": "stdout",
     "output_type": "stream",
     "text": [
      "\u001b[33mWARN: gym.spaces.Box autodetected dtype as <class 'numpy.float32'>. Please provide explicit dtype.\u001b[0m\n",
      "too few experiences 1\n",
      "too few experiences 2\n",
      "too few experiences 3\n",
      "too few experiences 4\n",
      "episode: 0 total reward: 20.0 eps: 1.0 avg reward (last 10): 20.0\n",
      "episode: 10 total reward: 11.0 eps: 0.30151134457776363 avg reward (last 10): 16.90909090909091\n",
      "episode: 20 total reward: 10.0 eps: 0.2182178902359924 avg reward (last 10): 13.952380952380953\n",
      "episode: 30 total reward: 10.0 eps: 0.1796053020267749 avg reward (last 10): 12.870967741935484\n",
      "episode: 40 total reward: 9.0 eps: 0.15617376188860607 avg reward (last 10): 12.21951219512195\n",
      "episode: 50 total reward: 10.0 eps: 0.14002800840280097 avg reward (last 10): 11.686274509803921\n",
      "episode: 60 total reward: 9.0 eps: 0.12803687993289598 avg reward (last 10): 11.426229508196721\n",
      "episode: 70 total reward: 9.0 eps: 0.11867816581938533 avg reward (last 10): 11.577464788732394\n",
      "episode: 80 total reward: 38.0 eps: 0.1111111111111111 avg reward (last 10): 13.209876543209877\n",
      "episode: 90 total reward: 23.0 eps: 0.10482848367219183 avg reward (last 10): 15.637362637362637\n",
      "episode: 100 total reward: 25.0 eps: 0.09950371902099892 avg reward (last 10): 19.15841584158416\n",
      "episode: 110 total reward: 36.0 eps: 0.0949157995752499 avg reward (last 10): 21.178217821782177\n",
      "episode: 120 total reward: 47.0 eps: 0.09090909090909091 avg reward (last 10): 26.623762376237625\n",
      "episode: 130 total reward: 31.0 eps: 0.0873704056661038 avg reward (last 10): 30.277227722772277\n",
      "episode: 140 total reward: 24.0 eps: 0.0842151921066519 avg reward (last 10): 35.554455445544555\n",
      "episode: 150 total reward: 43.0 eps: 0.08137884587711594 avg reward (last 10): 41.13861386138614\n",
      "episode: 160 total reward: 28.0 eps: 0.07881104062391006 avg reward (last 10): 46.37623762376238\n",
      "episode: 170 total reward: 51.0 eps: 0.07647191129018725 avg reward (last 10): 52.20792079207921\n",
      "episode: 180 total reward: 53.0 eps: 0.07432941462471664 avg reward (last 10): 56.2970297029703\n",
      "episode: 190 total reward: 39.0 eps: 0.07235746052924216 avg reward (last 10): 59.10891089108911\n",
      "episode: 200 total reward: 52.0 eps: 0.07053456158585983 avg reward (last 10): 61.31683168316832\n",
      "episode: 210 total reward: 89.0 eps: 0.06884283908215143 avg reward (last 10): 63.93069306930693\n",
      "episode: 220 total reward: 39.0 eps: 0.06726727939963124 avg reward (last 10): 62.693069306930695\n",
      "episode: 230 total reward: 50.0 eps: 0.0657951694959769 avg reward (last 10): 65.17821782178218\n",
      "episode: 240 total reward: 53.0 eps: 0.06441566264008308 avg reward (last 10): 67.06930693069307\n",
      "episode: 250 total reward: 41.0 eps: 0.06311944030978031 avg reward (last 10): 66.89108910891089\n",
      "episode: 260 total reward: 37.0 eps: 0.061898446059017294 avg reward (last 10): 66.3069306930693\n",
      "episode: 270 total reward: 171.0 eps: 0.0607456739230787 avg reward (last 10): 65.16831683168317\n",
      "episode: 280 total reward: 58.0 eps: 0.05965499862718936 avg reward (last 10): 65.23762376237623\n",
      "episode: 290 total reward: 26.0 eps: 0.05862103817605492 avg reward (last 10): 63.633663366336634\n",
      "episode: 300 total reward: 49.0 eps: 0.0576390417704235 avg reward (last 10): 60.336633663366335\n",
      "episode: 310 total reward: 63.0 eps: 0.05670479771237427 avg reward (last 10): 62.86138613861386\n",
      "episode: 320 total reward: 56.0 eps: 0.05581455721859476 avg reward (last 10): 63.415841584158414\n",
      "episode: 330 total reward: 62.0 eps: 0.05496497099293127 avg reward (last 10): 65.7128712871287\n",
      "episode: 340 total reward: 30.0 eps: 0.05415303610738823 avg reward (last 10): 66.60396039603961\n",
      "episode: 350 total reward: 47.0 eps: 0.05337605126836238 avg reward (last 10): 68.26732673267327\n",
      "episode: 360 total reward: 200.0 eps: 0.05263157894736842 avg reward (last 10): 69.66336633663366\n",
      "episode: 370 total reward: 114.0 eps: 0.0519174131651165 avg reward (last 10): 75.81188118811882\n",
      "episode: 380 total reward: 28.0 eps: 0.051231551957855996 avg reward (last 10): 75.70297029702971\n",
      "episode: 390 total reward: 127.0 eps: 0.05057217374241736 avg reward (last 10): 84.67326732673267\n",
      "episode: 400 total reward: 45.0 eps: 0.04993761694389223 avg reward (last 10): 91.5940594059406\n",
      "episode: 410 total reward: 34.0 eps: 0.049326362366699 avg reward (last 10): 89.38613861386139\n",
      "episode: 420 total reward: 99.0 eps: 0.04873701788285793 avg reward (last 10): 92.3069306930693\n",
      "episode: 430 total reward: 97.0 eps: 0.0481683050859088 avg reward (last 10): 93.14851485148515\n",
      "episode: 440 total reward: 182.0 eps: 0.047619047619047616 avg reward (last 10): 94.51485148514851\n",
      "episode: 450 total reward: 72.0 eps: 0.04708816093480111 avg reward (last 10): 100.35643564356435\n",
      "episode: 460 total reward: 190.0 eps: 0.04657464328326223 avg reward (last 10): 108.25742574257426\n",
      "episode: 470 total reward: 124.0 eps: 0.04607756775840914 avg reward (last 10): 105.02970297029702\n",
      "episode: 480 total reward: 73.0 eps: 0.04559607525875532 avg reward (last 10): 109.06930693069307\n",
      "episode: 490 total reward: 132.0 eps: 0.04512936824065242 avg reward (last 10): 104.58415841584159\n",
      "avg reward for last 10 episodes: 107.1\n",
      "total steps: 33659.0\n"
     ]
    },
    {
     "data": {
      "image/png": "[encoded data removed]",
      "text/plain": [
       "<Figure size 432x288 with 1 Axes>"
      ]
     },
     "metadata": {
      "needs_background": "light"
     },
     "output_type": "display_data"
    },
    {
     "data": {
      "image/png": "[encoded data removed]",
      "text/plain": [
       "<Figure size 432x288 with 1 Axes>"
      ]
     },
     "metadata": {
      "needs_background": "light"
     },
     "output_type": "display_data"
    }
   ],
   "source": [
    "from experiments.utils import NullFeatureTransformer\n",
    "\n",
    "env = gym.make('CartPole-v0')\n",
    "copy_period = 10\n",
    "gamma = 0.8\n",
    "start_obs = env.reset()\n",
    "D = len(env.observation_space.sample())\n",
    "K = env.action_space.n\n",
    "hidden_layer_sizes = [2000, 10]\n",
    "hidden_layer_opts = {'hidden_layer_sizes': hidden_layer_sizes,\n",
    "                     'Z': ReLU(),\n",
    "                     'learning_rate': 5e-6,\n",
    "                     'mu': .5}\n",
    "feature_transformer = NullFeatureTransformer()\n",
    "model = NumpyDQNObsSingle(env, feature_transformer, D=D, K=K,\n",
    "                          hidden_layer_opts=hidden_layer_opts,\n",
    "                          gamma=gamma, start_obs=start_obs)\n",
    "\n",
    "N = 500\n",
    "totalrewards = np.zeros(N)\n",
    "\n",
    "for n in range(N):\n",
    "    eps = 1.0/np.sqrt(n+1)\n",
    "    totalreward = play_one(env, model, eps, gamma, copy_period)\n",
    "    totalrewards[n] = totalreward\n",
    "    if n % 10 == 0:\n",
    "        ravg = running_avg(totalrewards, n)\n",
    "        print('episode:', n,\n",
    "              'total reward:', totalreward,\n",
    "              'eps:', eps,\n",
    "              'avg reward (last 10):', ravg)\n",
    "        if ravg > 150:\n",
    "            break\n",
    "\n",
    "\n",
    "totalrewards = totalrewards[np.where(totalrewards > 0)]\n",
    "print('avg reward for last 10 episodes:', totalrewards[-10:].mean())\n",
    "print('total steps:', totalrewards.sum())\n",
    "\n",
    "plt.plot(totalrewards)\n",
    "plt.title(\"Rewards\")\n",
    "plt.show()\n",
    "\n",
    "plot_running_avg(totalrewards)"
   ]
  },
  {
   "cell_type": "code",
   "execution_count": null,
   "metadata": {
    "hidden": true
   },
   "outputs": [],
   "source": []
  }
 ],
 "metadata": {
  "kernelspec": {
   "display_name": "research",
   "language": "python",
   "name": "research"
  },
  "language_info": {
   "codemirror_mode": {
    "name": "ipython",
    "version": 3
   },
   "file_extension": ".py",
   "mimetype": "text/x-python",
   "name": "python",
   "nbconvert_exporter": "python",
   "pygments_lexer": "ipython3",
   "version": "3.6.8"
  },
  "toc": {
   "base_numbering": 1,
   "nav_menu": {},
   "number_sections": true,
   "sideBar": true,
   "skip_h1_title": false,
   "title_cell": "Table of Contents",
   "title_sidebar": "Contents",
   "toc_cell": false,
   "toc_position": {},
   "toc_section_display": true,
   "toc_window_display": false
  },
  "varInspector": {
   "cols": {
    "lenName": 16,
    "lenType": 16,
    "lenVar": 40
   },
   "kernels_config": {
    "python": {
     "delete_cmd_postfix": "",
     "delete_cmd_prefix": "del ",
     "library": "var_list.py",
     "varRefreshCmd": "print(var_dic_list())"
    },
    "r": {
     "delete_cmd_postfix": ") ",
     "delete_cmd_prefix": "rm(",
     "library": "var_list.r",
     "varRefreshCmd": "cat(var_dic_list()) "
    }
   },
   "position": {
    "height": "145px",
    "left": "1337.666748046875px",
    "right": "20px",
    "top": "121px",
    "width": "351px"
   },
   "types_to_exclude": [
    "module",
    "function",
    "builtin_function_or_method",
    "instance",
    "_Feature"
   ],
   "window_display": true
  }
 },
 "nbformat": 4,
 "nbformat_minor": 2
}
