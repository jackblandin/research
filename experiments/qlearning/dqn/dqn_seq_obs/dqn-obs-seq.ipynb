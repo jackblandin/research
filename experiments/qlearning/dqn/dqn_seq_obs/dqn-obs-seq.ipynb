{
 "cells": [
  {
   "cell_type": "markdown",
   "metadata": {
    "heading_collapsed": true
   },
   "source": [
    "# Documentation"
   ]
  },
  {
   "cell_type": "code",
   "execution_count": 1,
   "metadata": {
    "ExecuteTime": {
     "end_time": "2019-06-12T17:32:27.279392Z",
     "start_time": "2019-06-12T17:32:27.270545Z"
    },
    "hidden": true
   },
   "outputs": [
    {
     "data": {
      "text/html": [
       "<style>\n",
       "    .MathJax_Display { font-size: 23px; }\n",
       "</style>"
      ],
      "text/plain": [
       "<IPython.core.display.HTML object>"
      ]
     },
     "execution_count": 1,
     "metadata": {},
     "output_type": "execute_result"
    }
   ],
   "source": [
    "from IPython.core.display import HTML\n",
    "HTML(\"\"\"<style>\n",
    "    .MathJax_Display { font-size: 23px; }\n",
    "</style>\"\"\")"
   ]
  },
  {
   "cell_type": "markdown",
   "metadata": {
    "ExecuteTime": {
     "start_time": "2019-05-25T19:41:03.246Z"
    },
    "hidden": true
   },
   "source": [
    "$$\n",
    "\\theta = \\theta + \\alpha (r + \\gamma max_{a'} Q(s',a') - Q(s,a)) \\nabla_{\\theta} Q(s,a)\n",
    "$$"
   ]
  },
  {
   "cell_type": "markdown",
   "metadata": {
    "heading_collapsed": true
   },
   "source": [
    "# Setup"
   ]
  },
  {
   "cell_type": "code",
   "execution_count": 1,
   "metadata": {
    "ExecuteTime": {
     "end_time": "2019-06-22T23:09:23.481210Z",
     "start_time": "2019-06-22T23:09:22.869519Z"
    },
    "hidden": true
   },
   "outputs": [],
   "source": [
    "\"\"\"\n",
    "Add parent directorys to current path\n",
    "\"\"\"\n",
    "import os.path\n",
    "import sys\n",
    "\n",
    "\n",
    "for p in ['..', '../..', '../../..', '../../../..']:\n",
    "    d = os.path.abspath(p)\n",
    "    if d not in sys.path:\n",
    "        sys.path.insert(0,d)\n",
    "    \n",
    "\"\"\"\n",
    "Add tiger-env directory to current path\n",
    "Still not sure why this is needed.\n",
    "\"\"\"\n",
    "d = [os.path.abspath('../../../../../custom_envs/gym-tiger'),\n",
    "    os.path.abspath('../../../../../custom_envs/gym-dummy/')]\n",
    "for _d in d:\n",
    "    if _d not in sys.path:\n",
    "        sys.path.insert(0, _d)\n",
    "    \n",
    "\n",
    "\"\"\"\n",
    "Enable hot-reloading\n",
    "\"\"\"    \n",
    "from notebook_utils import import_module_by_name, reload_module_by_name\n",
    "\n",
    "def reload():\n",
    "    reload_module_by_name('research.neural_networks.mlp', 'ReLU')\n",
    "    reload_module_by_name('research.neural_networks.mlp', 'Sigmoid')\n",
    "    reload_module_by_name('research.neural_networks.mlp', 'MLPRegressor')\n",
    "    reload_module_by_name(\n",
    "        'experiments.qlearning.dqn.dqn_seq_obs.numpy_seq_dqn',\n",
    "        'NumpySeqDQN')\n",
    "    global ReLU, Sigmoid, MLPRegressor\n",
    "    global NumpySeqDQN\n",
    "    from research.neural_networks.mlp import ReLU, MLPRegressor\n",
    "    from experiments.qlearning.dqn.dqn_seq_obs.numpy_seq_dqn \\\n",
    "        import NumpySeqDQN\n",
    "    \n",
    "    \n",
    "import gym\n",
    "import matplotlib.pyplot as plt\n",
    "from tabulate import tabulate\n",
    "\n",
    "from research.neural_networks.mlp import MLPRegressor, ReLU, Sigmoid\n",
    "from experiments.qlearning.dqn.dqn_seq_obs.numpy_seq_dqn \\\n",
    "    import NumpySeqDQN, play_one, main, running_avg, plot_running_avg"
   ]
  },
  {
   "cell_type": "markdown",
   "metadata": {
    "heading_collapsed": true
   },
   "source": [
    "# Tiger-v0"
   ]
  },
  {
   "cell_type": "code",
   "execution_count": 52,
   "metadata": {
    "ExecuteTime": {
     "end_time": "2019-06-16T21:45:06.946391Z",
     "start_time": "2019-06-16T21:44:24.641111Z"
    },
    "hidden": true,
    "scrolled": false
   },
   "outputs": [
    {
     "name": "stdout",
     "output_type": "stream",
     "text": [
      "too few experiences 1\n",
      "too few experiences 2\n",
      "too few experiences 3\n",
      "too few experiences 4\n",
      "episode: 0 total reward: -13877 eps: 1.0 avg reward (last 100): -13877.0\n",
      "\n",
      "obs1         obs2         OPEN LEFT Q Value        OPEN RIGHT Q Value         LISTEN Q Value\n",
      "-----------  -----------  -----------------------  -----------------------  ----------------\n",
      "START        START        -0.3027014638492047 <<   -0.33627432978875055            -0.699424\n",
      "START        GROWL_LEFT   -0.32366965242167867     -0.3110739260492073 <<          -0.65793\n",
      "START        GROWL_RIGHT  -0.3163019098500742 <<   -0.36544351948699066            -0.721439\n",
      "GROWL_LEFT   START        -0.2985717827530105 <<   -0.33823471742105654            -0.699744\n",
      "GROWL_LEFT   GROWL_LEFT   -0.3198142345162963      -0.3150202579526014 <<          -0.667528\n",
      "GROWL_LEFT   GROWL_RIGHT  -0.31067622857053445 <<  -0.3674229403487422             -0.728395\n",
      "GROWL_RIGHT  START        -0.32780860379506105     -0.32198978883400714 <<         -0.710307\n",
      "GROWL_RIGHT  GROWL_LEFT   -0.35124154065854785     -0.3028769497014134 <<          -0.675532\n",
      "GROWL_RIGHT  GROWL_RIGHT  -0.3451903137078506 <<   -0.35320222230249826            -0.735484\n",
      "episode: 20 total reward: -15692 eps: 0.2182178902359924 avg reward (last 100): -19155.95238095238\n",
      "\n",
      "obs1         obs2         OPEN LEFT Q Value       OPEN RIGHT Q Value      LISTEN Q Value\n",
      "-----------  -----------  ----------------------  ----------------------  ----------------------\n",
      "START        START        -0.7229660304217094 <<  -0.7364203464479105     -0.754463615942784\n",
      "START        GROWL_LEFT   -0.7387924221717317     -0.7335263755621149     -0.7125012206687351 <<\n",
      "START        GROWL_RIGHT  -0.7374812984980882 <<  -0.7740056567788858     -0.7768526885990494\n",
      "GROWL_LEFT   START        -0.7144347480445601 <<  -0.7488814506778184     -0.7545570033550795\n",
      "GROWL_LEFT   GROWL_LEFT   -0.7309849964396946     -0.7475076314696605     -0.7219086415851838 <<\n",
      "GROWL_LEFT   GROWL_RIGHT  -0.7269062988944086 <<  -0.787089521183703      -0.7836134105207926\n",
      "GROWL_RIGHT  START        -0.7506008765942989     -0.7280222490921039 <<  -0.7649526440033838\n",
      "GROWL_RIGHT  GROWL_LEFT   -0.7685137562216047     -0.7297747713047761 <<  -0.7297780892742698\n",
      "GROWL_RIGHT  GROWL_RIGHT  -0.768344971900552      -0.7678654510313078 <<  -0.7905224750396777\n",
      "episode: 40 total reward: -14691 eps: 0.15617376188860607 avg reward (last 100): -17317.853658536584\n",
      "\n",
      "obs1         obs2         OPEN LEFT Q Value       OPEN RIGHT Q Value      LISTEN Q Value\n",
      "-----------  -----------  ----------------------  ----------------------  ----------------------\n",
      "START        START        -1.0052389096624461     -1.0044892118940794 <<  -1.043277323929731\n",
      "START        GROWL_LEFT   -1.0174681963851417     -1.015399683176956      -0.9986298479120201 <<\n",
      "START        GROWL_RIGHT  -1.020116729238711 <<   -1.0477521862896384     -1.067248759753096\n",
      "GROWL_LEFT   START        -0.9940424940812542 <<  -1.0234677831043935     -1.0418288082002627\n",
      "GROWL_LEFT   GROWL_LEFT   -1.007304811679603      -1.0355717139739018     -1.0066444095827598 <<\n",
      "GROWL_LEFT   GROWL_RIGHT  -1.0065610936436509 <<  -1.067706887173499      -1.0725889211137278\n",
      "GROWL_RIGHT  START        -1.034570882203863      -1.0000193681261962 <<  -1.0520458827531625\n",
      "GROWL_RIGHT  GROWL_LEFT   -1.0486347836130574     -1.0146558445907852     -1.0145388090676648 <<\n",
      "GROWL_RIGHT  GROWL_RIGHT  -1.0522845005582042     -1.0456878339437883 <<  -1.0792939514586983\n",
      "episode: 60 total reward: -14812 eps: 0.12803687993289598 avg reward (last 100): -16663.60655737705\n",
      "\n",
      "obs1         obs2         OPEN LEFT Q Value       OPEN RIGHT Q Value      LISTEN Q Value\n",
      "-----------  -----------  ----------------------  ----------------------  ----------------------\n",
      "START        START        -1.255787095707873      -1.23718237177622 <<    -1.293427678645342\n",
      "START        GROWL_LEFT   -1.2648348983862068     -1.260117411964377      -1.2462787915015667 <<\n",
      "START        GROWL_RIGHT  -1.2705957442873395 <<  -1.2853274390409792     -1.3183930044357148\n",
      "GROWL_LEFT   START        -1.2426009667748807 <<  -1.261751632627481      -1.2904444557303267\n",
      "GROWL_LEFT   GROWL_LEFT   -1.2529420214312452     -1.2855339357680762     -1.2528365208560057 <<\n",
      "GROWL_LEFT   GROWL_RIGHT  -1.2548331063812248 <<  -1.3111511512055842     -1.3222532766370771\n",
      "GROWL_RIGHT  START        -1.2865761449190225     -1.2363616632376433 <<  -1.3009054232114154\n",
      "GROWL_RIGHT  GROWL_LEFT   -1.2972349004823642     -1.2621600300662643     -1.2611903837829446 <<\n",
      "GROWL_RIGHT  GROWL_RIGHT  -1.303858960204855      -1.2870301706415126 <<  -1.3292164491337206\n",
      "episode: 80 total reward: -12403 eps: 0.1111111111111111 avg reward (last 100): -16445.16049382716\n",
      "\n",
      "obs1         obs2         OPEN LEFT Q Value       OPEN RIGHT Q Value      LISTEN Q Value\n",
      "-----------  -----------  ----------------------  ----------------------  ---------------------\n",
      "START        START        -1.5213648365145676     -1.481495119502007 <<   -1.5588275791404191\n",
      "START        GROWL_LEFT   -1.5269506014582568     -1.517451610892006      -1.508897205578497 <<\n",
      "START        GROWL_RIGHT  -1.535796430007322      -1.5346406774154884 <<  -1.5845026479348658\n",
      "GROWL_LEFT   START        -1.5064018433126893 <<  -1.5119572409344504     -1.5541214026322872\n",
      "GROWL_LEFT   GROWL_LEFT   -1.5135482849211779 <<  -1.5483030374013078     -1.5137607082145514\n",
      "GROWL_LEFT   GROWL_RIGHT  -1.5180744385718947 <<  -1.5666210889841874     -1.5866480152850824\n",
      "GROWL_RIGHT  START        -1.553730429732504      -1.484891830663485 <<   -1.5650406624815207\n",
      "GROWL_RIGHT  GROWL_LEFT   -1.5606952592047763     -1.5226899647454248 <<  -1.5228400224730554\n",
      "GROWL_RIGHT  GROWL_RIGHT  -1.5702433134231784     -1.540664673977263 <<   -1.594115482392837\n",
      "avg reward for last 100 episodes: -15459.9\n",
      "total steps: -1625234.0\n"
     ]
    }
   ],
   "source": [
    "import gym_tiger\n",
    "OBS_GROWL_LEFT = [1, 0, 0]\n",
    "OBS_GROWL_RIGHT = [0, 1, 0]\n",
    "OBS_START = [0, 0, 1]\n",
    "\n",
    "ACTION_OPEN_LEFT = 0\n",
    "ACTION_OPEN_RIGHT = 1\n",
    "ACTION_LISTEN = 2\n",
    "ACTION_MAP = {\n",
    "    ACTION_OPEN_LEFT: 'OPEN_LEFT',\n",
    "    ACTION_OPEN_RIGHT: 'OPEN_RIGHT',\n",
    "    ACTION_LISTEN: 'LISTEN',\n",
    "}\n",
    "\n",
    "from copy import deepcopy\n",
    "\n",
    "env = gym.make('Tiger-v0')\n",
    "env.__init__(reward_tiger=-100, reward_gold=10, reward_listen=-1,\n",
    "             max_steps_per_episode=500)\n",
    "gamma = 0.99\n",
    "start_obs = env.reset()\n",
    "\n",
    "obs_seq_len = 2\n",
    "hidden_layer_sizes = [5, 5]\n",
    "copy_period = 25\n",
    "D = obs_seq_len * env.observation_space.n\n",
    "K = env.action_space.n\n",
    "hidden_layer_opts = {'hidden_layer_sizes': hidden_layer_sizes,\n",
    "                     'Z': Sigmoid(),\n",
    "                     'learning_rate': 1e-6}\n",
    "model = NumpySeqDQN(D, K, hidden_layer_opts, gamma, obs_seq_len, start_obs)\n",
    "\n",
    "N = 100\n",
    "totalrewards = np.zeros(N)\n",
    "\n",
    "obs_perms = [\n",
    "    [OBS_START, OBS_START],\n",
    "    [OBS_START, OBS_GROWL_LEFT],\n",
    "    [OBS_START, OBS_GROWL_RIGHT],\n",
    "    [OBS_GROWL_LEFT, OBS_START],\n",
    "    [OBS_GROWL_LEFT, OBS_GROWL_LEFT],\n",
    "    [OBS_GROWL_LEFT, OBS_GROWL_RIGHT],\n",
    "    [OBS_GROWL_RIGHT, OBS_START],\n",
    "    [OBS_GROWL_RIGHT, OBS_GROWL_LEFT],\n",
    "    [OBS_GROWL_RIGHT, OBS_GROWL_RIGHT],\n",
    "]\n",
    "\n",
    "for n in range(N):\n",
    "    eps = 1.0/np.sqrt(n+1)\n",
    "#     eps = 1/(n+1)**(1/5)\n",
    "    totalreward = play_one(env, model, eps, gamma, copy_period)\n",
    "    totalrewards[n] = totalreward\n",
    "    if n % (N/5) == 0:\n",
    "        ravg = running_avg(totalrewards, n)\n",
    "        print('episode:', n,\n",
    "              'total reward:', totalreward,\n",
    "              'eps:', eps,\n",
    "              'avg reward (last 100):', ravg)\n",
    "        Q = []\n",
    "        for perm in obs_perms:\n",
    "            o1, o2 = perm\n",
    "            _o1 = env.translate_obs(o1)\n",
    "            _o2 = env.translate_obs(o2)\n",
    "            pred, _ = model.predict([o1, o2])\n",
    "            best_action_idx = np.argmax(pred[0])\n",
    "            action_values = pred[0].astype(str)\n",
    "            action_values[best_action_idx] = action_values[best_action_idx] + ' <<'\n",
    "            a_openl, a_openr, a_listen = action_values\n",
    "            Q.append([_o1, _o2, a_openl, a_openr, a_listen])\n",
    "        print('\\n' + tabulate(Q, headers=['obs1', 'obs2', 'OPEN LEFT Q Value', 'OPEN RIGHT Q Value', 'LISTEN Q Value']))\n",
    "#         display(sorted(model.train_obs_seq_counts.items(), key=lambda x: x[1], reverse=True))\n",
    "#         display(sorted(model.train_obs_seq_action_counts.items(), key=lambda x: x[1], reverse=True))\n",
    "\n",
    "\n",
    "print('avg reward for last 100 episodes:', totalrewards[-10:].mean())\n",
    "print('total steps:', totalrewards.sum())"
   ]
  },
  {
   "cell_type": "code",
   "execution_count": 46,
   "metadata": {
    "ExecuteTime": {
     "end_time": "2019-06-16T21:40:46.381335Z",
     "start_time": "2019-06-16T21:40:46.376887Z"
    },
    "hidden": true
   },
   "outputs": [
    {
     "data": {
      "text/plain": [
       "{'GROWL_RIGHT, GROWL_RIGHT': 12340,\n",
       " 'GROWL_RIGHT, GROWL_LEFT': 12369,\n",
       " 'GROWL_LEFT, GROWL_RIGHT': 12600,\n",
       " 'START, GROWL_RIGHT': 39,\n",
       " 'GROWL_LEFT, GROWL_LEFT': 12596,\n",
       " 'GROWL_RIGHT, START': 48,\n",
       " 'GROWL_LEFT, START': 59,\n",
       " 'START, GROWL_LEFT': 45}"
      ]
     },
     "execution_count": 46,
     "metadata": {},
     "output_type": "execute_result"
    }
   ],
   "source": [
    "model.train_obs_seq_counts"
   ]
  },
  {
   "cell_type": "code",
   "execution_count": 47,
   "metadata": {
    "ExecuteTime": {
     "end_time": "2019-06-16T21:40:53.524339Z",
     "start_time": "2019-06-16T21:40:53.520178Z"
    },
    "hidden": true
   },
   "outputs": [
    {
     "data": {
      "text/plain": [
       "{'GROWL_RIGHT, GROWL_RIGHT => OPEN_RIGHT': 3906,\n",
       " 'GROWL_RIGHT, GROWL_LEFT => LISTEN': 5090,\n",
       " 'GROWL_LEFT, GROWL_RIGHT => OPEN_LEFT': 5186,\n",
       " 'GROWL_RIGHT, GROWL_RIGHT => OPEN_LEFT': 5137,\n",
       " 'GROWL_LEFT, GROWL_RIGHT => LISTEN': 3428,\n",
       " 'START, GROWL_RIGHT => LISTEN': 14,\n",
       " 'GROWL_RIGHT, GROWL_LEFT => OPEN_RIGHT': 3997,\n",
       " 'GROWL_RIGHT, GROWL_RIGHT => LISTEN': 3297,\n",
       " 'GROWL_LEFT, GROWL_RIGHT => OPEN_RIGHT': 3986,\n",
       " 'GROWL_LEFT, GROWL_LEFT => OPEN_RIGHT': 4137,\n",
       " 'GROWL_LEFT, GROWL_LEFT => LISTEN': 5098,\n",
       " 'GROWL_RIGHT, GROWL_LEFT => OPEN_LEFT': 3282,\n",
       " 'GROWL_LEFT, GROWL_LEFT => OPEN_LEFT': 3361,\n",
       " 'GROWL_RIGHT, START => OPEN_LEFT': 12,\n",
       " 'START, GROWL_RIGHT => OPEN_LEFT': 17,\n",
       " 'GROWL_LEFT, START => OPEN_RIGHT': 27,\n",
       " 'GROWL_RIGHT, START => LISTEN': 22,\n",
       " 'GROWL_LEFT, START => LISTEN': 24,\n",
       " 'START, GROWL_LEFT => OPEN_LEFT': 11,\n",
       " 'GROWL_LEFT, START => OPEN_LEFT': 8,\n",
       " 'START, GROWL_LEFT => OPEN_RIGHT': 12,\n",
       " 'START, GROWL_RIGHT => OPEN_RIGHT': 8,\n",
       " 'START, GROWL_LEFT => LISTEN': 22,\n",
       " 'GROWL_RIGHT, START => OPEN_RIGHT': 14}"
      ]
     },
     "execution_count": 47,
     "metadata": {},
     "output_type": "execute_result"
    }
   ],
   "source": [
    "model.train_obs_seq_action_counts"
   ]
  },
  {
   "cell_type": "markdown",
   "metadata": {
    "heading_collapsed": true
   },
   "source": [
    "# Cartpole-v0"
   ]
  },
  {
   "cell_type": "code",
   "execution_count": 50,
   "metadata": {
    "ExecuteTime": {
     "end_time": "2019-06-17T20:16:08.038327Z",
     "start_time": "2019-06-17T20:16:06.691744Z"
    },
    "hidden": true,
    "scrolled": false
   },
   "outputs": [
    {
     "name": "stdout",
     "output_type": "stream",
     "text": [
      "\u001b[33mWARN: gym.spaces.Box autodetected dtype as <class 'numpy.float32'>. Please provide explicit dtype.\u001b[0m\n",
      "too few experiences 1\n",
      "too few experiences 2\n",
      "too few experiences 3\n",
      "too few experiences 4\n",
      "episode: 0 total reward: 27.0 eps: 1.0 avg reward (last 10): 27.0\n",
      "episode: 10 total reward: 9.0 eps: 0.30151134457776363 avg reward (last 10): 13.454545454545455\n",
      "episode: 20 total reward: 9.0 eps: 0.2182178902359924 avg reward (last 10): 11.904761904761905\n",
      "episode: 30 total reward: 9.0 eps: 0.1796053020267749 avg reward (last 10): 11.419354838709678\n",
      "episode: 40 total reward: 11.0 eps: 0.15617376188860607 avg reward (last 10): 11.097560975609756\n",
      "episode: 50 total reward: 9.0 eps: 0.14002800840280097 avg reward (last 10): 10.901960784313726\n",
      "episode: 60 total reward: 9.0 eps: 0.12803687993289598 avg reward (last 10): 10.78688524590164\n",
      "episode: 70 total reward: 11.0 eps: 0.11867816581938533 avg reward (last 10): 10.67605633802817\n",
      "episode: 80 total reward: 10.0 eps: 0.1111111111111111 avg reward (last 10): 10.567901234567902\n",
      "episode: 90 total reward: 10.0 eps: 0.10482848367219183 avg reward (last 10): 10.428571428571429\n",
      "episode: 100 total reward: 8.0 eps: 0.09950371902099892 avg reward (last 10): 10.415841584158416\n",
      "episode: 110 total reward: 10.0 eps: 0.0949157995752499 avg reward (last 10): 10.009900990099009\n",
      "episode: 120 total reward: 10.0 eps: 0.09090909090909091 avg reward (last 10): 10.01980198019802\n",
      "episode: 130 total reward: 10.0 eps: 0.0873704056661038 avg reward (last 10): 9.98019801980198\n",
      "episode: 140 total reward: 8.0 eps: 0.0842151921066519 avg reward (last 10): 10.069306930693068\n",
      "avg reward for last 10 episodes: 9.1\n",
      "total steps: 1544.0\n"
     ]
    },
    {
     "data": {
      "image/png": "[encoded data removed]",
      "text/plain": [
       "<Figure size 432x288 with 1 Axes>"
      ]
     },
     "metadata": {
      "needs_background": "light"
     },
     "output_type": "display_data"
    },
    {
     "data": {
      "image/png": "[encoded data removed]",
      "text/plain": [
       "<Figure size 432x288 with 1 Axes>"
      ]
     },
     "metadata": {
      "needs_background": "light"
     },
     "output_type": "display_data"
    }
   ],
   "source": [
    "from copy import deepcopy\n",
    "\n",
    "env = gym.make('CartPole-v0')\n",
    "copy_period = 25\n",
    "batch_size = 32\n",
    "gamma = 0.99\n",
    "start_obs = env.reset()\n",
    "obs_seq_len = 2\n",
    "D = obs_seq_len * len(env.observation_space.sample())\n",
    "K = env.action_space.n\n",
    "hidden_layer_sizes = [25, 50]\n",
    "hidden_layer_opts = {'hidden_layer_sizes': hidden_layer_sizes,\n",
    "                     'Z': Sigmoid(),\n",
    "                     'learning_rate': 1e-2}\n",
    "model = NumpySeqDQN(D, K, hidden_layer_opts, gamma, obs_seq_len, start_obs)\n",
    "\n",
    "N = 150\n",
    "totalrewards = np.zeros(N)\n",
    "\n",
    "for n in range(N):\n",
    "    eps = 1.0/np.sqrt(n+1)\n",
    "    totalreward = play_one(env, model, eps, gamma, copy_period,\n",
    "                           store_seq_counts=False)\n",
    "    totalrewards[n] = totalreward\n",
    "    if n % 10 == 0:\n",
    "        ravg = running_avg(totalrewards, n)\n",
    "        print('episode:', n,\n",
    "              'total reward:', totalreward,\n",
    "              'eps:', eps,\n",
    "              'avg reward (last 10):', ravg)\n",
    "        if ravg > 150:\n",
    "            break\n",
    "\n",
    "\n",
    "totalrewards = totalrewards[np.where(totalrewards > 0)]\n",
    "print('avg reward for last 10 episodes:', totalrewards[-10:].mean())\n",
    "print('total steps:', totalrewards.sum())\n",
    "\n",
    "plt.plot(totalrewards)\n",
    "plt.title(\"Rewards\")\n",
    "plt.show()\n",
    "\n",
    "plot_running_avg(totalrewards)"
   ]
  },
  {
   "cell_type": "code",
   "execution_count": null,
   "metadata": {
    "hidden": true
   },
   "outputs": [],
   "source": [
    "# for n in range(N):\n",
    "#     eps = 1.0/np.sqrt(n+1)\n",
    "# #     eps = 1/(n+1)**(1/5)\n",
    "#     totalreward = play_one(env, model, eps, gamma, copy_period)\n",
    "#     totalrewards[n] = totalreward\n",
    "#     if n % (N/5) == 0:\n",
    "#         ravg = running_avg(totalrewards, n)\n",
    "#         print('episode:', n,\n",
    "#               'total reward:', totalreward,\n",
    "#               'eps:', eps,\n",
    "#               'avg reward (last 100):', ravg)\n",
    "#         Q = []\n",
    "#         for perm in obs_perms:\n",
    "#             o1, o2 = perm\n",
    "#             _o1 = env.translate_obs(o1)\n",
    "#             _o2 = env.translate_obs(o2)\n",
    "#             pred, _ = model.predict([o1, o2])\n",
    "#             best_action_idx = np.argmax(pred[0])\n",
    "#             action_values = pred[0].astype(str)\n",
    "#             action_values[best_action_idx] = action_values[best_action_idx] + ' <<'\n",
    "#             a_openl, a_openr, a_listen = action_values\n",
    "#             Q.append([_o1, _o2, a_openl, a_openr, a_listen])\n",
    "#         print('\\n' + tabulate(Q, headers=['obs1', 'obs2', 'OPEN LEFT Q Value', 'OPEN RIGHT Q Value', 'LISTEN Q Value']))\n",
    "# #         display(sorted(model.train_obs_seq_counts.items(), key=lambda x: x[1], reverse=True))\n",
    "# #         display(sorted(model.train_obs_seq_action_counts.items(), key=lambda x: x[1], reverse=True))\n",
    "\n",
    "\n",
    "# print('avg reward for last 100 episodes:', totalrewards[-10:].mean())\n",
    "# print('total steps:', totalrewards.sum())"
   ]
  },
  {
   "cell_type": "markdown",
   "metadata": {},
   "source": [
    "# TwoInARow-v0"
   ]
  },
  {
   "cell_type": "code",
   "execution_count": 28,
   "metadata": {
    "ExecuteTime": {
     "end_time": "2019-06-22T23:16:28.665507Z",
     "start_time": "2019-06-22T23:16:08.847852Z"
    }
   },
   "outputs": [
    {
     "name": "stdout",
     "output_type": "stream",
     "text": [
      "too few experiences 1\n",
      "too few experiences 2\n",
      "too few experiences 3\n",
      "too few experiences 4\n",
      "episode: 0 total reward: 4 eps: 1.0 avg reward (last 10): 4.0\n",
      "episode: 10 total reward: -10 eps: 0.30151134457776363 avg reward (last 10): -1.0909090909090908\n",
      "episode: 20 total reward: 10 eps: 0.2182178902359924 avg reward (last 10): 0.0\n",
      "episode: 30 total reward: 14 eps: 0.1796053020267749 avg reward (last 10): 1.6774193548387097\n",
      "episode: 40 total reward: -4 eps: 0.15617376188860607 avg reward (last 10): 1.6097560975609757\n",
      "episode: 50 total reward: 20 eps: 0.14002800840280097 avg reward (last 10): 0.6274509803921569\n",
      "episode: 60 total reward: -6 eps: 0.12803687993289598 avg reward (last 10): 0.36065573770491804\n",
      "episode: 70 total reward: -10 eps: 0.11867816581938533 avg reward (last 10): 0.39436619718309857\n",
      "episode: 80 total reward: -2 eps: 0.1111111111111111 avg reward (last 10): 0.37037037037037035\n",
      "episode: 90 total reward: -6 eps: 0.10482848367219183 avg reward (last 10): -0.1978021978021978\n",
      "episode: 100 total reward: -2 eps: 0.09950371902099892 avg reward (last 10): -0.8316831683168316\n",
      "episode: 110 total reward: 0 eps: 0.0949157995752499 avg reward (last 10): -1.3663366336633664\n",
      "episode: 120 total reward: 0 eps: 0.09090909090909091 avg reward (last 10): -1.7623762376237624\n",
      "episode: 130 total reward: -8 eps: 0.0873704056661038 avg reward (last 10): -2.237623762376238\n",
      "episode: 140 total reward: 2 eps: 0.0842151921066519 avg reward (last 10): -2.772277227722772\n",
      "episode: 150 total reward: -6 eps: 0.08137884587711594 avg reward (last 10): -2.217821782178218\n",
      "episode: 160 total reward: 6 eps: 0.07881104062391006 avg reward (last 10): -2.0792079207920793\n",
      "episode: 170 total reward: 2 eps: 0.07647191129018725 avg reward (last 10): -1.9801980198019802\n",
      "episode: 180 total reward: 6 eps: 0.07432941462471664 avg reward (last 10): -2.376237623762376\n",
      "episode: 190 total reward: -2 eps: 0.07235746052924216 avg reward (last 10): -1.5247524752475248\n",
      "episode: 200 total reward: -14 eps: 0.07053456158585983 avg reward (last 10): -1.00990099009901\n",
      "episode: 210 total reward: -2 eps: 0.06884283908215143 avg reward (last 10): -0.6138613861386139\n",
      "episode: 220 total reward: -4 eps: 0.06726727939963124 avg reward (last 10): -1.188118811881188\n",
      "episode: 230 total reward: 2 eps: 0.0657951694959769 avg reward (last 10): -2.217821782178218\n",
      "episode: 240 total reward: 26 eps: 0.06441566264008308 avg reward (last 10): -2.5544554455445545\n",
      "episode: 250 total reward: -10 eps: 0.06311944030978031 avg reward (last 10): -3.089108910891089\n",
      "episode: 260 total reward: 26 eps: 0.061898446059017294 avg reward (last 10): -2.792079207920792\n",
      "episode: 270 total reward: 8 eps: 0.0607456739230787 avg reward (last 10): -2.5742574257425743\n",
      "episode: 280 total reward: 28 eps: 0.05965499862718936 avg reward (last 10): -1.4851485148514851\n",
      "episode: 290 total reward: -2 eps: 0.05862103817605492 avg reward (last 10): -1.7227722772277227\n",
      "avg reward for last 10 episodes: 8.4\n"
     ]
    },
    {
     "data": {
      "image/png": "[encoded data removed]",
      "text/plain": [
       "<Figure size 432x288 with 1 Axes>"
      ]
     },
     "metadata": {
      "needs_background": "light"
     },
     "output_type": "display_data"
    },
    {
     "data": {
      "image/png": "[encoded data removed]",
      "text/plain": [
       "<Figure size 432x288 with 1 Axes>"
      ]
     },
     "metadata": {
      "needs_background": "light"
     },
     "output_type": "display_data"
    }
   ],
   "source": [
    "from copy import deepcopy\n",
    "import gym_dummy\n",
    "\n",
    "env = gym.make('TwoInARow-v0')\n",
    "copy_period = 25\n",
    "batch_size = 32\n",
    "gamma = 0.99\n",
    "start_obs = env.reset()\n",
    "obs_seq_len = 2\n",
    "D = obs_seq_len * 1\n",
    "K = env.action_space.n\n",
    "hidden_layer_sizes = [5, 5]\n",
    "hidden_layer_opts = {'hidden_layer_sizes': hidden_layer_sizes,\n",
    "                     'Z': Sigmoid(),\n",
    "                     'learning_rate': 1e-2}\n",
    "model = NumpySeqDQN(D, K, hidden_layer_opts, gamma, obs_seq_len, start_obs)\n",
    "\n",
    "N = 300\n",
    "totalrewards = np.zeros(N)\n",
    "\n",
    "for n in range(N):\n",
    "    eps = 1.0/np.sqrt(n+1)\n",
    "    totalreward = play_one(env, model, eps, gamma, copy_period,\n",
    "                           store_seq_counts=False)\n",
    "    totalrewards[n] = totalreward\n",
    "    if n % 10 == 0:\n",
    "        ravg = running_avg(totalrewards, n)\n",
    "        print('episode:', n,\n",
    "              'total reward:', totalreward,\n",
    "              'eps:', eps,\n",
    "              'avg reward (last 10):', ravg)\n",
    "\n",
    "\n",
    "totalrewards = totalrewards[np.where(totalrewards > 0)]\n",
    "print('avg reward for last 10 episodes:', totalrewards[-10:].mean())\n",
    "\n",
    "plt.plot(totalrewards)\n",
    "plt.title(\"Rewards\")\n",
    "plt.show()\n",
    "\n",
    "plot_running_avg(totalrewards)"
   ]
  },
  {
   "cell_type": "code",
   "execution_count": 34,
   "metadata": {
    "ExecuteTime": {
     "end_time": "2019-06-22T23:17:36.314889Z",
     "start_time": "2019-06-22T23:17:36.309336Z"
    }
   },
   "outputs": [
    {
     "data": {
      "text/plain": [
       "array([[2.97360549, 3.13277623]])"
      ]
     },
     "execution_count": 34,
     "metadata": {},
     "output_type": "execute_result"
    }
   ],
   "source": [
    "model.predict([np.array([-1]), np.array([0])])[0]"
   ]
  },
  {
   "cell_type": "code",
   "execution_count": null,
   "metadata": {},
   "outputs": [],
   "source": []
  }
 ],
 "metadata": {
  "kernelspec": {
   "display_name": "research",
   "language": "python",
   "name": "research"
  },
  "language_info": {
   "codemirror_mode": {
    "name": "ipython",
    "version": 3
   },
   "file_extension": ".py",
   "mimetype": "text/x-python",
   "name": "python",
   "nbconvert_exporter": "python",
   "pygments_lexer": "ipython3",
   "version": "3.6.8"
  },
  "notify_time": "5",
  "toc": {
   "base_numbering": 1,
   "nav_menu": {},
   "number_sections": true,
   "sideBar": true,
   "skip_h1_title": false,
   "title_cell": "Table of Contents",
   "title_sidebar": "Contents",
   "toc_cell": false,
   "toc_position": {},
   "toc_section_display": true,
   "toc_window_display": false
  },
  "varInspector": {
   "cols": {
    "lenName": 16,
    "lenType": 16,
    "lenVar": 40
   },
   "kernels_config": {
    "python": {
     "delete_cmd_postfix": "",
     "delete_cmd_prefix": "del ",
     "library": "var_list.py",
     "varRefreshCmd": "print(var_dic_list())"
    },
    "r": {
     "delete_cmd_postfix": ") ",
     "delete_cmd_prefix": "rm(",
     "library": "var_list.r",
     "varRefreshCmd": "cat(var_dic_list()) "
    }
   },
   "position": {
    "height": "146px",
    "left": "1340.65625px",
    "right": "20px",
    "top": "123px",
    "width": "352px"
   },
   "types_to_exclude": [
    "module",
    "function",
    "builtin_function_or_method",
    "instance",
    "_Feature"
   ],
   "window_display": true
  }
 },
 "nbformat": 4,
 "nbformat_minor": 2
}
