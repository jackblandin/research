{
 "cells": [
  {
   "cell_type": "markdown",
   "metadata": {
    "heading_collapsed": true
   },
   "source": [
    "# Documentation"
   ]
  },
  {
   "cell_type": "code",
   "execution_count": 1,
   "metadata": {
    "ExecuteTime": {
     "end_time": "2019-06-12T17:32:27.279392Z",
     "start_time": "2019-06-12T17:32:27.270545Z"
    },
    "hidden": true
   },
   "outputs": [
    {
     "data": {
      "text/html": [
       "<style>\n",
       "    .MathJax_Display { font-size: 23px; }\n",
       "</style>"
      ],
      "text/plain": [
       "<IPython.core.display.HTML object>"
      ]
     },
     "execution_count": 1,
     "metadata": {},
     "output_type": "execute_result"
    }
   ],
   "source": [
    "from IPython.core.display import HTML\n",
    "HTML(\"\"\"<style>\n",
    "    .MathJax_Display { font-size: 23px; }\n",
    "</style>\"\"\")"
   ]
  },
  {
   "cell_type": "markdown",
   "metadata": {
    "ExecuteTime": {
     "start_time": "2019-05-25T19:41:03.246Z"
    },
    "hidden": true
   },
   "source": [
    "$$\n",
    "\\theta = \\theta + \\alpha (r + \\gamma max_{a'} Q(s',a') - Q(s,a)) \\nabla_{\\theta} Q(s,a)\n",
    "$$"
   ]
  },
  {
   "cell_type": "markdown",
   "metadata": {
    "heading_collapsed": true
   },
   "source": [
    "# Setup"
   ]
  },
  {
   "cell_type": "code",
   "execution_count": 1,
   "metadata": {
    "ExecuteTime": {
     "end_time": "2019-06-23T23:06:32.033164Z",
     "start_time": "2019-06-23T23:06:31.062206Z"
    },
    "hidden": true
   },
   "outputs": [],
   "source": [
    "\"\"\"\n",
    "Add parent directorys to current path\n",
    "\"\"\"\n",
    "import os.path\n",
    "import sys\n",
    "\n",
    "\n",
    "for p in ['..', '../..', '../../..', '../../../..']:\n",
    "    d = os.path.abspath(p)\n",
    "    if d not in sys.path:\n",
    "        sys.path.insert(0,d)\n",
    "    \n",
    "\"\"\"\n",
    "Add tiger-env directory to current path\n",
    "Still not sure why this is needed.\n",
    "\"\"\"\n",
    "d = [os.path.abspath('../../../../../custom_envs/gym-tiger'),\n",
    "    os.path.abspath('../../../../../custom_envs/gym-dummy/')]\n",
    "for _d in d:\n",
    "    if _d not in sys.path:\n",
    "        sys.path.insert(0, _d)\n",
    "    \n",
    "\n",
    "\"\"\"\n",
    "Enable hot-reloading\n",
    "\"\"\"    \n",
    "from notebook_utils import import_module_by_name, reload_module_by_name\n",
    "\n",
    "def reload():\n",
    "    reload_module_by_name('research.neural_networks.mlp', 'ReLU')\n",
    "    reload_module_by_name('research.neural_networks.mlp', 'Sigmoid')\n",
    "    reload_module_by_name('research.neural_networks.mlp', 'MLPRegressor')\n",
    "    reload_module_by_name(\n",
    "        'experiments.qlearning.dqn.dqn_seq_obs.numpy_seq_dqn',\n",
    "        'NumpySeqDQN')\n",
    "    global ReLU, Sigmoid, MLPRegressor\n",
    "    global NumpySeqDQN\n",
    "    from research.neural_networks.mlp import ReLU, MLPRegressor\n",
    "    from experiments.qlearning.dqn.dqn_seq_obs.numpy_seq_dqn \\\n",
    "        import NumpySeqDQN\n",
    "    \n",
    "    \n",
    "import gym\n",
    "import matplotlib.pyplot as plt\n",
    "from tabulate import tabulate\n",
    "\n",
    "from research.neural_networks.mlp import MLPRegressor, ReLU, Sigmoid\n",
    "from experiments.qlearning.dqn.dqn_seq_obs.numpy_seq_dqn \\\n",
    "    import NumpySeqDQN, play_one, main, running_avg, plot_running_avg"
   ]
  },
  {
   "cell_type": "markdown",
   "metadata": {},
   "source": [
    "# TwoInARow-v0"
   ]
  },
  {
   "cell_type": "code",
   "execution_count": 46,
   "metadata": {
    "ExecuteTime": {
     "end_time": "2019-06-23T23:36:11.588616Z",
     "start_time": "2019-06-23T23:34:57.815349Z"
    },
    "scrolled": false
   },
   "outputs": [
    {
     "name": "stdout",
     "output_type": "stream",
     "text": [
      "\n",
      "Obs. Seq      Action 0    Action 1\n",
      "----------  ----------  ----------\n",
      "0,0           0.354684     1.17883\n",
      "1,1           0.344861     1.07494\n",
      "0,1           0.350624     1.06646\n",
      "1,0           0.349029     1.16207\n",
      "\n",
      "too few experiences 1\n",
      "too few experiences 2\n",
      "too few experiences 3\n",
      "\n",
      "Obs. Seq      Action 0    Action 1\n",
      "----------  ----------  ----------\n",
      "0,0            1.25892     1.57613\n",
      "1,1            1.24232     1.47186\n",
      "0,1            1.24118     1.45582\n",
      "1,0            1.25838     1.56509\n",
      "\n",
      "episode: 0 total reward: -16 eps: 1.0 avg reward (last 50): -16.0\n",
      "\n",
      "Obs. Seq      Action 0    Action 1\n",
      "----------  ----------  ----------\n",
      "0,0            1.74786     2.32842\n",
      "1,1            1.70189     1.50699\n",
      "0,1            1.69699     1.57442\n",
      "1,0            1.75077     1.7135\n",
      "\n",
      "episode: 50 total reward: 26 eps: 0.45549746548537273 avg reward (last 50): 4.588235294117647\n",
      "\n",
      "Obs. Seq      Action 0    Action 1\n",
      "----------  ----------  ----------\n",
      "0,0            2.3011      3.26908\n",
      "1,1            1.94031     1.9122\n",
      "0,1            1.9286      1.29679\n",
      "1,0            2.32871     2.04946\n",
      "\n",
      "episode: 100 total reward: 40 eps: 0.3973156987429393 avg reward (last 50): 26.901960784313726\n",
      "\n",
      "Obs. Seq      Action 0    Action 1\n",
      "----------  ----------  ----------\n",
      "0,0            5.32822     5.9119\n",
      "1,1            5.04014     5.98203\n",
      "0,1            5.06797     4.43267\n",
      "1,0            5.48748     4.24259\n",
      "\n",
      "episode: 150 total reward: 58 eps: 0.36661025622335097 avg reward (last 50): 49.490196078431374\n",
      "\n",
      "Obs. Seq      Action 0    Action 1\n",
      "----------  ----------  ----------\n",
      "0,0            6.60312     8.04952\n",
      "1,1            6.01406     7.86549\n",
      "0,1            7.59144     6.00707\n",
      "1,0            7.84444     5.89718\n",
      "\n",
      "episode: 200 total reward: 66 eps: 0.34622688507614907 avg reward (last 50): 60.07843137254902\n",
      "\n",
      "Obs. Seq      Action 0    Action 1\n",
      "----------  ----------  ----------\n",
      "0,0            6.63246     9.34864\n",
      "1,1            6.68406     9.39868\n",
      "0,1            8.67156     7.60821\n",
      "1,0            8.65216     7.52545\n",
      "\n",
      "episode: 250 total reward: 50 eps: 0.3311808799270357 avg reward (last 50): 65.92156862745098\n",
      "\n",
      "Obs. Seq      Action 0    Action 1\n",
      "----------  ----------  ----------\n",
      "0,0            7.25781     9.18357\n",
      "1,1            7.3084      9.20318\n",
      "0,1            9.04896     7.24257\n",
      "1,0            9.21845     7.09013\n",
      "\n",
      "episode: 300 total reward: 64 eps: 0.3193645454542496 avg reward (last 50): 65.80392156862744\n",
      "\n",
      "Obs. Seq      Action 0    Action 1\n",
      "----------  ----------  ----------\n",
      "0,0            6.97136     8.68525\n",
      "1,1            6.98084     8.80774\n",
      "0,1            8.6757      6.5838\n",
      "1,0            8.78245     7.00378\n",
      "\n",
      "episode: 350 total reward: 76 eps: 0.30969812548752007 avg reward (last 50): 66.47058823529412\n",
      "\n",
      "Obs. Seq      Action 0    Action 1\n",
      "----------  ----------  ----------\n",
      "0,0            7.51831     9.5457\n",
      "1,1            7.31548     9.6165\n",
      "0,1            9.5127      7.71345\n",
      "1,0            9.55993     7.28496\n",
      "\n",
      "episode: 400 total reward: 80 eps: 0.3015581882864355 avg reward (last 50): 69.17647058823529\n",
      "\n",
      "Obs. Seq      Action 0    Action 1\n",
      "----------  ----------  ----------\n",
      "0,0            7.39821     9.42435\n",
      "1,1            7.31339     9.4826\n",
      "0,1            9.50872     7.56528\n",
      "1,0            9.46493     7.54906\n",
      "\n",
      "episode: 450 total reward: 100 eps: 0 avg reward (last 50): 69.17647058823529\n",
      "\n",
      "Obs. Seq      Action 0    Action 1\n",
      "----------  ----------  ----------\n",
      "0,0            7.55234     9.30979\n",
      "1,1            7.44606     9.22894\n",
      "0,1            9.54048     7.30765\n",
      "1,0            9.54344     7.40501\n",
      "\n",
      "avg reward for last 50 episodes: 98.88\n"
     ]
    },
    {
     "data": {
      "image/png": "[encoded data removed]",
      "text/plain": [
       "<Figure size 432x288 with 1 Axes>"
      ]
     },
     "metadata": {
      "needs_background": "light"
     },
     "output_type": "display_data"
    },
    {
     "data": {
      "image/png": "[encoded data removed]",
      "text/plain": [
       "<Figure size 432x288 with 1 Axes>"
      ]
     },
     "metadata": {
      "needs_background": "light"
     },
     "output_type": "display_data"
    }
   ],
   "source": [
    "from copy import deepcopy\n",
    "import gym_dummy\n",
    "\n",
    "env = gym.make('TwoInARow-v0')\n",
    "env.__init__(max_steps_per_episode=100)\n",
    "copy_period = 10\n",
    "gamma = 0.9\n",
    "start_obs = env.reset()\n",
    "obs_seq_len = 2\n",
    "D = obs_seq_len * 1\n",
    "K = env.action_space.n\n",
    "hidden_layer_sizes = [3, 3]\n",
    "hidden_layer_opts = {'hidden_layer_sizes': hidden_layer_sizes,\n",
    "                     'Z': Sigmoid(),\n",
    "                     'learning_rate': 1e-2,\n",
    "                     'mu': .7}\n",
    "model = NumpySeqDQN(env, D, K, hidden_layer_opts, gamma, obs_seq_len,\n",
    "                    start_obs, min_experiences=4)\n",
    "\n",
    "N = 500\n",
    "totalrewards = np.zeros(N)\n",
    "\n",
    "\n",
    "print(model)\n",
    "\n",
    "window = int(N/10)\n",
    "for n in range(N):\n",
    "    if n >= (N - window):\n",
    "        eps = 0\n",
    "    else:\n",
    "        eps = 1.0/(n+1)**.2\n",
    "    totalreward = play_one(env, model, eps, gamma, copy_period,\n",
    "                           store_seq_counts=False)\n",
    "    totalrewards[n] = totalreward\n",
    "    if window > 0 and n % window == 0:\n",
    "        print(model)\n",
    "        ravg = running_avg(totalrewards, n, window)\n",
    "        print('episode:', n,\n",
    "              'total reward:', totalreward,\n",
    "              'eps:', eps,\n",
    "              'avg reward (last {}):'.format(window), ravg)\n",
    "\n",
    "print(model)        \n",
    "\n",
    "\n",
    "print('avg reward for last {} episodes:'.format(window),\n",
    "      totalrewards[-window:].mean())\n",
    "\n",
    "plt.plot(totalrewards)\n",
    "plt.title(\"Rewards\")\n",
    "plt.show()\n",
    "\n",
    "plot_running_avg(totalrewards, window)"
   ]
  },
  {
   "cell_type": "markdown",
   "metadata": {},
   "source": [
    "# Cartpole-v0"
   ]
  },
  {
   "cell_type": "code",
   "execution_count": null,
   "metadata": {
    "ExecuteTime": {
     "start_time": "2019-06-23T23:44:12.221Z"
    }
   },
   "outputs": [
    {
     "name": "stdout",
     "output_type": "stream",
     "text": [
      "\u001b[33mWARN: gym.spaces.Box autodetected dtype as <class 'numpy.float32'>. Please provide explicit dtype.\u001b[0m\n",
      "too few experiences 1\n",
      "too few experiences 2\n",
      "too few experiences 3\n",
      "too few experiences 4\n",
      "episode: 0 total reward: 31.0 eps: 1.0 avg reward (last 10): 31.0\n",
      "episode: 25 total reward: 16.0 eps: 0.19611613513818404 avg reward (last 10): 16.115384615384617\n",
      "episode: 50 total reward: 12.0 eps: 0.14002800840280097 avg reward (last 10): 17.53846153846154\n",
      "episode: 75 total reward: 28.0 eps: 0.11470786693528087 avg reward (last 10): 16.692307692307693\n",
      "episode: 100 total reward: 11.0 eps: 0.09950371902099892 avg reward (last 10): 16.115384615384617\n",
      "episode: 125 total reward: 22.0 eps: 0.0890870806374748 avg reward (last 10): 15.76923076923077\n",
      "episode: 150 total reward: 14.0 eps: 0.08137884587711594 avg reward (last 10): 18.615384615384617\n",
      "episode: 175 total reward: 16.0 eps: 0.07537783614444091 avg reward (last 10): 16.346153846153847\n",
      "episode: 200 total reward: 13.0 eps: 0.07053456158585983 avg reward (last 10): 16.307692307692307\n",
      "episode: 225 total reward: 20.0 eps: 0.06651901052377393 avg reward (last 10): 21.192307692307693\n"
     ]
    }
   ],
   "source": [
    "from copy import deepcopy\n",
    "\n",
    "env = gym.make('CartPole-v0')\n",
    "copy_period = 10\n",
    "batch_size = 32\n",
    "gamma = 0.8\n",
    "start_obs = env.reset()\n",
    "obs_seq_len = 2\n",
    "D = obs_seq_len * len(env.observation_space.sample())\n",
    "K = env.action_space.n\n",
    "hidden_layer_sizes = [5000, 100]\n",
    "hidden_layer_opts = {'hidden_layer_sizes': hidden_layer_sizes,\n",
    "                     'Z': ReLU(),\n",
    "                     'learning_rate': 1e-6,\n",
    "                     'mu': .5}\n",
    "model = NumpySeqDQN(env, D, K, hidden_layer_opts, gamma, obs_seq_len, start_obs)\n",
    "\n",
    "N = 250\n",
    "totalrewards = np.zeros(N)\n",
    "\n",
    "window = int(N/10)\n",
    "for n in range(N):\n",
    "    eps = 1.0/np.sqrt(n+1)\n",
    "    totalreward = play_one(env, model, eps, gamma, copy_period,\n",
    "                           store_seq_counts=False)\n",
    "    totalrewards[n] = totalreward\n",
    "    if n % window == 0:\n",
    "        ravg = running_avg(totalrewards, n, window)\n",
    "        print('episode:', n,\n",
    "              'total reward:', totalreward,\n",
    "              'eps:', eps,\n",
    "              'avg reward (last 10):', ravg)\n",
    "        if ravg > 150:\n",
    "            break\n",
    "\n",
    "\n",
    "print('avg reward for last 10 episodes:', totalrewards[-10:].mean())\n",
    "print('total steps:', totalrewards.sum())\n",
    "\n",
    "plt.plot(totalrewards)\n",
    "plt.title(\"Rewards\")\n",
    "plt.show()\n",
    "\n",
    "plot_running_avg(totalrewards, window)"
   ]
  },
  {
   "cell_type": "markdown",
   "metadata": {
    "heading_collapsed": true
   },
   "source": [
    "# Tiger-v0"
   ]
  },
  {
   "cell_type": "code",
   "execution_count": 167,
   "metadata": {
    "ExecuteTime": {
     "end_time": "2019-06-23T21:52:31.976106Z",
     "start_time": "2019-06-23T21:51:32.749236Z"
    },
    "hidden": true,
    "scrolled": false
   },
   "outputs": [
    {
     "name": "stdout",
     "output_type": "stream",
     "text": [
      "too few experiences 1\n",
      "too few experiences 2\n",
      "too few experiences 3\n",
      "too few experiences 4\n",
      "\n",
      "episode: 0 total reward: -3268 eps: 1.0 avg reward (last 100): -3268.0\n",
      "\n",
      "obs1         obs2         OPEN LEFT Q Value       OPEN RIGHT Q Value        LISTEN Q Value\n",
      "-----------  -----------  ----------------------  ----------------------  ----------------\n",
      "START        START        -0.8064675355101041 <<  -1.0143945785695938             -1.13395\n",
      "START        GROWL_LEFT   -0.9244094440216649 <<  -1.0948996107897258             -1.17167\n",
      "START        GROWL_RIGHT  -0.7823603591992111 <<  -1.1853156432655723             -1.18984\n",
      "GROWL_LEFT   START        -0.9706862765147469     -0.9434909643078186 <<          -1.12807\n",
      "GROWL_LEFT   GROWL_LEFT   -1.0463067120431944     -1.0269549548562025 <<          -1.18085\n",
      "GROWL_LEFT   GROWL_RIGHT  -0.9499876514664068 <<  -1.1121063092962669             -1.19987\n",
      "GROWL_RIGHT  START        -0.7669278072764333 <<  -0.9482381874282945             -1.13663\n",
      "GROWL_RIGHT  GROWL_LEFT   -0.9013415433728508 <<  -1.041145579125558              -1.18135\n",
      "GROWL_RIGHT  GROWL_RIGHT  -0.7611685428473575 <<  -1.1183199913790325             -1.20437\n",
      "\n",
      "episode: 100 total reward: -474 eps: 0.09950371902099892 avg reward (last 100): -686.049504950495\n",
      "\n",
      "obs1         obs2           OPEN LEFT Q Value    OPEN RIGHT Q Value  LISTEN Q Value\n",
      "-----------  -----------  -------------------  --------------------  ---------------------\n",
      "START        START                   -42.4989              -46.1268  -8.530441073117782 <<\n",
      "START        GROWL_LEFT              -43.1539              -46.4734  -8.623562812563561 <<\n",
      "START        GROWL_RIGHT             -43.1329              -46.3656  -8.658232628551534 <<\n",
      "GROWL_LEFT   START                   -43.0058              -46.2699  -8.585441534582685 <<\n",
      "GROWL_LEFT   GROWL_LEFT              -43.4239              -46.5863  -8.701210083412622 <<\n",
      "GROWL_LEFT   GROWL_RIGHT             -43.4575              -46.4902  -8.742143064387225 <<\n",
      "GROWL_RIGHT  START                   -43.2478              -46.1992  -8.496048865444576 <<\n",
      "GROWL_RIGHT  GROWL_LEFT              -43.6318              -46.5609  -8.599884383887007 <<\n",
      "GROWL_RIGHT  GROWL_RIGHT             -43.6168              -46.4524  -8.64365243669835 <<\n",
      "\n",
      "episode: 200 total reward: -287 eps: 0.07053456158585983 avg reward (last 100): -342.980198019802\n",
      "\n",
      "obs1         obs2           OPEN LEFT Q Value    OPEN RIGHT Q Value  LISTEN Q Value\n",
      "-----------  -----------  -------------------  --------------------  ----------------------\n",
      "START        START                   -48.385               -50.9066  -18.211526384421816 <<\n",
      "START        GROWL_LEFT              -49.0213              -51.2585  -18.49979656953726 <<\n",
      "START        GROWL_RIGHT             -49.0168              -51.1218  -18.5129410012361 <<\n",
      "GROWL_LEFT   START                   -48.914               -51.0727  -18.325287297291105 <<\n",
      "GROWL_LEFT   GROWL_LEFT              -49.2936              -51.3817  -18.62426757224312 <<\n",
      "GROWL_LEFT   GROWL_RIGHT             -49.3339              -51.264   -18.652758360869388 <<\n",
      "GROWL_RIGHT  START                   -49.0799              -50.9982  -18.17177487073067 <<\n",
      "GROWL_RIGHT  GROWL_LEFT              -49.4426              -51.3559  -18.472052022657607 <<\n",
      "GROWL_RIGHT  GROWL_RIGHT             -49.4406              -51.2206  -18.497713494492164 <<\n",
      "\n",
      "episode: 300 total reward: -353 eps: 0.0576390417704235 avg reward (last 100): -307.8019801980198\n",
      "\n",
      "obs1         obs2           OPEN LEFT Q Value    OPEN RIGHT Q Value  LISTEN Q Value\n",
      "-----------  -----------  -------------------  --------------------  ----------------------\n",
      "START        START                   -53.54                -63.2482  -27.30670423697705 <<\n",
      "START        GROWL_LEFT              -54.1721              -63.5685  -27.738807861639014 <<\n",
      "START        GROWL_RIGHT             -54.174               -63.4776  -27.767952951275607 <<\n",
      "GROWL_LEFT   START                   -54.0641              -63.4293  -27.45314456690569 <<\n",
      "GROWL_LEFT   GROWL_LEFT              -54.4299              -63.6932  -27.880047131283472 <<\n",
      "GROWL_LEFT   GROWL_RIGHT             -54.4714              -63.6246  -27.920429970291256 <<\n",
      "GROWL_RIGHT  START                   -54.2175              -63.3905  -27.28977548914605 <<\n",
      "GROWL_RIGHT  GROWL_LEFT              -54.5667              -63.6931  -27.73185461575213 <<\n",
      "GROWL_RIGHT  GROWL_RIGHT             -54.5711              -63.6062  -27.765603990692554 <<\n",
      "\n",
      "episode: 400 total reward: -67 eps: 0.04993761694389223 avg reward (last 100): -252.9108910891089\n",
      "\n",
      "obs1         obs2           OPEN LEFT Q Value    OPEN RIGHT Q Value  LISTEN Q Value\n",
      "-----------  -----------  -------------------  --------------------  ----------------------\n",
      "START        START                   -62.652               -67.4373  -34.053675844043056 <<\n",
      "START        GROWL_LEFT              -63.2855              -67.748   -34.57774739113114 <<\n",
      "START        GROWL_RIGHT             -63.303               -67.666   -34.599791746387076 <<\n",
      "GROWL_LEFT   START                   -63.155               -67.6091  -34.20983063855964 <<\n",
      "GROWL_LEFT   GROWL_LEFT              -63.5137              -67.8639  -34.711978930520104 <<\n",
      "GROWL_LEFT   GROWL_RIGHT             -63.5633              -67.8041  -34.74368317129197 <<\n",
      "GROWL_RIGHT  START                   -63.3285              -67.6011  -34.06342634271172 <<\n",
      "GROWL_RIGHT  GROWL_LEFT              -63.6644              -67.8845  -34.588842277202225 <<\n",
      "GROWL_RIGHT  GROWL_RIGHT             -63.6827              -67.8074  -34.61052602882293 <<\n",
      "\n",
      "episode: 500 total reward: -56 eps: 0.04467670516087703 avg reward (last 100): -262.9306930693069\n",
      "\n",
      "obs1         obs2           OPEN LEFT Q Value    OPEN RIGHT Q Value  LISTEN Q Value\n",
      "-----------  -----------  -------------------  --------------------  ----------------------\n",
      "START        START                   -68.2457              -73.653   -39.01974886112671 <<\n",
      "START        GROWL_LEFT              -68.885               -73.9524  -39.59933007360553 <<\n",
      "START        GROWL_RIGHT             -68.928               -73.888   -39.6128791586747 <<\n",
      "GROWL_LEFT   START                   -68.7438              -73.8317  -39.18463912604512 <<\n",
      "GROWL_LEFT   GROWL_LEFT              -69.1067              -74.07    -39.729102190040194 <<\n",
      "GROWL_LEFT   GROWL_RIGHT             -69.1745              -74.0273  -39.75175574678528 <<\n",
      "GROWL_RIGHT  START                   -68.9327              -73.8279  -39.04699333163654 <<\n",
      "GROWL_RIGHT  GROWL_LEFT              -69.2712              -74.0924  -39.620573647321294 <<\n",
      "GROWL_RIGHT  GROWL_RIGHT             -69.3053              -74.0325  -39.6307945670267 <<\n",
      "\n",
      "episode: 600 total reward: -78 eps: 0.04079085082240021 avg reward (last 100): -219.8019801980198\n",
      "\n",
      "obs1         obs2           OPEN LEFT Q Value    OPEN RIGHT Q Value  LISTEN Q Value\n",
      "-----------  -----------  -------------------  --------------------  ----------------------\n",
      "START        START                   -72.5312              -80.5631  -43.21174976461644 <<\n",
      "START        GROWL_LEFT              -73.1854              -80.8513  -43.826412698091396 <<\n",
      "START        GROWL_RIGHT             -73.2334              -80.7986  -43.83942957362733 <<\n",
      "GROWL_LEFT   START                   -73.033               -80.7478  -43.38285854594861 <<\n",
      "GROWL_LEFT   GROWL_LEFT              -73.4083              -80.9697  -43.95412171247001 <<\n",
      "GROWL_LEFT   GROWL_RIGHT             -73.4812              -80.9382  -43.975130514849 <<\n",
      "GROWL_RIGHT  START                   -73.2233              -80.7389  -43.25922421690723 <<\n",
      "GROWL_RIGHT  GROWL_LEFT              -73.5712              -80.9873  -43.86122006672406 <<\n",
      "GROWL_RIGHT  GROWL_RIGHT             -73.6076              -80.9392  -43.867886001928305 <<\n"
     ]
    },
    {
     "ename": "KeyboardInterrupt",
     "evalue": "",
     "output_type": "error",
     "traceback": [
      "\u001b[0;31m---------------------------------------------------------------------------\u001b[0m",
      "\u001b[0;31mKeyboardInterrupt\u001b[0m                         Traceback (most recent call last)",
      "\u001b[0;32m<ipython-input-167-1a26d70f1b62>\u001b[0m in \u001b[0;36m<module>\u001b[0;34m\u001b[0m\n\u001b[1;32m     51\u001b[0m     \u001b[0meps\u001b[0m \u001b[0;34m=\u001b[0m \u001b[0;36m1.0\u001b[0m\u001b[0;34m/\u001b[0m\u001b[0mnp\u001b[0m\u001b[0;34m.\u001b[0m\u001b[0msqrt\u001b[0m\u001b[0;34m(\u001b[0m\u001b[0mn\u001b[0m\u001b[0;34m+\u001b[0m\u001b[0;36m1\u001b[0m\u001b[0;34m)\u001b[0m\u001b[0;34m\u001b[0m\u001b[0;34m\u001b[0m\u001b[0m\n\u001b[1;32m     52\u001b[0m \u001b[0;31m#     eps = 1/(n+1)**(1/5)\u001b[0m\u001b[0;34m\u001b[0m\u001b[0;34m\u001b[0m\u001b[0;34m\u001b[0m\u001b[0m\n\u001b[0;32m---> 53\u001b[0;31m     \u001b[0mtotalreward\u001b[0m \u001b[0;34m=\u001b[0m \u001b[0mplay_one\u001b[0m\u001b[0;34m(\u001b[0m\u001b[0menv\u001b[0m\u001b[0;34m,\u001b[0m \u001b[0mmodel\u001b[0m\u001b[0;34m,\u001b[0m \u001b[0meps\u001b[0m\u001b[0;34m,\u001b[0m \u001b[0mgamma\u001b[0m\u001b[0;34m,\u001b[0m \u001b[0mcopy_period\u001b[0m\u001b[0;34m)\u001b[0m\u001b[0;34m\u001b[0m\u001b[0;34m\u001b[0m\u001b[0m\n\u001b[0m\u001b[1;32m     54\u001b[0m     \u001b[0mtotalrewards\u001b[0m\u001b[0;34m[\u001b[0m\u001b[0mn\u001b[0m\u001b[0;34m]\u001b[0m \u001b[0;34m=\u001b[0m \u001b[0mtotalreward\u001b[0m\u001b[0;34m\u001b[0m\u001b[0;34m\u001b[0m\u001b[0m\n\u001b[1;32m     55\u001b[0m     \u001b[0;32mif\u001b[0m \u001b[0mn\u001b[0m \u001b[0;34m%\u001b[0m \u001b[0mwindow\u001b[0m \u001b[0;34m==\u001b[0m \u001b[0;36m0\u001b[0m\u001b[0;34m:\u001b[0m\u001b[0;34m\u001b[0m\u001b[0;34m\u001b[0m\u001b[0m\n",
      "\u001b[0;32m~/my/research/openai/research/experiments/qlearning/dqn/dqn_seq_obs/numpy_seq_dqn.py\u001b[0m in \u001b[0;36mplay_one\u001b[0;34m(env, model, eps, gamma, copy_period, store_seq_counts)\u001b[0m\n\u001b[1;32m    414\u001b[0m         \u001b[0mmodel\u001b[0m\u001b[0;34m.\u001b[0m\u001b[0mtrain\u001b[0m\u001b[0;34m(\u001b[0m\u001b[0miters\u001b[0m\u001b[0;34m,\u001b[0m \u001b[0mstore_seq_counts\u001b[0m\u001b[0;34m=\u001b[0m\u001b[0mstore_seq_counts\u001b[0m\u001b[0;34m)\u001b[0m\u001b[0;34m\u001b[0m\u001b[0;34m\u001b[0m\u001b[0m\n\u001b[1;32m    415\u001b[0m \u001b[0;34m\u001b[0m\u001b[0m\n\u001b[0;32m--> 416\u001b[0;31m         \u001b[0miters\u001b[0m \u001b[0;34m+=\u001b[0m \u001b[0;36m1\u001b[0m\u001b[0;34m\u001b[0m\u001b[0;34m\u001b[0m\u001b[0m\n\u001b[0m\u001b[1;32m    417\u001b[0m \u001b[0;34m\u001b[0m\u001b[0m\n\u001b[1;32m    418\u001b[0m         \u001b[0;31m##\u001b[0m\u001b[0;34m\u001b[0m\u001b[0;34m\u001b[0m\u001b[0;34m\u001b[0m\u001b[0m\n",
      "\u001b[0;32m~/my/research/openai/research/experiments/qlearning/dqn/dqn_seq_obs/numpy_seq_dqn.py\u001b[0m in \u001b[0;36mtrain\u001b[0;34m(self, n, store_seq_counts)\u001b[0m\n\u001b[1;32m    262\u001b[0m         \u001b[0mG\u001b[0m \u001b[0;34m=\u001b[0m \u001b[0mnp\u001b[0m\u001b[0;34m.\u001b[0m\u001b[0matleast_2d\u001b[0m\u001b[0;34m(\u001b[0m\u001b[0mG\u001b[0m\u001b[0;34m)\u001b[0m\u001b[0;34m\u001b[0m\u001b[0;34m\u001b[0m\u001b[0m\n\u001b[1;32m    263\u001b[0m         \u001b[0mQ\u001b[0m \u001b[0;34m=\u001b[0m \u001b[0mnp\u001b[0m\u001b[0;34m.\u001b[0m\u001b[0matleast_2d\u001b[0m\u001b[0;34m(\u001b[0m\u001b[0mQ\u001b[0m\u001b[0;34m)\u001b[0m\u001b[0;34m\u001b[0m\u001b[0;34m\u001b[0m\u001b[0m\n\u001b[0;32m--> 264\u001b[0;31m         \u001b[0mself\u001b[0m\u001b[0;34m.\u001b[0m\u001b[0mmqnets\u001b[0m\u001b[0;34m[\u001b[0m\u001b[0maction\u001b[0m\u001b[0;34m]\u001b[0m\u001b[0;34m.\u001b[0m\u001b[0mupdate\u001b[0m\u001b[0;34m(\u001b[0m\u001b[0mG\u001b[0m\u001b[0;34m,\u001b[0m \u001b[0mQ\u001b[0m\u001b[0;34m,\u001b[0m \u001b[0mZ\u001b[0m\u001b[0;34m)\u001b[0m\u001b[0;34m\u001b[0m\u001b[0;34m\u001b[0m\u001b[0m\n\u001b[0m\u001b[1;32m    265\u001b[0m \u001b[0;34m\u001b[0m\u001b[0m\n\u001b[1;32m    266\u001b[0m     \u001b[0;32mdef\u001b[0m \u001b[0madd_experience\u001b[0m\u001b[0;34m(\u001b[0m\u001b[0mself\u001b[0m\u001b[0;34m,\u001b[0m \u001b[0ms\u001b[0m\u001b[0;34m,\u001b[0m \u001b[0ma\u001b[0m\u001b[0;34m,\u001b[0m \u001b[0mr\u001b[0m\u001b[0;34m,\u001b[0m \u001b[0ms2\u001b[0m\u001b[0;34m,\u001b[0m \u001b[0mdone\u001b[0m\u001b[0;34m)\u001b[0m\u001b[0;34m:\u001b[0m\u001b[0;34m\u001b[0m\u001b[0;34m\u001b[0m\u001b[0m\n",
      "\u001b[0;32m~/my/research/openai/research/research/neural_networks/mlp.py\u001b[0m in \u001b[0;36mupdate\u001b[0;34m(self, T, Output, _Z)\u001b[0m\n\u001b[1;32m    392\u001b[0m             \u001b[0;32melse\u001b[0m\u001b[0;34m:\u001b[0m\u001b[0;34m\u001b[0m\u001b[0;34m\u001b[0m\u001b[0m\n\u001b[1;32m    393\u001b[0m                 \u001b[0;31m# Compute deltas at middle layer\u001b[0m\u001b[0;34m\u001b[0m\u001b[0;34m\u001b[0m\u001b[0;34m\u001b[0m\u001b[0m\n\u001b[0;32m--> 394\u001b[0;31m                 \u001b[0mDelta\u001b[0m\u001b[0;34m[\u001b[0m\u001b[0mi\u001b[0m\u001b[0;34m]\u001b[0m \u001b[0;34m=\u001b[0m \u001b[0mself\u001b[0m\u001b[0;34m.\u001b[0m\u001b[0m_backprop_delta\u001b[0m\u001b[0;34m(\u001b[0m\u001b[0mDelta\u001b[0m\u001b[0;34m[\u001b[0m\u001b[0mi\u001b[0m\u001b[0;34m+\u001b[0m\u001b[0;36m1\u001b[0m\u001b[0;34m]\u001b[0m\u001b[0;34m,\u001b[0m \u001b[0mW\u001b[0m\u001b[0;34m[\u001b[0m\u001b[0mi\u001b[0m\u001b[0;34m+\u001b[0m\u001b[0;36m1\u001b[0m\u001b[0;34m]\u001b[0m\u001b[0;34m,\u001b[0m \u001b[0m_Z\u001b[0m\u001b[0;34m[\u001b[0m\u001b[0mi\u001b[0m\u001b[0;34m+\u001b[0m\u001b[0;36m1\u001b[0m\u001b[0;34m]\u001b[0m\u001b[0;34m,\u001b[0m \u001b[0mi\u001b[0m\u001b[0;34m)\u001b[0m\u001b[0;34m\u001b[0m\u001b[0;34m\u001b[0m\u001b[0m\n\u001b[0m\u001b[1;32m    395\u001b[0m \u001b[0;34m\u001b[0m\u001b[0m\n\u001b[1;32m    396\u001b[0m             \u001b[0;31m# Compute weight and bias partial gradients\u001b[0m\u001b[0;34m\u001b[0m\u001b[0;34m\u001b[0m\u001b[0;34m\u001b[0m\u001b[0m\n",
      "\u001b[0;32m~/my/research/openai/research/research/neural_networks/mlp.py\u001b[0m in \u001b[0;36m_backprop_delta\u001b[0;34m(self, subs_Delta, subs_W, _Z, i)\u001b[0m\n\u001b[1;32m    607\u001b[0m         \u001b[0mdJdZ\u001b[0m \u001b[0;34m=\u001b[0m \u001b[0mZ\u001b[0m\u001b[0;34m.\u001b[0m\u001b[0mback\u001b[0m\u001b[0;34m(\u001b[0m\u001b[0m_Z\u001b[0m\u001b[0;34m)\u001b[0m\u001b[0;34m\u001b[0m\u001b[0;34m\u001b[0m\u001b[0m\n\u001b[1;32m    608\u001b[0m         \u001b[0mret\u001b[0m \u001b[0;34m=\u001b[0m \u001b[0;34m(\u001b[0m\u001b[0msubs_Delta\u001b[0m\u001b[0;34m.\u001b[0m\u001b[0mdot\u001b[0m\u001b[0;34m(\u001b[0m\u001b[0msubs_W\u001b[0m\u001b[0;34m.\u001b[0m\u001b[0mT\u001b[0m\u001b[0;34m)\u001b[0m\u001b[0;34m)\u001b[0m\u001b[0;34m*\u001b[0m\u001b[0mdJdZ\u001b[0m\u001b[0;34m\u001b[0m\u001b[0;34m\u001b[0m\u001b[0m\n\u001b[0;32m--> 609\u001b[0;31m         \u001b[0;32massert\u001b[0m \u001b[0mret\u001b[0m\u001b[0;34m.\u001b[0m\u001b[0mshape\u001b[0m \u001b[0;34m==\u001b[0m \u001b[0;34m(\u001b[0m\u001b[0mN\u001b[0m\u001b[0;34m,\u001b[0m \u001b[0mM\u001b[0m\u001b[0;34m[\u001b[0m\u001b[0mi\u001b[0m\u001b[0;34m+\u001b[0m\u001b[0;36m1\u001b[0m\u001b[0;34m]\u001b[0m\u001b[0;34m)\u001b[0m\u001b[0;34m\u001b[0m\u001b[0;34m\u001b[0m\u001b[0m\n\u001b[0m\u001b[1;32m    610\u001b[0m         \u001b[0;32mreturn\u001b[0m \u001b[0mret\u001b[0m\u001b[0;34m\u001b[0m\u001b[0;34m\u001b[0m\u001b[0m\n\u001b[1;32m    611\u001b[0m \u001b[0;34m\u001b[0m\u001b[0m\n",
      "\u001b[0;31mKeyboardInterrupt\u001b[0m: "
     ]
    }
   ],
   "source": [
    "import gym_tiger\n",
    "OBS_GROWL_LEFT = [1, 0, 0]\n",
    "OBS_GROWL_RIGHT = [0, 1, 0]\n",
    "OBS_START = [0, 0, 1]\n",
    "\n",
    "ACTION_OPEN_LEFT = 0\n",
    "ACTION_OPEN_RIGHT = 1\n",
    "ACTION_LISTEN = 2\n",
    "ACTION_MAP = {\n",
    "    ACTION_OPEN_LEFT: 'OPEN_LEFT',\n",
    "    ACTION_OPEN_RIGHT: 'OPEN_RIGHT',\n",
    "    ACTION_LISTEN: 'LISTEN',\n",
    "}\n",
    "\n",
    "from copy import deepcopy\n",
    "\n",
    "env = gym.make('Tiger-v0')\n",
    "env.__init__(reward_tiger=-100, reward_gold=10, reward_listen=-1,\n",
    "             max_steps_per_episode=100)\n",
    "gamma = 0.99\n",
    "start_obs = env.reset()\n",
    "\n",
    "obs_seq_len = 2\n",
    "hidden_layer_sizes = [15, 15]\n",
    "copy_period = 10\n",
    "D = obs_seq_len * env.observation_space.n\n",
    "K = env.action_space.n\n",
    "hidden_layer_opts = {'hidden_layer_sizes': hidden_layer_sizes,\n",
    "                     'Z': Sigmoid(),\n",
    "                     'learning_rate': 1e-4,\n",
    "                    'mu': .3}\n",
    "model = NumpySeqDQN(env, D, K, hidden_layer_opts, gamma, obs_seq_len, start_obs)\n",
    "\n",
    "N = 1000\n",
    "totalrewards = np.zeros(N)\n",
    "\n",
    "obs_perms = [\n",
    "    [OBS_START, OBS_START],\n",
    "    [OBS_START, OBS_GROWL_LEFT],\n",
    "    [OBS_START, OBS_GROWL_RIGHT],\n",
    "    [OBS_GROWL_LEFT, OBS_START],\n",
    "    [OBS_GROWL_LEFT, OBS_GROWL_LEFT],\n",
    "    [OBS_GROWL_LEFT, OBS_GROWL_RIGHT],\n",
    "    [OBS_GROWL_RIGHT, OBS_START],\n",
    "    [OBS_GROWL_RIGHT, OBS_GROWL_LEFT],\n",
    "    [OBS_GROWL_RIGHT, OBS_GROWL_RIGHT],\n",
    "]\n",
    "\n",
    "window = int(N/10)\n",
    "for n in range(N):\n",
    "    eps = 1.0/np.sqrt(n+1)\n",
    "#     eps = 1/(n+1)**(1/5)\n",
    "    totalreward = play_one(env, model, eps, gamma, copy_period)\n",
    "    totalrewards[n] = totalreward\n",
    "    if n % window == 0:\n",
    "        ravg = running_avg(totalrewards, n, window)\n",
    "        print('\\nepisode:', n,\n",
    "              'total reward:', totalreward,\n",
    "              'eps:', eps,\n",
    "              'avg reward (last 100):', ravg)\n",
    "        Q = []\n",
    "        for perm in obs_perms:\n",
    "            o1, o2 = perm\n",
    "            _o1 = env.translate_obs(o1)\n",
    "            _o2 = env.translate_obs(o2)\n",
    "            pred = model.predict([o1, o2])\n",
    "            best_action_idx = np.argmax(pred[0])\n",
    "            action_values = pred[0].astype(str)\n",
    "            action_values[best_action_idx] = action_values[best_action_idx] + ' <<'\n",
    "            a_openl, a_openr, a_listen = action_values\n",
    "            Q.append([_o1, _o2, a_openl, a_openr, a_listen])\n",
    "        print('\\n' + tabulate(Q, headers=['obs1', 'obs2', 'OPEN LEFT Q Value', 'OPEN RIGHT Q Value', 'LISTEN Q Value']))\n",
    "#         display(sorted(model.train_obs_seq_counts.items(), key=lambda x: x[1], reverse=True))\n",
    "#         display(sorted(model.train_obs_seq_action_counts.items(), key=lambda x: x[1], reverse=True))\n",
    "\n",
    "\n",
    "print('avg reward for last 100 episodes:', totalrewards[-10:].mean())\n",
    "print('total steps:', totalrewards.sum())"
   ]
  },
  {
   "cell_type": "code",
   "execution_count": 160,
   "metadata": {
    "ExecuteTime": {
     "end_time": "2019-06-23T21:46:27.238217Z",
     "start_time": "2019-06-23T21:46:27.234006Z"
    },
    "hidden": true
   },
   "outputs": [
    {
     "data": {
      "text/plain": [
       "{'GROWL_LEFT, GROWL_LEFT': 12416,\n",
       " 'GROWL_LEFT, GROWL_RIGHT': 12556,\n",
       " 'GROWL_RIGHT, GROWL_RIGHT': 12307,\n",
       " 'START, GROWL_LEFT': 51,\n",
       " 'GROWL_RIGHT, GROWL_LEFT': 12522,\n",
       " 'GROWL_LEFT, START': 57,\n",
       " 'START, GROWL_RIGHT': 43,\n",
       " 'GROWL_RIGHT, START': 44}"
      ]
     },
     "execution_count": 160,
     "metadata": {},
     "output_type": "execute_result"
    }
   ],
   "source": [
    "model.train_obs_seq_counts"
   ]
  },
  {
   "cell_type": "code",
   "execution_count": 161,
   "metadata": {
    "ExecuteTime": {
     "end_time": "2019-06-23T21:46:31.053398Z",
     "start_time": "2019-06-23T21:46:31.048754Z"
    },
    "hidden": true
   },
   "outputs": [
    {
     "data": {
      "text/plain": [
       "{'GROWL_LEFT, GROWL_LEFT => OPEN_LEFT': 1002,\n",
       " 'GROWL_LEFT, GROWL_LEFT => LISTEN': 10336,\n",
       " 'GROWL_LEFT, GROWL_RIGHT => OPEN_RIGHT': 999,\n",
       " 'GROWL_RIGHT, GROWL_RIGHT => OPEN_LEFT': 943,\n",
       " 'GROWL_RIGHT, GROWL_RIGHT => LISTEN': 10421,\n",
       " 'START, GROWL_LEFT => LISTEN': 48,\n",
       " 'GROWL_RIGHT, GROWL_RIGHT => OPEN_RIGHT': 943,\n",
       " 'GROWL_LEFT, GROWL_LEFT => OPEN_RIGHT': 1078,\n",
       " 'GROWL_LEFT, GROWL_RIGHT => OPEN_LEFT': 1048,\n",
       " 'GROWL_RIGHT, GROWL_LEFT => OPEN_RIGHT': 960,\n",
       " 'GROWL_RIGHT, GROWL_LEFT => OPEN_LEFT': 1051,\n",
       " 'GROWL_RIGHT, GROWL_LEFT => LISTEN': 10511,\n",
       " 'GROWL_LEFT, GROWL_RIGHT => LISTEN': 10509,\n",
       " 'GROWL_LEFT, START => OPEN_LEFT': 9,\n",
       " 'START, GROWL_RIGHT => OPEN_LEFT': 7,\n",
       " 'GROWL_RIGHT, START => LISTEN': 34,\n",
       " 'START, GROWL_RIGHT => LISTEN': 34,\n",
       " 'GROWL_RIGHT, START => OPEN_LEFT': 2,\n",
       " 'START, GROWL_RIGHT => OPEN_RIGHT': 2,\n",
       " 'GROWL_LEFT, START => LISTEN': 48,\n",
       " 'GROWL_RIGHT, START => OPEN_RIGHT': 8,\n",
       " 'START, GROWL_LEFT => OPEN_RIGHT': 3}"
      ]
     },
     "execution_count": 161,
     "metadata": {},
     "output_type": "execute_result"
    }
   ],
   "source": [
    "model.train_obs_seq_action_counts"
   ]
  },
  {
   "cell_type": "code",
   "execution_count": null,
   "metadata": {
    "hidden": true
   },
   "outputs": [],
   "source": []
  }
 ],
 "metadata": {
  "kernelspec": {
   "display_name": "research",
   "language": "python",
   "name": "research"
  },
  "notify_time": "5",
  "toc": {
   "base_numbering": 1,
   "nav_menu": {},
   "number_sections": true,
   "sideBar": true,
   "skip_h1_title": false,
   "title_cell": "Table of Contents",
   "title_sidebar": "Contents",
   "toc_cell": false,
   "toc_position": {},
   "toc_section_display": true,
   "toc_window_display": false
  },
  "varInspector": {
   "cols": {
    "lenName": 16,
    "lenType": 16,
    "lenVar": 40
   },
   "kernels_config": {
    "python": {
     "delete_cmd_postfix": "",
     "delete_cmd_prefix": "del ",
     "library": "var_list.py",
     "varRefreshCmd": "print(var_dic_list())"
    },
    "r": {
     "delete_cmd_postfix": ") ",
     "delete_cmd_prefix": "rm(",
     "library": "var_list.r",
     "varRefreshCmd": "cat(var_dic_list()) "
    }
   },
   "position": {
    "height": "146px",
    "left": "1340.65625px",
    "right": "20px",
    "top": "123px",
    "width": "352px"
   },
   "types_to_exclude": [
    "module",
    "function",
    "builtin_function_or_method",
    "instance",
    "_Feature"
   ],
   "window_display": true
  }
 },
 "nbformat": 4,
 "nbformat_minor": 2
}
