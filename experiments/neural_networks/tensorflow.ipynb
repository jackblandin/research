{
 "cells": [
  {
   "cell_type": "markdown",
   "metadata": {
    "heading_collapsed": true
   },
   "source": [
    "# Classifcation - overlapping clouds"
   ]
  },
  {
   "cell_type": "markdown",
   "metadata": {
    "heading_collapsed": true,
    "hidden": true
   },
   "source": [
    "## Load data"
   ]
  },
  {
   "cell_type": "code",
   "execution_count": 1,
   "metadata": {
    "ExecuteTime": {
     "end_time": "2019-07-16T21:46:14.965440Z",
     "start_time": "2019-07-16T21:46:14.728475Z"
    },
    "hidden": true
   },
   "outputs": [
    {
     "data": {
      "text/plain": [
       "<Figure size 640x480 with 1 Axes>"
      ]
     },
     "metadata": {},
     "output_type": "display_data"
    }
   ],
   "source": [
    "import numpy as np\n",
    "import matplotlib.pyplot as plt\n",
    "\n",
    "\n",
    "def create_data(Nclass, D, M, K):\n",
    "    X1 = np.random.randn(Nclass, D) + np.array([0, -2])\n",
    "    X2 = np.random.randn(Nclass, D) + np.array([2, 2])\n",
    "    X3 = np.random.randn(Nclass, D) + np.array([-2, 2])\n",
    "    X = np.vstack([X1, X2, X3])\n",
    "\n",
    "    Y = np.array([0]*Nclass + [1]*Nclass + [2]*Nclass)\n",
    "\n",
    "    # let's see what it looks like\n",
    "    plt.scatter(X[:,0], X[:,1], c=Y, s=100, alpha=0.5)\n",
    "    plt.show()\n",
    "    \n",
    "    return X, Y\n",
    "\n",
    "np.random.seed(123)\n",
    "\n",
    "Nclass = 500\n",
    "D = 2 # dimensionality of input\n",
    "M = 10 # hidden layer sizes\n",
    "K = 3 # number of classes\n",
    "\n",
    "X, Y = create_data(Nclass, D, M, K)\n",
    "\n",
    "N = len(Y)"
   ]
  },
  {
   "cell_type": "markdown",
   "metadata": {
    "heading_collapsed": true,
    "hidden": true
   },
   "source": [
    "## Define model parameters"
   ]
  },
  {
   "cell_type": "code",
   "execution_count": 2,
   "metadata": {
    "ExecuteTime": {
     "end_time": "2019-07-16T21:46:15.063854Z",
     "start_time": "2019-07-16T21:46:15.061048Z"
    },
    "hidden": true
   },
   "outputs": [],
   "source": [
    "D = 2\n",
    "K = 3\n",
    "hidden_layer_sizes = [25]"
   ]
  },
  {
   "cell_type": "markdown",
   "metadata": {
    "heading_collapsed": true,
    "hidden": true
   },
   "source": [
    "## Build and train model"
   ]
  },
  {
   "cell_type": "code",
   "execution_count": 31,
   "metadata": {
    "ExecuteTime": {
     "end_time": "2019-07-16T21:56:56.540795Z",
     "start_time": "2019-07-16T21:56:55.650998Z"
    },
    "hidden": true
   },
   "outputs": [
    {
     "name": "stdout",
     "output_type": "stream",
     "text": [
      "Accuracy: 0.38\n",
      "Accuracy: 0.93\n",
      "Accuracy: 0.93\n",
      "Accuracy: 0.94\n",
      "Accuracy: 0.95\n",
      "Accuracy: 0.97\n",
      "Accuracy: 0.98\n",
      "Accuracy: 0.95\n",
      "Accuracy: 0.95\n",
      "Accuracy: 0.96\n"
     ]
    },
    {
     "data": {
      "text/plain": [
       "Text(0.5, 0, 'Epoch')"
      ]
     },
     "execution_count": 31,
     "metadata": {},
     "output_type": "execute_result"
    },
    {
     "data": {
      "image/png": "[encoded data removed]",
      "text/plain": [
       "<Figure size 1080x504 with 1 Axes>"
      ]
     },
     "metadata": {
      "needs_background": "light"
     },
     "output_type": "display_data"
    }
   ],
   "source": [
    "import matplotlib.pyplot as plt\n",
    "import numpy as np\n",
    "import tensorflow as tf\n",
    "\n",
    "\n",
    "def indicator_matrix(Y, K):\n",
    "    N = len(Y)\n",
    "    T = np.zeros((N, K))\n",
    "    for i in range(N):\n",
    "        T[i, Y[i]] = 1\n",
    "    return T\n",
    "\n",
    "# turn Y into an indicator matrix for training\n",
    "T = indicator_matrix(Y, K)\n",
    "\n",
    "# Create placeholders for Inputs (X) and Outputs (Y)\n",
    "tfX = tf.placeholder(tf.float32, shape=(None, D))\n",
    "tfY = tf.placeholder(tf.float32, shape=(None, K))\n",
    "\n",
    "# Initialize weights and biases of hidden layers\n",
    "W1 = tf.Variable(tf.random_normal(shape=[D, hidden_layer_sizes[0]]))\n",
    "b1 = tf.Variable(tf.random_normal(shape=[hidden_layer_sizes[0]]))\n",
    "W2 = tf.Variable(tf.random_normal(shape=[hidden_layer_sizes[0], K]))\n",
    "b2 = tf.Variable(tf.random_normal(shape=[K]))\n",
    "\n",
    "def _forward_single_layer(X, W_in, b_in, W_out, b_out):\n",
    "    \"\"\"Computes forward pass for a single layer.\"\"\"\n",
    "    A = tf.matmul(X, W_in) + b_in\n",
    "    Z = tf.nn.sigmoid(A)\n",
    "    logits = tf.matmul(Z, W_out) + b_out\n",
    "    return logits\n",
    "\n",
    "# Construct the forward call across all layers except final\n",
    "logits = _forward_single_layer(tfX, W1, b1, W2, b2)\n",
    "\n",
    "\n",
    "def _forward_final_layer(logits, tfY):\n",
    "    \"\"\"Computes forward pass for final layer.\"\"\"\n",
    "    Out = tf.nn.softmax_cross_entropy_with_logits_v2(\n",
    "        labels=tfY, logits=logits)\n",
    "    return Out\n",
    "\n",
    "# Construct output of final layer\n",
    "final_out = _forward_final_layer(logits, tfY)\n",
    "\n",
    "# Define the cost function\n",
    "cost = tf.reduce_mean(final_out)\n",
    "\n",
    "# Define the training optmizer\n",
    "train_op = tf.train.GradientDescentOptimizer(0.05).minimize(cost)\n",
    "\n",
    "# Define the prediction operator\n",
    "predict_op = tf.argmax(logits, 1)\n",
    "\n",
    "# Initialize session and global variables\n",
    "sess = tf.Session()\n",
    "init = tf.global_variables_initializer()\n",
    "sess.run(init)\n",
    "\n",
    "# Train the model\n",
    "N = 500\n",
    "perf = np.zeros(N)\n",
    "for i in range(N):\n",
    "    # Run backprop and update weights\n",
    "    sess.run(train_op, feed_dict={tfX: X, tfY: T})\n",
    "    # Predict on train to show progress\n",
    "    pred = sess.run(predict_op, feed_dict={tfX: X, tfY: T})\n",
    "    perf[i] = np.mean(Y == pred)\n",
    "    if i % (N/10) == 0:\n",
    "        print('Accuracy:', perf[i])\n",
    "              \n",
    "fig, ax = plt.subplots(1, 1, figsize=(15, 7))\n",
    "ax.plot(perf)\n",
    "ax.set_title('Accuracy')\n",
    "ax.set_xlabel('Epoch')"
   ]
  },
  {
   "cell_type": "markdown",
   "metadata": {},
   "source": [
    "# Classification - Iris setosa"
   ]
  },
  {
   "cell_type": "markdown",
   "metadata": {
    "heading_collapsed": true
   },
   "source": [
    "## Load data"
   ]
  },
  {
   "cell_type": "code",
   "execution_count": 5,
   "metadata": {
    "ExecuteTime": {
     "end_time": "2019-07-16T21:48:58.608094Z",
     "start_time": "2019-07-16T21:48:58.225796Z"
    },
    "hidden": true
   },
   "outputs": [],
   "source": [
    "import pandas as pd\n",
    "from sklearn.model_selection import train_test_split\n",
    "\n",
    "\n",
    "iris = pd.read_csv('./data/iris-setosa.csv')\n",
    "iris['species'] = pd.Categorical(iris.species)\n",
    "iris['target'] = iris['species'].cat.codes\n",
    "iris_train, iris_test = train_test_split(iris, test_size=.33)\n",
    "X_train = iris_train[['sepal_length', 'sepal_width',\n",
    "                      'petal_length', 'petal_width']].values\n",
    "y_train = iris_train['target'].values\n",
    "X_test = iris_test[['sepal_length', 'sepal_width',\n",
    "                    'petal_length', 'petal_width']].values\n",
    "y_test = iris_test['target'].values\n",
    "\n",
    "X = X_train\n",
    "Y = y_train"
   ]
  },
  {
   "cell_type": "markdown",
   "metadata": {
    "heading_collapsed": true
   },
   "source": [
    "## Define model parameters"
   ]
  },
  {
   "cell_type": "code",
   "execution_count": 16,
   "metadata": {
    "ExecuteTime": {
     "end_time": "2019-07-16T21:51:12.332277Z",
     "start_time": "2019-07-16T21:51:12.329009Z"
    },
    "hidden": true
   },
   "outputs": [],
   "source": [
    "D = 4\n",
    "K = 3\n",
    "hidden_layer_sizes = [25]"
   ]
  },
  {
   "cell_type": "markdown",
   "metadata": {},
   "source": [
    "## Build and train model"
   ]
  },
  {
   "cell_type": "code",
   "execution_count": 30,
   "metadata": {
    "ExecuteTime": {
     "end_time": "2019-07-16T21:56:46.480989Z",
     "start_time": "2019-07-16T21:56:45.615493Z"
    }
   },
   "outputs": [
    {
     "name": "stdout",
     "output_type": "stream",
     "text": [
      "Accuracy: 0.26\n",
      "Accuracy: 0.65\n",
      "Accuracy: 0.97\n",
      "Accuracy: 0.97\n",
      "Accuracy: 0.97\n",
      "Accuracy: 0.97\n",
      "Accuracy: 0.98\n",
      "Accuracy: 0.98\n",
      "Accuracy: 0.98\n",
      "Accuracy: 0.98\n"
     ]
    },
    {
     "data": {
      "text/plain": [
       "Text(0.5, 0, 'Epoch')"
      ]
     },
     "execution_count": 30,
     "metadata": {},
     "output_type": "execute_result"
    },
    {
     "data": {
      "image/png": "[encoded data removed]",
      "text/plain": [
       "<Figure size 1080x504 with 1 Axes>"
      ]
     },
     "metadata": {
      "needs_background": "light"
     },
     "output_type": "display_data"
    }
   ],
   "source": [
    "import matplotlib.pyplot as plt\n",
    "import numpy as np\n",
    "import tensorflow as tf\n",
    "\n",
    "\n",
    "def indicator_matrix(Y, K):\n",
    "    N = len(Y)\n",
    "    T = np.zeros((N, K))\n",
    "    for i in range(N):\n",
    "        T[i, Y[i]] = 1\n",
    "    return T\n",
    "\n",
    "# turn Y into an indicator matrix for training\n",
    "T = indicator_matrix(Y, K)\n",
    "\n",
    "# Create placeholders for Inputs (X) and Outputs (Y)\n",
    "tfX = tf.placeholder(tf.float32, shape=(None, D))\n",
    "tfY = tf.placeholder(tf.float32, shape=(None, K))\n",
    "\n",
    "# Initialize weights and biases of hidden layers\n",
    "W1 = tf.Variable(tf.random_normal(shape=[D, hidden_layer_sizes[0]]))\n",
    "b1 = tf.Variable(tf.random_normal(shape=[hidden_layer_sizes[0]]))\n",
    "W2 = tf.Variable(tf.random_normal(shape=[hidden_layer_sizes[0], K]))\n",
    "b2 = tf.Variable(tf.random_normal(shape=[K]))\n",
    "\n",
    "def _forward_single_layer(X, W_in, b_in, W_out, b_out):\n",
    "    \"\"\"Computes forward pass for a single layer.\"\"\"\n",
    "    A = tf.matmul(X, W_in) + b_in\n",
    "    Z = tf.nn.sigmoid(A)\n",
    "    logits = tf.matmul(Z, W_out) + b_out\n",
    "    return logits\n",
    "\n",
    "# Construct the forward call across all layers except final\n",
    "logits = _forward_single_layer(tfX, W1, b1, W2, b2)\n",
    "\n",
    "\n",
    "def _forward_final_layer(logits, tfY):\n",
    "    \"\"\"Computes forward pass for final layer.\"\"\"\n",
    "    Out = tf.nn.softmax_cross_entropy_with_logits_v2(\n",
    "        labels=tfY, logits=logits)\n",
    "    return Out\n",
    "\n",
    "# Construct output of final layer\n",
    "final_out = _forward_final_layer(logits, tfY)\n",
    "\n",
    "# Define the cost function\n",
    "cost = tf.reduce_mean(final_out)\n",
    "\n",
    "# Define the training optmizer\n",
    "train_op = tf.train.GradientDescentOptimizer(0.05).minimize(cost)\n",
    "\n",
    "# Define the prediction operator\n",
    "predict_op = tf.argmax(logits, 1)\n",
    "\n",
    "# Initialize session and global variables\n",
    "sess = tf.Session()\n",
    "init = tf.global_variables_initializer()\n",
    "sess.run(init)\n",
    "\n",
    "# Train the model\n",
    "N = 500\n",
    "perf = np.zeros(N)\n",
    "for i in range(N):\n",
    "    # Run backprop and update weights\n",
    "    sess.run(train_op, feed_dict={tfX: X, tfY: T})\n",
    "    # Predict on train to show progress\n",
    "    pred = sess.run(predict_op, feed_dict={tfX: X, tfY: T})\n",
    "    perf[i] = np.mean(Y == pred)\n",
    "    if i % (N/10) == 0:\n",
    "        print('Accuracy:', perf[i])\n",
    "              \n",
    "fig, ax = plt.subplots(1, 1, figsize=(15, 7))\n",
    "ax.plot(perf)\n",
    "ax.set_title('Accuracy')\n",
    "ax.set_xlabel('Epoch')"
   ]
  },
  {
   "cell_type": "markdown",
   "metadata": {},
   "source": [
    "# Classificaiton - MNIST"
   ]
  },
  {
   "cell_type": "markdown",
   "metadata": {},
   "source": [
    "## Load data"
   ]
  },
  {
   "cell_type": "code",
   "execution_count": 2,
   "metadata": {
    "ExecuteTime": {
     "end_time": "2019-07-17T21:03:37.474850Z",
     "start_time": "2019-07-17T21:03:30.031753Z"
    }
   },
   "outputs": [],
   "source": [
    "import pandas as pd\n",
    "\n",
    "\n",
    "mnist_train = pd.read_csv('./data/mnist-in-csv/mnist_train.csv')\n",
    "mnist_test = pd.read_csv('./data/mnist-in-csv/mnist_test.csv')\n",
    "\n",
    "X_train = mnist_train.loc[:, mnist_train.columns != 'label'].values[0:60000]\n",
    "y_train = mnist_train['label'].values[0:60000]\n",
    "\n",
    "X_test = mnist_test.loc[:, mnist_test.columns != 'label'].values[0:10000]\n",
    "y_test = mnist_test['label'].values[0:10000]\n",
    "\n",
    "X = X_train\n",
    "Y = y_train"
   ]
  },
  {
   "cell_type": "markdown",
   "metadata": {},
   "source": [
    "## Define model parameters"
   ]
  },
  {
   "cell_type": "code",
   "execution_count": 44,
   "metadata": {
    "ExecuteTime": {
     "end_time": "2019-07-17T21:47:13.526736Z",
     "start_time": "2019-07-17T21:47:13.523809Z"
    }
   },
   "outputs": [],
   "source": [
    "D = 784\n",
    "K = 10\n",
    "hidden_layer_sizes = [800, 200]"
   ]
  },
  {
   "cell_type": "markdown",
   "metadata": {},
   "source": [
    "## Build and train model"
   ]
  },
  {
   "cell_type": "code",
   "execution_count": 47,
   "metadata": {
    "ExecuteTime": {
     "end_time": "2019-07-17T22:10:15.385938Z",
     "start_time": "2019-07-17T22:09:13.291712Z"
    },
    "scrolled": false
   },
   "outputs": [
    {
     "name": "stdout",
     "output_type": "stream",
     "text": [
      "n=0, Accuracy: 0.099\n",
      "n=2, Accuracy: 0.099\n",
      "n=4, Accuracy: 0.099\n",
      "n=6, Accuracy: 0.099\n",
      "n=8, Accuracy: 0.099\n",
      "n=10, Accuracy: 0.099\n",
      "n=12, Accuracy: 0.099\n",
      "n=14, Accuracy: 0.099\n",
      "n=16, Accuracy: 0.099\n",
      "n=18, Accuracy: 0.099\n",
      "Test accuracy: 0.098\n"
     ]
    },
    {
     "data": {
      "image/png": "[encoded data removed]",
      "text/plain": [
       "<Figure size 1080x504 with 1 Axes>"
      ]
     },
     "metadata": {
      "needs_background": "light"
     },
     "output_type": "display_data"
    }
   ],
   "source": [
    "import matplotlib.pyplot as plt\n",
    "import numpy as np\n",
    "import tensorflow as tf\n",
    "\n",
    "\n",
    "def indicator_matrix(Y, K):\n",
    "    N = len(Y)\n",
    "    T = np.zeros((N, K))\n",
    "    for i in range(N):\n",
    "        T[i, Y[i]] = 1\n",
    "    return T\n",
    "\n",
    "# turn Y into an indicator matrix for training\n",
    "T = indicator_matrix(Y, K)\n",
    "\n",
    "# Create placeholders for Inputs (X) and Outputs (Y)\n",
    "tfX = tf.placeholder(tf.float32, shape=(None, D))\n",
    "tfY = tf.placeholder(tf.float32, shape=(None, K))\n",
    "\n",
    "\n",
    "\n",
    "# Initialize weights and biases of hidden layers\n",
    "W1 = tf.Variable(tf.random_normal(shape=[D, hidden_layer_sizes[0]]))\n",
    "b1 = tf.Variable(tf.random_normal(shape=[hidden_layer_sizes[0]]))\n",
    "\n",
    "W2 = tf.Variable(tf.random_normal(shape=[hidden_layer_sizes[0], hidden_layer_sizes[1]]))\n",
    "b2 = tf.Variable(tf.random_normal(shape=[hidden_layer_sizes[1]]))\n",
    "\n",
    "Wf = tf.Variable(tf.random_normal(shape=[hidden_layer_sizes[1], K]))\n",
    "bf = tf.Variable(tf.random_normal(shape=[K]))\n",
    "\n",
    "def _forward_single_layer(Z_in, W_in, b_in, W_out, b_out):\n",
    "    \"\"\"Computes forward pass for a single layer.\n",
    "    Parameters\n",
    "    ----------\n",
    "    Z_in : tf.tensor, shape (?, W_in.shape[0])\n",
    "        Z coming in. For first layer, this is tfX.\n",
    "        \n",
    "    Returns\n",
    "    -------\n",
    "    tf.tensor, shape (?, W_out.shape[1])\n",
    "    \"\"\"\n",
    "    A = tf.matmul(Z_in, W_in) + b_in\n",
    "    Z_out = tf.nn.sigmoid(A)\n",
    "    return Z_out\n",
    "\n",
    "# Construct the forward call across all layers except final\n",
    "Z0 = _forward_single_layer(tfX, W1, b1, W2, b2)\n",
    "Z1 = _forward_single_layer(Z0, W2, b2, Wf, bf)\n",
    "\n",
    "\n",
    "def _forward_final_layer(Z_f, Wf, bf, tfY):\n",
    "    \"\"\"Computes forward pass for final layer.\"\"\"\n",
    "    logits = tf.matmul(Z_f, Wf) + bf\n",
    "    Out = tf.nn.softmax_cross_entropy_with_logits_v2(\n",
    "        labels=tfY, logits=logits)\n",
    "    return Out\n",
    "\n",
    "# Construct output of final layer\n",
    "final_out = _forward_final_layer(Z1, Wf, bf, tfY)\n",
    "\n",
    "# Define the cost function\n",
    "cost = tf.reduce_mean(final_out)\n",
    "\n",
    "# Define the training optmizer\n",
    "train_op = tf.train.AdamOptimizer(0.1).minimize(cost)\n",
    "\n",
    "# Define the prediction operator\n",
    "predict_op = tf.argmax(Z1, 1)\n",
    "\n",
    "# Initialize session and global variables\n",
    "sess = tf.Session()\n",
    "init = tf.global_variables_initializer()\n",
    "sess.run(init)\n",
    "\n",
    "# Train the model\n",
    "N = 20\n",
    "perf = np.zeros(N)\n",
    "for i in range(N):\n",
    "    # Run backprop and update weights\n",
    "    sess.run(train_op, feed_dict={tfX: X, tfY: T})\n",
    "    # Predict on train to show progress\n",
    "    pred = sess.run(predict_op, feed_dict={tfX: X, tfY: T})\n",
    "    perf[i] = np.mean(Y == pred)\n",
    "    if i % (N/10) == 0:\n",
    "        print('n={:,}, Accuracy: {:.3f}'.format(i, perf[i]))\n",
    "              \n",
    "fig, ax = plt.subplots(1, 1, figsize=(15, 7))\n",
    "ax.plot(perf)\n",
    "ax.set_title('Accuracy')\n",
    "ax.set_xlabel('Epoch')\n",
    "\n",
    "test_preds = sess.run(predict_op, feed_dict={tfX: X_test, tfY: indicator_matrix(y_test, K)})\n",
    "test_acc = np.mean(y_test == test_preds)\n",
    "print('Test accuracy: {:.3f}'.format(test_acc))"
   ]
  },
  {
   "cell_type": "code",
   "execution_count": null,
   "metadata": {},
   "outputs": [],
   "source": []
  }
 ],
 "metadata": {
  "kernelspec": {
   "display_name": "research",
   "language": "python",
   "name": "research"
  },
  "toc": {
   "base_numbering": 1,
   "nav_menu": {},
   "number_sections": true,
   "sideBar": true,
   "skip_h1_title": false,
   "title_cell": "Table of Contents",
   "title_sidebar": "Contents",
   "toc_cell": false,
   "toc_position": {},
   "toc_section_display": true,
   "toc_window_display": false
  },
  "varInspector": {
   "cols": {
    "lenName": 16,
    "lenType": 16,
    "lenVar": 40
   },
   "kernels_config": {
    "python": {
     "delete_cmd_postfix": "",
     "delete_cmd_prefix": "del ",
     "library": "var_list.py",
     "varRefreshCmd": "print(var_dic_list())"
    },
    "r": {
     "delete_cmd_postfix": ") ",
     "delete_cmd_prefix": "rm(",
     "library": "var_list.r",
     "varRefreshCmd": "cat(var_dic_list()) "
    }
   },
   "types_to_exclude": [
    "module",
    "function",
    "builtin_function_or_method",
    "instance",
    "_Feature"
   ],
   "window_display": true
  }
 },
 "nbformat": 4,
 "nbformat_minor": 2
}
