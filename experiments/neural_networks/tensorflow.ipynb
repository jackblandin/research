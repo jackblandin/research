{
 "cells": [
  {
   "cell_type": "markdown",
   "metadata": {},
   "source": [
    "# Classification - Overlapping clouds"
   ]
  },
  {
   "cell_type": "code",
   "execution_count": 1,
   "metadata": {
    "ExecuteTime": {
     "end_time": "2019-07-11T16:54:44.603015Z",
     "start_time": "2019-07-11T16:54:44.288276Z"
    }
   },
   "outputs": [
    {
     "data": {
      "text/plain": [
       "<Figure size 640x480 with 1 Axes>"
      ]
     },
     "metadata": {},
     "output_type": "display_data"
    }
   ],
   "source": [
    "import numpy as np\n",
    "import matplotlib.pyplot as plt\n",
    "\n",
    "\n",
    "def create_data(Nclass, D, M, K):\n",
    "    X1 = np.random.randn(Nclass, D) + np.array([0, -2])\n",
    "    X2 = np.random.randn(Nclass, D) + np.array([2, 2])\n",
    "    X3 = np.random.randn(Nclass, D) + np.array([-2, 2])\n",
    "    X = np.vstack([X1, X2, X3])\n",
    "\n",
    "    Y = np.array([0]*Nclass + [1]*Nclass + [2]*Nclass)\n",
    "\n",
    "    # let's see what it looks like\n",
    "    plt.scatter(X[:,0], X[:,1], c=Y, s=100, alpha=0.5)\n",
    "    plt.show()\n",
    "    \n",
    "    return X, Y\n",
    "\n",
    "np.random.seed(123)\n",
    "\n",
    "Nclass = 500\n",
    "D = 2 # dimensionality of input\n",
    "M = 10 # hidden layer sizes\n",
    "K = 3 # number of classes\n",
    "\n",
    "X, Y = create_data(Nclass, D, M, K)\n",
    "\n",
    "N = len(Y)\n",
    "\n",
    "# opt = AdaGradOptimizer(D, K, M, lr=.005)\n",
    "\n",
    "# _nn = MLPClassifier(D, K, M, ReLU(), opt)\n",
    "\n",
    "# _nn.fit(X, Y, 500, batch_size=100)\n",
    "\n",
    "# _preds, _Z = _nn.forward(_X)"
   ]
  },
  {
   "cell_type": "code",
   "execution_count": null,
   "metadata": {},
   "outputs": [],
   "source": []
  },
  {
   "cell_type": "code",
   "execution_count": 2,
   "metadata": {
    "ExecuteTime": {
     "end_time": "2019-07-11T16:54:49.693936Z",
     "start_time": "2019-07-11T16:54:46.155020Z"
    }
   },
   "outputs": [
    {
     "name": "stdout",
     "output_type": "stream",
     "text": [
      "Accuracy: 0.3333333333333333\n",
      "Accuracy: 0.9606666666666667\n",
      "Accuracy: 0.942\n",
      "Accuracy: 0.964\n",
      "Accuracy: 0.9753333333333334\n",
      "Accuracy: 0.9786666666666667\n",
      "Accuracy: 0.978\n",
      "Accuracy: 0.978\n",
      "Accuracy: 0.978\n",
      "Accuracy: 0.978\n"
     ]
    }
   ],
   "source": [
    "import tensorflow as tf\n",
    "\n",
    "\n",
    "# turn Y into an indicator matrix for training\n",
    "T = np.zeros((N, K))\n",
    "for i in range(N):\n",
    "    T[i, Y[i]] = 1\n",
    "\n",
    "\n",
    "# tensor flow variables are not the same as regular Python variables\n",
    "def init_weights(shape):\n",
    "    return tf.Variable(tf.random_normal(shape, stddev=0.01))\n",
    "\n",
    "\n",
    "def forward(X, W1, b1, W2, b2):\n",
    "    Z = tf.nn.sigmoid(tf.matmul(X, W1) + b1)\n",
    "    return tf.matmul(Z, W2) + b2\n",
    "\n",
    "\n",
    "tfX = tf.placeholder(tf.float32, [None, D])\n",
    "tfY = tf.placeholder(tf.float32, [None, K])\n",
    "\n",
    "W1 = init_weights([D, M]) # create symbolic variables\n",
    "b1 = init_weights([M])\n",
    "W2 = init_weights([M, K])\n",
    "b2 = init_weights([K])\n",
    "\n",
    "logits = forward(tfX, W1, b1, W2, b2)\n",
    "\n",
    "cost = tf.reduce_mean(\n",
    "  tf.nn.softmax_cross_entropy_with_logits_v2(\n",
    "    labels=tfY,\n",
    "    logits=logits\n",
    "  )\n",
    ")\n",
    "\n",
    "# compute costs\n",
    "# WARNING: This op expects unscaled logits,\n",
    "# since it performs a softmax on logits\n",
    "# internally for efficiency.\n",
    "# Do not call this op with the output of softmax,\n",
    "# as it will produce incorrect results.\n",
    "\n",
    "train_op = tf.train.GradientDescentOptimizer(0.05).minimize(cost) # construct an optimizer\n",
    "# input parameter is the learning rate\n",
    "\n",
    "predict_op = tf.argmax(logits, 1)\n",
    "# input parameter is the axis on which to choose the max\n",
    "\n",
    "# just stuff that has to be done\n",
    "sess = tf.Session()\n",
    "init = tf.global_variables_initializer()\n",
    "sess.run(init)\n",
    "\n",
    "for i in range(1000):\n",
    "    sess.run(train_op, feed_dict={tfX: X, tfY: T})\n",
    "    pred = sess.run(predict_op, feed_dict={tfX: X, tfY: T})\n",
    "    if i % 100 == 0:\n",
    "        print(\"Accuracy:\", np.mean(Y == pred))\n"
   ]
  },
  {
   "cell_type": "code",
   "execution_count": null,
   "metadata": {},
   "outputs": [],
   "source": []
  }
 ],
 "metadata": {
  "kernelspec": {
   "display_name": "research",
   "language": "python",
   "name": "research"
  },
  "language_info": {
   "codemirror_mode": {
    "name": "ipython",
    "version": 3
   },
   "file_extension": ".py",
   "mimetype": "text/x-python",
   "name": "python",
   "nbconvert_exporter": "python",
   "pygments_lexer": "ipython3",
   "version": "3.6.8"
  },
  "toc": {
   "base_numbering": 1,
   "nav_menu": {},
   "number_sections": true,
   "sideBar": true,
   "skip_h1_title": false,
   "title_cell": "Table of Contents",
   "title_sidebar": "Contents",
   "toc_cell": false,
   "toc_position": {},
   "toc_section_display": true,
   "toc_window_display": false
  },
  "varInspector": {
   "cols": {
    "lenName": 16,
    "lenType": 16,
    "lenVar": 40
   },
   "kernels_config": {
    "python": {
     "delete_cmd_postfix": "",
     "delete_cmd_prefix": "del ",
     "library": "var_list.py",
     "varRefreshCmd": "print(var_dic_list())"
    },
    "r": {
     "delete_cmd_postfix": ") ",
     "delete_cmd_prefix": "rm(",
     "library": "var_list.r",
     "varRefreshCmd": "cat(var_dic_list()) "
    }
   },
   "types_to_exclude": [
    "module",
    "function",
    "builtin_function_or_method",
    "instance",
    "_Feature"
   ],
   "window_display": true
  }
 },
 "nbformat": 4,
 "nbformat_minor": 2
}
